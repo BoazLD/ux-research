{
 "cells": [
  {
   "cell_type": "markdown",
   "id": "9b4c270f",
   "metadata": {
    "tags": []
   },
   "source": [
    "# MyB👀K\n",
    "#  📗  NOTEBOOK RESEARCH "
   ]
  },
  {
   "cell_type": "code",
   "execution_count": 51,
   "id": "d269bdd5",
   "metadata": {},
   "outputs": [
    {
     "data": {
      "text/html": [
       "<script>\n",
       "code_show=true; \n",
       "function code_toggle() {\n",
       " if (code_show){\n",
       " $('div.input').hide();\n",
       " } else {\n",
       " $('div.input').show();\n",
       " }\n",
       " code_show = !code_show\n",
       "} \n",
       "$( document ).ready(code_toggle);\n",
       "</script>\n",
       "<form action=\"javascript:code_toggle()\"><input type=\"submit\" value=\"Click here to toggle on/off the raw code.\"></form>"
      ],
      "text/plain": [
       "<IPython.core.display.HTML object>"
      ]
     },
     "execution_count": 51,
     "metadata": {},
     "output_type": "execute_result"
    }
   ],
   "source": [
    "from IPython.display import HTML\n",
    "\n",
    "HTML('''<script>\n",
    "code_show=true; \n",
    "function code_toggle() {\n",
    " if (code_show){\n",
    " $('div.input').hide();\n",
    " } else {\n",
    " $('div.input').show();\n",
    " }\n",
    " code_show = !code_show\n",
    "} \n",
    "$( document ).ready(code_toggle);\n",
    "</script>\n",
    "<form action=\"javascript:code_toggle()\"><input type=\"submit\" value=\"Click here to toggle on/off the raw code.\"></form>''')"
   ]
  },
  {
   "cell_type": "code",
   "execution_count": null,
   "id": "68428e33",
   "metadata": {},
   "outputs": [],
   "source": []
  },
  {
   "cell_type": "code",
   "execution_count": 52,
   "id": "815c2a58",
   "metadata": {},
   "outputs": [
    {
     "data": {
      "application/vnd.jupyter.widget-view+json": {
       "model_id": "9eb22783ef624111b5119ee166be05e9",
       "version_major": 2,
       "version_minor": 0
      },
      "text/plain": [
       "Button(description='Start Survey', style=ButtonStyle())"
      ]
     },
     "metadata": {},
     "output_type": "display_data"
    }
   ],
   "source": [
    "from IPython.display import Javascript, display\n",
    "from ipywidgets import widgets\n",
    "\n",
    "def run_all(ev):\n",
    "    display(Javascript('IPython.notebook.execute_cell_range(IPython.notebook.get_selected_index()+1, IPython.notebook.ncells())'))\n",
    "\n",
    "button = widgets.Button(description=\"Start Survey\")\n",
    "button.on_click(run_all)\n",
    "display(button)"
   ]
  },
  {
   "cell_type": "markdown",
   "id": "5ffff3c0",
   "metadata": {},
   "source": [
    "####  ⚠️ PLEASE ANSWER THE FOLLOWING QUESTIONS AS ACCURATELY AS POSSIBLE"
   ]
  },
  {
   "cell_type": "markdown",
   "id": "e439c89d",
   "metadata": {},
   "source": [
    "## ⚒️ Setting up Your Notebook \n",
    "### When setting up your notebook to begin your data project, please rank the following features in order of importance to you, where 4 is most important and 1 is least important  \n",
    "### Note: each ranking can only be used once  "
   ]
  },
  {
   "cell_type": "code",
   "execution_count": 3,
   "id": "7bc4d47e",
   "metadata": {},
   "outputs": [
    {
     "data": {
      "application/vnd.jupyter.widget-view+json": {
       "model_id": "f28abd3242b44b51ae6009ba85669ba5",
       "version_major": 2,
       "version_minor": 0
      },
      "text/plain": [
       "Dropdown(description='I can integrate my notebook with a package and environment manager like Conda or pip', l…"
      ]
     },
     "metadata": {},
     "output_type": "display_data"
    },
    {
     "data": {
      "application/vnd.jupyter.widget-view+json": {
       "model_id": "791bcda5b6cf4545be8edee416b44d6f",
       "version_major": 2,
       "version_minor": 0
      },
      "text/plain": [
       "Dropdown(description='I can upload data files in different formats to my notebook', layout=Layout(height='40px…"
      ]
     },
     "metadata": {},
     "output_type": "display_data"
    },
    {
     "data": {
      "application/vnd.jupyter.widget-view+json": {
       "model_id": "64eae43f0eed4803ab5273b20d84fed6",
       "version_major": 2,
       "version_minor": 0
      },
      "text/plain": [
       "Dropdown(description='I can choose the programming language of my notebook', layout=Layout(height='40px', widt…"
      ]
     },
     "metadata": {},
     "output_type": "display_data"
    },
    {
     "data": {
      "application/vnd.jupyter.widget-view+json": {
       "model_id": "49f32df5a3c94f76bf493735b5fe4491",
       "version_major": 2,
       "version_minor": 0
      },
      "text/plain": [
       "Dropdown(description='I can import data analysis packages like Pandas, Apache spark, or TensorFlow to my noteb…"
      ]
     },
     "metadata": {},
     "output_type": "display_data"
    }
   ],
   "source": [
    "import ipywidgets as widgets\n",
    "\n",
    "layout = widgets.Layout(width='auto', height='40px')\n",
    "\n",
    "rank = 1\n",
    "drop_down = widgets.Dropdown(options=[\"Please select rank\",1,2,3,4],\n",
    "                                description='I can integrate my notebook with a package and environment manager like Conda or pip',\n",
    "                                disabled=False,\n",
    "                                display='flex',\n",
    "                                flex_flow='column',\n",
    "                                align_items='stretch',\n",
    "                                style= {'description_width': 'initial'},\n",
    "                                layout = layout)\n",
    "\n",
    "setup_rank_manager_lists = list()\n",
    "def ranking_calculator(change):\n",
    "    global rank\n",
    "    #print(\"Item_A ranking:\", change.new)\n",
    "    rank = change.new\n",
    "    if rank == 1:\n",
    "        rank = 1\n",
    "    elif rank == 2:\n",
    "        rank = 2\n",
    "    elif rank == 3:\n",
    "        rank = 3\n",
    "    elif rank == 4:\n",
    "        rank = 4\n",
    "    else:\n",
    "        rank = 0\n",
    "    max_score = 4\n",
    "    setup_rank_manager = (rank / max_score)*100\n",
    "    setup_rank_manager_lists.append(setup_rank_manager)\n",
    "    #print(setup_rank_manager_lists)\n",
    "    #print(\"manager_rank score:\", setup_rank_manager)\n",
    "drop_down.observe(ranking_calculator, names='value')\n",
    "display(drop_down)\n",
    "\n",
    "rank = 1\n",
    "drop_down = widgets.Dropdown(options=[\"Please select rank\",1,2,3,4],\n",
    "                                description='I can upload data files in different formats to my notebook',\n",
    "                                disabled=False,\n",
    "                                display='flex',\n",
    "                                flex_flow='column',\n",
    "                                align_items='stretch',\n",
    "                                style= {'description_width': 'initial'},\n",
    "                                layout = layout)\n",
    "\n",
    "setup_rank_upload_lists = list()\n",
    "def ranking_calculator(change):\n",
    "    global rank\n",
    "    #print(\"Item_B ranking:\", change.new)\n",
    "    rank = change.new\n",
    "    if rank == 1:\n",
    "        rank = 1\n",
    "    elif rank == 2:\n",
    "        rank = 2\n",
    "    elif rank == 3:\n",
    "        rank = 3\n",
    "    elif rank == 4:\n",
    "        rank = 4\n",
    "    else:\n",
    "        rank = 0\n",
    "    max_score = 4\n",
    "    setup_rank_upload = (rank / max_score)*100\n",
    "    setup_rank_upload_lists.append(setup_rank_upload)\n",
    "    #print(setup_rank_upload_lists)\n",
    "    #print(\"upload_rank score:\", setup_rank_upload)\n",
    "drop_down.observe(ranking_calculator, names='value')\n",
    "display(drop_down)\n",
    "\n",
    "rank = 1\n",
    "drop_down = widgets.Dropdown(options=[\"Please select rank\",1,2,3,4],\n",
    "                                description='I can choose the programming language of my notebook',\n",
    "                                disabled=False,\n",
    "                                display='flex',\n",
    "                                flex_flow='column',\n",
    "                                align_items='stretch',\n",
    "                                style= {'description_width': 'initial'},\n",
    "                                layout = layout)\n",
    "setup_rank_language_lists = list()\n",
    "def ranking_calculator(change):\n",
    "    global rank\n",
    "    #print(\"Item_C ranking:\", change.new)\n",
    "    rank = change.new\n",
    "    if rank == 1:\n",
    "        rank = 1\n",
    "    elif rank == 2:\n",
    "        rank = 2\n",
    "    elif rank == 3:\n",
    "        rank = 3\n",
    "    elif rank == 4:\n",
    "        rank = 4\n",
    "    else:\n",
    "        rank = 0\n",
    "    max_score = 4\n",
    "    setup_rank_language = (rank / max_score)*100\n",
    "    setup_rank_language_lists.append(setup_rank_language)\n",
    "    #print(setup_rank_language_lists)\n",
    "    #print(\"language_rank score:\", setup_rank_language)\n",
    "drop_down.observe(ranking_calculator, names='value')\n",
    "display(drop_down)\n",
    "\n",
    "rank = 1\n",
    "drop_down = widgets.Dropdown(options=[\"Please select rank\",1,2,3,4],\n",
    "                                description='I can import data analysis packages like Pandas, Apache spark, or TensorFlow to my notebook',\n",
    "                                disabled=False,\n",
    "                                display='flex',\n",
    "                                flex_flow='column',\n",
    "                                align_items='stretch',\n",
    "                                style= {'description_width': 'initial'},\n",
    "                                layout = layout)\n",
    "\n",
    "setup_rank_data_lists = list()\n",
    "def ranking_calculator(change):\n",
    "    global rank\n",
    "    #print(\"Item_D ranking:\", change.new)\n",
    "    rank = change.new\n",
    "    if rank == 1:\n",
    "        rank = 1\n",
    "    elif rank == 2:\n",
    "        rank = 2\n",
    "    elif rank == 3:\n",
    "        rank = 3\n",
    "    elif rank == 4:\n",
    "        rank = 4\n",
    "    else:\n",
    "        rank = 0\n",
    "    max_score = 4\n",
    "    setup_rank_data = (rank / max_score)*100\n",
    "    setup_rank_data_lists.append(setup_rank_data)\n",
    "    #print(setup_rank_data_lists)\n",
    "    #print(\"data_rank score:\", setup_rank_data)\n",
    "drop_down.observe(ranking_calculator, names='value')\n",
    "display(drop_down)"
   ]
  },
  {
   "cell_type": "markdown",
   "id": "9f168f5f",
   "metadata": {},
   "source": [
    "### When setting up your notebook to begin your data project, how important are the following features to you?"
   ]
  },
  {
   "cell_type": "code",
   "execution_count": 4,
   "id": "eafc351d",
   "metadata": {},
   "outputs": [
    {
     "data": {
      "application/vnd.jupyter.widget-view+json": {
       "model_id": "0f3d0557f5274038998718b0e412448f",
       "version_major": 2,
       "version_minor": 0
      },
      "text/plain": [
       "Dropdown(description='I can integrate my notebook with a package and environment manager like Conda or pip', l…"
      ]
     },
     "metadata": {},
     "output_type": "display_data"
    },
    {
     "data": {
      "application/vnd.jupyter.widget-view+json": {
       "model_id": "ea6cddc1c640447791c4dfd0a0118429",
       "version_major": 2,
       "version_minor": 0
      },
      "text/plain": [
       "Dropdown(description='I can upload data files in different formats to my notebook', layout=Layout(height='40px…"
      ]
     },
     "metadata": {},
     "output_type": "display_data"
    },
    {
     "data": {
      "application/vnd.jupyter.widget-view+json": {
       "model_id": "38f3a53307d64d7da9c50432ec47d5e9",
       "version_major": 2,
       "version_minor": 0
      },
      "text/plain": [
       "Dropdown(description='I can choose the programmming language of my notebook', layout=Layout(height='40px', wid…"
      ]
     },
     "metadata": {},
     "output_type": "display_data"
    },
    {
     "data": {
      "application/vnd.jupyter.widget-view+json": {
       "model_id": "c79b669640454299b3968e62b6011164",
       "version_major": 2,
       "version_minor": 0
      },
      "text/plain": [
       "Dropdown(description='I import data analysis packages like Pandas, Apache spark, or TensorFlow to my notebook'…"
      ]
     },
     "metadata": {},
     "output_type": "display_data"
    }
   ],
   "source": [
    "import ipywidgets as widgets\n",
    "\n",
    "layout = widgets.Layout(width='auto', height='40px')\n",
    "\n",
    "rank = 1\n",
    "drop_down = widgets.Dropdown(options=[\"Please select\",\"not at all important\",\"low importance\",\"neutral\",\"important\", \"very important\"],\n",
    "                                description='I can integrate my notebook with a package and environment manager like Conda or pip',\n",
    "                                disabled=False,\n",
    "                                display='flex',\n",
    "                                flex_flow='column',\n",
    "                                align_items='stretch',\n",
    "                                style= {'description_width': 'initial'},\n",
    "                                layout = layout)\n",
    "\n",
    "setup_scale_manager_lists = list()\n",
    "def scale_calculator(change):\n",
    "    global rank\n",
    "    #print(\"Item_A ranking:\", change.new)\n",
    "    rank = change.new\n",
    "    if rank == \"not at all important\":\n",
    "        rank = 1\n",
    "    elif rank == \"low importance\":\n",
    "        rank = 2\n",
    "    elif rank == \"neutral\":\n",
    "        rank = 3\n",
    "    elif rank == \"important\":\n",
    "        rank = 4\n",
    "    elif rank == \"very important\":\n",
    "        rank = 5\n",
    "    else:\n",
    "        rank = 0\n",
    "    max_score = 5\n",
    "    setup_scale_manager = (rank / max_score)*100\n",
    "    setup_scale_manager_lists.append(setup_scale_manager)\n",
    "    #print(setup_scale_manager_lists)\n",
    "    #print(\"manager_scale score:\", setup_scale_manager)\n",
    "drop_down.observe(scale_calculator, names='value')\n",
    "display(drop_down)\n",
    "\n",
    "rank = 1\n",
    "drop_down = widgets.Dropdown(options=[\"Please select\",\"not at all important\",\"low importance\",\"neutral\",\"important\", \"very important\"],\n",
    "                                description='I can upload data files in different formats to my notebook',\n",
    "                                disabled=False,\n",
    "                                display='flex',\n",
    "                                flex_flow='column',\n",
    "                                align_items='stretch',\n",
    "                                style= {'description_width': 'initial'},\n",
    "                                layout = layout)\n",
    "\n",
    "setup_scale_upload_lists = list()\n",
    "def scale_calculator(change):\n",
    "    global rank\n",
    "    #print(\"Item_B ranking:\", change.new)\n",
    "    rank = change.new\n",
    "    if rank == \"not at all important\":\n",
    "        rank = 1\n",
    "    elif rank == \"low importance\":\n",
    "        rank = 2\n",
    "    elif rank == \"neutral\":\n",
    "        rank = 3\n",
    "    elif rank == \"important\":\n",
    "        rank = 4\n",
    "    elif rank == \"very important\":\n",
    "        rank = 5\n",
    "    else:\n",
    "        rank = 0\n",
    "    max_score = 5\n",
    "    setup_scale_upload = (rank / max_score)*100\n",
    "    setup_scale_upload_lists.append(setup_scale_upload)\n",
    "    #print(setup_scale_upload_lists)\n",
    "    #print(\"upload_scale score:\", setup_scale_upload)\n",
    "drop_down.observe(scale_calculator, names='value')\n",
    "display(drop_down)\n",
    "\n",
    "rank = 1\n",
    "drop_down = widgets.Dropdown(options=[\"Please select\",\"not at all important\",\"low importance\",\"neutral\",\"important\", \"very important\"],\n",
    "                                description='I can choose the programmming language of my notebook',\n",
    "                                disabled=False,\n",
    "                                display='flex',\n",
    "                                flex_flow='column',\n",
    "                                align_items='stretch',\n",
    "                                style= {'description_width': 'initial'},\n",
    "                                layout = layout)\n",
    "\n",
    "setup_scale_language_lists = list()\n",
    "def scale_calculator(change):\n",
    "    global rank\n",
    "    #print(\"Item_C ranking:\", change.new)\n",
    "    rank = change.new\n",
    "    if rank == \"not at all important\":\n",
    "        rank = 1\n",
    "    elif rank == \"low importance\":\n",
    "        rank = 2\n",
    "    elif rank == \"neutral\":\n",
    "        rank = 3\n",
    "    elif rank == \"important\":\n",
    "        rank = 4\n",
    "    elif rank == \"very important\":\n",
    "        rank = 5\n",
    "    else:\n",
    "        rank = 0\n",
    "    max_score = 5\n",
    "    setup_scale_language = (rank / max_score)*100\n",
    "    setup_scale_language_lists.append(setup_scale_language)\n",
    "    #print(setup_scale_language_lists)\n",
    "    #print(\"language_scale score:\", setup_scale_language)\n",
    "drop_down.observe(scale_calculator, names='value')\n",
    "display(drop_down)\n",
    "\n",
    "rank = 1\n",
    "drop_down = widgets.Dropdown(options=[\"Please select\",\"not at all important\",\"low importance\",\"neutral\",\"important\", \"very important\"],\n",
    "                                description='I import data analysis packages like Pandas, Apache spark, or TensorFlow to my notebook',\n",
    "                                disabled=False,\n",
    "                                display='flex',\n",
    "                                flex_flow='column',\n",
    "                                align_items='stretch',\n",
    "                                style= {'description_width': 'initial'},\n",
    "                                layout = layout)\n",
    "\n",
    "setup_scale_data_lists = list()\n",
    "def scale_calculator(change):\n",
    "    global rank\n",
    "    #print(\"Item_D ranking:\", change.new)\n",
    "    rank = change.new\n",
    "    if rank == \"not at all important\":\n",
    "        rank = 1\n",
    "    elif rank == \"low importance\":\n",
    "        rank = 2\n",
    "    elif rank == \"neutral\":\n",
    "        rank = 3\n",
    "    elif rank == \"important\":\n",
    "        rank = 4\n",
    "    elif rank == \"very important\":\n",
    "        rank = 5\n",
    "    else:\n",
    "        rank = 0\n",
    "    max_score = 5\n",
    "    setup_scale_data = (rank / max_score)*100\n",
    "    setup_scale_data_lists.append(setup_scale_data)\n",
    "    #print(setup_scale_data_lists)\n",
    "    #print(\"data_scale score:\", setup_scale_data)\n",
    "drop_down.observe(scale_calculator, names='value')\n",
    "display(drop_down)"
   ]
  },
  {
   "cell_type": "markdown",
   "id": "969a3bba",
   "metadata": {},
   "source": [
    "##  💻 Coding and Editing in Your Notebook "
   ]
  },
  {
   "cell_type": "markdown",
   "id": "117004ed",
   "metadata": {},
   "source": [
    "### When working in your notebook, please rank the following features in order of importance to you, where 7 is most important and 1 is least important  \n",
    "### Note: each ranking can only be used once "
   ]
  },
  {
   "cell_type": "code",
   "execution_count": 5,
   "id": "4a261e3e",
   "metadata": {},
   "outputs": [
    {
     "data": {
      "application/vnd.jupyter.widget-view+json": {
       "model_id": "39f3903cc7bf407282ea994f8ebe831f",
       "version_major": 2,
       "version_minor": 0
      },
      "text/plain": [
       "Dropdown(description='I can write and edit code in my prefered programming language in my notebook', layout=La…"
      ]
     },
     "metadata": {},
     "output_type": "display_data"
    },
    {
     "data": {
      "application/vnd.jupyter.widget-view+json": {
       "model_id": "e15021370dc84780a8773e55b4c9b039",
       "version_major": 2,
       "version_minor": 0
      },
      "text/plain": [
       "Dropdown(description='I can live check my code for mistakes in my notebook', layout=Layout(height='40px', widt…"
      ]
     },
     "metadata": {},
     "output_type": "display_data"
    },
    {
     "data": {
      "application/vnd.jupyter.widget-view+json": {
       "model_id": "c3a78e70f57342769d2942a60cc9f844",
       "version_major": 2,
       "version_minor": 0
      },
      "text/plain": [
       "Dropdown(description='I can generate an interactive output of my code in my notebook', layout=Layout(height='4…"
      ]
     },
     "metadata": {},
     "output_type": "display_data"
    },
    {
     "data": {
      "application/vnd.jupyter.widget-view+json": {
       "model_id": "ef847d707f954d0b8f2e9aadb43555fa",
       "version_major": 2,
       "version_minor": 0
      },
      "text/plain": [
       "Dropdown(description='I can save my work and return to my notebook later', layout=Layout(height='40px', width=…"
      ]
     },
     "metadata": {},
     "output_type": "display_data"
    },
    {
     "data": {
      "application/vnd.jupyter.widget-view+json": {
       "model_id": "c7ed0693705b4813acd3c46bda7150ac",
       "version_major": 2,
       "version_minor": 0
      },
      "text/plain": [
       "Dropdown(description='I can write markdown text in my notebook', layout=Layout(height='40px', width='auto'), o…"
      ]
     },
     "metadata": {},
     "output_type": "display_data"
    },
    {
     "data": {
      "application/vnd.jupyter.widget-view+json": {
       "model_id": "6a062c683f444f95990595199a2637c8",
       "version_major": 2,
       "version_minor": 0
      },
      "text/plain": [
       "Dropdown(description='I can run Bash commands in my notebook', layout=Layout(height='40px', width='auto'), opt…"
      ]
     },
     "metadata": {},
     "output_type": "display_data"
    },
    {
     "data": {
      "application/vnd.jupyter.widget-view+json": {
       "model_id": "eb43996d0bd8422e8878f8a495e126ba",
       "version_major": 2,
       "version_minor": 0
      },
      "text/plain": [
       "Dropdown(description='I can run magic commands in my notebook', layout=Layout(height='40px', width='auto'), op…"
      ]
     },
     "metadata": {},
     "output_type": "display_data"
    }
   ],
   "source": [
    "import ipywidgets as widgets\n",
    "\n",
    "layout = widgets.Layout(width='auto', height='40px')\n",
    "\n",
    "rank = 1\n",
    "drop_down = widgets.Dropdown(options=[\"Please select rank\",1,2,3,4,5,6,7],\n",
    "                                description='I can write and edit code in my prefered programming language in my notebook',\n",
    "                                disabled=False,\n",
    "                                display='flex',\n",
    "                                flex_flow='column',\n",
    "                                align_items='stretch',\n",
    "                                style= {'description_width': 'initial'},\n",
    "                                layout = layout)\n",
    "\n",
    "coding_rank_write_lists = list()\n",
    "def ranking_calculator(change):\n",
    "    global rank\n",
    "    #print(\"Item_A ranking:\", change.new)\n",
    "    rank = change.new\n",
    "    if rank == 1:\n",
    "        rank = 1\n",
    "    elif rank == 2:\n",
    "        rank = 2\n",
    "    elif rank == 3:\n",
    "        rank = 3\n",
    "    elif rank == 4:\n",
    "        rank = 4\n",
    "    elif rank ==5:\n",
    "        rank = 5\n",
    "    elif rank == 6:\n",
    "        rank = 6\n",
    "    elif rank == 7:\n",
    "        rank = 7\n",
    "    else:\n",
    "        rank = 0\n",
    "    max_score = 7\n",
    "    coding_rank_write = (rank / max_score)*100\n",
    "    coding_rank_write_lists.append(coding_rank_write)\n",
    "    #print(coding_rank_write_lists)\n",
    "    #print(\"write_rank score:\", coding_rank_write)\n",
    "drop_down.observe(ranking_calculator, names='value')\n",
    "display(drop_down)\n",
    "\n",
    "rank = 1\n",
    "drop_down = widgets.Dropdown(options=[\"Please select rank\",1,2,3,4,5,6,7],\n",
    "                                description='I can live check my code for mistakes in my notebook',\n",
    "                                disabled=False,\n",
    "                                display='flex',\n",
    "                                flex_flow='column',\n",
    "                                align_items='stretch',\n",
    "                                style= {'description_width': 'initial'},\n",
    "                                layout = layout)\n",
    "\n",
    "coding_rank_check_lists = list()\n",
    "def ranking_calculator(change):\n",
    "    global rank\n",
    "    #print(\"Item_A ranking:\", change.new)\n",
    "    rank = change.new\n",
    "    if rank == 1:\n",
    "        rank = 1\n",
    "    elif rank == 2:\n",
    "        rank = 2\n",
    "    elif rank == 3:\n",
    "        rank = 3\n",
    "    elif rank == 4:\n",
    "        rank = 4\n",
    "    elif rank ==5:\n",
    "        rank = 5\n",
    "    elif rank == 6:\n",
    "        rank = 6\n",
    "    elif rank == 7:\n",
    "        rank = 7\n",
    "    else:\n",
    "        rank = 0\n",
    "    max_score = 7\n",
    "    coding_rank_check = (rank / max_score)*100\n",
    "    coding_rank_check_lists.append(coding_rank_check)\n",
    "    #print(coding_rank_check_lists)\n",
    "    #print(\"check_rank score:\", coding_rank_check)\n",
    "drop_down.observe(ranking_calculator, names='value')\n",
    "display(drop_down)\n",
    "\n",
    "rank = 1\n",
    "drop_down = widgets.Dropdown(options=[\"Please select rank\",1,2,3,4,5,6,7],\n",
    "                                description='I can generate an interactive output of my code in my notebook',\n",
    "                                disabled=False,\n",
    "                                display='flex',\n",
    "                                flex_flow='column',\n",
    "                                align_items='stretch',\n",
    "                                style= {'description_width': 'initial'},\n",
    "                                layout = layout)\n",
    "\n",
    "coding_rank_output_lists = list()\n",
    "def ranking_calculator(change):\n",
    "    global rank\n",
    "    #print(\"Item_A ranking:\", change.new)\n",
    "    rank = change.new\n",
    "    if rank == 1:\n",
    "        rank = 1\n",
    "    elif rank == 2:\n",
    "        rank = 2\n",
    "    elif rank == 3:\n",
    "        rank = 3\n",
    "    elif rank == 4:\n",
    "        rank = 4\n",
    "    elif rank ==5:\n",
    "        rank = 5\n",
    "    elif rank == 6:\n",
    "        rank = 6\n",
    "    elif rank == 7:\n",
    "        rank = 7\n",
    "    else:\n",
    "        rank = 0\n",
    "    max_score = 7\n",
    "    coding_rank_output = (rank / max_score)*100\n",
    "    coding_rank_output_lists.append(coding_rank_output)\n",
    "    #print(coding_rank_output_lists)\n",
    "    #print(\"output_rank score:\", coding_rank_output)\n",
    "drop_down.observe(ranking_calculator, names='value')\n",
    "display(drop_down)\n",
    "\n",
    "rank = 1\n",
    "drop_down = widgets.Dropdown(options=[\"Please select rank\",1,2,3,4,5,6,7],\n",
    "                                description='I can save my work and return to my notebook later',\n",
    "                                disabled=False,\n",
    "                                display='flex',\n",
    "                                flex_flow='column',\n",
    "                                align_items='stretch',\n",
    "                                style= {'description_width': 'initial'},\n",
    "                                layout = layout)\n",
    "\n",
    "coding_rank_save_lists = list()\n",
    "def ranking_calculator(change):\n",
    "    global rank\n",
    "    #print(\"Item_A ranking:\", change.new)\n",
    "    rank = change.new\n",
    "    if rank == 1:\n",
    "        rank = 1\n",
    "    elif rank == 2:\n",
    "        rank = 2\n",
    "    elif rank == 3:\n",
    "        rank = 3\n",
    "    elif rank == 4:\n",
    "        rank = 4\n",
    "    elif rank ==5:\n",
    "        rank = 5\n",
    "    elif rank == 6:\n",
    "        rank = 6\n",
    "    elif rank == 7:\n",
    "        rank = 7\n",
    "    else:\n",
    "        rank = 0\n",
    "    max_score = 7\n",
    "    coding_rank_save = (rank / max_score)*100\n",
    "    coding_rank_save_lists.append(coding_rank_save)\n",
    "    #print(coding_rank_save_lists)\n",
    "    #print(\"save_rank score:\", coding_rank_save)\n",
    "drop_down.observe(ranking_calculator, names='value')\n",
    "display(drop_down)\n",
    "\n",
    "rank = 1\n",
    "drop_down = widgets.Dropdown(options=[\"Please select rank\",1,2,3,4,5,6,7],\n",
    "                                description='I can write markdown text in my notebook',\n",
    "                                disabled=False,\n",
    "                                display='flex',\n",
    "                                flex_flow='column',\n",
    "                                align_items='stretch',\n",
    "                                style= {'description_width': 'initial'},\n",
    "                                layout = layout)\n",
    "\n",
    "coding_rank_markdown_lists = list()\n",
    "def ranking_calculator(change):\n",
    "    global rank\n",
    "    #print(\"Item_A ranking:\", change.new)\n",
    "    rank = change.new\n",
    "    if rank == 1:\n",
    "        rank = 1\n",
    "    elif rank == 2:\n",
    "        rank = 2\n",
    "    elif rank == 3:\n",
    "        rank = 3\n",
    "    elif rank == 4:\n",
    "        rank = 4\n",
    "    elif rank ==5:\n",
    "        rank = 5\n",
    "    elif rank == 6:\n",
    "        rank = 6\n",
    "    elif rank == 7:\n",
    "        rank = 7\n",
    "    else:\n",
    "        rank = 0\n",
    "    max_score = 7\n",
    "    coding_rank_markdown = (rank / max_score)*100\n",
    "    coding_rank_markdown_lists.append(coding_rank_markdown)\n",
    "    #print(coding_rank_markdown_lists)\n",
    "    #print(\"markdown_rank score:\", coding_rank_markdown)\n",
    "drop_down.observe(ranking_calculator, names='value')\n",
    "display(drop_down)\n",
    "\n",
    "rank = 1\n",
    "drop_down = widgets.Dropdown(options=[\"Please select rank\",1,2,3,4,5,6,7],\n",
    "                                description='I can run Bash commands in my notebook',\n",
    "                                disabled=False,\n",
    "                                display='flex',\n",
    "                                flex_flow='column',\n",
    "                                align_items='stretch',\n",
    "                                style= {'description_width': 'initial'},\n",
    "                                layout = layout)\n",
    "\n",
    "coding_rank_bash_lists = list()\n",
    "def ranking_calculator(change):\n",
    "    global rank\n",
    "    #print(\"Item_A ranking:\", change.new)\n",
    "    rank = change.new\n",
    "    if rank == 1:\n",
    "        rank = 1\n",
    "    elif rank == 2:\n",
    "        rank = 2\n",
    "    elif rank == 3:\n",
    "        rank = 3\n",
    "    elif rank == 4:\n",
    "        rank = 4\n",
    "    elif rank ==5:\n",
    "        rank = 5\n",
    "    elif rank == 6:\n",
    "        rank = 6\n",
    "    elif rank == 7:\n",
    "        rank = 7\n",
    "    else:\n",
    "        rank = 0\n",
    "    max_score = 7\n",
    "    coding_rank_bash = (rank / max_score)*100\n",
    "    coding_rank_bash_lists.append(coding_rank_bash)\n",
    "    #print(coding_rank_bash_lists)\n",
    "    #print(\"bash_rank score:\", coding_rank_bash)\n",
    "drop_down.observe(ranking_calculator, names='value')\n",
    "display(drop_down)\n",
    "\n",
    "rank = 1\n",
    "drop_down = widgets.Dropdown(options=[\"Please select rank\",1,2,3,4,5,6,7],\n",
    "                                description='I can run magic commands in my notebook',\n",
    "                                disabled=False,\n",
    "                                display='flex',\n",
    "                                flex_flow='column',\n",
    "                                align_items='stretch',\n",
    "                                style= {'description_width': 'initial'},\n",
    "                                layout = layout)\n",
    "\n",
    "coding_rank_magic_lists = list()\n",
    "def ranking_calculator(change):\n",
    "    global rank\n",
    "    #print(\"Item_A ranking:\", change.new)\n",
    "    rank = change.new\n",
    "    if rank == 1:\n",
    "        rank = 1\n",
    "    elif rank == 2:\n",
    "        rank = 2\n",
    "    elif rank == 3:\n",
    "        rank = 3\n",
    "    elif rank == 4:\n",
    "        rank = 4\n",
    "    elif rank ==5:\n",
    "        rank = 5\n",
    "    elif rank == 6:\n",
    "        rank = 6\n",
    "    elif rank == 7:\n",
    "        rank = 7\n",
    "    else:\n",
    "        rank = 0\n",
    "    max_score = 7\n",
    "    coding_rank_magic = (rank / max_score)*100\n",
    "    coding_rank_magic_lists.append(coding_rank_magic)\n",
    "    #print(coding_rank_magic_lists)\n",
    "    #print(\"magic_rank score:\", coding_rank_magic)\n",
    "drop_down.observe(ranking_calculator, names='value')\n",
    "display(drop_down)"
   ]
  },
  {
   "cell_type": "markdown",
   "id": "858d0d4f",
   "metadata": {},
   "source": [
    "### When working in your notebook, how important are the following features to you?"
   ]
  },
  {
   "cell_type": "code",
   "execution_count": 6,
   "id": "af00b607",
   "metadata": {},
   "outputs": [
    {
     "data": {
      "application/vnd.jupyter.widget-view+json": {
       "model_id": "c039daee2bd441ecb8f3d93e8c251105",
       "version_major": 2,
       "version_minor": 0
      },
      "text/plain": [
       "Dropdown(description='I can write and edit code in my preferred programming language in my notebook', layout=L…"
      ]
     },
     "metadata": {},
     "output_type": "display_data"
    },
    {
     "data": {
      "application/vnd.jupyter.widget-view+json": {
       "model_id": "43a8ab429c62493b9cfcadb9b1431698",
       "version_major": 2,
       "version_minor": 0
      },
      "text/plain": [
       "Dropdown(description='I can live check my code for mistakes in my notebook', layout=Layout(height='40px', widt…"
      ]
     },
     "metadata": {},
     "output_type": "display_data"
    },
    {
     "data": {
      "application/vnd.jupyter.widget-view+json": {
       "model_id": "f0eb8ced0c5c45f7993326f90bbc2fa5",
       "version_major": 2,
       "version_minor": 0
      },
      "text/plain": [
       "Dropdown(description='I can generate an interactive output of my code in my notebook', layout=Layout(height='4…"
      ]
     },
     "metadata": {},
     "output_type": "display_data"
    },
    {
     "data": {
      "application/vnd.jupyter.widget-view+json": {
       "model_id": "3b1acae4b5854ca89f9451fff5bb214f",
       "version_major": 2,
       "version_minor": 0
      },
      "text/plain": [
       "Dropdown(description='I can save my work and return to my notebook later', layout=Layout(height='40px', width=…"
      ]
     },
     "metadata": {},
     "output_type": "display_data"
    },
    {
     "data": {
      "application/vnd.jupyter.widget-view+json": {
       "model_id": "ac41dd563db3408883906608e9019029",
       "version_major": 2,
       "version_minor": 0
      },
      "text/plain": [
       "Dropdown(description='I can write markdown text in my notebook', layout=Layout(height='40px', width='auto'), o…"
      ]
     },
     "metadata": {},
     "output_type": "display_data"
    },
    {
     "data": {
      "application/vnd.jupyter.widget-view+json": {
       "model_id": "c50e9dafc729484cbb829597c16653b3",
       "version_major": 2,
       "version_minor": 0
      },
      "text/plain": [
       "Dropdown(description='I can run Bash commands in my notebook', layout=Layout(height='40px', width='auto'), opt…"
      ]
     },
     "metadata": {},
     "output_type": "display_data"
    },
    {
     "data": {
      "application/vnd.jupyter.widget-view+json": {
       "model_id": "69b28db0c9cd46e391f948e256f18cc1",
       "version_major": 2,
       "version_minor": 0
      },
      "text/plain": [
       "Dropdown(description='I can run magic commands in my notebook', layout=Layout(height='40px', width='auto'), op…"
      ]
     },
     "metadata": {},
     "output_type": "display_data"
    }
   ],
   "source": [
    "import ipywidgets as widgets\n",
    "\n",
    "layout = widgets.Layout(width='auto', height='40px')\n",
    "\n",
    "rank = 1\n",
    "drop_down = widgets.Dropdown(options=[\"Please select\",\"not at all important\",\"low importance\",\"neutral\",\"important\", \"very important\"],\n",
    "                                description='I can write and edit code in my preferred programming language in my notebook',\n",
    "                                disabled=False,\n",
    "                                display='flex',\n",
    "                                flex_flow='column',\n",
    "                                align_items='stretch',\n",
    "                                style= {'description_width': 'initial'},\n",
    "                                layout = layout)\n",
    "\n",
    "coding_scale_write_lists = list()\n",
    "def scale_calculator(change):\n",
    "    global rank\n",
    "    #print(\"Item_A ranking:\", change.new)\n",
    "    rank = change.new\n",
    "    if rank == \"not at all important\":\n",
    "        rank = 1\n",
    "    elif rank == \"low importance\":\n",
    "        rank = 2\n",
    "    elif rank == \"neutral\":\n",
    "        rank = 3\n",
    "    elif rank == \"important\":\n",
    "        rank = 4\n",
    "    elif rank == \"very important\":\n",
    "        rank = 5\n",
    "    else:\n",
    "        rank = 0\n",
    "    max_score = 5\n",
    "    coding_scale_write = (rank / max_score)*100\n",
    "    coding_scale_write_lists.append(coding_scale_write)\n",
    "    #print(coding_scale_write_lists)\n",
    "    #print(\"write_scale score:\", coding_scale_write)\n",
    "drop_down.observe(scale_calculator, names='value')\n",
    "display(drop_down)\n",
    "\n",
    "rank = 1\n",
    "drop_down = widgets.Dropdown(options=[\"Please select\",\"not at all important\",\"low importance\",\"neutral\",\"important\", \"very important\"],\n",
    "                                description='I can live check my code for mistakes in my notebook',\n",
    "                                disabled=False,\n",
    "                                display='flex',\n",
    "                                flex_flow='column',\n",
    "                                align_items='stretch',\n",
    "                                style= {'description_width': 'initial'},\n",
    "                                layout = layout)\n",
    "\n",
    "coding_scale_check_lists = list()\n",
    "def scale_calculator(change):\n",
    "    global rank\n",
    "    #print(\"Item_B ranking:\", change.new)\n",
    "    rank = change.new\n",
    "    if rank == \"not at all important\":\n",
    "        rank = 1\n",
    "    elif rank == \"low importance\":\n",
    "        rank = 2\n",
    "    elif rank == \"neutral\":\n",
    "        rank = 3\n",
    "    elif rank == \"important\":\n",
    "        rank = 4\n",
    "    elif rank == \"very important\":\n",
    "        rank = 5\n",
    "    else:\n",
    "        rank = 0\n",
    "    max_score = 5\n",
    "    coding_scale_check = (rank / max_score)*100\n",
    "    coding_scale_check_lists.append(coding_scale_check)\n",
    "    #print(coding_scale_check_lists)\n",
    "    #print(\"check_scale score:\", coding_scale_check)\n",
    "drop_down.observe(scale_calculator, names='value')\n",
    "display(drop_down)\n",
    "\n",
    "rank = 1\n",
    "drop_down = widgets.Dropdown(options=[\"Please select\",\"not at all important\",\"low importance\",\"neutral\",\"important\", \"very important\"],\n",
    "                                description='I can generate an interactive output of my code in my notebook',\n",
    "                                disabled=False,\n",
    "                                display='flex',\n",
    "                                flex_flow='column',\n",
    "                                align_items='stretch',\n",
    "                                style= {'description_width': 'initial'},\n",
    "                                layout = layout)\n",
    "\n",
    "coding_scale_output_lists = list()\n",
    "def scale_calculator(change):\n",
    "    global rank\n",
    "    #print(\"Item_C ranking:\", change.new)\n",
    "    rank = change.new\n",
    "    if rank == \"not at all important\":\n",
    "        rank = 1\n",
    "    elif rank == \"low importance\":\n",
    "        rank = 2\n",
    "    elif rank == \"neutral\":\n",
    "        rank = 3\n",
    "    elif rank == \"important\":\n",
    "        rank = 4\n",
    "    elif rank == \"very important\":\n",
    "        rank = 5\n",
    "    else:\n",
    "        rank = 0\n",
    "    max_score = 5\n",
    "    coding_scale_output = (rank / max_score)*100\n",
    "    coding_scale_output_lists.append(coding_scale_output)\n",
    "    #print(coding_scale_output_lists)\n",
    "    #print(\"output_scale score:\", coding_scale_output)\n",
    "drop_down.observe(scale_calculator, names='value')\n",
    "display(drop_down)\n",
    "\n",
    "rank = 1\n",
    "drop_down = widgets.Dropdown(options=[\"Please select\",\"not at all important\",\"low importance\",\"neutral\",\"important\", \"very important\"],\n",
    "                                description='I can save my work and return to my notebook later',\n",
    "                                disabled=False,\n",
    "                                display='flex',\n",
    "                                flex_flow='column',\n",
    "                                align_items='stretch',\n",
    "                                style= {'description_width': 'initial'},\n",
    "                                layout = layout)\n",
    "\n",
    "coding_scale_save_lists = list()\n",
    "def scale_calculator(change):\n",
    "    global rank\n",
    "    #print(\"Item_D ranking:\", change.new)\n",
    "    rank = change.new\n",
    "    if rank == \"not at all important\":\n",
    "        rank = 1\n",
    "    elif rank == \"low importance\":\n",
    "        rank = 2\n",
    "    elif rank == \"neutral\":\n",
    "        rank = 3\n",
    "    elif rank == \"important\":\n",
    "        rank = 4\n",
    "    elif rank == \"very important\":\n",
    "        rank = 5\n",
    "    else:\n",
    "        rank = 0\n",
    "    max_score = 5\n",
    "    coding_scale_save = (rank / max_score)*100\n",
    "    coding_scale_save_lists.append(coding_scale_save)\n",
    "    #print(coding_scale_save_lists)\n",
    "    #print(\"save_scale score:\", coding_scale_save)\n",
    "drop_down.observe(scale_calculator, names='value')\n",
    "display(drop_down)\n",
    "\n",
    "rank = 1\n",
    "drop_down = widgets.Dropdown(options=[\"Please select\",\"not at all important\",\"low importance\",\"neutral\",\"important\", \"very important\"],\n",
    "                                description='I can write markdown text in my notebook',\n",
    "                                disabled=False,\n",
    "                                display='flex',\n",
    "                                flex_flow='column',\n",
    "                                align_items='stretch',\n",
    "                                style= {'description_width': 'initial'},\n",
    "                                layout = layout)\n",
    "\n",
    "coding_scale_markdown_lists = list()\n",
    "def scale_calculator(change):\n",
    "    global rank\n",
    "    #print(\"Item_D ranking:\", change.new)\n",
    "    rank = change.new\n",
    "    if rank == \"not at all important\":\n",
    "        rank = 1\n",
    "    elif rank == \"low importance\":\n",
    "        rank = 2\n",
    "    elif rank == \"neutral\":\n",
    "        rank = 3\n",
    "    elif rank == \"important\":\n",
    "        rank = 4\n",
    "    elif rank == \"very important\":\n",
    "        rank = 5\n",
    "    else:\n",
    "        rank = 0\n",
    "    max_score = 5\n",
    "    coding_scale_markdown = (rank / max_score)*100\n",
    "    coding_scale_markdown_lists.append(coding_scale_markdown)\n",
    "    #print(coding_scale_markdown_lists)\n",
    "    #print(\"markdown_scale score:\", coding_scale_markdown)\n",
    "drop_down.observe(scale_calculator, names='value')\n",
    "display(drop_down)\n",
    "\n",
    "rank = 1\n",
    "drop_down = widgets.Dropdown(options=[\"Please select\",\"not at all important\",\"low importance\",\"neutral\",\"important\", \"very important\"],\n",
    "                                description='I can run Bash commands in my notebook',\n",
    "                                disabled=False,\n",
    "                                display='flex',\n",
    "                                flex_flow='column',\n",
    "                                align_items='stretch',\n",
    "                                style= {'description_width': 'initial'},\n",
    "                                layout = layout)\n",
    "\n",
    "coding_scale_bash_lists = list()\n",
    "def scale_calculator(change):\n",
    "    global rank\n",
    "    #print(\"Item_D ranking:\", change.new)\n",
    "    rank = change.new\n",
    "    if rank == \"not at all important\":\n",
    "        rank = 1\n",
    "    elif rank == \"low importance\":\n",
    "        rank = 2\n",
    "    elif rank == \"neutral\":\n",
    "        rank = 3\n",
    "    elif rank == \"important\":\n",
    "        rank = 4\n",
    "    elif rank == \"very important\":\n",
    "        rank = 5\n",
    "    else:\n",
    "        rank = 0\n",
    "    max_score = 5\n",
    "    coding_scale_bash = (rank / max_score)*100\n",
    "    coding_scale_bash_lists.append(coding_scale_bash)\n",
    "    #print(coding_scale_bash_lists)\n",
    "    #print(\"bash_scale score:\", coding_scale_bash)\n",
    "drop_down.observe(scale_calculator, names='value')\n",
    "display(drop_down)\n",
    "\n",
    "rank = 1\n",
    "drop_down = widgets.Dropdown(options=[\"Please select\",\"not at all important\",\"low importance\",\"neutral\",\"important\", \"very important\"],\n",
    "                                description='I can run magic commands in my notebook',\n",
    "                                disabled=False,\n",
    "                                display='flex',\n",
    "                                flex_flow='column',\n",
    "                                align_items='stretch',\n",
    "                                style= {'description_width': 'initial'},\n",
    "                                layout = layout)\n",
    "\n",
    "coding_scale_magic_lists = list()\n",
    "def scale_calculator(change):\n",
    "    global rank\n",
    "    #print(\"Item_D ranking:\", change.new)\n",
    "    rank = change.new\n",
    "    if rank == \"not at all important\":\n",
    "        rank = 1\n",
    "    elif rank == \"low importance\":\n",
    "        rank = 2\n",
    "    elif rank == \"neutral\":\n",
    "        rank = 3\n",
    "    elif rank == \"important\":\n",
    "        rank = 4\n",
    "    elif rank == \"very important\":\n",
    "        rank = 5\n",
    "    else:\n",
    "        rank = 0\n",
    "    max_score = 5\n",
    "    coding_scale_magic = (rank / max_score)*100\n",
    "    coding_scale_magic_lists.append(coding_scale_magic)\n",
    "    #print(coding_scale_magic_lists)\n",
    "    #print(\"magic_scake score:\", coding_scale_magic)\n",
    "drop_down.observe(scale_calculator, names='value')\n",
    "display(drop_down)"
   ]
  },
  {
   "cell_type": "markdown",
   "id": "8c1068fc",
   "metadata": {},
   "source": [
    "## 📁 Exporting the Content of Your Notebook  "
   ]
  },
  {
   "cell_type": "markdown",
   "id": "58dc54e8",
   "metadata": {},
   "source": [
    "### When exporting your notebook content, please rank the following features in order of importance to you, where 2 is most important and 1 is least important\n",
    "### Note: each ranking can only be used once "
   ]
  },
  {
   "cell_type": "code",
   "execution_count": 7,
   "id": "d2d6de15",
   "metadata": {},
   "outputs": [
    {
     "data": {
      "application/vnd.jupyter.widget-view+json": {
       "model_id": "7dc41bf656984433a86a864c231421a4",
       "version_major": 2,
       "version_minor": 0
      },
      "text/plain": [
       "Dropdown(description='I can download my notebook content in different file formats', layout=Layout(height='40p…"
      ]
     },
     "metadata": {},
     "output_type": "display_data"
    },
    {
     "data": {
      "application/vnd.jupyter.widget-view+json": {
       "model_id": "e2324f3d2fc64340a883cc1e92f377e2",
       "version_major": 2,
       "version_minor": 0
      },
      "text/plain": [
       "Dropdown(description='I can share notebook with my peers via methods like email or GitHub', layout=Layout(heig…"
      ]
     },
     "metadata": {},
     "output_type": "display_data"
    }
   ],
   "source": [
    "import ipywidgets as widgets\n",
    "\n",
    "layout = widgets.Layout(width='auto', height='40px')\n",
    "\n",
    "rank = 1\n",
    "drop_down = widgets.Dropdown(options=[\"Please select rank\",1,2],\n",
    "                                description='I can download my notebook content in different file formats',\n",
    "                                disabled=False,\n",
    "                                display='flex',\n",
    "                                flex_flow='column',\n",
    "                                align_items='stretch',\n",
    "                                style= {'description_width': 'initial'},\n",
    "                                layout = layout)\n",
    "\n",
    "exporting_rank_download_lists = list()\n",
    "def ranking_calculator(change):\n",
    "    global rank\n",
    "    #print(\"Item_A ranking:\", change.new)\n",
    "    rank = change.new\n",
    "    if rank == 1:\n",
    "        rank = 1\n",
    "    elif rank == 2:\n",
    "        rank = 2\n",
    "    else:\n",
    "        rank = 0\n",
    "    max_score = 2\n",
    "    exporting_rank_download = (rank / max_score)*100\n",
    "    exporting_rank_download_lists.append(exporting_rank_download)\n",
    "    #print(exporting_rank_download_lists)\n",
    "    #print(\"download_rank score:\", exporting_rank_download)\n",
    "drop_down.observe(ranking_calculator, names='value')\n",
    "display(drop_down)\n",
    "\n",
    "rank = 1\n",
    "drop_down = widgets.Dropdown(options=[\"Please select rank\",1,2],\n",
    "                                description='I can share notebook with my peers via methods like email or GitHub',\n",
    "                                disabled=False,\n",
    "                                display='flex',\n",
    "                                flex_flow='column',\n",
    "                                align_items='stretch',\n",
    "                                style= {'description_width': 'initial'},\n",
    "                                layout = layout)\n",
    "\n",
    "exporting_rank_share_lists = list()\n",
    "def ranking_calculator(change):\n",
    "    global rank\n",
    "    #print(\"Item_B ranking:\", change.new)\n",
    "    rank = change.new\n",
    "    if rank == 1:\n",
    "        rank = 1\n",
    "    elif rank == 2:\n",
    "        rank = 2\n",
    "    else:\n",
    "        rank = 0\n",
    "    max_score = 2\n",
    "    exporting_rank_share = (rank / max_score)*100\n",
    "    exporting_rank_share_lists.append(exporting_rank_share)\n",
    "    #print(exporting_rank_share_lists)\n",
    "    #print(\"share_rank score:\", exporting_rank_share)\n",
    "drop_down.observe(ranking_calculator, names='value')\n",
    "display(drop_down)"
   ]
  },
  {
   "cell_type": "markdown",
   "id": "d7199473",
   "metadata": {},
   "source": [
    "### When exporting your notebook content, how important are the following features to you?"
   ]
  },
  {
   "cell_type": "code",
   "execution_count": 8,
   "id": "a5f61a01",
   "metadata": {},
   "outputs": [
    {
     "data": {
      "application/vnd.jupyter.widget-view+json": {
       "model_id": "b381b870a96a4eecad8dcdd5243df53b",
       "version_major": 2,
       "version_minor": 0
      },
      "text/plain": [
       "Dropdown(description='I can download my notebook content in different formats', layout=Layout(height='40px', w…"
      ]
     },
     "metadata": {},
     "output_type": "display_data"
    },
    {
     "data": {
      "application/vnd.jupyter.widget-view+json": {
       "model_id": "36ae1aedc5e24aa4a7b66ef94db399a8",
       "version_major": 2,
       "version_minor": 0
      },
      "text/plain": [
       "Dropdown(description='I can share my notebook with my peers via methods like email or Github', layout=Layout(h…"
      ]
     },
     "metadata": {},
     "output_type": "display_data"
    }
   ],
   "source": [
    "import ipywidgets as widgets\n",
    "\n",
    "layout = widgets.Layout(width='auto', height='40px')\n",
    "\n",
    "rank = 1\n",
    "drop_down = widgets.Dropdown(options=[\"Please select\",\"not at all important\",\"low importance\",\"neutral\",\"important\", \"very important\"],\n",
    "                                description='I can download my notebook content in different formats',\n",
    "                                disabled=False,\n",
    "                                display='flex',\n",
    "                                flex_flow='column',\n",
    "                                align_items='stretch',\n",
    "                                style= {'description_width': 'initial'},\n",
    "                                layout = layout)\n",
    "\n",
    "exporting_scale_download_lists = list()\n",
    "def scale_calculator(change):\n",
    "    global rank\n",
    "    #print(\"Item_A ranking:\", change.new)\n",
    "    rank = change.new\n",
    "    if rank == \"not at all important\":\n",
    "        rank = 1\n",
    "    elif rank == \"low importance\":\n",
    "        rank = 2\n",
    "    elif rank == \"neutral\":\n",
    "        rank = 3\n",
    "    elif rank == \"important\":\n",
    "        rank = 4\n",
    "    elif rank == \"very important\":\n",
    "        rank = 5\n",
    "    else:\n",
    "        rank = 0\n",
    "    max_score = 5\n",
    "    exporting_scale_download = (rank / max_score)*100\n",
    "    exporting_scale_download_lists.append(exporting_scale_download)\n",
    "    #print(exporting_scale_download_lists)\n",
    "    #print(\"Download_scale score:\", exporting_scale_download)\n",
    "drop_down.observe(scale_calculator, names='value')\n",
    "display(drop_down)\n",
    "\n",
    "rank = 1\n",
    "drop_down = widgets.Dropdown(options=[\"Please select\",\"not at all important\",\"low importance\",\"neutral\",\"important\", \"very important\"],\n",
    "                                description='I can share my notebook with my peers via methods like email or Github',\n",
    "                                disabled=False,\n",
    "                                display='flex',\n",
    "                                flex_flow='column',\n",
    "                                align_items='stretch',\n",
    "                                style= {'description_width': 'initial'},\n",
    "                                layout = layout)\n",
    "\n",
    "exporting_scale_share_lists = list()\n",
    "def scale_calculator_share(change):\n",
    "    global rank\n",
    "    #print(\"Item_B ranking:\", change.new)\n",
    "    rank = change.new\n",
    "    if rank == \"not at all important\":\n",
    "        rank = 1\n",
    "    elif rank == \"low importance\":\n",
    "        rank = 2\n",
    "    elif rank == \"neutral\":\n",
    "        rank = 3\n",
    "    elif rank == \"important\":\n",
    "        rank = 4\n",
    "    elif rank == \"very important\":\n",
    "        rank = 5\n",
    "    else:\n",
    "        rank = 0\n",
    "    max_score = 5\n",
    "    exporting_scale_share = (rank / max_score)*100\n",
    "    exporting_scale_share_lists.append(exporting_scale_share)\n",
    "    #print(exporting_scale_share_lists)\n",
    "    #print(\"Share_scale score:\", exporting_scale_share)\n",
    "    return exporting_scale_share\n",
    "drop_down.observe(scale_calculator_share, names='value')\n",
    "display(drop_down)"
   ]
  },
  {
   "cell_type": "markdown",
   "id": "5aafd6a9",
   "metadata": {},
   "source": [
    "## 🔌 Integrating Your Notebook with Other Tools "
   ]
  },
  {
   "cell_type": "markdown",
   "id": "c3d21625",
   "metadata": {},
   "source": [
    "### When integrating your notebook with other tools, please rank the following features in order of importance to you, where 5 is most important and 1 is least important\n",
    "### Note: each ranking can only be used once "
   ]
  },
  {
   "cell_type": "code",
   "execution_count": 9,
   "id": "0f5f2cb8",
   "metadata": {},
   "outputs": [
    {
     "data": {
      "application/vnd.jupyter.widget-view+json": {
       "model_id": "84c845b6ed2943c99b1e4f941d1d5249",
       "version_major": 2,
       "version_minor": 0
      },
      "text/plain": [
       "Dropdown(description='I can integrate my notebook with a pluggable authentication module, OAuth, or a director…"
      ]
     },
     "metadata": {},
     "output_type": "display_data"
    },
    {
     "data": {
      "application/vnd.jupyter.widget-view+json": {
       "model_id": "ea32c750a6ed45b2b0e7f39f7ef43806",
       "version_major": 2,
       "version_minor": 0
      },
      "text/plain": [
       "Dropdown(description='I can integrate my notebook with a localized and/or centralized infratructure', layout=L…"
      ]
     },
     "metadata": {},
     "output_type": "display_data"
    },
    {
     "data": {
      "application/vnd.jupyter.widget-view+json": {
       "model_id": "923aadd72a63425a9b55c3bdf74061d2",
       "version_major": 2,
       "version_minor": 0
      },
      "text/plain": [
       "Dropdown(description='I can integrate my notebook with a container like Docker and Kubernetes', layout=Layout(…"
      ]
     },
     "metadata": {},
     "output_type": "display_data"
    },
    {
     "data": {
      "application/vnd.jupyter.widget-view+json": {
       "model_id": "01ba57cdcdbc4a799846a5ae8252df93",
       "version_major": 2,
       "version_minor": 0
      },
      "text/plain": [
       "Dropdown(description='I can integrate my notebook with my data to provide unified software management and data…"
      ]
     },
     "metadata": {},
     "output_type": "display_data"
    },
    {
     "data": {
      "application/vnd.jupyter.widget-view+json": {
       "model_id": "014402249cdb4dfb889d530ba44b1d15",
       "version_major": 2,
       "version_minor": 0
      },
      "text/plain": [
       "Dropdown(description='I can integrate my notebook with extensions like Voila to communicate insights via stand…"
      ]
     },
     "metadata": {},
     "output_type": "display_data"
    }
   ],
   "source": [
    "import ipywidgets as widgets\n",
    "\n",
    "layout = widgets.Layout(width='auto', height='40px')\n",
    "\n",
    "rank = 1\n",
    "drop_down = widgets.Dropdown(options=[\"Please select rank\",1,2,3,4,5],\n",
    "                                description='I can integrate my notebook with a pluggable authentication module, OAuth, or a directory service system',\n",
    "                                disabled=False,\n",
    "                                display='flex',\n",
    "                                flex_flow='column',\n",
    "                                align_items='stretch',\n",
    "                                style= {'description_width': 'initial'},\n",
    "                                layout = layout)\n",
    "\n",
    "integrating_rank_authentication_lists = list()\n",
    "def ranking_calculator(change):\n",
    "    global rank\n",
    "    #print(\"Item_A ranking:\", change.new)\n",
    "    rank = change.new\n",
    "    if rank == 1:\n",
    "        rank = 1\n",
    "    elif rank == 2:\n",
    "        rank = 2\n",
    "    elif rank == 3:\n",
    "        rank = 3\n",
    "    elif rank == 4:\n",
    "        rank = 4\n",
    "    elif rank == 5:\n",
    "        rank = 5\n",
    "    else:\n",
    "        rank = 0\n",
    "    max_score = 5\n",
    "    integrating_rank_authentication = (rank / max_score)*100\n",
    "    integrating_rank_authentication_lists.append(integrating_rank_authentication)\n",
    "    #print(integrating_rank_authentication_lists)\n",
    "    #print(\"authentication_rank score:\", integrating_rank_authentication)\n",
    "drop_down.observe(ranking_calculator, names='value')\n",
    "display(drop_down)\n",
    "\n",
    "rank = 1\n",
    "drop_down = widgets.Dropdown(options=[\"Please select rank\",1,2,3,4,5],\n",
    "                                description='I can integrate my notebook with a localized and/or centralized infratructure',\n",
    "                                disabled=False,\n",
    "                                display='flex',\n",
    "                                flex_flow='column',\n",
    "                                align_items='stretch',\n",
    "                                style= {'description_width': 'initial'},\n",
    "                                layout = layout)\n",
    "\n",
    "integrating_rank_infrastructure_lists = list()\n",
    "def ranking_calculator(change):\n",
    "    global rank\n",
    "    #print(\"Item_B ranking:\", change.new)\n",
    "    rank = change.new\n",
    "    if rank == 1:\n",
    "        rank = 1\n",
    "    elif rank == 2:\n",
    "        rank = 2\n",
    "    elif rank == 3:\n",
    "        rank = 3\n",
    "    elif rank == 4:\n",
    "        rank = 4\n",
    "    elif rank == 5:\n",
    "        rank = 5\n",
    "    else:\n",
    "        rank = 0\n",
    "    max_score = 5\n",
    "    integrating_rank_infrastructure = (rank / max_score)*100\n",
    "    integrating_rank_infrastructure_lists.append(integrating_rank_infrastructure)\n",
    "    #print(integrating_rank_infrastructure_lists)\n",
    "    #print(\"infratructure_rank score:\", integrating_rank_infrastructure)\n",
    "drop_down.observe(ranking_calculator, names='value')\n",
    "display(drop_down)\n",
    "\n",
    "rank = 1\n",
    "drop_down = widgets.Dropdown(options=[\"Please select rank\",1,2,3,4,5],\n",
    "                                description='I can integrate my notebook with a container like Docker and Kubernetes',\n",
    "                                disabled=False,\n",
    "                                display='flex',\n",
    "                                flex_flow='column',\n",
    "                                align_items='stretch',\n",
    "                                style= {'description_width': 'initial'},\n",
    "                                layout = layout)\n",
    "\n",
    "integrating_rank_container_lists = list()\n",
    "def ranking_calculator(change):\n",
    "    global rank\n",
    "    #print(\"Item_C ranking:\", change.new)\n",
    "    rank = change.new\n",
    "    if rank == 1:\n",
    "        rank = 1\n",
    "    elif rank == 2:\n",
    "        rank = 2\n",
    "    elif rank == 3:\n",
    "        rank = 3\n",
    "    elif rank == 4:\n",
    "        rank = 4\n",
    "    elif rank == 5:\n",
    "        rank = 5\n",
    "    else:\n",
    "        rank = 0\n",
    "    max_score = 5\n",
    "    integrating_rank_container = (rank / max_score)*100\n",
    "    integrating_rank_container_lists.append(integrating_rank_container)\n",
    "    #print(integrating_rank_container_lists)\n",
    "    #print(\"Container_rank score:\", integrating_rank_container)\n",
    "drop_down.observe(ranking_calculator, names='value')\n",
    "display(drop_down)\n",
    "\n",
    "rank = 1\n",
    "drop_down = widgets.Dropdown(options=[\"Please select rank\",1,2,3,4,5],\n",
    "                                description='I can integrate my notebook with my data to provide unified software management and data access',\n",
    "                                disabled=False,\n",
    "                                display='flex',\n",
    "                                flex_flow='column',\n",
    "                                align_items='stretch',\n",
    "                                style= {'description_width': 'initial'},\n",
    "                                layout = layout)\n",
    "\n",
    "integrating_rank_unified_lists = list()\n",
    "def ranking_calculator(change):\n",
    "    global rank\n",
    "    #print(\"Item_D ranking:\", change.new)\n",
    "    rank = change.new\n",
    "    if rank == 1:\n",
    "        rank = 1\n",
    "    elif rank == 2:\n",
    "        rank = 2\n",
    "    elif rank == 3:\n",
    "        rank = 3\n",
    "    elif rank == 4:\n",
    "        rank = 4\n",
    "    elif rank == 5:\n",
    "        rank = 5\n",
    "    else:\n",
    "        rank = 0\n",
    "    max_score = 5\n",
    "    integrating_rank_unified = (rank / max_score)*100\n",
    "    integrating_rank_unified_lists.append(integrating_rank_unified)\n",
    "    #print(integrating_rank_unified_lists)\n",
    "    #print(\"unified_rank score:\", integrating_rank_unified)\n",
    "drop_down.observe(ranking_calculator, names='value')\n",
    "display(drop_down)\n",
    "\n",
    "rank = 1\n",
    "drop_down = widgets.Dropdown(options=[\"Please select rank\",1,2,3,4,5],\n",
    "                                description='I can integrate my notebook with extensions like Voila to communicate insights via stand-alone interactive web applications',\n",
    "                                disabled=False,\n",
    "                                display='flex',\n",
    "                                flex_flow='column',\n",
    "                                align_items='stretch',\n",
    "                                style= {'description_width': 'initial'},\n",
    "                                layout = layout)\n",
    "\n",
    "integrating_rank_voila_lists = list()\n",
    "def ranking_calculator(change):\n",
    "    global rank\n",
    "    #print(\"Item_D ranking:\", change.new)\n",
    "    rank = change.new\n",
    "    if rank == 1:\n",
    "        rank = 1\n",
    "    elif rank == 2:\n",
    "        rank = 2\n",
    "    elif rank == 3:\n",
    "        rank = 3\n",
    "    elif rank == 4:\n",
    "        rank = 4\n",
    "    elif rank == 5:\n",
    "        rank = 5\n",
    "    else:\n",
    "        rank = 0\n",
    "    max_score = 5\n",
    "    integrating_rank_voila = (rank / max_score)*100\n",
    "    integrating_rank_voila_lists.append(integrating_rank_voila)\n",
    "    #print(integrating_rank_voila_lists)\n",
    "    #print(\"voila_rank score:\", integrating_rank_voila)\n",
    "drop_down.observe(ranking_calculator, names='value')\n",
    "display(drop_down)"
   ]
  },
  {
   "cell_type": "markdown",
   "id": "b9af6ca5",
   "metadata": {},
   "source": [
    "### When integrating your notebook with other tools, how important are the following features to you?"
   ]
  },
  {
   "cell_type": "code",
   "execution_count": 10,
   "id": "f42f772e",
   "metadata": {},
   "outputs": [
    {
     "data": {
      "application/vnd.jupyter.widget-view+json": {
       "model_id": "ffc3cbcf2f99408ba70017ff58e472fc",
       "version_major": 2,
       "version_minor": 0
      },
      "text/plain": [
       "Dropdown(description='I can integrate my notebook with a pluggable authentication module, OAuth, or a director…"
      ]
     },
     "metadata": {},
     "output_type": "display_data"
    },
    {
     "data": {
      "application/vnd.jupyter.widget-view+json": {
       "model_id": "16486ca10714498196467da17054cb6f",
       "version_major": 2,
       "version_minor": 0
      },
      "text/plain": [
       "Dropdown(description='I can integrate my notebook with a localized and/or centralized infrastructure', layout=…"
      ]
     },
     "metadata": {},
     "output_type": "display_data"
    },
    {
     "data": {
      "application/vnd.jupyter.widget-view+json": {
       "model_id": "f2eddfc1a781411fa4835e24b30e62c3",
       "version_major": 2,
       "version_minor": 0
      },
      "text/plain": [
       "Dropdown(description='I can integrate my notebook with a container like Docker and Kubernetes', layout=Layout(…"
      ]
     },
     "metadata": {},
     "output_type": "display_data"
    },
    {
     "data": {
      "application/vnd.jupyter.widget-view+json": {
       "model_id": "ce2775772cfe4ef9aa701013073f4e26",
       "version_major": 2,
       "version_minor": 0
      },
      "text/plain": [
       "Dropdown(description='I can integrate my notebook with my data to provide unified software management and data…"
      ]
     },
     "metadata": {},
     "output_type": "display_data"
    },
    {
     "data": {
      "application/vnd.jupyter.widget-view+json": {
       "model_id": "e6e4c3b84347475c89778c5551292ad0",
       "version_major": 2,
       "version_minor": 0
      },
      "text/plain": [
       "Dropdown(description='I can integrate my notebook with extensions like Voila to communicate insights via stand…"
      ]
     },
     "metadata": {},
     "output_type": "display_data"
    }
   ],
   "source": [
    "import ipywidgets as widgets\n",
    "\n",
    "layout = widgets.Layout(width='auto', height='40px')\n",
    "\n",
    "rank = 1\n",
    "drop_down = widgets.Dropdown(options=[\"Please select\",\"not at all important\",\"low importance\",\"neutral\",\"important\", \"very important\"],\n",
    "                                description='I can integrate my notebook with a pluggable authentication module, OAuth, or a directory service system',\n",
    "                                disabled=False,\n",
    "                                display='flex',\n",
    "                                flex_flow='column',\n",
    "                                align_items='stretch',\n",
    "                                style= {'description_width': 'initial'},\n",
    "                                layout = layout)\n",
    "\n",
    "integrating_scale_authentication_lists = list()\n",
    "def scale_calculator(change):\n",
    "    global rank\n",
    "    #print(\"Item_A ranking:\", change.new)\n",
    "    rank = change.new\n",
    "    if rank == \"not at all important\":\n",
    "        rank = 1\n",
    "    elif rank == \"low importance\":\n",
    "        rank = 2\n",
    "    elif rank == \"neutral\":\n",
    "        rank = 3\n",
    "    elif rank == \"important\":\n",
    "        rank = 4\n",
    "    elif rank == \"very important\":\n",
    "        rank = 5\n",
    "    else:\n",
    "        rank = 0\n",
    "    max_score = 5\n",
    "    integrating_scale_authentication = (rank / max_score)*100\n",
    "    integrating_scale_authentication_lists.append(integrating_scale_authentication)\n",
    "    #print(integrating_scale_authentication_lists)\n",
    "    #print(\"authentication_scale score:\", integrating_scale_authentication)\n",
    "drop_down.observe(scale_calculator, names='value')\n",
    "display(drop_down)\n",
    "\n",
    "rank = 1\n",
    "drop_down = widgets.Dropdown(options=[\"Please select\",\"not at all important\",\"low importance\",\"neutral\",\"important\", \"very important\"],\n",
    "                                description='I can integrate my notebook with a localized and/or centralized infrastructure',\n",
    "                                disabled=False,\n",
    "                                display='flex',\n",
    "                                flex_flow='column',\n",
    "                                align_items='stretch',\n",
    "                                style= {'description_width': 'initial'},\n",
    "                                layout = layout)\n",
    "\n",
    "integrating_scale_infrastructure_lists = list()\n",
    "def scale_calculator(change):\n",
    "    global rank\n",
    "    #print(\"Item_B ranking:\", change.new)\n",
    "    rank = change.new\n",
    "    if rank == \"not at all important\":\n",
    "        rank = 1\n",
    "    elif rank == \"low importance\":\n",
    "        rank = 2\n",
    "    elif rank == \"neutral\":\n",
    "        rank = 3\n",
    "    elif rank == \"important\":\n",
    "        rank = 4\n",
    "    elif rank == \"very important\":\n",
    "        rank = 5\n",
    "    else:\n",
    "        rank = 0\n",
    "    max_score = 5\n",
    "    integrating_scale_infrastructure = (rank / max_score)*100\n",
    "    integrating_scale_infrastructure_lists.append(integrating_scale_infrastructure)\n",
    "    #print(integrating_scale_infrastructure_lists)\n",
    "    #print(\"infrastructure_scale score:\", integrating_scale_infrastructure)\n",
    "drop_down.observe(scale_calculator, names='value')\n",
    "display(drop_down)\n",
    "\n",
    "rank = 1\n",
    "drop_down = widgets.Dropdown(options=[\"Please select\",\"not at all important\",\"low importance\",\"neutral\",\"important\", \"very important\"],\n",
    "                                description='I can integrate my notebook with a container like Docker and Kubernetes',\n",
    "                                disabled=False,\n",
    "                                display='flex',\n",
    "                                flex_flow='column',\n",
    "                                align_items='stretch',\n",
    "                                style= {'description_width': 'initial'},\n",
    "                                layout = layout)\n",
    "\n",
    "integrating_scale_container_lists = list()\n",
    "def scale_calculator(change):\n",
    "    global rank\n",
    "    #print(\"Item_C ranking:\", change.new)\n",
    "    rank = change.new\n",
    "    if rank == \"not at all important\":\n",
    "        rank = 1\n",
    "    elif rank == \"low importance\":\n",
    "        rank = 2\n",
    "    elif rank == \"neutral\":\n",
    "        rank = 3\n",
    "    elif rank == \"important\":\n",
    "        rank = 4\n",
    "    elif rank == \"very important\":\n",
    "        rank = 5\n",
    "    else:\n",
    "        rank = 0\n",
    "    max_score = 5\n",
    "    integrating_scale_container = (rank / max_score)*100\n",
    "    integrating_scale_container_lists.append(integrating_scale_container)\n",
    "    #print(integrating_scale_container_lists)\n",
    "    #print(\"container_scale score:\", integrating_scale_container)\n",
    "drop_down.observe(scale_calculator, names='value')\n",
    "display(drop_down)\n",
    "\n",
    "rank = 1\n",
    "drop_down = widgets.Dropdown(options=[\"Please select\",\"not at all important\",\"low importance\",\"neutral\",\"important\", \"very important\"],\n",
    "                                description='I can integrate my notebook with my data to provide unified software management and data access',\n",
    "                                disabled=False,\n",
    "                                display='flex',\n",
    "                                flex_flow='column',\n",
    "                                align_items='stretch',\n",
    "                                style= {'description_width': 'initial'},\n",
    "                                layout = layout)\n",
    "\n",
    "integrating_scale_unified_lists = list()\n",
    "def scale_calculator(change):\n",
    "    global rank\n",
    "    #print(\"Item_D ranking:\", change.new)\n",
    "    rank = change.new\n",
    "    if rank == \"not at all important\":\n",
    "        rank = 1\n",
    "    elif rank == \"low importance\":\n",
    "        rank = 2\n",
    "    elif rank == \"neutral\":\n",
    "        rank = 3\n",
    "    elif rank == \"important\":\n",
    "        rank = 4\n",
    "    elif rank == \"very important\":\n",
    "        rank = 5\n",
    "    else:\n",
    "        rank = 0\n",
    "    max_score = 5\n",
    "    integrating_scale_unified = (rank / max_score)*100\n",
    "    integrating_scale_unified_lists.append(integrating_scale_unified)\n",
    "    #print(integrating_scale_unified_lists)\n",
    "    #print(\"unified_scale score:\", integrating_scale_unified)\n",
    "drop_down.observe(scale_calculator, names='value')\n",
    "display(drop_down)\n",
    "\n",
    "rank = 1\n",
    "drop_down = widgets.Dropdown(options=[\"Please select\",\"not at all important\",\"low importance\",\"neutral\",\"important\", \"very important\"],\n",
    "                                description='I can integrate my notebook with extensions like Voila to communicate insights via stand-alone interactive web applications',\n",
    "                                disabled=False,\n",
    "                                display='flex',\n",
    "                                flex_flow='column',\n",
    "                                align_items='stretch',\n",
    "                                style= {'description_width': 'initial'},\n",
    "                                layout = layout)\n",
    "\n",
    "integrating_scale_voila_lists = list()\n",
    "def scale_calculator(change):\n",
    "    global rank\n",
    "    #print(\"Item_D ranking:\", change.new)\n",
    "    rank = change.new\n",
    "    if rank == \"not at all important\":\n",
    "        rank = 1\n",
    "    elif rank == \"low importance\":\n",
    "        rank = 2\n",
    "    elif rank == \"neutral\":\n",
    "        rank = 3\n",
    "    elif rank == \"important\":\n",
    "        rank = 4\n",
    "    elif rank == \"very important\":\n",
    "        rank = 5\n",
    "    else:\n",
    "        rank = 0\n",
    "    max_score = 5\n",
    "    integrating_scale_voila = (rank / max_score)*100\n",
    "    integrating_scale_voila_lists.append(integrating_scale_voila)\n",
    "    #print(integrating_scale_voila_lists)\n",
    "    #print(\"voila_scale score:\", integrating_scale_voila)\n",
    "drop_down.observe(scale_calculator, names='value')\n",
    "display(drop_down)"
   ]
  },
  {
   "cell_type": "markdown",
   "id": "b9e56445",
   "metadata": {},
   "source": [
    "## ✍️ Using Your Notebook "
   ]
  },
  {
   "cell_type": "markdown",
   "id": "e68f1d77",
   "metadata": {},
   "source": [
    "### When using your notebook, please rank the following features in order of importance to you, where 4 is most important and 1 is least important\n",
    "### Note: each ranking can only be used once "
   ]
  },
  {
   "cell_type": "code",
   "execution_count": 11,
   "id": "6cf187ab",
   "metadata": {
    "scrolled": true
   },
   "outputs": [
    {
     "data": {
      "application/vnd.jupyter.widget-view+json": {
       "model_id": "244422c661df45b486e44e926bc7de9c",
       "version_major": 2,
       "version_minor": 0
      },
      "text/plain": [
       "Dropdown(description='I can configure and personalize my notebook to begin working on my data project', layout…"
      ]
     },
     "metadata": {},
     "output_type": "display_data"
    },
    {
     "data": {
      "application/vnd.jupyter.widget-view+json": {
       "model_id": "a0843a2005484cedb09d26259ef81bd8",
       "version_major": 2,
       "version_minor": 0
      },
      "text/plain": [
       "Dropdown(description='I can write and edit code in my notebook', layout=Layout(height='40px', width='auto'), o…"
      ]
     },
     "metadata": {},
     "output_type": "display_data"
    },
    {
     "data": {
      "application/vnd.jupyter.widget-view+json": {
       "model_id": "f07a9b8be839462f8e20f35329c39b3a",
       "version_major": 2,
       "version_minor": 0
      },
      "text/plain": [
       "Dropdown(description='I can export my notebook content in different formats', layout=Layout(height='40px', wid…"
      ]
     },
     "metadata": {},
     "output_type": "display_data"
    },
    {
     "data": {
      "application/vnd.jupyter.widget-view+json": {
       "model_id": "fa640b33cde64dcdb625031d4d0602b8",
       "version_major": 2,
       "version_minor": 0
      },
      "text/plain": [
       "Dropdown(description='I can integrate notebook with other tools', layout=Layout(height='40px', width='auto'), …"
      ]
     },
     "metadata": {},
     "output_type": "display_data"
    }
   ],
   "source": [
    "import ipywidgets as widgets\n",
    "\n",
    "layout = widgets.Layout(width='auto', height='40px')\n",
    "\n",
    "rank = 1\n",
    "drop_down = widgets.Dropdown(options=[\"Please select rank\",1,2,3,4],\n",
    "                                description='I can configure and personalize my notebook to begin working on my data project',\n",
    "                                disabled=False,\n",
    "                                display='flex',\n",
    "                                flex_flow='column',\n",
    "                                align_items='stretch',\n",
    "                                style= {'description_width': 'initial'},\n",
    "                                layout = layout)\n",
    "\n",
    "overall_rank_setup_lists = list()\n",
    "def ranking_calculator(change):\n",
    "    global rank\n",
    "    #print(\"Item_A ranking:\", change.new)\n",
    "    rank = change.new\n",
    "    if rank == 1:\n",
    "        rank = 1\n",
    "    elif rank == 2:\n",
    "        rank = 2\n",
    "    elif rank == 3:\n",
    "        rank = 3\n",
    "    elif rank == 4:\n",
    "        rank = 4\n",
    "    else:\n",
    "        rank = 0\n",
    "    max_score = 4\n",
    "    overall_rank_setup = (rank / max_score)*100\n",
    "    overall_rank_setup_lists.append(overall_rank_setup)\n",
    "    #print(overall_rank_setup_lists)\n",
    "    #print(\"setup_rank score:\", overall_rank_setup)\n",
    "drop_down.observe(ranking_calculator, names='value')\n",
    "display(drop_down)\n",
    "\n",
    "rank = 1\n",
    "drop_down = widgets.Dropdown(options=[\"Please select rank\",1,2,3,4],\n",
    "                                description='I can write and edit code in my notebook',\n",
    "                                disabled=False,\n",
    "                                display='flex',\n",
    "                                flex_flow='column',\n",
    "                                align_items='stretch',\n",
    "                                style= {'description_width': 'initial'},\n",
    "                                layout = layout)\n",
    "\n",
    "overall_rank_coding_lists = list()\n",
    "def ranking_calculator(change):\n",
    "    global rank\n",
    "    #print(\"Item_B ranking:\", change.new)\n",
    "    rank = change.new\n",
    "    if rank == 1:\n",
    "        rank = 1\n",
    "    elif rank == 2:\n",
    "        rank = 2\n",
    "    elif rank == 3:\n",
    "        rank = 3\n",
    "    elif rank == 4:\n",
    "        rank = 4\n",
    "    else:\n",
    "        rank = 0\n",
    "    max_score = 4\n",
    "    overall_rank_coding = (rank / max_score)*100\n",
    "    overall_rank_coding_lists.append(overall_rank_coding)\n",
    "    #print(overall_rank_coding_lists)\n",
    "    #print(\"coding_rank score:\", overall_rank_coding)\n",
    "drop_down.observe(ranking_calculator, names='value')\n",
    "display(drop_down)\n",
    "\n",
    "rank = 1\n",
    "drop_down = widgets.Dropdown(options=[\"Please select rank\",1,2,3,4],\n",
    "                                description='I can export my notebook content in different formats',\n",
    "                                disabled=False,\n",
    "                                display='flex',\n",
    "                                flex_flow='column',\n",
    "                                align_items='stretch',\n",
    "                                style= {'description_width': 'initial'},\n",
    "                                layout = layout)\n",
    "\n",
    "overall_rank_exporting_lists = list()\n",
    "def ranking_calculator(change):\n",
    "    global rank\n",
    "    #print(\"Item_C ranking:\", change.new)\n",
    "    rank = change.new\n",
    "    if rank == 1:\n",
    "        rank = 1\n",
    "    elif rank == 2:\n",
    "        rank = 2\n",
    "    elif rank == 3:\n",
    "        rank = 3\n",
    "    elif rank == 4:\n",
    "        rank = 4\n",
    "    else:\n",
    "        rank = 0\n",
    "    max_score = 4\n",
    "    overall_rank_exporting = (rank / max_score)*100\n",
    "    overall_rank_exporting_lists.append(overall_rank_exporting)\n",
    "    #print(overall_rank_exporting_lists)\n",
    "    #print(\"exporting_rank score:\", overall_rank_exporting)\n",
    "drop_down.observe(ranking_calculator, names='value')\n",
    "display(drop_down)\n",
    "\n",
    "rank = 1\n",
    "drop_down = widgets.Dropdown(options=[\"Please select rank\",1,2,3,4],\n",
    "                                description='I can integrate notebook with other tools',\n",
    "                                disabled=False,\n",
    "                                display='flex',\n",
    "                                flex_flow='column',\n",
    "                                align_items='stretch',\n",
    "                                style= {'description_width': 'initial'},\n",
    "                                layout = layout)\n",
    "\n",
    "overall_rank_integration_lists = list()\n",
    "def ranking_calculator(change):\n",
    "    global rank\n",
    "    #print(\"Item_D ranking:\", change.new)\n",
    "    rank = change.new\n",
    "    if rank == 1:\n",
    "        rank = 1\n",
    "    elif rank == 2:\n",
    "        rank = 2\n",
    "    elif rank == 3:\n",
    "        rank = 3\n",
    "    elif rank == 4:\n",
    "        rank = 4\n",
    "    else:\n",
    "        rank = 0\n",
    "    max_score = 4\n",
    "    overall_rank_integration = (rank / max_score)*100\n",
    "    overall_rank_integration_lists.append(overall_rank_integration)\n",
    "    #print(overall_rank_integration_lists)\n",
    "    #print(\"integration_rank score:\", overall_rank_integration)\n",
    "drop_down.observe(ranking_calculator, names='value')\n",
    "display(drop_down)"
   ]
  },
  {
   "cell_type": "markdown",
   "id": "94263471",
   "metadata": {},
   "source": [
    "### When using your notebook, how important are the following features to you?"
   ]
  },
  {
   "cell_type": "code",
   "execution_count": 12,
   "id": "a31cb73f",
   "metadata": {
    "scrolled": true
   },
   "outputs": [
    {
     "data": {
      "application/vnd.jupyter.widget-view+json": {
       "model_id": "d8fd6628f3664d27a84309091bdddb0b",
       "version_major": 2,
       "version_minor": 0
      },
      "text/plain": [
       "Dropdown(description='I can configure and personalize my notebook to begin working on my data project', layout…"
      ]
     },
     "metadata": {},
     "output_type": "display_data"
    },
    {
     "data": {
      "application/vnd.jupyter.widget-view+json": {
       "model_id": "bf9c4d3d7976418984264d0575c08987",
       "version_major": 2,
       "version_minor": 0
      },
      "text/plain": [
       "Dropdown(description='I can write and edit code in notebook', layout=Layout(height='40px', width='auto'), opti…"
      ]
     },
     "metadata": {},
     "output_type": "display_data"
    },
    {
     "data": {
      "application/vnd.jupyter.widget-view+json": {
       "model_id": "cfd00a7d2a3f436e844c06c4ebec01fc",
       "version_major": 2,
       "version_minor": 0
      },
      "text/plain": [
       "Dropdown(description='I can export my notebook content in different formats', layout=Layout(height='40px', wid…"
      ]
     },
     "metadata": {},
     "output_type": "display_data"
    },
    {
     "data": {
      "application/vnd.jupyter.widget-view+json": {
       "model_id": "a5bd3c3dfa4e42c18c6f2c347d5ebc52",
       "version_major": 2,
       "version_minor": 0
      },
      "text/plain": [
       "Dropdown(description='I can integrate my notebook with other tools', layout=Layout(height='40px', width='auto'…"
      ]
     },
     "metadata": {},
     "output_type": "display_data"
    }
   ],
   "source": [
    "import ipywidgets as widgets\n",
    "\n",
    "layout = widgets.Layout(width='auto', height='40px')\n",
    "\n",
    "rank = 1\n",
    "drop_down = widgets.Dropdown(options=[\"Please select\",\"not at all important\",\"low importance\",\"neutral\",\"important\", \"very important\"],\n",
    "                                description='I can configure and personalize my notebook to begin working on my data project',\n",
    "                                disabled=False,\n",
    "                                display='flex',\n",
    "                                flex_flow='column',\n",
    "                                align_items='stretch',\n",
    "                                style= {'description_width': 'initial'},\n",
    "                                layout = layout)\n",
    "\n",
    "overall_scale_setup_lists = list()\n",
    "def scale_calculator(change):\n",
    "    global rank\n",
    "    #print(\"Item_A ranking:\", change.new)\n",
    "    rank = change.new\n",
    "    if rank == \"not at all important\":\n",
    "        rank = 1\n",
    "    elif rank == \"low importance\":\n",
    "        rank = 2\n",
    "    elif rank == \"neutral\":\n",
    "        rank = 3\n",
    "    elif rank == \"important\":\n",
    "        rank = 4\n",
    "    elif rank == \"very important\":\n",
    "        rank = 5\n",
    "    else:\n",
    "        rank = 0\n",
    "    max_score = 5\n",
    "    overall_scale_setup = (rank / max_score)*100\n",
    "    overall_scale_setup_lists.append(overall_scale_setup)\n",
    "    #print(overall_scale_setup_lists)\n",
    "    #print(\"setup_scale score:\", overall_scale_setup)\n",
    "drop_down.observe(scale_calculator, names='value')\n",
    "display(drop_down)\n",
    "\n",
    "rank = 1\n",
    "drop_down = widgets.Dropdown(options=[\"Please select\",\"not at all important\",\"low importance\",\"neutral\",\"important\", \"very important\"],\n",
    "                                description='I can write and edit code in notebook',\n",
    "                                disabled=False,\n",
    "                                display='flex',\n",
    "                                flex_flow='column',\n",
    "                                align_items='stretch',\n",
    "                                style= {'description_width': 'initial'},\n",
    "                                layout = layout)\n",
    "\n",
    "overall_scale_coding_lists = list()\n",
    "def scale_calculator(change):\n",
    "    global rank\n",
    "    #print(\"Item_B ranking:\", change.new)\n",
    "    rank = change.new\n",
    "    if rank == \"not at all important\":\n",
    "        rank = 1\n",
    "    elif rank == \"low importance\":\n",
    "        rank = 2\n",
    "    elif rank == \"neutral\":\n",
    "        rank = 3\n",
    "    elif rank == \"important\":\n",
    "        rank = 4\n",
    "    elif rank == \"very important\":\n",
    "        rank = 5\n",
    "    else:\n",
    "        rank = 0\n",
    "    max_score = 5\n",
    "    overall_scale_coding = (rank / max_score)*100\n",
    "    overall_scale_coding_lists.append(overall_scale_coding)\n",
    "    #print(overall_scale_coding_lists)\n",
    "    #print(\"coding_scale score:\", overall_scale_coding)\n",
    "drop_down.observe(scale_calculator, names='value')\n",
    "display(drop_down)\n",
    "\n",
    "rank = 1\n",
    "drop_down = widgets.Dropdown(options=[\"Please select\",\"not at all important\",\"low importance\",\"neutral\",\"important\", \"very important\"],\n",
    "                                description='I can export my notebook content in different formats',\n",
    "                                disabled=False,\n",
    "                                display='flex',\n",
    "                                flex_flow='column',\n",
    "                                align_items='stretch',\n",
    "                                style= {'description_width': 'initial'},\n",
    "                                layout = layout)\n",
    "overall_scale_exporting_lists = list()\n",
    "def scale_calculator(change):\n",
    "    global rank\n",
    "    #print(\"Item_C ranking:\", change.new)\n",
    "    rank = change.new\n",
    "    if rank == \"not at all important\":\n",
    "        rank = 1\n",
    "    elif rank == \"low importance\":\n",
    "        rank = 2\n",
    "    elif rank == \"neutral\":\n",
    "        rank = 3\n",
    "    elif rank == \"important\":\n",
    "        rank = 4\n",
    "    elif rank == \"very important\":\n",
    "        rank = 5\n",
    "    else:\n",
    "        rank = 0\n",
    "    max_score = 5\n",
    "    overall_scale_exporting = (rank / max_score)*100\n",
    "    overall_scale_exporting_lists.append(overall_scale_exporting)\n",
    "    #print(overall_scale_exporting_lists)\n",
    "    #print(\"exporting_scale score:\", overall_scale_exporting)\n",
    "drop_down.observe(scale_calculator, names='value')\n",
    "display(drop_down)\n",
    "\n",
    "rank = 1\n",
    "drop_down = widgets.Dropdown(options=[\"Please select\",\"not at all important\",\"low importance\",\"neutral\",\"important\", \"very important\"],\n",
    "                                description='I can integrate my notebook with other tools',\n",
    "                                disabled=False,\n",
    "                                display='flex',\n",
    "                                flex_flow='column',\n",
    "                                align_items='stretch',\n",
    "                                style= {'description_width': 'initial'},\n",
    "                                layout = layout)\n",
    "\n",
    "overall_scale_integration_lists = list()\n",
    "def scale_calculator(change):\n",
    "    global rank\n",
    "    #print(\"Item_D ranking:\", change.new)\n",
    "    rank = change.new\n",
    "    if rank == \"not at all important\":\n",
    "        rank = 1\n",
    "    elif rank == \"low importance\":\n",
    "        rank = 2\n",
    "    elif rank == \"neutral\":\n",
    "        rank = 3\n",
    "    elif rank == \"important\":\n",
    "        rank = 4\n",
    "    elif rank == \"very important\":\n",
    "        rank = 5\n",
    "    else:\n",
    "        rank = 0\n",
    "    max_score = 5\n",
    "    overall_scale_integration = (rank / max_score)*100\n",
    "    overall_scale_integration_lists.append(overall_scale_integration)\n",
    "    #print(overall_scale_integration_lists)\n",
    "    #print(\"integration_scale score:\", overall_scale_integration)\n",
    "drop_down.observe(scale_calculator, names='value')\n",
    "display(drop_down)"
   ]
  },
  {
   "cell_type": "code",
   "execution_count": 13,
   "id": "6c52eb47",
   "metadata": {
    "scrolled": true
   },
   "outputs": [
    {
     "data": {
      "application/vnd.jupyter.widget-view+json": {
       "model_id": "6d1fbec1b07242cbae0f133f676e05c8",
       "version_major": 2,
       "version_minor": 0
      },
      "text/plain": [
       "Button(description='RESET SURVEY', style=ButtonStyle())"
      ]
     },
     "metadata": {},
     "output_type": "display_data"
    }
   ],
   "source": [
    "from IPython.display import Javascript, display\n",
    "from ipywidgets import widgets\n",
    "\n",
    "def run_all(ev):\n",
    "    display(Javascript('IPython.notebook.execute_cells_above()'))\n",
    "\n",
    "button = widgets.Button(description=\"RESET SURVEY\")\n",
    "button.on_click(run_all)\n",
    "display(button)"
   ]
  },
  {
   "cell_type": "markdown",
   "id": "78a2c613",
   "metadata": {
    "jp-MarkdownHeadingCollapsed": true,
    "tags": []
   },
   "source": [
    "#### ⚠️ CLICK BUTTON ABOVE TO RESET SURVEY "
   ]
  },
  {
   "cell_type": "markdown",
   "id": "76be30cc",
   "metadata": {},
   "source": [
    "#### 🟢 CLICK BUTTON BELOW TO VIEW RESULTS "
   ]
  },
  {
   "cell_type": "code",
   "execution_count": 53,
   "id": "058e943d",
   "metadata": {},
   "outputs": [
    {
     "data": {
      "application/javascript": [
       "IPython.notebook.execute_cells_below()"
      ],
      "text/plain": [
       "<IPython.core.display.Javascript object>"
      ]
     },
     "metadata": {},
     "output_type": "display_data"
    },
    {
     "data": {
      "application/vnd.jupyter.widget-view+json": {
       "model_id": "e6f2bcc13a0341db82d23da2bbfd9034",
       "version_major": 2,
       "version_minor": 0
      },
      "text/plain": [
       "Button(description='VIEW RESULTS', style=ButtonStyle())"
      ]
     },
     "metadata": {},
     "output_type": "display_data"
    }
   ],
   "source": [
    "from IPython.display import Javascript, display\n",
    "from ipywidgets import widgets\n",
    "\n",
    "def run_all(ev):\n",
    "    display(Javascript('IPython.notebook.execute_cells_below()'))\n",
    "\n",
    "button = widgets.Button(description=\"VIEW RESULTS\")\n",
    "button.on_click(run_all)\n",
    "display(button)"
   ]
  },
  {
   "cell_type": "code",
   "execution_count": 54,
   "id": "8444bfe5",
   "metadata": {
    "scrolled": true
   },
   "outputs": [],
   "source": [
    "#Setting up Notebook Scores by Category\n",
    "import math\n",
    "try:\n",
    "    for scores in setup_scale_manager_lists:\n",
    "        scale_manager_score = scores\n",
    "    for scores in setup_rank_manager_lists:\n",
    "        rank_manager_score = scores\n",
    "    total_manager_score = math.floor((scale_manager_score + rank_manager_score)/2)\n",
    "    for scores in setup_scale_upload_lists:\n",
    "        scale_upload_score = scores\n",
    "    for scores in setup_rank_upload_lists:\n",
    "        rank_upload_score = scores\n",
    "    total_upload_score = math.floor((scale_upload_score + rank_upload_score)/2)\n",
    "    for scores in setup_scale_language_lists:\n",
    "        scale_language_score = scores\n",
    "    for scores in setup_rank_language_lists:\n",
    "        rank_language_score = scores\n",
    "    total_language_score = math.floor((scale_language_score + rank_language_score)/2)\n",
    "    for scores in setup_scale_data_lists:\n",
    "        scale_data_score = scores\n",
    "    for scores in setup_rank_data_lists:\n",
    "        rank_data_score = scores\n",
    "    total_data_score = math.floor((scale_data_score + rank_data_score)/2)\n",
    "except NameError:\n",
    "    pass\n",
    "#print(\"thank you for running the cell, your response was recorded\")"
   ]
  },
  {
   "cell_type": "code",
   "execution_count": 55,
   "id": "0c8ef454",
   "metadata": {
    "scrolled": true
   },
   "outputs": [],
   "source": [
    "#Coding and editing notebook scores by Categories\n",
    "import math\n",
    "try:\n",
    "    for scores in coding_scale_write_lists:\n",
    "        scale_write_score = scores\n",
    "    for scores in coding_rank_write_lists:\n",
    "        rank_write_score = scores\n",
    "    total_write_score = math.floor((scale_write_score + rank_write_score)/2)\n",
    "    for scores in coding_scale_check_lists:\n",
    "        scale_check_score = scores\n",
    "    for scores in coding_rank_check_lists:\n",
    "        rank_check_score = scores\n",
    "    total_check_score = math.floor((scale_check_score + rank_check_score)/2)\n",
    "    for scores in coding_scale_output_lists:\n",
    "        scale_output_score = scores\n",
    "    for scores in coding_rank_output_lists:\n",
    "        rank_output_score = scores\n",
    "    total_output_score = math.floor((scale_output_score + rank_output_score)/2)\n",
    "    for scores in coding_scale_save_lists:\n",
    "        scale_save_score = scores\n",
    "    for scores in coding_rank_save_lists:\n",
    "        rank_save_score = scores\n",
    "    total_save_score = math.floor((scale_save_score + rank_save_score)/2)\n",
    "    for scores in coding_scale_markdown_lists:\n",
    "        scale_markdown_score = scores\n",
    "    for scores in coding_rank_markdown_lists:\n",
    "        rank_markdown_score = scores\n",
    "    total_markdown_score = math.floor((scale_markdown_score + rank_markdown_score)/2)\n",
    "    for scores in coding_scale_bash_lists:\n",
    "        scale_bash_score = scores\n",
    "    for scores in coding_rank_bash_lists:\n",
    "        rank_bash_score = scores\n",
    "    total_bash_score = math.floor((scale_bash_score + rank_bash_score)/2)\n",
    "    for scores in coding_scale_magic_lists:\n",
    "        scale_magic_score = scores\n",
    "    for scores in coding_rank_magic_lists:\n",
    "        rank_magic_score = scores\n",
    "    total_magic_score = math.floor((scale_magic_score + rank_magic_score)/2)\n",
    "except NameError:\n",
    "    pass\n",
    "#print(\"thank you for running the cell, your response was recorded\")"
   ]
  },
  {
   "cell_type": "code",
   "execution_count": 56,
   "id": "6ba63603",
   "metadata": {},
   "outputs": [],
   "source": [
    "#RUN THIS CELL PLEASE\n",
    "#Exporting Notebook Content Scores by Category\n",
    "import math\n",
    "try:\n",
    "    for scores in exporting_scale_share_lists:\n",
    "        scale_share_score = scores\n",
    "    for scores in exporting_rank_share_lists:\n",
    "        rank_share_score = scores\n",
    "    total_share_score = math.floor((scale_share_score + rank_share_score)/2)\n",
    "    for scores in exporting_scale_download_lists:\n",
    "        scale_download_score = scores\n",
    "    for scores in exporting_rank_download_lists:\n",
    "        rank_download_score = scores\n",
    "    total_download_score = math.floor((scale_download_score + rank_download_score)/2)\n",
    "except NameError:\n",
    "    pass\n",
    "#print(\"thank you for running the cell, your response was recorded\")"
   ]
  },
  {
   "cell_type": "code",
   "execution_count": 57,
   "id": "7cf21756",
   "metadata": {},
   "outputs": [],
   "source": [
    "#RUN THIS CELL PLEASE\n",
    "#Integrating my Notebook with other tools by Category\n",
    "import math\n",
    "try:\n",
    "    for scores in integrating_rank_authentication_lists:\n",
    "        rank_authentication_score = scores\n",
    "    for scores in integrating_scale_authentication_lists:\n",
    "        scale_authentication_score = scores\n",
    "    total_authentication_score = math.floor((rank_authentication_score + scale_authentication_score)/2)\n",
    "    for scores in integrating_rank_infrastructure_lists:\n",
    "        rank_infrastructure_score = scores\n",
    "    for scores in integrating_scale_infrastructure_lists:\n",
    "        scale_infrastructure_score = scores\n",
    "    total_infrastructure_score = math.floor((rank_infrastructure_score + scale_infrastructure_score)/2)\n",
    "    for scores in integrating_rank_container_lists:\n",
    "        rank_container_score = scores\n",
    "    for scores in integrating_scale_container_lists:\n",
    "        scale_container_score = scores\n",
    "    total_container_score = math.floor((rank_container_score + scale_container_score)/2)\n",
    "    for scores in integrating_rank_unified_lists:\n",
    "        rank_unified_score = scores\n",
    "    for scores in integrating_scale_unified_lists:\n",
    "        scale_unified_score = scores\n",
    "    total_unified_score = math.floor((rank_unified_score + scale_unified_score)/2)\n",
    "    for scores in integrating_rank_voila_lists:\n",
    "        rank_voila_score = scores\n",
    "    for scores in integrating_scale_voila_lists:\n",
    "        scale_voila_score = scores\n",
    "    total_voila_score = math.floor((rank_voila_score + scale_voila_score)/2)\n",
    "except NameError:\n",
    "    pass\n",
    "#print(\"thank you for running the cell, your response was recorded\")"
   ]
  },
  {
   "cell_type": "code",
   "execution_count": 58,
   "id": "af0cea87",
   "metadata": {},
   "outputs": [],
   "source": [
    "#RUN THIS CELL PLEASE\n",
    "#Final notebook category scores\n",
    "import math\n",
    "try:\n",
    "    for scores in overall_rank_setup_lists:\n",
    "        rank_setup_score = scores\n",
    "    for scores in overall_scale_setup_lists:\n",
    "        scale_setup_score = scores\n",
    "    total_setup_score = math.floor((rank_setup_score + scale_setup_score)/2)\n",
    "    for scores in overall_rank_coding_lists:\n",
    "        rank_coding_score = scores\n",
    "    for scores in overall_scale_coding_lists:\n",
    "        scale_coding_score = scores\n",
    "    total_coding_score = math.floor((rank_coding_score + scale_coding_score)/2)\n",
    "    for scores in overall_rank_exporting_lists:\n",
    "        rank_exporting_score = scores\n",
    "    for scores in overall_scale_exporting_lists:\n",
    "        scale_exporting_score = scores\n",
    "    total_exporting_score = math.floor((rank_exporting_score + scale_exporting_score)/2)\n",
    "    for scores in overall_rank_integration_lists:\n",
    "        rank_integration_score = scores\n",
    "    for scores in overall_scale_integration_lists:\n",
    "        scale_integration_score = scores\n",
    "    total_integration_score = math.floor((rank_integration_score + scale_integration_score)/2)\n",
    "except NameError:\n",
    "    pass\n",
    "#print(\"thank you for running the cell, your response was recorded\")"
   ]
  },
  {
   "cell_type": "code",
   "execution_count": 59,
   "id": "169c4472",
   "metadata": {},
   "outputs": [],
   "source": [
    "#RUN THIS CELL PLEASE\n",
    "#overall notebook capabilities total score by category\n",
    "def takeSecond(elem):\n",
    "    return elem[1]\n",
    "try:\n",
    "    overall_total_scores_lists = list()\n",
    "    overall_total_set_up = \"I can configure and personalize my notebook to begin working on my data project\", total_setup_score\n",
    "    overall_total_scores_lists.append(overall_total_set_up)\n",
    "    overall_total_coding = \"I can write and edit code in my notebook\", total_coding_score\n",
    "    overall_total_scores_lists.append(overall_total_coding)\n",
    "    overall_total_exporting = \"I can export my notebook content in different formats\", total_exporting_score\n",
    "    overall_total_scores_lists.append(overall_total_exporting)\n",
    "    overall_total_integration = \"I can integrate my notebook with other tools\", total_integration_score\n",
    "    overall_total_scores_lists.append(overall_total_integration)\n",
    "    overall_total_scores_lists.sort(reverse=True, key=takeSecond)\n",
    "except NameError:\n",
    "    pass\n",
    "#print(overall_total_scores_lists)\n",
    "#print(\"thank you for running the cell, your response was recorded\")"
   ]
  },
  {
   "cell_type": "code",
   "execution_count": 60,
   "id": "c41c74e9",
   "metadata": {},
   "outputs": [],
   "source": [
    "#RUN THIS CELL PLEASE\n",
    "#Setting up my notebook final scores\n",
    "def takeSecond(elem):\n",
    "    return elem[1]\n",
    "\n",
    "import math\n",
    "try:\n",
    "    set_up_final_scores_lists = list()\n",
    "    final_manager_score = \"I can integrate my notebook with a package and environment manager like Conda or pip\", math.floor((total_manager_score + total_setup_score)/2)\n",
    "    set_up_final_scores_lists.append(final_manager_score)\n",
    "    final_upload_score = \"I can upload files in different formats to my notebook\", math.floor((total_upload_score + total_setup_score)/2)\n",
    "    set_up_final_scores_lists.append(final_upload_score)\n",
    "    final_language_score = \"I can choose programming language of my notebook\", math.floor((total_language_score + total_setup_score)/2)\n",
    "    set_up_final_scores_lists.append(final_language_score)\n",
    "    final_data_score = \"I can import data analyis packages like Pandas to my notebook\", math.floor((total_data_score + total_setup_score)/2)\n",
    "    set_up_final_scores_lists.append(final_data_score)\n",
    "    set_up_final_scores_lists.sort(reverse=True, key=takeSecond)\n",
    "except NameError:\n",
    "    pass\n",
    "#print(set_up_final_scores_lists)\n",
    "#print(\"thank you for running the cell, your response was recorded\")"
   ]
  },
  {
   "cell_type": "code",
   "execution_count": 61,
   "id": "eec609e8",
   "metadata": {},
   "outputs": [],
   "source": [
    "#RUN THIS CELL PLEASE\n",
    "#coding and editing in my notebook final scores\n",
    "def takeSecond(elem):\n",
    "    return elem[1]\n",
    "\n",
    "import math\n",
    "\n",
    "coding_final_scores_lists = list()\n",
    "try:\n",
    "    final_write_score = \"I can write and edit code in my prefered programming language in my notebook\", math.floor((total_write_score + total_coding_score)/2)\n",
    "    coding_final_scores_lists.append(final_write_score)\n",
    "    final_check_score = \"I can live check my code for mistakes in my notebook\", math.floor((total_check_score + total_coding_score)/2)\n",
    "    coding_final_scores_lists.append(final_check_score)\n",
    "    final_ouput_score = \"I can generate an interactive output of my code in my notebook\", math.floor((total_output_score + total_coding_score)/2)\n",
    "    coding_final_scores_lists.append(final_ouput_score)\n",
    "    final_save_score = \"I can save my word and return to my notebook later\", math.floor((total_save_score + total_coding_score)/2)\n",
    "    coding_final_scores_lists.append(final_save_score)\n",
    "    final_markdown_score = \"I can write markdowns in my notebook\", math.floor((total_markdown_score + total_coding_score)/2)\n",
    "    coding_final_scores_lists.append(final_markdown_score)\n",
    "    final_bash_score = \"I can write Bash commands in my notebook\",math.floor((total_bash_score + total_coding_score)/2)\n",
    "    coding_final_scores_lists.append(final_bash_score)\n",
    "    final_magic_score = \"I can write magic commands in my notebook\", math.floor((total_magic_score + total_coding_score)/2)\n",
    "    coding_final_scores_lists.append(final_magic_score)\n",
    "    coding_final_scores_lists.sort(reverse=True, key=takeSecond)\n",
    "except NameError:\n",
    "    pass\n",
    "#print(coding_final_scores_lists)\n",
    "#print(\"thank you for running the cell, your response was recorded\")"
   ]
  },
  {
   "cell_type": "code",
   "execution_count": 62,
   "id": "eed1d19e",
   "metadata": {},
   "outputs": [],
   "source": [
    "#RUN THIS CELL PLEASE\n",
    "#exporting notebook content final scores\n",
    "def takeSecond(elem):\n",
    "    return elem[1]\n",
    "\n",
    "import math\n",
    "exporting_final_scores_lists = list()\n",
    "try:\n",
    "    final_share_score = \"I can share my notebook content via methods like email and Github\", math.floor((total_share_score + total_exporting_score)/2)\n",
    "    exporting_final_scores_lists.append(final_share_score)\n",
    "    final_download_score = \"I can download my notebook content in different formats\", math.floor((total_download_score + total_exporting_score)/2)\n",
    "    exporting_final_scores_lists.append(final_download_score)\n",
    "    exporting_final_scores_lists.sort(reverse=True, key=takeSecond)\n",
    "except NameError:\n",
    "    pass\n",
    "#print(exporting_final_scores_lists)\n",
    "#print(\"thank you for running the cell, your response was recorded\")"
   ]
  },
  {
   "cell_type": "code",
   "execution_count": 63,
   "id": "2d4dc18f",
   "metadata": {},
   "outputs": [],
   "source": [
    "#RUN THIS CELL PLEASE\n",
    "#integration my notebook with other tools final scores\n",
    "def takeSecond(elem):\n",
    "    return elem[1]\n",
    "\n",
    "import math\n",
    "integration_final_scores_lists = list()\n",
    "try:\n",
    "    final_authentication_score = \"I can integrate my notebook with authentication tools\", math.floor((total_authentication_score + total_integration_score)/2)\n",
    "    integration_final_scores_lists.append(final_authentication_score)\n",
    "    final_infrastructure_score = \"I can integrate my notebook with a centralized infrastructure\", math.floor((total_infrastructure_score + total_integration_score)/2)\n",
    "    exporting_final_scores_lists.append(final_infrastructure_score)\n",
    "    final_container_score = \"I can integrate my notebook with a container like Dockers or Kubernetes\", math.floor((total_container_score + total_integration_score)/2)\n",
    "    integration_final_scores_lists.append(final_container_score)\n",
    "    final_unified_score = \"I can integrate my notebook with my data to provide unified software management and data access\", math.floor((total_unified_score + total_integration_score)/2)\n",
    "    integration_final_scores_lists.append(final_unified_score)\n",
    "    final_voila_score = \"I can integrate my notebook with extensions like voila to communicating insights via stand alone interactive web applications\", math.floor((total_voila_score + total_integration_score)/2)\n",
    "    integration_final_scores_lists.append(final_voila_score)\n",
    "    integration_final_scores_lists.sort(reverse=True, key=takeSecond)\n",
    "except NameError:\n",
    "    pass\n",
    "#print(integration_final_scores_lists)\n",
    "#print(\"thank you for running the cell, your response was recorded\")"
   ]
  },
  {
   "cell_type": "markdown",
   "id": "48a794d1",
   "metadata": {},
   "source": [
    "## Your Survey Results"
   ]
  },
  {
   "cell_type": "markdown",
   "id": "caf907cc",
   "metadata": {},
   "source": [
    "### Your Notebook Features with a score of 75 to 100\n",
    "#### Note: Results listed in descending order"
   ]
  },
  {
   "cell_type": "code",
   "execution_count": 64,
   "id": "050f5bbc",
   "metadata": {},
   "outputs": [
    {
     "name": "stdout",
     "output_type": "stream",
     "text": [
      "I can import data analyis packages like Pandas to my notebook\n",
      "I can integrate my notebook with a package and environment manager like Conda or pip\n",
      "I can save my word and return to my notebook later\n",
      "I can write markdowns in my notebook\n",
      "I can write and edit code in my prefered programming language in my notebook\n",
      "I can generate an interactive output of my code in my notebook\n",
      "I can write Bash commands in my notebook\n"
     ]
    }
   ],
   "source": [
    "#print(\"My free edition Notebook must haves these following features:\")\n",
    "free_edition_features_lists = list()\n",
    "try:\n",
    "    for set_up_final, score in set_up_final_scores_lists:\n",
    "        if score >=75:\n",
    "            free_edition_features_lists.append(set_up_final)\n",
    "    for  coding_final, score in coding_final_scores_lists:\n",
    "        if score >=75:\n",
    "            free_edition_features_lists.append(coding_final) \n",
    "    for exporting_final, score in exporting_final_scores_lists:\n",
    "        if score >=75:\n",
    "            free_edition_features_lists.append(exporting_final)\n",
    "    for integration_final, score in integration_final_scores_lists:\n",
    "        if score >=75:\n",
    "            free_edition_features_lists.append(integration_final)\n",
    "    for free_edition_features in free_edition_features_lists:\n",
    "        print(free_edition_features)\n",
    "except NameError:\n",
    "    pass"
   ]
  },
  {
   "cell_type": "markdown",
   "id": "b3dc58ce",
   "metadata": {},
   "source": [
    "### Your Notebook Features with a score of 50 to 74 \n",
    "#### Note: Results listed in descending order"
   ]
  },
  {
   "cell_type": "code",
   "execution_count": 65,
   "id": "ac9e430b",
   "metadata": {
    "scrolled": false
   },
   "outputs": [
    {
     "name": "stdout",
     "output_type": "stream",
     "text": [
      "I can upload files in different formats to my notebook\n",
      "I can choose programming language of my notebook\n",
      "I can live check my code for mistakes in my notebook\n",
      "I can write magic commands in my notebook\n",
      "I can share my notebook content via methods like email and Github\n",
      "I can download my notebook content in different formats\n",
      "I can integrate my notebook with a centralized infrastructure\n",
      "I can integrate my notebook with authentication tools\n"
     ]
    }
   ],
   "source": [
    "#print(\"Nice to have features for my free edition notebook:\")\n",
    "upgrade_edition_features_lists = list()\n",
    "low_score = 49\n",
    "high_score = 100\n",
    "\n",
    "upgrade_features_lists_filter = list()\n",
    "try:\n",
    "    for set_up_final, score in set_up_final_scores_lists:\n",
    "        if low_score < score < high_score:\n",
    "            upgrade_edition_features_lists.append(set_up_final)\n",
    "    for  coding_final, score in coding_final_scores_lists:\n",
    "        if low_score < score < high_score:\n",
    "            upgrade_edition_features_lists.append(coding_final) \n",
    "    for exporting_final, score in exporting_final_scores_lists:\n",
    "        if low_score < score < high_score:\n",
    "            upgrade_edition_features_lists.append(exporting_final)\n",
    "    for integration_final, score in integration_final_scores_lists:\n",
    "        if low_score < score < high_score:\n",
    "            upgrade_edition_features_lists.append(integration_final)\n",
    "    upgrade_features_lists = [upgrade_edition for upgrade_edition in upgrade_edition_features_lists if upgrade_edition not in free_edition_features_lists]\n",
    "    for upgrade_features in upgrade_features_lists:\n",
    "        print(upgrade_features)\n",
    "        upgrade_features_lists_filter.append(upgrade_features)\n",
    "except NameError:\n",
    "    pass          \n",
    "            "
   ]
  },
  {
   "cell_type": "code",
   "execution_count": 66,
   "id": "7cebdbed",
   "metadata": {},
   "outputs": [],
   "source": [
    "#add must have list to text file\n",
    "import os\n",
    "import ast\n",
    "\n",
    "must_have_lists = free_edition_features_lists\n",
    "must_have_file = 'must_have_tests_files.txt.'\n",
    "\n",
    "# save list in file\n",
    "with open(must_have_file, 'a') as f:\n",
    "    f.write((str(free_edition_features_lists))+ '\\n')\n",
    "\n"
   ]
  },
  {
   "cell_type": "code",
   "execution_count": 67,
   "id": "efa06980",
   "metadata": {},
   "outputs": [],
   "source": [
    "#add nice to have list to text file\n",
    "import os\n",
    "import ast\n",
    "\n",
    "nice_to_have_lists = upgrade_features_lists_filter\n",
    "nice_to_have_file = 'nice_to_have_tests_files.txt.'\n",
    "\n",
    "# save list in file\n",
    "with open(nice_to_have_file, 'a') as fd:\n",
    "    fd.write((str(upgrade_features_lists_filter)) + '\\n')\n",
    "    "
   ]
  },
  {
   "cell_type": "markdown",
   "id": "614cc073",
   "metadata": {},
   "source": [
    "# Overall Survey Results"
   ]
  },
  {
   "cell_type": "code",
   "execution_count": 68,
   "id": "04be6f18",
   "metadata": {},
   "outputs": [],
   "source": [
    "import pyparsing as pp\n",
    "\n",
    "must_have_file = open(\"must_have_tests_files.txt.\", \"r\")\n",
    "read_must_have_file = must_have_file.readlines()\n",
    "filter_elist_read_must_have_file = [ele for ele in read_must_have_file if ele != '[]\\n']\n",
    "#print(filter_elist_read_must_have_file)\n",
    "\n",
    "new_results_lists = list()\n",
    "new_index_lists = list()\n",
    "index = 0\n",
    "count = 0 \n",
    "for must_have_results in filter_elist_read_must_have_file:\n",
    "    must_have = pp.common.comma_separated_list.parseString(must_have_results).asList()\n",
    "    must_have = [x.replace('\"', '').replace(\"'\", '').replace(',', '') for x in must_have]\n",
    "    # removed all puctuation from text because parsing was challenging\n",
    "    new_index = (index, must_have)\n",
    "    index +=1\n",
    "    new_index_lists.append(new_index)\n",
    "for new_index in new_index_lists:\n",
    "    user_results = (new_index[0], new_index[1]) \n",
    "    new_results_lists.append(user_results)\n",
    "\n",
    "one_rank_lists = list()\n",
    "two_rank_lists = list()\n",
    "three_rank_lists = list()\n",
    "four_rank_lists = list()\n",
    "five_rank_lists = list()\n",
    "six_rank_lists = list()\n",
    "seven_rank_lists = list()\n",
    "eight_rank_lists = list()\n",
    "nine_rank_lists = list()\n",
    "ten_rank_lists = list()\n",
    "overall_rank_lists = list()\n",
    "\n",
    "for user_results in new_results_lists:\n",
    "    user_rankings = user_results[0]\n",
    "    user_answers = user_results[1] \n",
    "    one_rank, two_rank, three_rank, four_rank, five_rank, six_rank, seven_rank, eight_rank, nine_rank, ten_rank = None, None, None, None, None, None, None, None, None, None\n",
    "    try:\n",
    "        one_rank = (user_rankings, user_answers[0])\n",
    "        one_rank_lists.append(one_rank)\n",
    "        two_rank = (user_rankings, user_answers[1])\n",
    "        two_rank_lists.append(two_rank)\n",
    "        three_rank = (user_rankings, user_answers[2])\n",
    "        three_rank_lists.append(three_rank)\n",
    "        four_rank = (user_rankings, user_answers[3])\n",
    "        four_rank_lists.append(four_rank)\n",
    "        five_rank = (user_rankings, user_answers[4])\n",
    "        five_rank_lists.append(five_rank)\n",
    "        six_rank = (user_rankings, user_answers[5])\n",
    "        six_rank_lists.append(six_rank)\n",
    "        seven_rank = (user_rankings, user_answers[6])\n",
    "        seven_rank_lists.append(seven_rank)\n",
    "        eight_rank = (user_rankings, user_answers[7])\n",
    "        eight_rank_lists.append(eight_rank)\n",
    "        nine_rank = (user_rankings, user_answers[8])\n",
    "        nine_rank_lists.append(nine_rank)\n",
    "        ten_rank = (user_rankings, user_answers[9])\n",
    "        ten_rank_lists.append(ten_rank)\n",
    "    except IndexError:\n",
    "        pass\n",
    "    \n",
    "overall_rank_lists.append(one_rank_lists)\n",
    "overall_rank_lists.append(two_rank_lists)\n",
    "overall_rank_lists.append(three_rank_lists)\n",
    "overall_rank_lists.append(four_rank_lists)\n",
    "overall_rank_lists.append(five_rank_lists)\n",
    "overall_rank_lists.append(six_rank_lists)\n",
    "overall_rank_lists.append(seven_rank_lists)\n",
    "overall_rank_lists.append(eight_rank_lists)\n",
    "overall_rank_lists.append(nine_rank_lists)\n",
    "overall_rank_lists.append(ten_rank_lists)\n",
    "#print(overall_rank_lists)\n",
    "#list can be indexed for each ranked item"
   ]
  },
  {
   "cell_type": "code",
   "execution_count": 69,
   "id": "d4fdcb72",
   "metadata": {},
   "outputs": [],
   "source": [
    "from collections import Counter\n",
    "import math\n",
    "\n",
    "#one place rankings\n",
    "\n",
    "one_rank_answers_lists = list()\n",
    "graph_one_rank_lists = list()\n",
    "for one_ranks in one_rank_lists:\n",
    "    one_rank_answers_lists.append(one_ranks[1])\n",
    "\n",
    "one_rank_dict = Counter(one_rank_answers_lists)\n",
    "\n",
    "for key, value in one_rank_dict.items():\n",
    "    try:\n",
    "        percent = math.floor(((value)/len(one_rank_lists)*100))\n",
    "        one_rank_answers = (percent, key)\n",
    "        graph_one_rank_lists.append(one_rank_answers)\n",
    "    except ZeroDivisionError:\n",
    "        pass\n",
    "#print(graph_one_rank_lists)\n",
    "\n",
    "# two place rankings\n",
    "\n",
    "two_rank_answers_lists = list()\n",
    "graph_two_rank_lists = list()\n",
    "for two_ranks in two_rank_lists:\n",
    "    two_rank_answers_lists.append(two_ranks[1])\n",
    "\n",
    "two_rank_dict = Counter(two_rank_answers_lists)\n",
    "\n",
    "for key, value in two_rank_dict.items():\n",
    "    try:\n",
    "        percent = math.floor(((value)/len(two_rank_lists)*100))\n",
    "        two_rank_answers = (percent, key)\n",
    "        graph_two_rank_lists.append(two_rank_answers)\n",
    "    except ZeroDivisionError:\n",
    "        pass\n",
    "#print(graph_two_rank_lists)\n",
    "\n",
    "# three place rankings\n",
    "\n",
    "three_rank_answers_lists = list()\n",
    "graph_three_rank_lists = list()\n",
    "for three_ranks in three_rank_lists:\n",
    "    three_rank_answers_lists.append(three_ranks[1])\n",
    "\n",
    "three_rank_dict = Counter(three_rank_answers_lists)\n",
    "\n",
    "for key, value in three_rank_dict.items():\n",
    "    try:\n",
    "        percent = math.floor(((value)/len(three_rank_lists)*100))\n",
    "        three_rank_answers = (percent, key)\n",
    "        graph_three_rank_lists.append(three_rank_answers)\n",
    "    except ZeroDivisionError:\n",
    "        pass\n",
    "#print(graph_three_rank_lists)\n",
    "\n",
    "\n",
    "# four place rankings\n",
    "\n",
    "four_rank_answers_lists = list()\n",
    "graph_four_rank_lists = list()\n",
    "for four_ranks in four_rank_lists:\n",
    "    four_rank_answers_lists.append(four_ranks[1])\n",
    "\n",
    "four_rank_dict = Counter(four_rank_answers_lists)\n",
    "\n",
    "for key, value in four_rank_dict.items():\n",
    "    try:\n",
    "        percent = math.floor(((value)/len(four_rank_lists)*100))\n",
    "        four_rank_answers = (percent, key)\n",
    "        graph_four_rank_lists.append(four_rank_answers)\n",
    "    except ZeroDivisionError:\n",
    "        pass\n",
    "#print(graph_four_rank_lists)\n",
    "\n",
    "# five place rankings\n",
    "\n",
    "five_rank_answers_lists = list()\n",
    "graph_five_rank_lists = list()\n",
    "for five_ranks in five_rank_lists:\n",
    "    five_rank_answers_lists.append(five_ranks[1])\n",
    "\n",
    "five_rank_dict = Counter(five_rank_answers_lists)\n",
    "\n",
    "for key, value in five_rank_dict.items():\n",
    "    try:\n",
    "        percent = math.floor(((value)/len(five_rank_lists)*100))\n",
    "        five_rank_answers = (percent, key)\n",
    "        graph_five_rank_lists.append(five_rank_answers)\n",
    "    except ZeroDivisionError:\n",
    "        pass\n",
    "#print(graph_five_rank_lists)\n",
    "\n",
    "# six place rankings\n",
    "\n",
    "six_rank_answers_lists = list()\n",
    "graph_six_rank_lists = list()\n",
    "for six_ranks in six_rank_lists:\n",
    "    six_rank_answers_lists.append(six_ranks[1])\n",
    "\n",
    "six_rank_dict = Counter(six_rank_answers_lists)\n",
    "\n",
    "for key, value in six_rank_dict.items():\n",
    "    try:\n",
    "        percent = math.floor(((value)/len(six_rank_lists)*100))\n",
    "        six_rank_answers = (percent, key)\n",
    "        graph_six_rank_lists.append(six_rank_answers)\n",
    "    except ZeroDivisionError:\n",
    "        pass\n",
    "#print(graph_six_rank_lists)\n",
    "\n",
    "# seven place rankings\n",
    "\n",
    "seven_rank_answers_lists = list()\n",
    "graph_seven_rank_lists = list()\n",
    "for seven_ranks in seven_rank_lists:\n",
    "    seven_rank_answers_lists.append(seven_ranks[1])\n",
    "\n",
    "seven_rank_dict = Counter(seven_rank_answers_lists)\n",
    "\n",
    "for key, value in seven_rank_dict.items():\n",
    "    try:\n",
    "        percent = math.floor(((value)/len(seven_rank_lists)*100))\n",
    "        seven_rank_answers = (percent, key)\n",
    "        graph_seven_rank_lists.append(seven_rank_answers)\n",
    "    except ZeroDivisionError:\n",
    "        pass\n",
    "#print(graph_seven_rank_lists)\n",
    "\n",
    "# eight place rankings\n",
    "\n",
    "eight_rank_answers_lists = list()\n",
    "graph_eight_rank_lists = list()\n",
    "for eight_ranks in eight_rank_lists:\n",
    "    eight_rank_answers_lists.append(eight_ranks[1])\n",
    "\n",
    "eight_rank_dict = Counter(eight_rank_answers_lists)\n",
    "\n",
    "for key, value in eight_rank_dict.items():\n",
    "    try:\n",
    "        percent = math.floor(((value)/len(eight_rank_lists)*100))\n",
    "        eight_rank_answers = (percent, key)\n",
    "        graph_eight_rank_lists.append(eight_rank_answers)\n",
    "    except ZeroDivisionError:\n",
    "        pass\n",
    "#print(graph_eight_rank_lists)\n",
    "\n",
    "# nine place rankings\n",
    "\n",
    "nine_rank_answers_lists = list()\n",
    "graph_nine_rank_lists = list()\n",
    "for nine_ranks in nine_rank_lists:\n",
    "    nine_rank_answers_lists.append(nine_ranks[1])\n",
    "\n",
    "nine_rank_dict = Counter(nine_rank_answers_lists)\n",
    "\n",
    "for key, value in nine_rank_dict.items():\n",
    "    try:\n",
    "        percent = math.floor(((value)/len(nine_rank_lists)*100))\n",
    "        nine_rank_answers = (percent, key)\n",
    "        graph_nine_rank_lists.append(nine_rank_answers)\n",
    "    except ZeroDivisionError:\n",
    "        pass\n",
    "#print(graph_nine_rank_lists)\n",
    "\n",
    "# ten place rankings\n",
    "\n",
    "ten_rank_answers_lists = list()\n",
    "graph_ten_rank_lists = list()\n",
    "for ten_ranks in nine_rank_lists:\n",
    "    ten_rank_answers_lists.append(ten_ranks[1])\n",
    "\n",
    "ten_rank_dict = Counter(ten_rank_answers_lists)\n",
    "\n",
    "for key, value in ten_rank_dict.items():\n",
    "    try:\n",
    "        percent = math.floor(((value)/len(ten_rank_lists)*100))\n",
    "        ten_rank_answers = (percent, key)\n",
    "        graph_ten_rank_lists.append(ten_rank_answers)\n",
    "    except ZeroDivisionError:\n",
    "        pass\n",
    "#print(graph_ten_rank_lists)"
   ]
  },
  {
   "cell_type": "markdown",
   "id": "25c41183",
   "metadata": {},
   "source": [
    "### Notebook Features with a score of 75 to 100"
   ]
  },
  {
   "cell_type": "markdown",
   "id": "1fa3a5dd",
   "metadata": {},
   "source": [
    "#### Top Ranked Notebook Features by Respondents"
   ]
  },
  {
   "cell_type": "code",
   "execution_count": 70,
   "id": "f709a157",
   "metadata": {},
   "outputs": [
    {
     "name": "stdout",
     "output_type": "stream",
     "text": [
      "Number of respondents: 12\n"
     ]
    }
   ],
   "source": [
    "print(\"Number of respondents:\",len(one_rank_lists))"
   ]
  },
  {
   "cell_type": "code",
   "execution_count": 71,
   "id": "85a90829",
   "metadata": {},
   "outputs": [
    {
     "data": {
      "text/html": [
       "<div>\n",
       "<style scoped>\n",
       "    .dataframe tbody tr th:only-of-type {\n",
       "        vertical-align: middle;\n",
       "    }\n",
       "\n",
       "    .dataframe tbody tr th {\n",
       "        vertical-align: top;\n",
       "    }\n",
       "\n",
       "    .dataframe thead th {\n",
       "        text-align: right;\n",
       "    }\n",
       "</style>\n",
       "<table border=\"1\" class=\"dataframe\">\n",
       "  <thead>\n",
       "    <tr style=\"text-align: right;\">\n",
       "      <th></th>\n",
       "      <th>% of Respondents</th>\n",
       "      <th>Top Ranked Feature</th>\n",
       "    </tr>\n",
       "  </thead>\n",
       "  <tbody>\n",
       "    <tr>\n",
       "      <th>0</th>\n",
       "      <td>16</td>\n",
       "      <td>[I can integrate my notebook with a package an...</td>\n",
       "    </tr>\n",
       "    <tr>\n",
       "      <th>1</th>\n",
       "      <td>8</td>\n",
       "      <td>[I can integrate my notebook with pandas apach...</td>\n",
       "    </tr>\n",
       "    <tr>\n",
       "      <th>2</th>\n",
       "      <td>16</td>\n",
       "      <td>[I can write magic commands in my notebook</td>\n",
       "    </tr>\n",
       "    <tr>\n",
       "      <th>3</th>\n",
       "      <td>8</td>\n",
       "      <td>[I can choose the programming language of my n...</td>\n",
       "    </tr>\n",
       "    <tr>\n",
       "      <th>4</th>\n",
       "      <td>8</td>\n",
       "      <td>[I can live check my code for mistakes in my n...</td>\n",
       "    </tr>\n",
       "    <tr>\n",
       "      <th>5</th>\n",
       "      <td>16</td>\n",
       "      <td>[I can share my notebook content via email and...</td>\n",
       "    </tr>\n",
       "    <tr>\n",
       "      <th>6</th>\n",
       "      <td>16</td>\n",
       "      <td>[I can integrate my notebook with a package an...</td>\n",
       "    </tr>\n",
       "    <tr>\n",
       "      <th>7</th>\n",
       "      <td>8</td>\n",
       "      <td>[I can import data analyis packages like Panda...</td>\n",
       "    </tr>\n",
       "  </tbody>\n",
       "</table>\n",
       "</div>"
      ],
      "text/plain": [
       "   % of Respondents                                 Top Ranked Feature\n",
       "0                16  [I can integrate my notebook with a package an...\n",
       "1                 8  [I can integrate my notebook with pandas apach...\n",
       "2                16         [I can write magic commands in my notebook\n",
       "3                 8  [I can choose the programming language of my n...\n",
       "4                 8  [I can live check my code for mistakes in my n...\n",
       "5                16  [I can share my notebook content via email and...\n",
       "6                16  [I can integrate my notebook with a package an...\n",
       "7                 8  [I can import data analyis packages like Panda..."
      ]
     },
     "execution_count": 71,
     "metadata": {},
     "output_type": "execute_result"
    }
   ],
   "source": [
    "import pandas as pd\n",
    "\n",
    "pd.DataFrame(graph_one_rank_lists, columns=[\"% of Respondents\", \"Top Ranked Feature\"])"
   ]
  },
  {
   "cell_type": "code",
   "execution_count": 72,
   "id": "25e0b723",
   "metadata": {},
   "outputs": [
    {
     "data": {
      "image/png": "[encoded data removed]",
      "text/plain": [
       "<Figure size 432x288 with 1 Axes>"
      ]
     },
     "metadata": {
      "needs_background": "light"
     },
     "output_type": "display_data"
    }
   ],
   "source": [
    "import pandas as pd\n",
    "import matplotlib.pyplot as plt\n",
    "\n",
    "df = pd.DataFrame(graph_one_rank_lists, columns=[\"Percentage of Respondents\", \"Top Ranked Features\"])\n",
    "ax = df.plot.barh(x='Top Ranked Features', y='Percentage of Respondents', legend=False, color=['gray', 'red', 'green', 'blue', 'cyan', 'purple', 'orange'])"
   ]
  },
  {
   "cell_type": "markdown",
   "id": "70499cb2",
   "metadata": {},
   "source": [
    "#### Second Ranked Notebook Features by respondents"
   ]
  },
  {
   "cell_type": "code",
   "execution_count": 73,
   "id": "8201f9b9",
   "metadata": {},
   "outputs": [
    {
     "name": "stdout",
     "output_type": "stream",
     "text": [
      "Number of respondents: 12\n"
     ]
    }
   ],
   "source": [
    "print(\"Number of respondents:\",len(two_rank_lists))"
   ]
  },
  {
   "cell_type": "code",
   "execution_count": 74,
   "id": "d75bc7a7",
   "metadata": {},
   "outputs": [
    {
     "data": {
      "text/html": [
       "<div>\n",
       "<style scoped>\n",
       "    .dataframe tbody tr th:only-of-type {\n",
       "        vertical-align: middle;\n",
       "    }\n",
       "\n",
       "    .dataframe tbody tr th {\n",
       "        vertical-align: top;\n",
       "    }\n",
       "\n",
       "    .dataframe thead th {\n",
       "        text-align: right;\n",
       "    }\n",
       "</style>\n",
       "<table border=\"1\" class=\"dataframe\">\n",
       "  <thead>\n",
       "    <tr style=\"text-align: right;\">\n",
       "      <th></th>\n",
       "      <th>% of Respondents</th>\n",
       "      <th>Second Ranked Features</th>\n",
       "    </tr>\n",
       "  </thead>\n",
       "  <tbody>\n",
       "    <tr>\n",
       "      <th>0</th>\n",
       "      <td>25</td>\n",
       "      <td>I can integrate my notebook with pandas apache...</td>\n",
       "    </tr>\n",
       "    <tr>\n",
       "      <th>1</th>\n",
       "      <td>8</td>\n",
       "      <td>I can integrate my notebook with a package and...</td>\n",
       "    </tr>\n",
       "    <tr>\n",
       "      <th>2</th>\n",
       "      <td>16</td>\n",
       "      <td>I can write Bash commands in my notebook</td>\n",
       "    </tr>\n",
       "    <tr>\n",
       "      <th>3</th>\n",
       "      <td>8</td>\n",
       "      <td>I can write and edit code in my notebook</td>\n",
       "    </tr>\n",
       "    <tr>\n",
       "      <th>4</th>\n",
       "      <td>16</td>\n",
       "      <td>I can integrate my notebook with a localized a...</td>\n",
       "    </tr>\n",
       "    <tr>\n",
       "      <th>5</th>\n",
       "      <td>16</td>\n",
       "      <td>I can import data analyis packages like Pandas...</td>\n",
       "    </tr>\n",
       "    <tr>\n",
       "      <th>6</th>\n",
       "      <td>8</td>\n",
       "      <td>I can integrate my notebook with a package and...</td>\n",
       "    </tr>\n",
       "  </tbody>\n",
       "</table>\n",
       "</div>"
      ],
      "text/plain": [
       "   % of Respondents                             Second Ranked Features\n",
       "0                25  I can integrate my notebook with pandas apache...\n",
       "1                 8  I can integrate my notebook with a package and...\n",
       "2                16           I can write Bash commands in my notebook\n",
       "3                 8           I can write and edit code in my notebook\n",
       "4                16  I can integrate my notebook with a localized a...\n",
       "5                16  I can import data analyis packages like Pandas...\n",
       "6                 8  I can integrate my notebook with a package and..."
      ]
     },
     "execution_count": 74,
     "metadata": {},
     "output_type": "execute_result"
    }
   ],
   "source": [
    "import pandas as pd\n",
    "\n",
    "pd.DataFrame(graph_two_rank_lists, columns=[\"% of Respondents\", \"Second Ranked Features\"])"
   ]
  },
  {
   "cell_type": "code",
   "execution_count": 75,
   "id": "e5624ac9",
   "metadata": {},
   "outputs": [
    {
     "data": {
      "image/png": "[encoded data removed]",
      "text/plain": [
       "<Figure size 432x288 with 1 Axes>"
      ]
     },
     "metadata": {
      "needs_background": "light"
     },
     "output_type": "display_data"
    }
   ],
   "source": [
    "import pandas as pd\n",
    "import matplotlib.pyplot as plt\n",
    "\n",
    "df = pd.DataFrame(graph_two_rank_lists, columns=[\"Percentage of Respondents\", \"Second Ranked Features\"])\n",
    "ax = df.plot.barh(x='Second Ranked Features', y='Percentage of Respondents', legend=False, color=['gray', 'red', 'green', 'blue', 'cyan', 'purple', 'orange'])"
   ]
  },
  {
   "cell_type": "markdown",
   "id": "4894b544",
   "metadata": {},
   "source": [
    "#### Third Ranked Notebook Feature by Respondents"
   ]
  },
  {
   "cell_type": "code",
   "execution_count": 76,
   "id": "f20e3de4",
   "metadata": {},
   "outputs": [
    {
     "name": "stdout",
     "output_type": "stream",
     "text": [
      "Number of respondents: 10\n"
     ]
    }
   ],
   "source": [
    "print(\"Number of respondents:\",len(three_rank_lists))"
   ]
  },
  {
   "cell_type": "code",
   "execution_count": 77,
   "id": "1683de74",
   "metadata": {},
   "outputs": [
    {
     "data": {
      "text/html": [
       "<div>\n",
       "<style scoped>\n",
       "    .dataframe tbody tr th:only-of-type {\n",
       "        vertical-align: middle;\n",
       "    }\n",
       "\n",
       "    .dataframe tbody tr th {\n",
       "        vertical-align: top;\n",
       "    }\n",
       "\n",
       "    .dataframe thead th {\n",
       "        text-align: right;\n",
       "    }\n",
       "</style>\n",
       "<table border=\"1\" class=\"dataframe\">\n",
       "  <thead>\n",
       "    <tr style=\"text-align: right;\">\n",
       "      <th></th>\n",
       "      <th>% of Respondents</th>\n",
       "      <th>Third Ranked Features</th>\n",
       "    </tr>\n",
       "  </thead>\n",
       "  <tbody>\n",
       "    <tr>\n",
       "      <th>0</th>\n",
       "      <td>20</td>\n",
       "      <td>I can generate an interactive output of my cod...</td>\n",
       "    </tr>\n",
       "    <tr>\n",
       "      <th>1</th>\n",
       "      <td>10</td>\n",
       "      <td>I can upload files to my notebook</td>\n",
       "    </tr>\n",
       "    <tr>\n",
       "      <th>2</th>\n",
       "      <td>10</td>\n",
       "      <td>I can write markdowns in my notebook</td>\n",
       "    </tr>\n",
       "    <tr>\n",
       "      <th>3</th>\n",
       "      <td>10</td>\n",
       "      <td>I can write and edit code in my notebook</td>\n",
       "    </tr>\n",
       "    <tr>\n",
       "      <th>4</th>\n",
       "      <td>10</td>\n",
       "      <td>I can integrate my notebook with a package and...</td>\n",
       "    </tr>\n",
       "    <tr>\n",
       "      <th>5</th>\n",
       "      <td>10</td>\n",
       "      <td>I can save my code and return to my notebook l...</td>\n",
       "    </tr>\n",
       "    <tr>\n",
       "      <th>6</th>\n",
       "      <td>10</td>\n",
       "      <td>I can choose programming language of my notebook</td>\n",
       "    </tr>\n",
       "    <tr>\n",
       "      <th>7</th>\n",
       "      <td>10</td>\n",
       "      <td>I can live check my code for mistakes in my no...</td>\n",
       "    </tr>\n",
       "    <tr>\n",
       "      <th>8</th>\n",
       "      <td>10</td>\n",
       "      <td>I can save my word and return to my notebook l...</td>\n",
       "    </tr>\n",
       "  </tbody>\n",
       "</table>\n",
       "</div>"
      ],
      "text/plain": [
       "   % of Respondents                              Third Ranked Features\n",
       "0                20  I can generate an interactive output of my cod...\n",
       "1                10                  I can upload files to my notebook\n",
       "2                10               I can write markdowns in my notebook\n",
       "3                10           I can write and edit code in my notebook\n",
       "4                10  I can integrate my notebook with a package and...\n",
       "5                10  I can save my code and return to my notebook l...\n",
       "6                10   I can choose programming language of my notebook\n",
       "7                10  I can live check my code for mistakes in my no...\n",
       "8                10  I can save my word and return to my notebook l..."
      ]
     },
     "execution_count": 77,
     "metadata": {},
     "output_type": "execute_result"
    }
   ],
   "source": [
    "import pandas as pd\n",
    "\n",
    "pd.DataFrame(graph_three_rank_lists, columns=[\"% of Respondents\", \"Third Ranked Features\"])"
   ]
  },
  {
   "cell_type": "code",
   "execution_count": 78,
   "id": "f1e55105",
   "metadata": {},
   "outputs": [
    {
     "data": {
      "image/png": "[encoded data removed]",
      "text/plain": [
       "<Figure size 432x288 with 1 Axes>"
      ]
     },
     "metadata": {
      "needs_background": "light"
     },
     "output_type": "display_data"
    }
   ],
   "source": [
    "import pandas as pd\n",
    "import matplotlib.pyplot as plt\n",
    "\n",
    "df = pd.DataFrame(graph_three_rank_lists, columns=[\"Percentage of Respondents\", \"Third Ranked Features\"])\n",
    "ax = df.plot.barh(x='Third Ranked Features', y='Percentage of Respondents', legend=False, color=['gray', 'red', 'green', 'blue', 'cyan', 'purple', 'orange'])"
   ]
  },
  {
   "cell_type": "markdown",
   "id": "e4cd7e25",
   "metadata": {},
   "source": [
    "### Notebook Features with a score of 50 to 74"
   ]
  },
  {
   "cell_type": "code",
   "execution_count": 79,
   "id": "7f1fc6c2",
   "metadata": {},
   "outputs": [],
   "source": [
    "import pyparsing as pp\n",
    "\n",
    "nice_to_have_file = open(\"nice_to_have_tests_files.txt.\", \"r\")\n",
    "read_nice_to_have_file = nice_to_have_file.readlines()\n",
    "filter_elist_read_nice_to_have_file = [ele for ele in read_nice_to_have_file if ele != '[]\\n']\n",
    "#print(filter_elist_read_nice_to_have_file)\n",
    "\n",
    "new_two_results_lists = list()\n",
    "new_two_index_lists = list()\n",
    "index_two = 0\n",
    "count_two = 0 \n",
    "for nice_to_have_results in filter_elist_read_nice_to_have_file:\n",
    "    nice_to_have = pp.common.comma_separated_list.parseString(nice_to_have_results).asList()\n",
    "    nice_to_have = [x.replace('\"', '').replace(\"'\", '').replace(',', '') for x in nice_to_have]\n",
    "    # removed all puctuation from text because parsing was challenging\n",
    "    new_two_index = (index_two, nice_to_have)\n",
    "    index_two +=1\n",
    "    new_two_index_lists.append(new_two_index)\n",
    "for new_two_index in new_two_index_lists:\n",
    "    user_two_results = (new_two_index[0], new_two_index[1]) \n",
    "    new_two_results_lists.append(user_two_results)\n",
    "\n",
    "nice_one_rank_lists = list()\n",
    "nice_two_rank_lists = list()\n",
    "nice_three_rank_lists = list()\n",
    "nice_four_rank_lists = list()\n",
    "nice_five_rank_lists = list()\n",
    "nice_six_rank_lists = list()\n",
    "nice_seven_rank_lists = list()\n",
    "nice_eight_rank_lists = list()\n",
    "nice_nine_rank_lists = list()\n",
    "nice_ten_rank_lists = list()\n",
    "nice_overall_rank_lists = list()\n",
    "\n",
    "for user_two_results in new_two_results_lists:\n",
    "    user_two_rankings = user_two_results[0]\n",
    "    user_two_answers = user_two_results[1] \n",
    "    nice_one_rank, nice_two_rank, nice_three_rank, nice_four_rank, nice_five_rank, nice_six_rank, nice_seven_rank, nice_eight_rank, nice_nine_rank, nice_ten_rank = None, None, None, None, None, None, None, None, None, None\n",
    "    try:\n",
    "        nice_one_rank = (user_two_rankings, user_two_answers[0])\n",
    "        nice_one_rank_lists.append(nice_one_rank)\n",
    "        nice_two_rank = (user_two_rankings, user_two_answers[1])\n",
    "        nice_two_rank_lists.append(nice_two_rank)\n",
    "        nice_three_rank = (user_two_rankings, user_two_answers[2])\n",
    "        nice_three_rank_lists.append(nice_three_rank)\n",
    "        nice_four_rank = (user_two_rankings, user_two_answers[3])\n",
    "        nice_four_rank_lists.append(nice_four_rank)\n",
    "        nice_five_rank = (user_two_rankings, user_two_answers[4])\n",
    "        nice_five_rank_lists.append(nice_five_rank)\n",
    "        nice_six_rank = (user_two_rankings, user_two_answers[5])\n",
    "        nice_six_rank_lists.append(nice_six_rank)\n",
    "        nice_seven_rank = (user_two_rankings, user_two_answers[6])\n",
    "        nice_seven_rank_lists.append(nice_seven_rank)\n",
    "        nice_eight_rank = (user_two_rankings, user_two_answers[7])\n",
    "        nice_eight_rank_lists.append(nice_eight_rank)\n",
    "        nice_nine_rank = (user_two_rankings, user_two_answers[8])\n",
    "        nice_nine_rank_lists.append(nice_nine_rank)\n",
    "        nice_ten_rank = (user_two_rankings, user_two_answers[9])\n",
    "        nice_ten_rank_lists.append(nice_ten_rank)\n",
    "    except IndexError:\n",
    "        pass\n",
    "    \n",
    "nice_overall_rank_lists.append(nice_one_rank_lists)\n",
    "nice_overall_rank_lists.append(nice_two_rank_lists)\n",
    "nice_overall_rank_lists.append(nice_three_rank_lists)\n",
    "nice_overall_rank_lists.append(nice_four_rank_lists)\n",
    "nice_overall_rank_lists.append(nice_five_rank_lists)\n",
    "nice_overall_rank_lists.append(nice_six_rank_lists)\n",
    "nice_overall_rank_lists.append(nice_seven_rank_lists)\n",
    "nice_overall_rank_lists.append(nice_eight_rank_lists)\n",
    "nice_overall_rank_lists.append(nice_nine_rank_lists)\n",
    "nice_overall_rank_lists.append(nice_ten_rank_lists)\n",
    "#print(overall_rank_lists)\n",
    "#list can be indexed for each ranked item"
   ]
  },
  {
   "cell_type": "code",
   "execution_count": 80,
   "id": "7d4702b8",
   "metadata": {},
   "outputs": [],
   "source": [
    "from collections import Counter\n",
    "import math\n",
    "\n",
    "#one place rankings\n",
    "\n",
    "nice_one_rank_answers_lists = list()\n",
    "nice_graph_one_rank_lists = list()\n",
    "for nice_one_ranks in nice_one_rank_lists:\n",
    "    nice_one_rank_answers_lists.append(nice_one_ranks[1])\n",
    "\n",
    "nice_one_rank_dict = Counter(nice_one_rank_answers_lists)\n",
    "\n",
    "for key, value in nice_one_rank_dict.items():\n",
    "    try:\n",
    "        percent = math.floor(((value)/len(nice_one_rank_lists)*100))\n",
    "        nice_one_rank_answers = (percent, key)\n",
    "        nice_graph_one_rank_lists.append(nice_one_rank_answers)\n",
    "    except ZeroDivisionError:\n",
    "        pass\n",
    "#print(graph_one_rank_lists)\n",
    "\n",
    "# two place rankings\n",
    "\n",
    "nice_two_rank_answers_lists = list()\n",
    "nice_graph_two_rank_lists = list()\n",
    "for nice_two_ranks in nice_two_rank_lists:\n",
    "    nice_two_rank_answers_lists.append(nice_two_ranks[1])\n",
    "\n",
    "nice_two_rank_dict = Counter(nice_two_rank_answers_lists)\n",
    "\n",
    "for key, value in nice_two_rank_dict.items():\n",
    "    try:\n",
    "        percent = math.floor(((value)/len(nice_two_rank_lists)*100))\n",
    "        nice_two_rank_answers = (percent, key)\n",
    "        nice_graph_two_rank_lists.append(nice_two_rank_answers)\n",
    "    except ZeroDivisionError:\n",
    "        pass\n",
    "#print(graph_two_rank_lists)\n",
    "\n",
    "# three place rankings\n",
    "\n",
    "nice_three_rank_answers_lists = list()\n",
    "nice_graph_three_rank_lists = list()\n",
    "for nice_three_ranks in nice_three_rank_lists:\n",
    "    nice_three_rank_answers_lists.append(nice_three_ranks[1])\n",
    "\n",
    "nice_three_rank_dict = Counter(nice_three_rank_answers_lists)\n",
    "\n",
    "for key, value in nice_three_rank_dict.items():\n",
    "    try:\n",
    "        percent = math.floor(((value)/len(nice_three_rank_lists)*100))\n",
    "        nice_three_rank_answers = (percent, key)\n",
    "        nice_graph_three_rank_lists.append(nice_three_rank_answers)\n",
    "    except ZeroDivisionError:\n",
    "        pass\n",
    "#print(graph_three_rank_lists)\n",
    "\n",
    "\n",
    "# four place rankings\n",
    "\n",
    "nice_four_rank_answers_lists = list()\n",
    "nice_graph_four_rank_lists = list()\n",
    "for nice_four_ranks in nice_four_rank_lists:\n",
    "    nice_four_rank_answers_lists.append(nice_four_ranks[1])\n",
    "\n",
    "nice_four_rank_dict = Counter(nice_four_rank_answers_lists)\n",
    "\n",
    "for key, value in nice_four_rank_dict.items():\n",
    "    try:\n",
    "        percent = math.floor(((value)/len(nice_four_rank_lists)*100))\n",
    "        nice_four_rank_answers = (percent, key)\n",
    "        nice_graph_four_rank_lists.append(nice_four_rank_answers)\n",
    "    except ZeroDivisionError:\n",
    "        pass\n",
    "#print(graph_four_rank_lists)\n",
    "\n",
    "# five place rankings\n",
    "\n",
    "nice_five_rank_answers_lists = list()\n",
    "nice_graph_five_rank_lists = list()\n",
    "for nice_five_ranks in nice_five_rank_lists:\n",
    "    nice_five_rank_answers_lists.append(nice_five_ranks[1])\n",
    "\n",
    "nice_five_rank_dict = Counter(nice_five_rank_answers_lists)\n",
    "\n",
    "for key, value in nice_five_rank_dict.items():\n",
    "    try:\n",
    "        percent = math.floor(((value)/len(nice_five_rank_lists)*100))\n",
    "        nice_five_rank_answers = (percent, key)\n",
    "        nice_graph_five_rank_lists.append(nice_five_rank_answers)\n",
    "    except ZeroDivisionError:\n",
    "        pass\n",
    "#print(graph_five_rank_lists)\n",
    "\n",
    "# six place rankings\n",
    "\n",
    "nice_six_rank_answers_lists = list()\n",
    "nice_graph_six_rank_lists = list()\n",
    "for nice_six_ranks in nice_six_rank_lists:\n",
    "    nice_six_rank_answers_lists.append(nice_six_ranks[1])\n",
    "\n",
    "nice_six_rank_dict = Counter(nice_six_rank_answers_lists)\n",
    "\n",
    "for key, value in nice_six_rank_dict.items():\n",
    "    try:\n",
    "        percent = math.floor(((value)/len(nice_six_rank_lists)*100))\n",
    "        nice_six_rank_answers = (percent, key)\n",
    "        nice_graph_six_rank_lists.append(nice_six_rank_answers)\n",
    "    except ZeroDivisionError:\n",
    "        pass\n",
    "#print(graph_six_rank_lists)\n",
    "\n",
    "# seven place rankings\n",
    "\n",
    "nice_seven_rank_answers_lists = list()\n",
    "nice_graph_seven_rank_lists = list()\n",
    "for nice_seven_ranks in nice_seven_rank_lists:\n",
    "    nice_seven_rank_answers_lists.append(nice_seven_ranks[1])\n",
    "\n",
    "nice_seven_rank_dict = Counter(nice_seven_rank_answers_lists)\n",
    "\n",
    "for key, value in nice_seven_rank_dict.items():\n",
    "    try:\n",
    "        percent = math.floor(((value)/len(nice_seven_rank_lists)*100))\n",
    "        nice_seven_rank_answers = (percent, key)\n",
    "        nice_graph_seven_rank_lists.append(nice_seven_rank_answers)\n",
    "    except ZeroDivisionError:\n",
    "        pass\n",
    "#print(graph_seven_rank_lists)\n",
    "\n",
    "# eight place rankings\n",
    "\n",
    "nice_eight_rank_answers_lists = list()\n",
    "nice_graph_eight_rank_lists = list()\n",
    "for nice_eight_ranks in nice_eight_rank_lists:\n",
    "    nice_eight_rank_answers_lists.append(nice_eight_ranks[1])\n",
    "\n",
    "nice_eight_rank_dict = Counter(nice_eight_rank_answers_lists)\n",
    "\n",
    "for key, value in nice_eight_rank_dict.items():\n",
    "    try:\n",
    "        percent = math.floor(((value)/len(nice_eight_rank_lists)*100))\n",
    "        nice_eight_rank_answers = (percent, key)\n",
    "        nice_graph_eight_rank_lists.append(nice_eight_rank_answers)\n",
    "    except ZeroDivisionError:\n",
    "        pass\n",
    "#print(graph_eight_rank_lists)\n",
    "\n",
    "# nine place rankings\n",
    "\n",
    "nice_nine_rank_answers_lists = list()\n",
    "nice_graph_nine_rank_lists = list()\n",
    "for nice_nine_ranks in nice_nine_rank_lists:\n",
    "    nice_nine_rank_answers_lists.append(nice_nine_ranks[1])\n",
    "\n",
    "nice_nine_rank_dict = Counter(nice_nine_rank_answers_lists)\n",
    "\n",
    "for key, value in nice_nine_rank_dict.items():\n",
    "    try:\n",
    "        percent = math.floor(((value)/len(nice_nine_rank_lists)*100))\n",
    "        nice_nine_rank_answers = (percent, key)\n",
    "        nice_graph_nine_rank_lists.append(nice_nine_rank_answers)\n",
    "    except ZeroDivisionError:\n",
    "        pass\n",
    "#print(graph_nine_rank_lists)\n",
    "\n",
    "# ten place rankings\n",
    "\n",
    "nice_ten_rank_answers_lists = list()\n",
    "nice_graph_ten_rank_lists = list()\n",
    "for nice_ten_ranks in nice_nine_rank_lists:\n",
    "    nice_ten_rank_answers_lists.append(nice_ten_ranks[1])\n",
    "\n",
    "nice_ten_rank_dict = Counter(nice_ten_rank_answers_lists)\n",
    "\n",
    "for key, value in nice_ten_rank_dict.items():\n",
    "    try:\n",
    "        percent = math.floor(((value)/len(nice_ten_rank_lists)*100))\n",
    "        nice_ten_rank_answers = (percent, key)\n",
    "        nice_graph_ten_rank_lists.append(nice_ten_rank_answers)\n",
    "    except ZeroDivisionError:\n",
    "        pass\n",
    "#print(graph_ten_rank_lists)"
   ]
  },
  {
   "cell_type": "markdown",
   "id": "20a647f9",
   "metadata": {},
   "source": [
    "#### Top Ranked Notebook Features by Respondents"
   ]
  },
  {
   "cell_type": "code",
   "execution_count": 81,
   "id": "a90fcb50",
   "metadata": {},
   "outputs": [
    {
     "name": "stdout",
     "output_type": "stream",
     "text": [
      "Number of respondents: 12\n"
     ]
    }
   ],
   "source": [
    "print(\"Number of respondents:\",len(nice_one_rank_lists))"
   ]
  },
  {
   "cell_type": "code",
   "execution_count": 82,
   "id": "29cf9567",
   "metadata": {},
   "outputs": [
    {
     "data": {
      "text/html": [
       "<div>\n",
       "<style scoped>\n",
       "    .dataframe tbody tr th:only-of-type {\n",
       "        vertical-align: middle;\n",
       "    }\n",
       "\n",
       "    .dataframe tbody tr th {\n",
       "        vertical-align: top;\n",
       "    }\n",
       "\n",
       "    .dataframe thead th {\n",
       "        text-align: right;\n",
       "    }\n",
       "</style>\n",
       "<table border=\"1\" class=\"dataframe\">\n",
       "  <thead>\n",
       "    <tr style=\"text-align: right;\">\n",
       "      <th></th>\n",
       "      <th>% of Respondents</th>\n",
       "      <th>Top Ranked Features</th>\n",
       "    </tr>\n",
       "  </thead>\n",
       "  <tbody>\n",
       "    <tr>\n",
       "      <th>0</th>\n",
       "      <td>16</td>\n",
       "      <td>[I can upload files to my notebook</td>\n",
       "    </tr>\n",
       "    <tr>\n",
       "      <th>1</th>\n",
       "      <td>25</td>\n",
       "      <td>[I can choose the programming language of my n...</td>\n",
       "    </tr>\n",
       "    <tr>\n",
       "      <th>2</th>\n",
       "      <td>33</td>\n",
       "      <td>[I can integrate my notebook with pandas apach...</td>\n",
       "    </tr>\n",
       "    <tr>\n",
       "      <th>3</th>\n",
       "      <td>25</td>\n",
       "      <td>[I can upload files in different formats to my...</td>\n",
       "    </tr>\n",
       "  </tbody>\n",
       "</table>\n",
       "</div>"
      ],
      "text/plain": [
       "   % of Respondents                                Top Ranked Features\n",
       "0                16                 [I can upload files to my notebook\n",
       "1                25  [I can choose the programming language of my n...\n",
       "2                33  [I can integrate my notebook with pandas apach...\n",
       "3                25  [I can upload files in different formats to my..."
      ]
     },
     "execution_count": 82,
     "metadata": {},
     "output_type": "execute_result"
    }
   ],
   "source": [
    "import pandas as pd\n",
    "\n",
    "pd.DataFrame(nice_graph_one_rank_lists, columns=[\"% of Respondents\", \"Top Ranked Features\"])"
   ]
  },
  {
   "cell_type": "code",
   "execution_count": 83,
   "id": "5c6691e1",
   "metadata": {},
   "outputs": [
    {
     "data": {
      "image/png": "[encoded data removed]",
      "text/plain": [
       "<Figure size 432x288 with 1 Axes>"
      ]
     },
     "metadata": {
      "needs_background": "light"
     },
     "output_type": "display_data"
    }
   ],
   "source": [
    "import pandas as pd\n",
    "import matplotlib.pyplot as plt\n",
    "\n",
    "df = pd.DataFrame(nice_graph_one_rank_lists, columns=[\"Percentage of Respondents\", \"Top Ranked Features\"])\n",
    "ax = df.plot.barh(x='Top Ranked Features', y='Percentage of Respondents', legend=False, color=['gray', 'red', 'green', 'blue', 'cyan', 'purple', 'orange'])"
   ]
  },
  {
   "cell_type": "markdown",
   "id": "1f92a578",
   "metadata": {},
   "source": [
    "#### Second Ranked Notebook Features by respondents"
   ]
  },
  {
   "cell_type": "code",
   "execution_count": 84,
   "id": "0fec6ad2",
   "metadata": {},
   "outputs": [
    {
     "name": "stdout",
     "output_type": "stream",
     "text": [
      "Number of respondents: 12\n"
     ]
    }
   ],
   "source": [
    "print(\"Number of respondents:\",len(nice_two_rank_lists))"
   ]
  },
  {
   "cell_type": "code",
   "execution_count": 85,
   "id": "582f8feb",
   "metadata": {},
   "outputs": [
    {
     "data": {
      "text/html": [
       "<div>\n",
       "<style scoped>\n",
       "    .dataframe tbody tr th:only-of-type {\n",
       "        vertical-align: middle;\n",
       "    }\n",
       "\n",
       "    .dataframe tbody tr th {\n",
       "        vertical-align: top;\n",
       "    }\n",
       "\n",
       "    .dataframe thead th {\n",
       "        text-align: right;\n",
       "    }\n",
       "</style>\n",
       "<table border=\"1\" class=\"dataframe\">\n",
       "  <thead>\n",
       "    <tr style=\"text-align: right;\">\n",
       "      <th></th>\n",
       "      <th>% of Respondents</th>\n",
       "      <th>Second Ranked Features</th>\n",
       "    </tr>\n",
       "  </thead>\n",
       "  <tbody>\n",
       "    <tr>\n",
       "      <th>0</th>\n",
       "      <td>16</td>\n",
       "      <td>I can choose the programming language of my no...</td>\n",
       "    </tr>\n",
       "    <tr>\n",
       "      <th>1</th>\n",
       "      <td>8</td>\n",
       "      <td>I can write markdowns in my notebook</td>\n",
       "    </tr>\n",
       "    <tr>\n",
       "      <th>2</th>\n",
       "      <td>41</td>\n",
       "      <td>I can upload files to my notebook</td>\n",
       "    </tr>\n",
       "    <tr>\n",
       "      <th>3</th>\n",
       "      <td>8</td>\n",
       "      <td>I can live check my code for mistakes in my no...</td>\n",
       "    </tr>\n",
       "    <tr>\n",
       "      <th>4</th>\n",
       "      <td>8</td>\n",
       "      <td>I can write magic commands in my notebook</td>\n",
       "    </tr>\n",
       "    <tr>\n",
       "      <th>5</th>\n",
       "      <td>16</td>\n",
       "      <td>I can choose programming language of my notebook</td>\n",
       "    </tr>\n",
       "  </tbody>\n",
       "</table>\n",
       "</div>"
      ],
      "text/plain": [
       "   % of Respondents                             Second Ranked Features\n",
       "0                16  I can choose the programming language of my no...\n",
       "1                 8               I can write markdowns in my notebook\n",
       "2                41                  I can upload files to my notebook\n",
       "3                 8  I can live check my code for mistakes in my no...\n",
       "4                 8          I can write magic commands in my notebook\n",
       "5                16   I can choose programming language of my notebook"
      ]
     },
     "execution_count": 85,
     "metadata": {},
     "output_type": "execute_result"
    }
   ],
   "source": [
    "import pandas as pd\n",
    "\n",
    "pd.DataFrame(nice_graph_two_rank_lists, columns=[\"% of Respondents\", \"Second Ranked Features\"])"
   ]
  },
  {
   "cell_type": "code",
   "execution_count": 86,
   "id": "f581e7f0",
   "metadata": {},
   "outputs": [
    {
     "data": {
      "image/png": "[encoded data removed]",
      "text/plain": [
       "<Figure size 432x288 with 1 Axes>"
      ]
     },
     "metadata": {
      "needs_background": "light"
     },
     "output_type": "display_data"
    }
   ],
   "source": [
    "import pandas as pd\n",
    "import matplotlib.pyplot as plt\n",
    "\n",
    "df = pd.DataFrame(nice_graph_two_rank_lists, columns=[\"Percentage of Respondents\", \"Second Ranked Features\"])\n",
    "ax = df.plot.barh(x='Second Ranked Features', y='Percentage of Respondents', legend=False, color=['gray', 'red', 'green', 'blue', 'cyan', 'purple', 'orange'])"
   ]
  },
  {
   "cell_type": "markdown",
   "id": "fa9b92c6",
   "metadata": {},
   "source": [
    "#### Third Ranked Notebook Features by Respondents"
   ]
  },
  {
   "cell_type": "code",
   "execution_count": 87,
   "id": "aa90632d",
   "metadata": {},
   "outputs": [
    {
     "name": "stdout",
     "output_type": "stream",
     "text": [
      "Number of respondents: 12\n"
     ]
    }
   ],
   "source": [
    "print(\"Number of respondents:\",len(nice_three_rank_lists))"
   ]
  },
  {
   "cell_type": "code",
   "execution_count": 88,
   "id": "6146a187",
   "metadata": {},
   "outputs": [
    {
     "data": {
      "text/html": [
       "<div>\n",
       "<style scoped>\n",
       "    .dataframe tbody tr th:only-of-type {\n",
       "        vertical-align: middle;\n",
       "    }\n",
       "\n",
       "    .dataframe tbody tr th {\n",
       "        vertical-align: top;\n",
       "    }\n",
       "\n",
       "    .dataframe thead th {\n",
       "        text-align: right;\n",
       "    }\n",
       "</style>\n",
       "<table border=\"1\" class=\"dataframe\">\n",
       "  <thead>\n",
       "    <tr style=\"text-align: right;\">\n",
       "      <th></th>\n",
       "      <th>% of Respondents</th>\n",
       "      <th>Third Ranked Features</th>\n",
       "    </tr>\n",
       "  </thead>\n",
       "  <tbody>\n",
       "    <tr>\n",
       "      <th>0</th>\n",
       "      <td>16</td>\n",
       "      <td>I can write markdowns in my notebook</td>\n",
       "    </tr>\n",
       "    <tr>\n",
       "      <th>1</th>\n",
       "      <td>25</td>\n",
       "      <td>I can write Bash commands in my notebook</td>\n",
       "    </tr>\n",
       "    <tr>\n",
       "      <th>2</th>\n",
       "      <td>16</td>\n",
       "      <td>I can integrate my notebook with a package and...</td>\n",
       "    </tr>\n",
       "    <tr>\n",
       "      <th>3</th>\n",
       "      <td>8</td>\n",
       "      <td>I can share my notebook content via email and ...</td>\n",
       "    </tr>\n",
       "    <tr>\n",
       "      <th>4</th>\n",
       "      <td>16</td>\n",
       "      <td>I can live check my code for mistakes in my no...</td>\n",
       "    </tr>\n",
       "    <tr>\n",
       "      <th>5</th>\n",
       "      <td>16</td>\n",
       "      <td>I can write and edit code in my notebook</td>\n",
       "    </tr>\n",
       "  </tbody>\n",
       "</table>\n",
       "</div>"
      ],
      "text/plain": [
       "   % of Respondents                              Third Ranked Features\n",
       "0                16               I can write markdowns in my notebook\n",
       "1                25           I can write Bash commands in my notebook\n",
       "2                16  I can integrate my notebook with a package and...\n",
       "3                 8  I can share my notebook content via email and ...\n",
       "4                16  I can live check my code for mistakes in my no...\n",
       "5                16           I can write and edit code in my notebook"
      ]
     },
     "execution_count": 88,
     "metadata": {},
     "output_type": "execute_result"
    }
   ],
   "source": [
    "import pandas as pd\n",
    "\n",
    "pd.DataFrame(nice_graph_three_rank_lists, columns=[\"% of Respondents\", \"Third Ranked Features\"])"
   ]
  },
  {
   "cell_type": "code",
   "execution_count": 89,
   "id": "940da9d9",
   "metadata": {},
   "outputs": [
    {
     "data": {
      "image/png": "[encoded data removed]",
      "text/plain": [
       "<Figure size 432x288 with 1 Axes>"
      ]
     },
     "metadata": {
      "needs_background": "light"
     },
     "output_type": "display_data"
    }
   ],
   "source": [
    "import pandas as pd\n",
    "import matplotlib.pyplot as plt\n",
    "\n",
    "df = pd.DataFrame(nice_graph_three_rank_lists, columns=[\"Percentage of Respondents\", \"Third Ranked Features\"])\n",
    "ax = df.plot.barh(x='Third Ranked Features', y='Percentage of Respondents', legend=False, color=['gray', 'red', 'green', 'blue', 'cyan', 'purple', 'orange'])"
   ]
  }
 ],
 "metadata": {
  "kernelspec": {
   "display_name": "Python 3 (ipykernel)",
   "language": "python",
   "name": "python3"
  },
  "language_info": {
   "codemirror_mode": {
    "name": "ipython",
    "version": 3
   },
   "file_extension": ".py",
   "mimetype": "text/x-python",
   "name": "python",
   "nbconvert_exporter": "python",
   "pygments_lexer": "ipython3",
   "version": "3.9.12"
  }
 },
 "nbformat": 4,
 "nbformat_minor": 5
}
