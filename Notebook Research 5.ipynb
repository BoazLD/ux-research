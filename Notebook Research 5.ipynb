{
 "cells": [
  {
   "cell_type": "markdown",
   "id": "9b4c270f",
   "metadata": {
    "tags": []
   },
   "source": [
    "# MyB👀K\n",
    "#  📗  NOTEBOOK RESEARCH "
   ]
  },
  {
   "cell_type": "markdown",
   "id": "1845dde4",
   "metadata": {},
   "source": [
    "#### Run all cells"
   ]
  },
  {
   "cell_type": "code",
   "execution_count": 1,
   "id": "d269bdd5",
   "metadata": {},
   "outputs": [
    {
     "data": {
      "text/html": [
       "<script>\n",
       "code_show=true; \n",
       "function code_toggle() {\n",
       " if (code_show){\n",
       " $('div.input').hide();\n",
       " } else {\n",
       " $('div.input').show();\n",
       " }\n",
       " code_show = !code_show\n",
       "} \n",
       "$( document ).ready(code_toggle);\n",
       "</script>\n",
       "<form action=\"javascript:code_toggle()\"><input type=\"submit\" value=\"Click here to toggle on/off the raw code.\"></form>"
      ],
      "text/plain": [
       "<IPython.core.display.HTML object>"
      ]
     },
     "execution_count": 1,
     "metadata": {},
     "output_type": "execute_result"
    }
   ],
   "source": [
    "from IPython.display import HTML\n",
    "\n",
    "HTML('''<script>\n",
    "code_show=true; \n",
    "function code_toggle() {\n",
    " if (code_show){\n",
    " $('div.input').hide();\n",
    " } else {\n",
    " $('div.input').show();\n",
    " }\n",
    " code_show = !code_show\n",
    "} \n",
    "$( document ).ready(code_toggle);\n",
    "</script>\n",
    "<form action=\"javascript:code_toggle()\"><input type=\"submit\" value=\"Click here to toggle on/off the raw code.\"></form>''')"
   ]
  },
  {
   "cell_type": "code",
   "execution_count": 2,
   "id": "815c2a58",
   "metadata": {},
   "outputs": [
    {
     "data": {
      "application/vnd.jupyter.widget-view+json": {
       "model_id": "0e508310d541424eab5080bf603432a3",
       "version_major": 2,
       "version_minor": 0
      },
      "text/plain": [
       "Button(description='Start Survey', style=ButtonStyle())"
      ]
     },
     "metadata": {},
     "output_type": "display_data"
    }
   ],
   "source": [
    "from IPython.display import Javascript, display\n",
    "from ipywidgets import widgets\n",
    "\n",
    "def run_all(ev):\n",
    "    display(Javascript('IPython.notebook.execute_cell_range(IPython.notebook.get_selected_index()+1, IPython.notebook.ncells())'))\n",
    "\n",
    "button = widgets.Button(description=\"Start Survey\")\n",
    "button.on_click(run_all)\n",
    "display(button)"
   ]
  },
  {
   "cell_type": "markdown",
   "id": "5ffff3c0",
   "metadata": {},
   "source": [
    "####  ⚠️ PLEASE ANSWER THE FOLLOWING QUESTIONS AS ACCURATELY AS POSSIBLE"
   ]
  },
  {
   "cell_type": "markdown",
   "id": "e439c89d",
   "metadata": {},
   "source": [
    "## ⚒️ Setting up Your Notebook \n",
    "### When setting up your notebook to begin your data project, please rank the following features in order of importance to you, where 4 is most important and 1 is least important  \n",
    "#### Note: each ranking can only be used once  "
   ]
  },
  {
   "cell_type": "code",
   "execution_count": 3,
   "id": "7bc4d47e",
   "metadata": {},
   "outputs": [
    {
     "data": {
      "application/vnd.jupyter.widget-view+json": {
       "model_id": "5dc0d7cdda6949b3a36281e20e63240c",
       "version_major": 2,
       "version_minor": 0
      },
      "text/plain": [
       "Dropdown(description='I can integrate my notebook with a package and environment manager like Conda or pip', l…"
      ]
     },
     "metadata": {},
     "output_type": "display_data"
    },
    {
     "data": {
      "application/vnd.jupyter.widget-view+json": {
       "model_id": "4d1939bede354d379c48dea32dccae4d",
       "version_major": 2,
       "version_minor": 0
      },
      "text/plain": [
       "Dropdown(description='I can upload data files in different formats to my notebook', layout=Layout(height='40px…"
      ]
     },
     "metadata": {},
     "output_type": "display_data"
    },
    {
     "data": {
      "application/vnd.jupyter.widget-view+json": {
       "model_id": "55f18d1941224afe84c42219efc174fc",
       "version_major": 2,
       "version_minor": 0
      },
      "text/plain": [
       "Dropdown(description='I can choose the programming language of my notebook', layout=Layout(height='40px', widt…"
      ]
     },
     "metadata": {},
     "output_type": "display_data"
    },
    {
     "data": {
      "application/vnd.jupyter.widget-view+json": {
       "model_id": "416f8a714de84e959eac05e7399fe5c5",
       "version_major": 2,
       "version_minor": 0
      },
      "text/plain": [
       "Dropdown(description='I can import data analysis packages like Pandas, Apache spark, or TensorFlow to my noteb…"
      ]
     },
     "metadata": {},
     "output_type": "display_data"
    }
   ],
   "source": [
    "import ipywidgets as widgets\n",
    "\n",
    "layout = widgets.Layout(width='auto', height='40px')\n",
    "\n",
    "rank = 1\n",
    "drop_down = widgets.Dropdown(options=[\"Please select rank\",1,2,3,4],\n",
    "                                description='I can integrate my notebook with a package and environment manager like Conda or pip',\n",
    "                                disabled=False,\n",
    "                                display='flex',\n",
    "                                flex_flow='column',\n",
    "                                align_items='stretch',\n",
    "                                style= {'description_width': 'initial'},\n",
    "                                layout = layout)\n",
    "\n",
    "setup_rank_manager_lists = list()\n",
    "def ranking_calculator(change):\n",
    "    global rank\n",
    "    #print(\"Item_A ranking:\", change.new)\n",
    "    rank = change.new\n",
    "    if rank == 1:\n",
    "        rank = 1\n",
    "    elif rank == 2:\n",
    "        rank = 2\n",
    "    elif rank == 3:\n",
    "        rank = 3\n",
    "    elif rank == 4:\n",
    "        rank = 4\n",
    "    else:\n",
    "        rank = 0\n",
    "    max_score = 4\n",
    "    setup_rank_manager = (rank / max_score)*100\n",
    "    setup_rank_manager_lists.append(setup_rank_manager)\n",
    "    #print(setup_rank_manager_lists)\n",
    "    #print(\"manager_rank score:\", setup_rank_manager)\n",
    "drop_down.observe(ranking_calculator, names='value')\n",
    "display(drop_down)\n",
    "\n",
    "rank = 1\n",
    "drop_down = widgets.Dropdown(options=[\"Please select rank\",1,2,3,4],\n",
    "                                description='I can upload data files in different formats to my notebook',\n",
    "                                disabled=False,\n",
    "                                display='flex',\n",
    "                                flex_flow='column',\n",
    "                                align_items='stretch',\n",
    "                                style= {'description_width': 'initial'},\n",
    "                                layout = layout)\n",
    "\n",
    "setup_rank_upload_lists = list()\n",
    "def ranking_calculator(change):\n",
    "    global rank\n",
    "    #print(\"Item_B ranking:\", change.new)\n",
    "    rank = change.new\n",
    "    if rank == 1:\n",
    "        rank = 1\n",
    "    elif rank == 2:\n",
    "        rank = 2\n",
    "    elif rank == 3:\n",
    "        rank = 3\n",
    "    elif rank == 4:\n",
    "        rank = 4\n",
    "    else:\n",
    "        rank = 0\n",
    "    max_score = 4\n",
    "    setup_rank_upload = (rank / max_score)*100\n",
    "    setup_rank_upload_lists.append(setup_rank_upload)\n",
    "    #print(setup_rank_upload_lists)\n",
    "    #print(\"upload_rank score:\", setup_rank_upload)\n",
    "drop_down.observe(ranking_calculator, names='value')\n",
    "display(drop_down)\n",
    "\n",
    "rank = 1\n",
    "drop_down = widgets.Dropdown(options=[\"Please select rank\",1,2,3,4],\n",
    "                                description='I can choose the programming language of my notebook',\n",
    "                                disabled=False,\n",
    "                                display='flex',\n",
    "                                flex_flow='column',\n",
    "                                align_items='stretch',\n",
    "                                style= {'description_width': 'initial'},\n",
    "                                layout = layout)\n",
    "setup_rank_language_lists = list()\n",
    "def ranking_calculator(change):\n",
    "    global rank\n",
    "    #print(\"Item_C ranking:\", change.new)\n",
    "    rank = change.new\n",
    "    if rank == 1:\n",
    "        rank = 1\n",
    "    elif rank == 2:\n",
    "        rank = 2\n",
    "    elif rank == 3:\n",
    "        rank = 3\n",
    "    elif rank == 4:\n",
    "        rank = 4\n",
    "    else:\n",
    "        rank = 0\n",
    "    max_score = 4\n",
    "    setup_rank_language = (rank / max_score)*100\n",
    "    setup_rank_language_lists.append(setup_rank_language)\n",
    "    #print(setup_rank_language_lists)\n",
    "    #print(\"language_rank score:\", setup_rank_language)\n",
    "drop_down.observe(ranking_calculator, names='value')\n",
    "display(drop_down)\n",
    "\n",
    "rank = 1\n",
    "drop_down = widgets.Dropdown(options=[\"Please select rank\",1,2,3,4],\n",
    "                                description='I can import data analysis packages like Pandas, Apache spark, or TensorFlow to my notebook',\n",
    "                                disabled=False,\n",
    "                                display='flex',\n",
    "                                flex_flow='column',\n",
    "                                align_items='stretch',\n",
    "                                style= {'description_width': 'initial'},\n",
    "                                layout = layout)\n",
    "\n",
    "setup_rank_data_lists = list()\n",
    "def ranking_calculator(change):\n",
    "    global rank\n",
    "    #print(\"Item_D ranking:\", change.new)\n",
    "    rank = change.new\n",
    "    if rank == 1:\n",
    "        rank = 1\n",
    "    elif rank == 2:\n",
    "        rank = 2\n",
    "    elif rank == 3:\n",
    "        rank = 3\n",
    "    elif rank == 4:\n",
    "        rank = 4\n",
    "    else:\n",
    "        rank = 0\n",
    "    max_score = 4\n",
    "    setup_rank_data = (rank / max_score)*100\n",
    "    setup_rank_data_lists.append(setup_rank_data)\n",
    "    #print(setup_rank_data_lists)\n",
    "    #print(\"data_rank score:\", setup_rank_data)\n",
    "drop_down.observe(ranking_calculator, names='value')\n",
    "display(drop_down)"
   ]
  },
  {
   "cell_type": "markdown",
   "id": "9f168f5f",
   "metadata": {},
   "source": [
    "### When setting up your notebook to begin your data project, how important are the following features to you?"
   ]
  },
  {
   "cell_type": "code",
   "execution_count": 4,
   "id": "eafc351d",
   "metadata": {},
   "outputs": [
    {
     "data": {
      "application/vnd.jupyter.widget-view+json": {
       "model_id": "84700ad4d7864f7aad8a0bbc663c95bb",
       "version_major": 2,
       "version_minor": 0
      },
      "text/plain": [
       "Dropdown(description='I can integrate my notebook with a package and environment manager like Conda or pip', l…"
      ]
     },
     "metadata": {},
     "output_type": "display_data"
    },
    {
     "data": {
      "application/vnd.jupyter.widget-view+json": {
       "model_id": "da5e4b1e7383419397d0830774337a57",
       "version_major": 2,
       "version_minor": 0
      },
      "text/plain": [
       "Dropdown(description='I can upload data files in different formats to my notebook', layout=Layout(height='40px…"
      ]
     },
     "metadata": {},
     "output_type": "display_data"
    },
    {
     "data": {
      "application/vnd.jupyter.widget-view+json": {
       "model_id": "ca36103280104099a548f0251d77a729",
       "version_major": 2,
       "version_minor": 0
      },
      "text/plain": [
       "Dropdown(description='I can choose the programmming language of my notebook', layout=Layout(height='40px', wid…"
      ]
     },
     "metadata": {},
     "output_type": "display_data"
    },
    {
     "data": {
      "application/vnd.jupyter.widget-view+json": {
       "model_id": "b3ba10a7c21148f98194345a40f08178",
       "version_major": 2,
       "version_minor": 0
      },
      "text/plain": [
       "Dropdown(description='I import data analysis packages like Pandas, Apache spark, or TensorFlow to my notebook'…"
      ]
     },
     "metadata": {},
     "output_type": "display_data"
    }
   ],
   "source": [
    "import ipywidgets as widgets\n",
    "\n",
    "layout = widgets.Layout(width='auto', height='40px')\n",
    "\n",
    "rank = 1\n",
    "drop_down = widgets.Dropdown(options=[\"Please select\",\"not at all important\",\"low importance\",\"neutral\",\"important\", \"very important\"],\n",
    "                                description='I can integrate my notebook with a package and environment manager like Conda or pip',\n",
    "                                disabled=False,\n",
    "                                display='flex',\n",
    "                                flex_flow='column',\n",
    "                                align_items='stretch',\n",
    "                                style= {'description_width': 'initial'},\n",
    "                                layout = layout)\n",
    "\n",
    "setup_scale_manager_lists = list()\n",
    "def scale_calculator(change):\n",
    "    global rank\n",
    "    #print(\"Item_A ranking:\", change.new)\n",
    "    rank = change.new\n",
    "    if rank == \"not at all important\":\n",
    "        rank = 1\n",
    "    elif rank == \"low importance\":\n",
    "        rank = 2\n",
    "    elif rank == \"neutral\":\n",
    "        rank = 3\n",
    "    elif rank == \"important\":\n",
    "        rank = 4\n",
    "    elif rank == \"very important\":\n",
    "        rank = 5\n",
    "    else:\n",
    "        rank = 0\n",
    "    max_score = 5\n",
    "    setup_scale_manager = (rank / max_score)*100\n",
    "    setup_scale_manager_lists.append(setup_scale_manager)\n",
    "    #print(setup_scale_manager_lists)\n",
    "    #print(\"manager_scale score:\", setup_scale_manager)\n",
    "drop_down.observe(scale_calculator, names='value')\n",
    "display(drop_down)\n",
    "\n",
    "rank = 1\n",
    "drop_down = widgets.Dropdown(options=[\"Please select\",\"not at all important\",\"low importance\",\"neutral\",\"important\", \"very important\"],\n",
    "                                description='I can upload data files in different formats to my notebook',\n",
    "                                disabled=False,\n",
    "                                display='flex',\n",
    "                                flex_flow='column',\n",
    "                                align_items='stretch',\n",
    "                                style= {'description_width': 'initial'},\n",
    "                                layout = layout)\n",
    "\n",
    "setup_scale_upload_lists = list()\n",
    "def scale_calculator(change):\n",
    "    global rank\n",
    "    #print(\"Item_B ranking:\", change.new)\n",
    "    rank = change.new\n",
    "    if rank == \"not at all important\":\n",
    "        rank = 1\n",
    "    elif rank == \"low importance\":\n",
    "        rank = 2\n",
    "    elif rank == \"neutral\":\n",
    "        rank = 3\n",
    "    elif rank == \"important\":\n",
    "        rank = 4\n",
    "    elif rank == \"very important\":\n",
    "        rank = 5\n",
    "    else:\n",
    "        rank = 0\n",
    "    max_score = 5\n",
    "    setup_scale_upload = (rank / max_score)*100\n",
    "    setup_scale_upload_lists.append(setup_scale_upload)\n",
    "    #print(setup_scale_upload_lists)\n",
    "    #print(\"upload_scale score:\", setup_scale_upload)\n",
    "drop_down.observe(scale_calculator, names='value')\n",
    "display(drop_down)\n",
    "\n",
    "rank = 1\n",
    "drop_down = widgets.Dropdown(options=[\"Please select\",\"not at all important\",\"low importance\",\"neutral\",\"important\", \"very important\"],\n",
    "                                description='I can choose the programmming language of my notebook',\n",
    "                                disabled=False,\n",
    "                                display='flex',\n",
    "                                flex_flow='column',\n",
    "                                align_items='stretch',\n",
    "                                style= {'description_width': 'initial'},\n",
    "                                layout = layout)\n",
    "\n",
    "setup_scale_language_lists = list()\n",
    "def scale_calculator(change):\n",
    "    global rank\n",
    "    #print(\"Item_C ranking:\", change.new)\n",
    "    rank = change.new\n",
    "    if rank == \"not at all important\":\n",
    "        rank = 1\n",
    "    elif rank == \"low importance\":\n",
    "        rank = 2\n",
    "    elif rank == \"neutral\":\n",
    "        rank = 3\n",
    "    elif rank == \"important\":\n",
    "        rank = 4\n",
    "    elif rank == \"very important\":\n",
    "        rank = 5\n",
    "    else:\n",
    "        rank = 0\n",
    "    max_score = 5\n",
    "    setup_scale_language = (rank / max_score)*100\n",
    "    setup_scale_language_lists.append(setup_scale_language)\n",
    "    #print(setup_scale_language_lists)\n",
    "    #print(\"language_scale score:\", setup_scale_language)\n",
    "drop_down.observe(scale_calculator, names='value')\n",
    "display(drop_down)\n",
    "\n",
    "rank = 1\n",
    "drop_down = widgets.Dropdown(options=[\"Please select\",\"not at all important\",\"low importance\",\"neutral\",\"important\", \"very important\"],\n",
    "                                description='I import data analysis packages like Pandas, Apache spark, or TensorFlow to my notebook',\n",
    "                                disabled=False,\n",
    "                                display='flex',\n",
    "                                flex_flow='column',\n",
    "                                align_items='stretch',\n",
    "                                style= {'description_width': 'initial'},\n",
    "                                layout = layout)\n",
    "\n",
    "setup_scale_data_lists = list()\n",
    "def scale_calculator(change):\n",
    "    global rank\n",
    "    #print(\"Item_D ranking:\", change.new)\n",
    "    rank = change.new\n",
    "    if rank == \"not at all important\":\n",
    "        rank = 1\n",
    "    elif rank == \"low importance\":\n",
    "        rank = 2\n",
    "    elif rank == \"neutral\":\n",
    "        rank = 3\n",
    "    elif rank == \"important\":\n",
    "        rank = 4\n",
    "    elif rank == \"very important\":\n",
    "        rank = 5\n",
    "    else:\n",
    "        rank = 0\n",
    "    max_score = 5\n",
    "    setup_scale_data = (rank / max_score)*100\n",
    "    setup_scale_data_lists.append(setup_scale_data)\n",
    "    #print(setup_scale_data_lists)\n",
    "    #print(\"data_scale score:\", setup_scale_data)\n",
    "drop_down.observe(scale_calculator, names='value')\n",
    "display(drop_down)"
   ]
  },
  {
   "cell_type": "markdown",
   "id": "969a3bba",
   "metadata": {},
   "source": [
    "##  💻 Coding and Editing in Your Notebook "
   ]
  },
  {
   "cell_type": "markdown",
   "id": "117004ed",
   "metadata": {},
   "source": [
    "### When working in your notebook, please rank the following features in order of importance to you, where 7 is most important and 1 is least important  \n",
    "#### Note: each ranking can only be used once "
   ]
  },
  {
   "cell_type": "code",
   "execution_count": 5,
   "id": "4a261e3e",
   "metadata": {},
   "outputs": [
    {
     "data": {
      "application/vnd.jupyter.widget-view+json": {
       "model_id": "aea1a13cbfd04eeca3307e0865ff6866",
       "version_major": 2,
       "version_minor": 0
      },
      "text/plain": [
       "Dropdown(description='I can write and edit code in my prefered programming language in my notebook', layout=La…"
      ]
     },
     "metadata": {},
     "output_type": "display_data"
    },
    {
     "data": {
      "application/vnd.jupyter.widget-view+json": {
       "model_id": "ace073d601074673bc71ef81130b4e1c",
       "version_major": 2,
       "version_minor": 0
      },
      "text/plain": [
       "Dropdown(description='I can live check my code for mistakes in my notebook', layout=Layout(height='40px', widt…"
      ]
     },
     "metadata": {},
     "output_type": "display_data"
    },
    {
     "data": {
      "application/vnd.jupyter.widget-view+json": {
       "model_id": "47cfd78cd4e4482b92757315217e9892",
       "version_major": 2,
       "version_minor": 0
      },
      "text/plain": [
       "Dropdown(description='I can generate an interactive output of my code in my notebook', layout=Layout(height='4…"
      ]
     },
     "metadata": {},
     "output_type": "display_data"
    },
    {
     "data": {
      "application/vnd.jupyter.widget-view+json": {
       "model_id": "6d50308c23f24cd3a46de1e841ece06c",
       "version_major": 2,
       "version_minor": 0
      },
      "text/plain": [
       "Dropdown(description='I can save my work and return to my notebook later', layout=Layout(height='40px', width=…"
      ]
     },
     "metadata": {},
     "output_type": "display_data"
    },
    {
     "data": {
      "application/vnd.jupyter.widget-view+json": {
       "model_id": "c8c134e080964d54965644df2c603377",
       "version_major": 2,
       "version_minor": 0
      },
      "text/plain": [
       "Dropdown(description='I can write markdown text in my notebook', layout=Layout(height='40px', width='auto'), o…"
      ]
     },
     "metadata": {},
     "output_type": "display_data"
    },
    {
     "data": {
      "application/vnd.jupyter.widget-view+json": {
       "model_id": "54cd0f9582a34c79b42c85678468118a",
       "version_major": 2,
       "version_minor": 0
      },
      "text/plain": [
       "Dropdown(description='I can run Bash commands in my notebook', layout=Layout(height='40px', width='auto'), opt…"
      ]
     },
     "metadata": {},
     "output_type": "display_data"
    },
    {
     "data": {
      "application/vnd.jupyter.widget-view+json": {
       "model_id": "7143e710c9604d4280a196bcee13ec1f",
       "version_major": 2,
       "version_minor": 0
      },
      "text/plain": [
       "Dropdown(description='I can run magic commands in my notebook', layout=Layout(height='40px', width='auto'), op…"
      ]
     },
     "metadata": {},
     "output_type": "display_data"
    }
   ],
   "source": [
    "import ipywidgets as widgets\n",
    "\n",
    "layout = widgets.Layout(width='auto', height='40px')\n",
    "\n",
    "rank = 1\n",
    "drop_down = widgets.Dropdown(options=[\"Please select rank\",1,2,3,4,5,6,7],\n",
    "                                description='I can write and edit code in my prefered programming language in my notebook',\n",
    "                                disabled=False,\n",
    "                                display='flex',\n",
    "                                flex_flow='column',\n",
    "                                align_items='stretch',\n",
    "                                style= {'description_width': 'initial'},\n",
    "                                layout = layout)\n",
    "\n",
    "coding_rank_write_lists = list()\n",
    "def ranking_calculator(change):\n",
    "    global rank\n",
    "    #print(\"Item_A ranking:\", change.new)\n",
    "    rank = change.new\n",
    "    if rank == 1:\n",
    "        rank = 1\n",
    "    elif rank == 2:\n",
    "        rank = 2\n",
    "    elif rank == 3:\n",
    "        rank = 3\n",
    "    elif rank == 4:\n",
    "        rank = 4\n",
    "    elif rank ==5:\n",
    "        rank = 5\n",
    "    elif rank == 6:\n",
    "        rank = 6\n",
    "    elif rank == 7:\n",
    "        rank = 7\n",
    "    else:\n",
    "        rank = 0\n",
    "    max_score = 7\n",
    "    coding_rank_write = (rank / max_score)*100\n",
    "    coding_rank_write_lists.append(coding_rank_write)\n",
    "    #print(coding_rank_write_lists)\n",
    "    #print(\"write_rank score:\", coding_rank_write)\n",
    "drop_down.observe(ranking_calculator, names='value')\n",
    "display(drop_down)\n",
    "\n",
    "rank = 1\n",
    "drop_down = widgets.Dropdown(options=[\"Please select rank\",1,2,3,4,5,6,7],\n",
    "                                description='I can live check my code for mistakes in my notebook',\n",
    "                                disabled=False,\n",
    "                                display='flex',\n",
    "                                flex_flow='column',\n",
    "                                align_items='stretch',\n",
    "                                style= {'description_width': 'initial'},\n",
    "                                layout = layout)\n",
    "\n",
    "coding_rank_check_lists = list()\n",
    "def ranking_calculator(change):\n",
    "    global rank\n",
    "    #print(\"Item_A ranking:\", change.new)\n",
    "    rank = change.new\n",
    "    if rank == 1:\n",
    "        rank = 1\n",
    "    elif rank == 2:\n",
    "        rank = 2\n",
    "    elif rank == 3:\n",
    "        rank = 3\n",
    "    elif rank == 4:\n",
    "        rank = 4\n",
    "    elif rank ==5:\n",
    "        rank = 5\n",
    "    elif rank == 6:\n",
    "        rank = 6\n",
    "    elif rank == 7:\n",
    "        rank = 7\n",
    "    else:\n",
    "        rank = 0\n",
    "    max_score = 7\n",
    "    coding_rank_check = (rank / max_score)*100\n",
    "    coding_rank_check_lists.append(coding_rank_check)\n",
    "    #print(coding_rank_check_lists)\n",
    "    #print(\"check_rank score:\", coding_rank_check)\n",
    "drop_down.observe(ranking_calculator, names='value')\n",
    "display(drop_down)\n",
    "\n",
    "rank = 1\n",
    "drop_down = widgets.Dropdown(options=[\"Please select rank\",1,2,3,4,5,6,7],\n",
    "                                description='I can generate an interactive output of my code in my notebook',\n",
    "                                disabled=False,\n",
    "                                display='flex',\n",
    "                                flex_flow='column',\n",
    "                                align_items='stretch',\n",
    "                                style= {'description_width': 'initial'},\n",
    "                                layout = layout)\n",
    "\n",
    "coding_rank_output_lists = list()\n",
    "def ranking_calculator(change):\n",
    "    global rank\n",
    "    #print(\"Item_A ranking:\", change.new)\n",
    "    rank = change.new\n",
    "    if rank == 1:\n",
    "        rank = 1\n",
    "    elif rank == 2:\n",
    "        rank = 2\n",
    "    elif rank == 3:\n",
    "        rank = 3\n",
    "    elif rank == 4:\n",
    "        rank = 4\n",
    "    elif rank ==5:\n",
    "        rank = 5\n",
    "    elif rank == 6:\n",
    "        rank = 6\n",
    "    elif rank == 7:\n",
    "        rank = 7\n",
    "    else:\n",
    "        rank = 0\n",
    "    max_score = 7\n",
    "    coding_rank_output = (rank / max_score)*100\n",
    "    coding_rank_output_lists.append(coding_rank_output)\n",
    "    #print(coding_rank_output_lists)\n",
    "    #print(\"output_rank score:\", coding_rank_output)\n",
    "drop_down.observe(ranking_calculator, names='value')\n",
    "display(drop_down)\n",
    "\n",
    "rank = 1\n",
    "drop_down = widgets.Dropdown(options=[\"Please select rank\",1,2,3,4,5,6,7],\n",
    "                                description='I can save my work and return to my notebook later',\n",
    "                                disabled=False,\n",
    "                                display='flex',\n",
    "                                flex_flow='column',\n",
    "                                align_items='stretch',\n",
    "                                style= {'description_width': 'initial'},\n",
    "                                layout = layout)\n",
    "\n",
    "coding_rank_save_lists = list()\n",
    "def ranking_calculator(change):\n",
    "    global rank\n",
    "    #print(\"Item_A ranking:\", change.new)\n",
    "    rank = change.new\n",
    "    if rank == 1:\n",
    "        rank = 1\n",
    "    elif rank == 2:\n",
    "        rank = 2\n",
    "    elif rank == 3:\n",
    "        rank = 3\n",
    "    elif rank == 4:\n",
    "        rank = 4\n",
    "    elif rank ==5:\n",
    "        rank = 5\n",
    "    elif rank == 6:\n",
    "        rank = 6\n",
    "    elif rank == 7:\n",
    "        rank = 7\n",
    "    else:\n",
    "        rank = 0\n",
    "    max_score = 7\n",
    "    coding_rank_save = (rank / max_score)*100\n",
    "    coding_rank_save_lists.append(coding_rank_save)\n",
    "    #print(coding_rank_save_lists)\n",
    "    #print(\"save_rank score:\", coding_rank_save)\n",
    "drop_down.observe(ranking_calculator, names='value')\n",
    "display(drop_down)\n",
    "\n",
    "rank = 1\n",
    "drop_down = widgets.Dropdown(options=[\"Please select rank\",1,2,3,4,5,6,7],\n",
    "                                description='I can write markdown text in my notebook',\n",
    "                                disabled=False,\n",
    "                                display='flex',\n",
    "                                flex_flow='column',\n",
    "                                align_items='stretch',\n",
    "                                style= {'description_width': 'initial'},\n",
    "                                layout = layout)\n",
    "\n",
    "coding_rank_markdown_lists = list()\n",
    "def ranking_calculator(change):\n",
    "    global rank\n",
    "    #print(\"Item_A ranking:\", change.new)\n",
    "    rank = change.new\n",
    "    if rank == 1:\n",
    "        rank = 1\n",
    "    elif rank == 2:\n",
    "        rank = 2\n",
    "    elif rank == 3:\n",
    "        rank = 3\n",
    "    elif rank == 4:\n",
    "        rank = 4\n",
    "    elif rank ==5:\n",
    "        rank = 5\n",
    "    elif rank == 6:\n",
    "        rank = 6\n",
    "    elif rank == 7:\n",
    "        rank = 7\n",
    "    else:\n",
    "        rank = 0\n",
    "    max_score = 7\n",
    "    coding_rank_markdown = (rank / max_score)*100\n",
    "    coding_rank_markdown_lists.append(coding_rank_markdown)\n",
    "    #print(coding_rank_markdown_lists)\n",
    "    #print(\"markdown_rank score:\", coding_rank_markdown)\n",
    "drop_down.observe(ranking_calculator, names='value')\n",
    "display(drop_down)\n",
    "\n",
    "rank = 1\n",
    "drop_down = widgets.Dropdown(options=[\"Please select rank\",1,2,3,4,5,6,7],\n",
    "                                description='I can run Bash commands in my notebook',\n",
    "                                disabled=False,\n",
    "                                display='flex',\n",
    "                                flex_flow='column',\n",
    "                                align_items='stretch',\n",
    "                                style= {'description_width': 'initial'},\n",
    "                                layout = layout)\n",
    "\n",
    "coding_rank_bash_lists = list()\n",
    "def ranking_calculator(change):\n",
    "    global rank\n",
    "    #print(\"Item_A ranking:\", change.new)\n",
    "    rank = change.new\n",
    "    if rank == 1:\n",
    "        rank = 1\n",
    "    elif rank == 2:\n",
    "        rank = 2\n",
    "    elif rank == 3:\n",
    "        rank = 3\n",
    "    elif rank == 4:\n",
    "        rank = 4\n",
    "    elif rank ==5:\n",
    "        rank = 5\n",
    "    elif rank == 6:\n",
    "        rank = 6\n",
    "    elif rank == 7:\n",
    "        rank = 7\n",
    "    else:\n",
    "        rank = 0\n",
    "    max_score = 7\n",
    "    coding_rank_bash = (rank / max_score)*100\n",
    "    coding_rank_bash_lists.append(coding_rank_bash)\n",
    "    #print(coding_rank_bash_lists)\n",
    "    #print(\"bash_rank score:\", coding_rank_bash)\n",
    "drop_down.observe(ranking_calculator, names='value')\n",
    "display(drop_down)\n",
    "\n",
    "rank = 1\n",
    "drop_down = widgets.Dropdown(options=[\"Please select rank\",1,2,3,4,5,6,7],\n",
    "                                description='I can run magic commands in my notebook',\n",
    "                                disabled=False,\n",
    "                                display='flex',\n",
    "                                flex_flow='column',\n",
    "                                align_items='stretch',\n",
    "                                style= {'description_width': 'initial'},\n",
    "                                layout = layout)\n",
    "\n",
    "coding_rank_magic_lists = list()\n",
    "def ranking_calculator(change):\n",
    "    global rank\n",
    "    #print(\"Item_A ranking:\", change.new)\n",
    "    rank = change.new\n",
    "    if rank == 1:\n",
    "        rank = 1\n",
    "    elif rank == 2:\n",
    "        rank = 2\n",
    "    elif rank == 3:\n",
    "        rank = 3\n",
    "    elif rank == 4:\n",
    "        rank = 4\n",
    "    elif rank ==5:\n",
    "        rank = 5\n",
    "    elif rank == 6:\n",
    "        rank = 6\n",
    "    elif rank == 7:\n",
    "        rank = 7\n",
    "    else:\n",
    "        rank = 0\n",
    "    max_score = 7\n",
    "    coding_rank_magic = (rank / max_score)*100\n",
    "    coding_rank_magic_lists.append(coding_rank_magic)\n",
    "    #print(coding_rank_magic_lists)\n",
    "    #print(\"magic_rank score:\", coding_rank_magic)\n",
    "drop_down.observe(ranking_calculator, names='value')\n",
    "display(drop_down)"
   ]
  },
  {
   "cell_type": "markdown",
   "id": "858d0d4f",
   "metadata": {},
   "source": [
    "### When working in your notebook, how important are the following features to you?"
   ]
  },
  {
   "cell_type": "code",
   "execution_count": 6,
   "id": "af00b607",
   "metadata": {},
   "outputs": [
    {
     "data": {
      "application/vnd.jupyter.widget-view+json": {
       "model_id": "40366c00f37c40fab3ef203987ec9c51",
       "version_major": 2,
       "version_minor": 0
      },
      "text/plain": [
       "Dropdown(description='I can write and edit code in my preferred programming language in my notebook', layout=L…"
      ]
     },
     "metadata": {},
     "output_type": "display_data"
    },
    {
     "data": {
      "application/vnd.jupyter.widget-view+json": {
       "model_id": "25cd1e0f1dea449886c647ed9d1855d2",
       "version_major": 2,
       "version_minor": 0
      },
      "text/plain": [
       "Dropdown(description='I can live check my code for mistakes in my notebook', layout=Layout(height='40px', widt…"
      ]
     },
     "metadata": {},
     "output_type": "display_data"
    },
    {
     "data": {
      "application/vnd.jupyter.widget-view+json": {
       "model_id": "a1d2647e44f84a47be83c03a7dcc332d",
       "version_major": 2,
       "version_minor": 0
      },
      "text/plain": [
       "Dropdown(description='I can generate an interactive output of my code in my notebook', layout=Layout(height='4…"
      ]
     },
     "metadata": {},
     "output_type": "display_data"
    },
    {
     "data": {
      "application/vnd.jupyter.widget-view+json": {
       "model_id": "14a1fbd1a3734b02bd7f451aa99d1abd",
       "version_major": 2,
       "version_minor": 0
      },
      "text/plain": [
       "Dropdown(description='I can save my work and return to my notebook later', layout=Layout(height='40px', width=…"
      ]
     },
     "metadata": {},
     "output_type": "display_data"
    },
    {
     "data": {
      "application/vnd.jupyter.widget-view+json": {
       "model_id": "8735b2edec874684809848d2908cd90d",
       "version_major": 2,
       "version_minor": 0
      },
      "text/plain": [
       "Dropdown(description='I can write markdown text in my notebook', layout=Layout(height='40px', width='auto'), o…"
      ]
     },
     "metadata": {},
     "output_type": "display_data"
    },
    {
     "data": {
      "application/vnd.jupyter.widget-view+json": {
       "model_id": "3dfb94362aed4c39be09b515b6ce3862",
       "version_major": 2,
       "version_minor": 0
      },
      "text/plain": [
       "Dropdown(description='I can run Bash commands in my notebook', layout=Layout(height='40px', width='auto'), opt…"
      ]
     },
     "metadata": {},
     "output_type": "display_data"
    },
    {
     "data": {
      "application/vnd.jupyter.widget-view+json": {
       "model_id": "e95ded8a61684d4894001ae2532d77cf",
       "version_major": 2,
       "version_minor": 0
      },
      "text/plain": [
       "Dropdown(description='I can run magic commands in my notebook', layout=Layout(height='40px', width='auto'), op…"
      ]
     },
     "metadata": {},
     "output_type": "display_data"
    }
   ],
   "source": [
    "import ipywidgets as widgets\n",
    "\n",
    "layout = widgets.Layout(width='auto', height='40px')\n",
    "\n",
    "rank = 1\n",
    "drop_down = widgets.Dropdown(options=[\"Please select\",\"not at all important\",\"low importance\",\"neutral\",\"important\", \"very important\"],\n",
    "                                description='I can write and edit code in my preferred programming language in my notebook',\n",
    "                                disabled=False,\n",
    "                                display='flex',\n",
    "                                flex_flow='column',\n",
    "                                align_items='stretch',\n",
    "                                style= {'description_width': 'initial'},\n",
    "                                layout = layout)\n",
    "\n",
    "coding_scale_write_lists = list()\n",
    "def scale_calculator(change):\n",
    "    global rank\n",
    "    #print(\"Item_A ranking:\", change.new)\n",
    "    rank = change.new\n",
    "    if rank == \"not at all important\":\n",
    "        rank = 1\n",
    "    elif rank == \"low importance\":\n",
    "        rank = 2\n",
    "    elif rank == \"neutral\":\n",
    "        rank = 3\n",
    "    elif rank == \"important\":\n",
    "        rank = 4\n",
    "    elif rank == \"very important\":\n",
    "        rank = 5\n",
    "    else:\n",
    "        rank = 0\n",
    "    max_score = 5\n",
    "    coding_scale_write = (rank / max_score)*100\n",
    "    coding_scale_write_lists.append(coding_scale_write)\n",
    "    #print(coding_scale_write_lists)\n",
    "    #print(\"write_scale score:\", coding_scale_write)\n",
    "drop_down.observe(scale_calculator, names='value')\n",
    "display(drop_down)\n",
    "\n",
    "rank = 1\n",
    "drop_down = widgets.Dropdown(options=[\"Please select\",\"not at all important\",\"low importance\",\"neutral\",\"important\", \"very important\"],\n",
    "                                description='I can live check my code for mistakes in my notebook',\n",
    "                                disabled=False,\n",
    "                                display='flex',\n",
    "                                flex_flow='column',\n",
    "                                align_items='stretch',\n",
    "                                style= {'description_width': 'initial'},\n",
    "                                layout = layout)\n",
    "\n",
    "coding_scale_check_lists = list()\n",
    "def scale_calculator(change):\n",
    "    global rank\n",
    "    #print(\"Item_B ranking:\", change.new)\n",
    "    rank = change.new\n",
    "    if rank == \"not at all important\":\n",
    "        rank = 1\n",
    "    elif rank == \"low importance\":\n",
    "        rank = 2\n",
    "    elif rank == \"neutral\":\n",
    "        rank = 3\n",
    "    elif rank == \"important\":\n",
    "        rank = 4\n",
    "    elif rank == \"very important\":\n",
    "        rank = 5\n",
    "    else:\n",
    "        rank = 0\n",
    "    max_score = 5\n",
    "    coding_scale_check = (rank / max_score)*100\n",
    "    coding_scale_check_lists.append(coding_scale_check)\n",
    "    #print(coding_scale_check_lists)\n",
    "    #print(\"check_scale score:\", coding_scale_check)\n",
    "drop_down.observe(scale_calculator, names='value')\n",
    "display(drop_down)\n",
    "\n",
    "rank = 1\n",
    "drop_down = widgets.Dropdown(options=[\"Please select\",\"not at all important\",\"low importance\",\"neutral\",\"important\", \"very important\"],\n",
    "                                description='I can generate an interactive output of my code in my notebook',\n",
    "                                disabled=False,\n",
    "                                display='flex',\n",
    "                                flex_flow='column',\n",
    "                                align_items='stretch',\n",
    "                                style= {'description_width': 'initial'},\n",
    "                                layout = layout)\n",
    "\n",
    "coding_scale_output_lists = list()\n",
    "def scale_calculator(change):\n",
    "    global rank\n",
    "    #print(\"Item_C ranking:\", change.new)\n",
    "    rank = change.new\n",
    "    if rank == \"not at all important\":\n",
    "        rank = 1\n",
    "    elif rank == \"low importance\":\n",
    "        rank = 2\n",
    "    elif rank == \"neutral\":\n",
    "        rank = 3\n",
    "    elif rank == \"important\":\n",
    "        rank = 4\n",
    "    elif rank == \"very important\":\n",
    "        rank = 5\n",
    "    else:\n",
    "        rank = 0\n",
    "    max_score = 5\n",
    "    coding_scale_output = (rank / max_score)*100\n",
    "    coding_scale_output_lists.append(coding_scale_output)\n",
    "    #print(coding_scale_output_lists)\n",
    "    #print(\"output_scale score:\", coding_scale_output)\n",
    "drop_down.observe(scale_calculator, names='value')\n",
    "display(drop_down)\n",
    "\n",
    "rank = 1\n",
    "drop_down = widgets.Dropdown(options=[\"Please select\",\"not at all important\",\"low importance\",\"neutral\",\"important\", \"very important\"],\n",
    "                                description='I can save my work and return to my notebook later',\n",
    "                                disabled=False,\n",
    "                                display='flex',\n",
    "                                flex_flow='column',\n",
    "                                align_items='stretch',\n",
    "                                style= {'description_width': 'initial'},\n",
    "                                layout = layout)\n",
    "\n",
    "coding_scale_save_lists = list()\n",
    "def scale_calculator(change):\n",
    "    global rank\n",
    "    #print(\"Item_D ranking:\", change.new)\n",
    "    rank = change.new\n",
    "    if rank == \"not at all important\":\n",
    "        rank = 1\n",
    "    elif rank == \"low importance\":\n",
    "        rank = 2\n",
    "    elif rank == \"neutral\":\n",
    "        rank = 3\n",
    "    elif rank == \"important\":\n",
    "        rank = 4\n",
    "    elif rank == \"very important\":\n",
    "        rank = 5\n",
    "    else:\n",
    "        rank = 0\n",
    "    max_score = 5\n",
    "    coding_scale_save = (rank / max_score)*100\n",
    "    coding_scale_save_lists.append(coding_scale_save)\n",
    "    #print(coding_scale_save_lists)\n",
    "    #print(\"save_scale score:\", coding_scale_save)\n",
    "drop_down.observe(scale_calculator, names='value')\n",
    "display(drop_down)\n",
    "\n",
    "rank = 1\n",
    "drop_down = widgets.Dropdown(options=[\"Please select\",\"not at all important\",\"low importance\",\"neutral\",\"important\", \"very important\"],\n",
    "                                description='I can write markdown text in my notebook',\n",
    "                                disabled=False,\n",
    "                                display='flex',\n",
    "                                flex_flow='column',\n",
    "                                align_items='stretch',\n",
    "                                style= {'description_width': 'initial'},\n",
    "                                layout = layout)\n",
    "\n",
    "coding_scale_markdown_lists = list()\n",
    "def scale_calculator(change):\n",
    "    global rank\n",
    "    #print(\"Item_D ranking:\", change.new)\n",
    "    rank = change.new\n",
    "    if rank == \"not at all important\":\n",
    "        rank = 1\n",
    "    elif rank == \"low importance\":\n",
    "        rank = 2\n",
    "    elif rank == \"neutral\":\n",
    "        rank = 3\n",
    "    elif rank == \"important\":\n",
    "        rank = 4\n",
    "    elif rank == \"very important\":\n",
    "        rank = 5\n",
    "    else:\n",
    "        rank = 0\n",
    "    max_score = 5\n",
    "    coding_scale_markdown = (rank / max_score)*100\n",
    "    coding_scale_markdown_lists.append(coding_scale_markdown)\n",
    "    #print(coding_scale_markdown_lists)\n",
    "    #print(\"markdown_scale score:\", coding_scale_markdown)\n",
    "drop_down.observe(scale_calculator, names='value')\n",
    "display(drop_down)\n",
    "\n",
    "rank = 1\n",
    "drop_down = widgets.Dropdown(options=[\"Please select\",\"not at all important\",\"low importance\",\"neutral\",\"important\", \"very important\"],\n",
    "                                description='I can run Bash commands in my notebook',\n",
    "                                disabled=False,\n",
    "                                display='flex',\n",
    "                                flex_flow='column',\n",
    "                                align_items='stretch',\n",
    "                                style= {'description_width': 'initial'},\n",
    "                                layout = layout)\n",
    "\n",
    "coding_scale_bash_lists = list()\n",
    "def scale_calculator(change):\n",
    "    global rank\n",
    "    #print(\"Item_D ranking:\", change.new)\n",
    "    rank = change.new\n",
    "    if rank == \"not at all important\":\n",
    "        rank = 1\n",
    "    elif rank == \"low importance\":\n",
    "        rank = 2\n",
    "    elif rank == \"neutral\":\n",
    "        rank = 3\n",
    "    elif rank == \"important\":\n",
    "        rank = 4\n",
    "    elif rank == \"very important\":\n",
    "        rank = 5\n",
    "    else:\n",
    "        rank = 0\n",
    "    max_score = 5\n",
    "    coding_scale_bash = (rank / max_score)*100\n",
    "    coding_scale_bash_lists.append(coding_scale_bash)\n",
    "    #print(coding_scale_bash_lists)\n",
    "    #print(\"bash_scale score:\", coding_scale_bash)\n",
    "drop_down.observe(scale_calculator, names='value')\n",
    "display(drop_down)\n",
    "\n",
    "rank = 1\n",
    "drop_down = widgets.Dropdown(options=[\"Please select\",\"not at all important\",\"low importance\",\"neutral\",\"important\", \"very important\"],\n",
    "                                description='I can run magic commands in my notebook',\n",
    "                                disabled=False,\n",
    "                                display='flex',\n",
    "                                flex_flow='column',\n",
    "                                align_items='stretch',\n",
    "                                style= {'description_width': 'initial'},\n",
    "                                layout = layout)\n",
    "\n",
    "coding_scale_magic_lists = list()\n",
    "def scale_calculator(change):\n",
    "    global rank\n",
    "    #print(\"Item_D ranking:\", change.new)\n",
    "    rank = change.new\n",
    "    if rank == \"not at all important\":\n",
    "        rank = 1\n",
    "    elif rank == \"low importance\":\n",
    "        rank = 2\n",
    "    elif rank == \"neutral\":\n",
    "        rank = 3\n",
    "    elif rank == \"important\":\n",
    "        rank = 4\n",
    "    elif rank == \"very important\":\n",
    "        rank = 5\n",
    "    else:\n",
    "        rank = 0\n",
    "    max_score = 5\n",
    "    coding_scale_magic = (rank / max_score)*100\n",
    "    coding_scale_magic_lists.append(coding_scale_magic)\n",
    "    #print(coding_scale_magic_lists)\n",
    "    #print(\"magic_scake score:\", coding_scale_magic)\n",
    "drop_down.observe(scale_calculator, names='value')\n",
    "display(drop_down)"
   ]
  },
  {
   "cell_type": "markdown",
   "id": "8c1068fc",
   "metadata": {},
   "source": [
    "## 📁 Exporting the Content of Your Notebook  "
   ]
  },
  {
   "cell_type": "markdown",
   "id": "58dc54e8",
   "metadata": {},
   "source": [
    "### When exporting your notebook content, please rank the following features in order of importance to you, where 2 is most important and 1 is least important\n",
    "#### Note: each ranking can only be used once "
   ]
  },
  {
   "cell_type": "code",
   "execution_count": 7,
   "id": "d2d6de15",
   "metadata": {},
   "outputs": [
    {
     "data": {
      "application/vnd.jupyter.widget-view+json": {
       "model_id": "a8c020e718f74ec8bf3c3ea2aef8c574",
       "version_major": 2,
       "version_minor": 0
      },
      "text/plain": [
       "Dropdown(description='I can download my notebook content in different file formats', layout=Layout(height='40p…"
      ]
     },
     "metadata": {},
     "output_type": "display_data"
    },
    {
     "data": {
      "application/vnd.jupyter.widget-view+json": {
       "model_id": "6ea0a451f195466aba474e052f109997",
       "version_major": 2,
       "version_minor": 0
      },
      "text/plain": [
       "Dropdown(description='I can share notebook with my peers via methods like email or GitHub', layout=Layout(heig…"
      ]
     },
     "metadata": {},
     "output_type": "display_data"
    }
   ],
   "source": [
    "import ipywidgets as widgets\n",
    "\n",
    "layout = widgets.Layout(width='auto', height='40px')\n",
    "\n",
    "rank = 1\n",
    "drop_down = widgets.Dropdown(options=[\"Please select rank\",1,2],\n",
    "                                description='I can download my notebook content in different file formats',\n",
    "                                disabled=False,\n",
    "                                display='flex',\n",
    "                                flex_flow='column',\n",
    "                                align_items='stretch',\n",
    "                                style= {'description_width': 'initial'},\n",
    "                                layout = layout)\n",
    "\n",
    "exporting_rank_download_lists = list()\n",
    "def ranking_calculator(change):\n",
    "    global rank\n",
    "    #print(\"Item_A ranking:\", change.new)\n",
    "    rank = change.new\n",
    "    if rank == 1:\n",
    "        rank = 1\n",
    "    elif rank == 2:\n",
    "        rank = 2\n",
    "    else:\n",
    "        rank = 0\n",
    "    max_score = 2\n",
    "    exporting_rank_download = (rank / max_score)*100\n",
    "    exporting_rank_download_lists.append(exporting_rank_download)\n",
    "    #print(exporting_rank_download_lists)\n",
    "    #print(\"download_rank score:\", exporting_rank_download)\n",
    "drop_down.observe(ranking_calculator, names='value')\n",
    "display(drop_down)\n",
    "\n",
    "rank = 1\n",
    "drop_down = widgets.Dropdown(options=[\"Please select rank\",1,2],\n",
    "                                description='I can share notebook with my peers via methods like email or GitHub',\n",
    "                                disabled=False,\n",
    "                                display='flex',\n",
    "                                flex_flow='column',\n",
    "                                align_items='stretch',\n",
    "                                style= {'description_width': 'initial'},\n",
    "                                layout = layout)\n",
    "\n",
    "exporting_rank_share_lists = list()\n",
    "def ranking_calculator(change):\n",
    "    global rank\n",
    "    #print(\"Item_B ranking:\", change.new)\n",
    "    rank = change.new\n",
    "    if rank == 1:\n",
    "        rank = 1\n",
    "    elif rank == 2:\n",
    "        rank = 2\n",
    "    else:\n",
    "        rank = 0\n",
    "    max_score = 2\n",
    "    exporting_rank_share = (rank / max_score)*100\n",
    "    exporting_rank_share_lists.append(exporting_rank_share)\n",
    "    #print(exporting_rank_share_lists)\n",
    "    #print(\"share_rank score:\", exporting_rank_share)\n",
    "drop_down.observe(ranking_calculator, names='value')\n",
    "display(drop_down)"
   ]
  },
  {
   "cell_type": "markdown",
   "id": "d7199473",
   "metadata": {},
   "source": [
    "### When exporting your notebook content, how important are the following features to you?"
   ]
  },
  {
   "cell_type": "code",
   "execution_count": 8,
   "id": "a5f61a01",
   "metadata": {},
   "outputs": [
    {
     "data": {
      "application/vnd.jupyter.widget-view+json": {
       "model_id": "36ef5717a575461fab47c4b770867083",
       "version_major": 2,
       "version_minor": 0
      },
      "text/plain": [
       "Dropdown(description='I can download my notebook content in different formats', layout=Layout(height='40px', w…"
      ]
     },
     "metadata": {},
     "output_type": "display_data"
    },
    {
     "data": {
      "application/vnd.jupyter.widget-view+json": {
       "model_id": "08b23ffde8fc475ab5253c46d410d458",
       "version_major": 2,
       "version_minor": 0
      },
      "text/plain": [
       "Dropdown(description='I can share my notebook with my peers via methods like email or Github', layout=Layout(h…"
      ]
     },
     "metadata": {},
     "output_type": "display_data"
    }
   ],
   "source": [
    "import ipywidgets as widgets\n",
    "\n",
    "layout = widgets.Layout(width='auto', height='40px')\n",
    "\n",
    "rank = 1\n",
    "drop_down = widgets.Dropdown(options=[\"Please select\",\"not at all important\",\"low importance\",\"neutral\",\"important\", \"very important\"],\n",
    "                                description='I can download my notebook content in different formats',\n",
    "                                disabled=False,\n",
    "                                display='flex',\n",
    "                                flex_flow='column',\n",
    "                                align_items='stretch',\n",
    "                                style= {'description_width': 'initial'},\n",
    "                                layout = layout)\n",
    "\n",
    "exporting_scale_download_lists = list()\n",
    "def scale_calculator(change):\n",
    "    global rank\n",
    "    #print(\"Item_A ranking:\", change.new)\n",
    "    rank = change.new\n",
    "    if rank == \"not at all important\":\n",
    "        rank = 1\n",
    "    elif rank == \"low importance\":\n",
    "        rank = 2\n",
    "    elif rank == \"neutral\":\n",
    "        rank = 3\n",
    "    elif rank == \"important\":\n",
    "        rank = 4\n",
    "    elif rank == \"very important\":\n",
    "        rank = 5\n",
    "    else:\n",
    "        rank = 0\n",
    "    max_score = 5\n",
    "    exporting_scale_download = (rank / max_score)*100\n",
    "    exporting_scale_download_lists.append(exporting_scale_download)\n",
    "    #print(exporting_scale_download_lists)\n",
    "    #print(\"Download_scale score:\", exporting_scale_download)\n",
    "drop_down.observe(scale_calculator, names='value')\n",
    "display(drop_down)\n",
    "\n",
    "rank = 1\n",
    "drop_down = widgets.Dropdown(options=[\"Please select\",\"not at all important\",\"low importance\",\"neutral\",\"important\", \"very important\"],\n",
    "                                description='I can share my notebook with my peers via methods like email or Github',\n",
    "                                disabled=False,\n",
    "                                display='flex',\n",
    "                                flex_flow='column',\n",
    "                                align_items='stretch',\n",
    "                                style= {'description_width': 'initial'},\n",
    "                                layout = layout)\n",
    "\n",
    "exporting_scale_share_lists = list()\n",
    "def scale_calculator_share(change):\n",
    "    global rank\n",
    "    #print(\"Item_B ranking:\", change.new)\n",
    "    rank = change.new\n",
    "    if rank == \"not at all important\":\n",
    "        rank = 1\n",
    "    elif rank == \"low importance\":\n",
    "        rank = 2\n",
    "    elif rank == \"neutral\":\n",
    "        rank = 3\n",
    "    elif rank == \"important\":\n",
    "        rank = 4\n",
    "    elif rank == \"very important\":\n",
    "        rank = 5\n",
    "    else:\n",
    "        rank = 0\n",
    "    max_score = 5\n",
    "    exporting_scale_share = (rank / max_score)*100\n",
    "    exporting_scale_share_lists.append(exporting_scale_share)\n",
    "    #print(exporting_scale_share_lists)\n",
    "    #print(\"Share_scale score:\", exporting_scale_share)\n",
    "    return exporting_scale_share\n",
    "drop_down.observe(scale_calculator_share, names='value')\n",
    "display(drop_down)"
   ]
  },
  {
   "cell_type": "markdown",
   "id": "5aafd6a9",
   "metadata": {},
   "source": [
    "## 🔌 Integrating Your Notebook with Other Tools "
   ]
  },
  {
   "cell_type": "markdown",
   "id": "c3d21625",
   "metadata": {},
   "source": [
    "### When integrating your notebook with other tools, please rank the following features in order of importance to you, where 5 is most important and 1 is least important\n",
    "#### Note: each ranking can only be used once "
   ]
  },
  {
   "cell_type": "code",
   "execution_count": 9,
   "id": "0f5f2cb8",
   "metadata": {},
   "outputs": [
    {
     "data": {
      "application/vnd.jupyter.widget-view+json": {
       "model_id": "c09e6abe165b4e02a022a671e6d81e2f",
       "version_major": 2,
       "version_minor": 0
      },
      "text/plain": [
       "Dropdown(description='I can integrate my notebook with a pluggable authentication module, OAuth, or a director…"
      ]
     },
     "metadata": {},
     "output_type": "display_data"
    },
    {
     "data": {
      "application/vnd.jupyter.widget-view+json": {
       "model_id": "430d0fc63acf4359beadab611a42221c",
       "version_major": 2,
       "version_minor": 0
      },
      "text/plain": [
       "Dropdown(description='I can integrate my notebook with a localized and/or centralized infratructure', layout=L…"
      ]
     },
     "metadata": {},
     "output_type": "display_data"
    },
    {
     "data": {
      "application/vnd.jupyter.widget-view+json": {
       "model_id": "c237016979fa4d118bf36f8af889a2f3",
       "version_major": 2,
       "version_minor": 0
      },
      "text/plain": [
       "Dropdown(description='I can integrate my notebook with a container like Docker and Kubernetes', layout=Layout(…"
      ]
     },
     "metadata": {},
     "output_type": "display_data"
    },
    {
     "data": {
      "application/vnd.jupyter.widget-view+json": {
       "model_id": "d735b0692ad74d24a9903fbe636dc093",
       "version_major": 2,
       "version_minor": 0
      },
      "text/plain": [
       "Dropdown(description='I can integrate my notebook with my data to provide unified software management and data…"
      ]
     },
     "metadata": {},
     "output_type": "display_data"
    },
    {
     "data": {
      "application/vnd.jupyter.widget-view+json": {
       "model_id": "7f376a4528a84643b5eea2f52b607268",
       "version_major": 2,
       "version_minor": 0
      },
      "text/plain": [
       "Dropdown(description='I can integrate my notebook with extensions like Voila to communicate insights via stand…"
      ]
     },
     "metadata": {},
     "output_type": "display_data"
    }
   ],
   "source": [
    "import ipywidgets as widgets\n",
    "\n",
    "layout = widgets.Layout(width='auto', height='40px')\n",
    "\n",
    "rank = 1\n",
    "drop_down = widgets.Dropdown(options=[\"Please select rank\",1,2,3,4,5],\n",
    "                                description='I can integrate my notebook with a pluggable authentication module, OAuth, or a directory service system',\n",
    "                                disabled=False,\n",
    "                                display='flex',\n",
    "                                flex_flow='column',\n",
    "                                align_items='stretch',\n",
    "                                style= {'description_width': 'initial'},\n",
    "                                layout = layout)\n",
    "\n",
    "integrating_rank_authentication_lists = list()\n",
    "def ranking_calculator(change):\n",
    "    global rank\n",
    "    #print(\"Item_A ranking:\", change.new)\n",
    "    rank = change.new\n",
    "    if rank == 1:\n",
    "        rank = 1\n",
    "    elif rank == 2:\n",
    "        rank = 2\n",
    "    elif rank == 3:\n",
    "        rank = 3\n",
    "    elif rank == 4:\n",
    "        rank = 4\n",
    "    elif rank == 5:\n",
    "        rank = 5\n",
    "    else:\n",
    "        rank = 0\n",
    "    max_score = 5\n",
    "    integrating_rank_authentication = (rank / max_score)*100\n",
    "    integrating_rank_authentication_lists.append(integrating_rank_authentication)\n",
    "    #print(integrating_rank_authentication_lists)\n",
    "    #print(\"authentication_rank score:\", integrating_rank_authentication)\n",
    "drop_down.observe(ranking_calculator, names='value')\n",
    "display(drop_down)\n",
    "\n",
    "rank = 1\n",
    "drop_down = widgets.Dropdown(options=[\"Please select rank\",1,2,3,4,5],\n",
    "                                description='I can integrate my notebook with a localized and/or centralized infratructure',\n",
    "                                disabled=False,\n",
    "                                display='flex',\n",
    "                                flex_flow='column',\n",
    "                                align_items='stretch',\n",
    "                                style= {'description_width': 'initial'},\n",
    "                                layout = layout)\n",
    "\n",
    "integrating_rank_infrastructure_lists = list()\n",
    "def ranking_calculator(change):\n",
    "    global rank\n",
    "    #print(\"Item_B ranking:\", change.new)\n",
    "    rank = change.new\n",
    "    if rank == 1:\n",
    "        rank = 1\n",
    "    elif rank == 2:\n",
    "        rank = 2\n",
    "    elif rank == 3:\n",
    "        rank = 3\n",
    "    elif rank == 4:\n",
    "        rank = 4\n",
    "    elif rank == 5:\n",
    "        rank = 5\n",
    "    else:\n",
    "        rank = 0\n",
    "    max_score = 5\n",
    "    integrating_rank_infrastructure = (rank / max_score)*100\n",
    "    integrating_rank_infrastructure_lists.append(integrating_rank_infrastructure)\n",
    "    #print(integrating_rank_infrastructure_lists)\n",
    "    #print(\"infratructure_rank score:\", integrating_rank_infrastructure)\n",
    "drop_down.observe(ranking_calculator, names='value')\n",
    "display(drop_down)\n",
    "\n",
    "rank = 1\n",
    "drop_down = widgets.Dropdown(options=[\"Please select rank\",1,2,3,4,5],\n",
    "                                description='I can integrate my notebook with a container like Docker and Kubernetes',\n",
    "                                disabled=False,\n",
    "                                display='flex',\n",
    "                                flex_flow='column',\n",
    "                                align_items='stretch',\n",
    "                                style= {'description_width': 'initial'},\n",
    "                                layout = layout)\n",
    "\n",
    "integrating_rank_container_lists = list()\n",
    "def ranking_calculator(change):\n",
    "    global rank\n",
    "    #print(\"Item_C ranking:\", change.new)\n",
    "    rank = change.new\n",
    "    if rank == 1:\n",
    "        rank = 1\n",
    "    elif rank == 2:\n",
    "        rank = 2\n",
    "    elif rank == 3:\n",
    "        rank = 3\n",
    "    elif rank == 4:\n",
    "        rank = 4\n",
    "    elif rank == 5:\n",
    "        rank = 5\n",
    "    else:\n",
    "        rank = 0\n",
    "    max_score = 5\n",
    "    integrating_rank_container = (rank / max_score)*100\n",
    "    integrating_rank_container_lists.append(integrating_rank_container)\n",
    "    #print(integrating_rank_container_lists)\n",
    "    #print(\"Container_rank score:\", integrating_rank_container)\n",
    "drop_down.observe(ranking_calculator, names='value')\n",
    "display(drop_down)\n",
    "\n",
    "rank = 1\n",
    "drop_down = widgets.Dropdown(options=[\"Please select rank\",1,2,3,4,5],\n",
    "                                description='I can integrate my notebook with my data to provide unified software management and data access',\n",
    "                                disabled=False,\n",
    "                                display='flex',\n",
    "                                flex_flow='column',\n",
    "                                align_items='stretch',\n",
    "                                style= {'description_width': 'initial'},\n",
    "                                layout = layout)\n",
    "\n",
    "integrating_rank_unified_lists = list()\n",
    "def ranking_calculator(change):\n",
    "    global rank\n",
    "    #print(\"Item_D ranking:\", change.new)\n",
    "    rank = change.new\n",
    "    if rank == 1:\n",
    "        rank = 1\n",
    "    elif rank == 2:\n",
    "        rank = 2\n",
    "    elif rank == 3:\n",
    "        rank = 3\n",
    "    elif rank == 4:\n",
    "        rank = 4\n",
    "    elif rank == 5:\n",
    "        rank = 5\n",
    "    else:\n",
    "        rank = 0\n",
    "    max_score = 5\n",
    "    integrating_rank_unified = (rank / max_score)*100\n",
    "    integrating_rank_unified_lists.append(integrating_rank_unified)\n",
    "    #print(integrating_rank_unified_lists)\n",
    "    #print(\"unified_rank score:\", integrating_rank_unified)\n",
    "drop_down.observe(ranking_calculator, names='value')\n",
    "display(drop_down)\n",
    "\n",
    "rank = 1\n",
    "drop_down = widgets.Dropdown(options=[\"Please select rank\",1,2,3,4,5],\n",
    "                                description='I can integrate my notebook with extensions like Voila to communicate insights via stand-alone interactive web applications',\n",
    "                                disabled=False,\n",
    "                                display='flex',\n",
    "                                flex_flow='column',\n",
    "                                align_items='stretch',\n",
    "                                style= {'description_width': 'initial'},\n",
    "                                layout = layout)\n",
    "\n",
    "integrating_rank_voila_lists = list()\n",
    "def ranking_calculator(change):\n",
    "    global rank\n",
    "    #print(\"Item_D ranking:\", change.new)\n",
    "    rank = change.new\n",
    "    if rank == 1:\n",
    "        rank = 1\n",
    "    elif rank == 2:\n",
    "        rank = 2\n",
    "    elif rank == 3:\n",
    "        rank = 3\n",
    "    elif rank == 4:\n",
    "        rank = 4\n",
    "    elif rank == 5:\n",
    "        rank = 5\n",
    "    else:\n",
    "        rank = 0\n",
    "    max_score = 5\n",
    "    integrating_rank_voila = (rank / max_score)*100\n",
    "    integrating_rank_voila_lists.append(integrating_rank_voila)\n",
    "    #print(integrating_rank_voila_lists)\n",
    "    #print(\"voila_rank score:\", integrating_rank_voila)\n",
    "drop_down.observe(ranking_calculator, names='value')\n",
    "display(drop_down)"
   ]
  },
  {
   "cell_type": "markdown",
   "id": "b9af6ca5",
   "metadata": {},
   "source": [
    "### When integrating your notebook with other tools, how important are the following features to you?"
   ]
  },
  {
   "cell_type": "code",
   "execution_count": 10,
   "id": "f42f772e",
   "metadata": {},
   "outputs": [
    {
     "data": {
      "application/vnd.jupyter.widget-view+json": {
       "model_id": "a724642d0b4149abae4ea6e8cb8b37a4",
       "version_major": 2,
       "version_minor": 0
      },
      "text/plain": [
       "Dropdown(description='I can integrate my notebook with a pluggable authentication module, OAuth, or a director…"
      ]
     },
     "metadata": {},
     "output_type": "display_data"
    },
    {
     "data": {
      "application/vnd.jupyter.widget-view+json": {
       "model_id": "daa81bc9bdd4461db22fcd790f78edd2",
       "version_major": 2,
       "version_minor": 0
      },
      "text/plain": [
       "Dropdown(description='I can integrate my notebook with a localized and/or centralized infrastructure', layout=…"
      ]
     },
     "metadata": {},
     "output_type": "display_data"
    },
    {
     "data": {
      "application/vnd.jupyter.widget-view+json": {
       "model_id": "9aa3406da15b47c7afd8b23fe6220713",
       "version_major": 2,
       "version_minor": 0
      },
      "text/plain": [
       "Dropdown(description='I can integrate my notebook with a container like Docker and Kubernetes', layout=Layout(…"
      ]
     },
     "metadata": {},
     "output_type": "display_data"
    },
    {
     "data": {
      "application/vnd.jupyter.widget-view+json": {
       "model_id": "8d84241091bb4bf7b2dca9c7c3ca25aa",
       "version_major": 2,
       "version_minor": 0
      },
      "text/plain": [
       "Dropdown(description='I can integrate my notebook with my data to provide unified software management and data…"
      ]
     },
     "metadata": {},
     "output_type": "display_data"
    },
    {
     "data": {
      "application/vnd.jupyter.widget-view+json": {
       "model_id": "5d6e045013864b7ab9be451d57ef50da",
       "version_major": 2,
       "version_minor": 0
      },
      "text/plain": [
       "Dropdown(description='I can integrate my notebook with extensions like Voila to communicate insights via stand…"
      ]
     },
     "metadata": {},
     "output_type": "display_data"
    }
   ],
   "source": [
    "import ipywidgets as widgets\n",
    "\n",
    "layout = widgets.Layout(width='auto', height='40px')\n",
    "\n",
    "rank = 1\n",
    "drop_down = widgets.Dropdown(options=[\"Please select\",\"not at all important\",\"low importance\",\"neutral\",\"important\", \"very important\"],\n",
    "                                description='I can integrate my notebook with a pluggable authentication module, OAuth, or a directory service system',\n",
    "                                disabled=False,\n",
    "                                display='flex',\n",
    "                                flex_flow='column',\n",
    "                                align_items='stretch',\n",
    "                                style= {'description_width': 'initial'},\n",
    "                                layout = layout)\n",
    "\n",
    "integrating_scale_authentication_lists = list()\n",
    "def scale_calculator(change):\n",
    "    global rank\n",
    "    #print(\"Item_A ranking:\", change.new)\n",
    "    rank = change.new\n",
    "    if rank == \"not at all important\":\n",
    "        rank = 1\n",
    "    elif rank == \"low importance\":\n",
    "        rank = 2\n",
    "    elif rank == \"neutral\":\n",
    "        rank = 3\n",
    "    elif rank == \"important\":\n",
    "        rank = 4\n",
    "    elif rank == \"very important\":\n",
    "        rank = 5\n",
    "    else:\n",
    "        rank = 0\n",
    "    max_score = 5\n",
    "    integrating_scale_authentication = (rank / max_score)*100\n",
    "    integrating_scale_authentication_lists.append(integrating_scale_authentication)\n",
    "    #print(integrating_scale_authentication_lists)\n",
    "    #print(\"authentication_scale score:\", integrating_scale_authentication)\n",
    "drop_down.observe(scale_calculator, names='value')\n",
    "display(drop_down)\n",
    "\n",
    "rank = 1\n",
    "drop_down = widgets.Dropdown(options=[\"Please select\",\"not at all important\",\"low importance\",\"neutral\",\"important\", \"very important\"],\n",
    "                                description='I can integrate my notebook with a localized and/or centralized infrastructure',\n",
    "                                disabled=False,\n",
    "                                display='flex',\n",
    "                                flex_flow='column',\n",
    "                                align_items='stretch',\n",
    "                                style= {'description_width': 'initial'},\n",
    "                                layout = layout)\n",
    "\n",
    "integrating_scale_infrastructure_lists = list()\n",
    "def scale_calculator(change):\n",
    "    global rank\n",
    "    #print(\"Item_B ranking:\", change.new)\n",
    "    rank = change.new\n",
    "    if rank == \"not at all important\":\n",
    "        rank = 1\n",
    "    elif rank == \"low importance\":\n",
    "        rank = 2\n",
    "    elif rank == \"neutral\":\n",
    "        rank = 3\n",
    "    elif rank == \"important\":\n",
    "        rank = 4\n",
    "    elif rank == \"very important\":\n",
    "        rank = 5\n",
    "    else:\n",
    "        rank = 0\n",
    "    max_score = 5\n",
    "    integrating_scale_infrastructure = (rank / max_score)*100\n",
    "    integrating_scale_infrastructure_lists.append(integrating_scale_infrastructure)\n",
    "    #print(integrating_scale_infrastructure_lists)\n",
    "    #print(\"infrastructure_scale score:\", integrating_scale_infrastructure)\n",
    "drop_down.observe(scale_calculator, names='value')\n",
    "display(drop_down)\n",
    "\n",
    "rank = 1\n",
    "drop_down = widgets.Dropdown(options=[\"Please select\",\"not at all important\",\"low importance\",\"neutral\",\"important\", \"very important\"],\n",
    "                                description='I can integrate my notebook with a container like Docker and Kubernetes',\n",
    "                                disabled=False,\n",
    "                                display='flex',\n",
    "                                flex_flow='column',\n",
    "                                align_items='stretch',\n",
    "                                style= {'description_width': 'initial'},\n",
    "                                layout = layout)\n",
    "\n",
    "integrating_scale_container_lists = list()\n",
    "def scale_calculator(change):\n",
    "    global rank\n",
    "    #print(\"Item_C ranking:\", change.new)\n",
    "    rank = change.new\n",
    "    if rank == \"not at all important\":\n",
    "        rank = 1\n",
    "    elif rank == \"low importance\":\n",
    "        rank = 2\n",
    "    elif rank == \"neutral\":\n",
    "        rank = 3\n",
    "    elif rank == \"important\":\n",
    "        rank = 4\n",
    "    elif rank == \"very important\":\n",
    "        rank = 5\n",
    "    else:\n",
    "        rank = 0\n",
    "    max_score = 5\n",
    "    integrating_scale_container = (rank / max_score)*100\n",
    "    integrating_scale_container_lists.append(integrating_scale_container)\n",
    "    #print(integrating_scale_container_lists)\n",
    "    #print(\"container_scale score:\", integrating_scale_container)\n",
    "drop_down.observe(scale_calculator, names='value')\n",
    "display(drop_down)\n",
    "\n",
    "rank = 1\n",
    "drop_down = widgets.Dropdown(options=[\"Please select\",\"not at all important\",\"low importance\",\"neutral\",\"important\", \"very important\"],\n",
    "                                description='I can integrate my notebook with my data to provide unified software management and data access',\n",
    "                                disabled=False,\n",
    "                                display='flex',\n",
    "                                flex_flow='column',\n",
    "                                align_items='stretch',\n",
    "                                style= {'description_width': 'initial'},\n",
    "                                layout = layout)\n",
    "\n",
    "integrating_scale_unified_lists = list()\n",
    "def scale_calculator(change):\n",
    "    global rank\n",
    "    #print(\"Item_D ranking:\", change.new)\n",
    "    rank = change.new\n",
    "    if rank == \"not at all important\":\n",
    "        rank = 1\n",
    "    elif rank == \"low importance\":\n",
    "        rank = 2\n",
    "    elif rank == \"neutral\":\n",
    "        rank = 3\n",
    "    elif rank == \"important\":\n",
    "        rank = 4\n",
    "    elif rank == \"very important\":\n",
    "        rank = 5\n",
    "    else:\n",
    "        rank = 0\n",
    "    max_score = 5\n",
    "    integrating_scale_unified = (rank / max_score)*100\n",
    "    integrating_scale_unified_lists.append(integrating_scale_unified)\n",
    "    #print(integrating_scale_unified_lists)\n",
    "    #print(\"unified_scale score:\", integrating_scale_unified)\n",
    "drop_down.observe(scale_calculator, names='value')\n",
    "display(drop_down)\n",
    "\n",
    "rank = 1\n",
    "drop_down = widgets.Dropdown(options=[\"Please select\",\"not at all important\",\"low importance\",\"neutral\",\"important\", \"very important\"],\n",
    "                                description='I can integrate my notebook with extensions like Voila to communicate insights via stand-alone interactive web applications',\n",
    "                                disabled=False,\n",
    "                                display='flex',\n",
    "                                flex_flow='column',\n",
    "                                align_items='stretch',\n",
    "                                style= {'description_width': 'initial'},\n",
    "                                layout = layout)\n",
    "\n",
    "integrating_scale_voila_lists = list()\n",
    "def scale_calculator(change):\n",
    "    global rank\n",
    "    #print(\"Item_D ranking:\", change.new)\n",
    "    rank = change.new\n",
    "    if rank == \"not at all important\":\n",
    "        rank = 1\n",
    "    elif rank == \"low importance\":\n",
    "        rank = 2\n",
    "    elif rank == \"neutral\":\n",
    "        rank = 3\n",
    "    elif rank == \"important\":\n",
    "        rank = 4\n",
    "    elif rank == \"very important\":\n",
    "        rank = 5\n",
    "    else:\n",
    "        rank = 0\n",
    "    max_score = 5\n",
    "    integrating_scale_voila = (rank / max_score)*100\n",
    "    integrating_scale_voila_lists.append(integrating_scale_voila)\n",
    "    #print(integrating_scale_voila_lists)\n",
    "    #print(\"voila_scale score:\", integrating_scale_voila)\n",
    "drop_down.observe(scale_calculator, names='value')\n",
    "display(drop_down)"
   ]
  },
  {
   "cell_type": "markdown",
   "id": "b9e56445",
   "metadata": {},
   "source": [
    "## ✍️ Using Your Notebook "
   ]
  },
  {
   "cell_type": "markdown",
   "id": "e68f1d77",
   "metadata": {},
   "source": [
    "### When using your notebook, please rank the following features in order of importance to you, where 4 is most important and 1 is least important\n",
    "#### Note: each ranking can only be used once "
   ]
  },
  {
   "cell_type": "code",
   "execution_count": 11,
   "id": "6cf187ab",
   "metadata": {
    "scrolled": true
   },
   "outputs": [
    {
     "data": {
      "application/vnd.jupyter.widget-view+json": {
       "model_id": "04696e952c3842d1814cedc708003b90",
       "version_major": 2,
       "version_minor": 0
      },
      "text/plain": [
       "Dropdown(description='I can configure and personalize my notebook to begin working on my data project', layout…"
      ]
     },
     "metadata": {},
     "output_type": "display_data"
    },
    {
     "data": {
      "application/vnd.jupyter.widget-view+json": {
       "model_id": "79513b63fa7b48358878b865bb81585f",
       "version_major": 2,
       "version_minor": 0
      },
      "text/plain": [
       "Dropdown(description='I can write and edit code in my notebook', layout=Layout(height='40px', width='auto'), o…"
      ]
     },
     "metadata": {},
     "output_type": "display_data"
    },
    {
     "data": {
      "application/vnd.jupyter.widget-view+json": {
       "model_id": "8ade6c3c241f465ebd6c609252fa55d4",
       "version_major": 2,
       "version_minor": 0
      },
      "text/plain": [
       "Dropdown(description='I can export my notebook content in different formats', layout=Layout(height='40px', wid…"
      ]
     },
     "metadata": {},
     "output_type": "display_data"
    },
    {
     "data": {
      "application/vnd.jupyter.widget-view+json": {
       "model_id": "1f465cedbd16430faca5724567edd287",
       "version_major": 2,
       "version_minor": 0
      },
      "text/plain": [
       "Dropdown(description='I can integrate notebook with other tools', layout=Layout(height='40px', width='auto'), …"
      ]
     },
     "metadata": {},
     "output_type": "display_data"
    }
   ],
   "source": [
    "import ipywidgets as widgets\n",
    "\n",
    "layout = widgets.Layout(width='auto', height='40px')\n",
    "\n",
    "rank = 1\n",
    "drop_down = widgets.Dropdown(options=[\"Please select rank\",1,2,3,4],\n",
    "                                description='I can configure and personalize my notebook to begin working on my data project',\n",
    "                                disabled=False,\n",
    "                                display='flex',\n",
    "                                flex_flow='column',\n",
    "                                align_items='stretch',\n",
    "                                style= {'description_width': 'initial'},\n",
    "                                layout = layout)\n",
    "\n",
    "overall_rank_setup_lists = list()\n",
    "def ranking_calculator(change):\n",
    "    global rank\n",
    "    #print(\"Item_A ranking:\", change.new)\n",
    "    rank = change.new\n",
    "    if rank == 1:\n",
    "        rank = 1\n",
    "    elif rank == 2:\n",
    "        rank = 2\n",
    "    elif rank == 3:\n",
    "        rank = 3\n",
    "    elif rank == 4:\n",
    "        rank = 4\n",
    "    else:\n",
    "        rank = 0\n",
    "    max_score = 4\n",
    "    overall_rank_setup = (rank / max_score)*100\n",
    "    overall_rank_setup_lists.append(overall_rank_setup)\n",
    "    #print(overall_rank_setup_lists)\n",
    "    #print(\"setup_rank score:\", overall_rank_setup)\n",
    "drop_down.observe(ranking_calculator, names='value')\n",
    "display(drop_down)\n",
    "\n",
    "rank = 1\n",
    "drop_down = widgets.Dropdown(options=[\"Please select rank\",1,2,3,4],\n",
    "                                description='I can write and edit code in my notebook',\n",
    "                                disabled=False,\n",
    "                                display='flex',\n",
    "                                flex_flow='column',\n",
    "                                align_items='stretch',\n",
    "                                style= {'description_width': 'initial'},\n",
    "                                layout = layout)\n",
    "\n",
    "overall_rank_coding_lists = list()\n",
    "def ranking_calculator(change):\n",
    "    global rank\n",
    "    #print(\"Item_B ranking:\", change.new)\n",
    "    rank = change.new\n",
    "    if rank == 1:\n",
    "        rank = 1\n",
    "    elif rank == 2:\n",
    "        rank = 2\n",
    "    elif rank == 3:\n",
    "        rank = 3\n",
    "    elif rank == 4:\n",
    "        rank = 4\n",
    "    else:\n",
    "        rank = 0\n",
    "    max_score = 4\n",
    "    overall_rank_coding = (rank / max_score)*100\n",
    "    overall_rank_coding_lists.append(overall_rank_coding)\n",
    "    #print(overall_rank_coding_lists)\n",
    "    #print(\"coding_rank score:\", overall_rank_coding)\n",
    "drop_down.observe(ranking_calculator, names='value')\n",
    "display(drop_down)\n",
    "\n",
    "rank = 1\n",
    "drop_down = widgets.Dropdown(options=[\"Please select rank\",1,2,3,4],\n",
    "                                description='I can export my notebook content in different formats',\n",
    "                                disabled=False,\n",
    "                                display='flex',\n",
    "                                flex_flow='column',\n",
    "                                align_items='stretch',\n",
    "                                style= {'description_width': 'initial'},\n",
    "                                layout = layout)\n",
    "\n",
    "overall_rank_exporting_lists = list()\n",
    "def ranking_calculator(change):\n",
    "    global rank\n",
    "    #print(\"Item_C ranking:\", change.new)\n",
    "    rank = change.new\n",
    "    if rank == 1:\n",
    "        rank = 1\n",
    "    elif rank == 2:\n",
    "        rank = 2\n",
    "    elif rank == 3:\n",
    "        rank = 3\n",
    "    elif rank == 4:\n",
    "        rank = 4\n",
    "    else:\n",
    "        rank = 0\n",
    "    max_score = 4\n",
    "    overall_rank_exporting = (rank / max_score)*100\n",
    "    overall_rank_exporting_lists.append(overall_rank_exporting)\n",
    "    #print(overall_rank_exporting_lists)\n",
    "    #print(\"exporting_rank score:\", overall_rank_exporting)\n",
    "drop_down.observe(ranking_calculator, names='value')\n",
    "display(drop_down)\n",
    "\n",
    "rank = 1\n",
    "drop_down = widgets.Dropdown(options=[\"Please select rank\",1,2,3,4],\n",
    "                                description='I can integrate notebook with other tools',\n",
    "                                disabled=False,\n",
    "                                display='flex',\n",
    "                                flex_flow='column',\n",
    "                                align_items='stretch',\n",
    "                                style= {'description_width': 'initial'},\n",
    "                                layout = layout)\n",
    "\n",
    "overall_rank_integration_lists = list()\n",
    "def ranking_calculator(change):\n",
    "    global rank\n",
    "    #print(\"Item_D ranking:\", change.new)\n",
    "    rank = change.new\n",
    "    if rank == 1:\n",
    "        rank = 1\n",
    "    elif rank == 2:\n",
    "        rank = 2\n",
    "    elif rank == 3:\n",
    "        rank = 3\n",
    "    elif rank == 4:\n",
    "        rank = 4\n",
    "    else:\n",
    "        rank = 0\n",
    "    max_score = 4\n",
    "    overall_rank_integration = (rank / max_score)*100\n",
    "    overall_rank_integration_lists.append(overall_rank_integration)\n",
    "    #print(overall_rank_integration_lists)\n",
    "    #print(\"integration_rank score:\", overall_rank_integration)\n",
    "drop_down.observe(ranking_calculator, names='value')\n",
    "display(drop_down)"
   ]
  },
  {
   "cell_type": "markdown",
   "id": "94263471",
   "metadata": {},
   "source": [
    "### When using your notebook, how important are the following features to you?"
   ]
  },
  {
   "cell_type": "code",
   "execution_count": 12,
   "id": "a31cb73f",
   "metadata": {
    "scrolled": true
   },
   "outputs": [
    {
     "data": {
      "application/vnd.jupyter.widget-view+json": {
       "model_id": "5d0f9053be4c4b538509d73b957a985d",
       "version_major": 2,
       "version_minor": 0
      },
      "text/plain": [
       "Dropdown(description='I can configure and personalize my notebook to begin working on my data project', layout…"
      ]
     },
     "metadata": {},
     "output_type": "display_data"
    },
    {
     "data": {
      "application/vnd.jupyter.widget-view+json": {
       "model_id": "9fcc67824ee047b58a84fd986a826280",
       "version_major": 2,
       "version_minor": 0
      },
      "text/plain": [
       "Dropdown(description='I can write and edit code in notebook', layout=Layout(height='40px', width='auto'), opti…"
      ]
     },
     "metadata": {},
     "output_type": "display_data"
    },
    {
     "data": {
      "application/vnd.jupyter.widget-view+json": {
       "model_id": "71a0e1cb779242bc902728e3e9b9f345",
       "version_major": 2,
       "version_minor": 0
      },
      "text/plain": [
       "Dropdown(description='I can export my notebook content in different formats', layout=Layout(height='40px', wid…"
      ]
     },
     "metadata": {},
     "output_type": "display_data"
    },
    {
     "data": {
      "application/vnd.jupyter.widget-view+json": {
       "model_id": "028d4a4d927d429cb3303275a2aac687",
       "version_major": 2,
       "version_minor": 0
      },
      "text/plain": [
       "Dropdown(description='I can integrate my notebook with other tools', layout=Layout(height='40px', width='auto'…"
      ]
     },
     "metadata": {},
     "output_type": "display_data"
    }
   ],
   "source": [
    "import ipywidgets as widgets\n",
    "\n",
    "layout = widgets.Layout(width='auto', height='40px')\n",
    "\n",
    "rank = 1\n",
    "drop_down = widgets.Dropdown(options=[\"Please select\",\"not at all important\",\"low importance\",\"neutral\",\"important\", \"very important\"],\n",
    "                                description='I can configure and personalize my notebook to begin working on my data project',\n",
    "                                disabled=False,\n",
    "                                display='flex',\n",
    "                                flex_flow='column',\n",
    "                                align_items='stretch',\n",
    "                                style= {'description_width': 'initial'},\n",
    "                                layout = layout)\n",
    "\n",
    "overall_scale_setup_lists = list()\n",
    "def scale_calculator(change):\n",
    "    global rank\n",
    "    #print(\"Item_A ranking:\", change.new)\n",
    "    rank = change.new\n",
    "    if rank == \"not at all important\":\n",
    "        rank = 1\n",
    "    elif rank == \"low importance\":\n",
    "        rank = 2\n",
    "    elif rank == \"neutral\":\n",
    "        rank = 3\n",
    "    elif rank == \"important\":\n",
    "        rank = 4\n",
    "    elif rank == \"very important\":\n",
    "        rank = 5\n",
    "    else:\n",
    "        rank = 0\n",
    "    max_score = 5\n",
    "    overall_scale_setup = (rank / max_score)*100\n",
    "    overall_scale_setup_lists.append(overall_scale_setup)\n",
    "    #print(overall_scale_setup_lists)\n",
    "    #print(\"setup_scale score:\", overall_scale_setup)\n",
    "drop_down.observe(scale_calculator, names='value')\n",
    "display(drop_down)\n",
    "\n",
    "rank = 1\n",
    "drop_down = widgets.Dropdown(options=[\"Please select\",\"not at all important\",\"low importance\",\"neutral\",\"important\", \"very important\"],\n",
    "                                description='I can write and edit code in notebook',\n",
    "                                disabled=False,\n",
    "                                display='flex',\n",
    "                                flex_flow='column',\n",
    "                                align_items='stretch',\n",
    "                                style= {'description_width': 'initial'},\n",
    "                                layout = layout)\n",
    "\n",
    "overall_scale_coding_lists = list()\n",
    "def scale_calculator(change):\n",
    "    global rank\n",
    "    #print(\"Item_B ranking:\", change.new)\n",
    "    rank = change.new\n",
    "    if rank == \"not at all important\":\n",
    "        rank = 1\n",
    "    elif rank == \"low importance\":\n",
    "        rank = 2\n",
    "    elif rank == \"neutral\":\n",
    "        rank = 3\n",
    "    elif rank == \"important\":\n",
    "        rank = 4\n",
    "    elif rank == \"very important\":\n",
    "        rank = 5\n",
    "    else:\n",
    "        rank = 0\n",
    "    max_score = 5\n",
    "    overall_scale_coding = (rank / max_score)*100\n",
    "    overall_scale_coding_lists.append(overall_scale_coding)\n",
    "    #print(overall_scale_coding_lists)\n",
    "    #print(\"coding_scale score:\", overall_scale_coding)\n",
    "drop_down.observe(scale_calculator, names='value')\n",
    "display(drop_down)\n",
    "\n",
    "rank = 1\n",
    "drop_down = widgets.Dropdown(options=[\"Please select\",\"not at all important\",\"low importance\",\"neutral\",\"important\", \"very important\"],\n",
    "                                description='I can export my notebook content in different formats',\n",
    "                                disabled=False,\n",
    "                                display='flex',\n",
    "                                flex_flow='column',\n",
    "                                align_items='stretch',\n",
    "                                style= {'description_width': 'initial'},\n",
    "                                layout = layout)\n",
    "overall_scale_exporting_lists = list()\n",
    "def scale_calculator(change):\n",
    "    global rank\n",
    "    #print(\"Item_C ranking:\", change.new)\n",
    "    rank = change.new\n",
    "    if rank == \"not at all important\":\n",
    "        rank = 1\n",
    "    elif rank == \"low importance\":\n",
    "        rank = 2\n",
    "    elif rank == \"neutral\":\n",
    "        rank = 3\n",
    "    elif rank == \"important\":\n",
    "        rank = 4\n",
    "    elif rank == \"very important\":\n",
    "        rank = 5\n",
    "    else:\n",
    "        rank = 0\n",
    "    max_score = 5\n",
    "    overall_scale_exporting = (rank / max_score)*100\n",
    "    overall_scale_exporting_lists.append(overall_scale_exporting)\n",
    "    #print(overall_scale_exporting_lists)\n",
    "    #print(\"exporting_scale score:\", overall_scale_exporting)\n",
    "drop_down.observe(scale_calculator, names='value')\n",
    "display(drop_down)\n",
    "\n",
    "rank = 1\n",
    "drop_down = widgets.Dropdown(options=[\"Please select\",\"not at all important\",\"low importance\",\"neutral\",\"important\", \"very important\"],\n",
    "                                description='I can integrate my notebook with other tools',\n",
    "                                disabled=False,\n",
    "                                display='flex',\n",
    "                                flex_flow='column',\n",
    "                                align_items='stretch',\n",
    "                                style= {'description_width': 'initial'},\n",
    "                                layout = layout)\n",
    "\n",
    "overall_scale_integration_lists = list()\n",
    "def scale_calculator(change):\n",
    "    global rank\n",
    "    #print(\"Item_D ranking:\", change.new)\n",
    "    rank = change.new\n",
    "    if rank == \"not at all important\":\n",
    "        rank = 1\n",
    "    elif rank == \"low importance\":\n",
    "        rank = 2\n",
    "    elif rank == \"neutral\":\n",
    "        rank = 3\n",
    "    elif rank == \"important\":\n",
    "        rank = 4\n",
    "    elif rank == \"very important\":\n",
    "        rank = 5\n",
    "    else:\n",
    "        rank = 0\n",
    "    max_score = 5\n",
    "    overall_scale_integration = (rank / max_score)*100\n",
    "    overall_scale_integration_lists.append(overall_scale_integration)\n",
    "    #print(overall_scale_integration_lists)\n",
    "    #print(\"integration_scale score:\", overall_scale_integration)\n",
    "drop_down.observe(scale_calculator, names='value')\n",
    "display(drop_down)"
   ]
  },
  {
   "cell_type": "code",
   "execution_count": 13,
   "id": "6c52eb47",
   "metadata": {
    "scrolled": true
   },
   "outputs": [
    {
     "data": {
      "application/vnd.jupyter.widget-view+json": {
       "model_id": "93a865dca56b44d4b5a72442beb8da21",
       "version_major": 2,
       "version_minor": 0
      },
      "text/plain": [
       "Button(description='RESET SURVEY', style=ButtonStyle())"
      ]
     },
     "metadata": {},
     "output_type": "display_data"
    }
   ],
   "source": [
    "from IPython.display import Javascript, display\n",
    "from ipywidgets import widgets\n",
    "\n",
    "def run_all(ev):\n",
    "    display(Javascript('IPython.notebook.execute_cells_above()'))\n",
    "\n",
    "button = widgets.Button(description=\"RESET SURVEY\")\n",
    "button.on_click(run_all)\n",
    "display(button)"
   ]
  },
  {
   "cell_type": "markdown",
   "id": "78a2c613",
   "metadata": {
    "jp-MarkdownHeadingCollapsed": true,
    "tags": []
   },
   "source": [
    "#### ⚠️ CLICK BUTTON ABOVE TO RESET SURVEY "
   ]
  },
  {
   "cell_type": "markdown",
   "id": "76be30cc",
   "metadata": {},
   "source": [
    "#### 🟢 CLICK BUTTON BELOW TO VIEW RESULTS "
   ]
  },
  {
   "cell_type": "code",
   "execution_count": 14,
   "id": "058e943d",
   "metadata": {},
   "outputs": [
    {
     "data": {
      "application/vnd.jupyter.widget-view+json": {
       "model_id": "a0434191817a44c5ad33cae79a22083f",
       "version_major": 2,
       "version_minor": 0
      },
      "text/plain": [
       "Button(description='VIEW RESULTS', style=ButtonStyle())"
      ]
     },
     "metadata": {},
     "output_type": "display_data"
    }
   ],
   "source": [
    "from IPython.display import Javascript, display\n",
    "from ipywidgets import widgets\n",
    "\n",
    "def run_all(ev):\n",
    "    display(Javascript('IPython.notebook.execute_cells_below()'))\n",
    "\n",
    "button = widgets.Button(description=\"VIEW RESULTS\")\n",
    "button.on_click(run_all)\n",
    "display(button)"
   ]
  },
  {
   "cell_type": "code",
   "execution_count": 15,
   "id": "8444bfe5",
   "metadata": {
    "scrolled": true
   },
   "outputs": [],
   "source": [
    "#Setting up Notebook Scores by Category\n",
    "import math\n",
    "try:\n",
    "    for scores in setup_scale_manager_lists:\n",
    "        scale_manager_score = scores\n",
    "    for scores in setup_rank_manager_lists:\n",
    "        rank_manager_score = scores\n",
    "    total_manager_score = math.floor((scale_manager_score + rank_manager_score)/2)\n",
    "    for scores in setup_scale_upload_lists:\n",
    "        scale_upload_score = scores\n",
    "    for scores in setup_rank_upload_lists:\n",
    "        rank_upload_score = scores\n",
    "    total_upload_score = math.floor((scale_upload_score + rank_upload_score)/2)\n",
    "    for scores in setup_scale_language_lists:\n",
    "        scale_language_score = scores\n",
    "    for scores in setup_rank_language_lists:\n",
    "        rank_language_score = scores\n",
    "    total_language_score = math.floor((scale_language_score + rank_language_score)/2)\n",
    "    for scores in setup_scale_data_lists:\n",
    "        scale_data_score = scores\n",
    "    for scores in setup_rank_data_lists:\n",
    "        rank_data_score = scores\n",
    "    total_data_score = math.floor((scale_data_score + rank_data_score)/2)\n",
    "except NameError:\n",
    "    pass\n",
    "#print(\"thank you for running the cell, your response was recorded\")"
   ]
  },
  {
   "cell_type": "code",
   "execution_count": 16,
   "id": "0c8ef454",
   "metadata": {
    "scrolled": true
   },
   "outputs": [],
   "source": [
    "#Coding and editing notebook scores by Categories\n",
    "import math\n",
    "try:\n",
    "    for scores in coding_scale_write_lists:\n",
    "        scale_write_score = scores\n",
    "    for scores in coding_rank_write_lists:\n",
    "        rank_write_score = scores\n",
    "    total_write_score = math.floor((scale_write_score + rank_write_score)/2)\n",
    "    for scores in coding_scale_check_lists:\n",
    "        scale_check_score = scores\n",
    "    for scores in coding_rank_check_lists:\n",
    "        rank_check_score = scores\n",
    "    total_check_score = math.floor((scale_check_score + rank_check_score)/2)\n",
    "    for scores in coding_scale_output_lists:\n",
    "        scale_output_score = scores\n",
    "    for scores in coding_rank_output_lists:\n",
    "        rank_output_score = scores\n",
    "    total_output_score = math.floor((scale_output_score + rank_output_score)/2)\n",
    "    for scores in coding_scale_save_lists:\n",
    "        scale_save_score = scores\n",
    "    for scores in coding_rank_save_lists:\n",
    "        rank_save_score = scores\n",
    "    total_save_score = math.floor((scale_save_score + rank_save_score)/2)\n",
    "    for scores in coding_scale_markdown_lists:\n",
    "        scale_markdown_score = scores\n",
    "    for scores in coding_rank_markdown_lists:\n",
    "        rank_markdown_score = scores\n",
    "    total_markdown_score = math.floor((scale_markdown_score + rank_markdown_score)/2)\n",
    "    for scores in coding_scale_bash_lists:\n",
    "        scale_bash_score = scores\n",
    "    for scores in coding_rank_bash_lists:\n",
    "        rank_bash_score = scores\n",
    "    total_bash_score = math.floor((scale_bash_score + rank_bash_score)/2)\n",
    "    for scores in coding_scale_magic_lists:\n",
    "        scale_magic_score = scores\n",
    "    for scores in coding_rank_magic_lists:\n",
    "        rank_magic_score = scores\n",
    "    total_magic_score = math.floor((scale_magic_score + rank_magic_score)/2)\n",
    "except NameError:\n",
    "    pass\n",
    "#print(\"thank you for running the cell, your response was recorded\")"
   ]
  },
  {
   "cell_type": "code",
   "execution_count": 17,
   "id": "6ba63603",
   "metadata": {},
   "outputs": [],
   "source": [
    "#RUN THIS CELL PLEASE\n",
    "#Exporting Notebook Content Scores by Category\n",
    "import math\n",
    "try:\n",
    "    for scores in exporting_scale_share_lists:\n",
    "        scale_share_score = scores\n",
    "    for scores in exporting_rank_share_lists:\n",
    "        rank_share_score = scores\n",
    "    total_share_score = math.floor((scale_share_score + rank_share_score)/2)\n",
    "    for scores in exporting_scale_download_lists:\n",
    "        scale_download_score = scores\n",
    "    for scores in exporting_rank_download_lists:\n",
    "        rank_download_score = scores\n",
    "    total_download_score = math.floor((scale_download_score + rank_download_score)/2)\n",
    "except NameError:\n",
    "    pass\n",
    "#print(\"thank you for running the cell, your response was recorded\")"
   ]
  },
  {
   "cell_type": "code",
   "execution_count": 18,
   "id": "7cf21756",
   "metadata": {},
   "outputs": [],
   "source": [
    "#RUN THIS CELL PLEASE\n",
    "#Integrating my Notebook with other tools by Category\n",
    "import math\n",
    "try:\n",
    "    for scores in integrating_rank_authentication_lists:\n",
    "        rank_authentication_score = scores\n",
    "    for scores in integrating_scale_authentication_lists:\n",
    "        scale_authentication_score = scores\n",
    "    total_authentication_score = math.floor((rank_authentication_score + scale_authentication_score)/2)\n",
    "    for scores in integrating_rank_infrastructure_lists:\n",
    "        rank_infrastructure_score = scores\n",
    "    for scores in integrating_scale_infrastructure_lists:\n",
    "        scale_infrastructure_score = scores\n",
    "    total_infrastructure_score = math.floor((rank_infrastructure_score + scale_infrastructure_score)/2)\n",
    "    for scores in integrating_rank_container_lists:\n",
    "        rank_container_score = scores\n",
    "    for scores in integrating_scale_container_lists:\n",
    "        scale_container_score = scores\n",
    "    total_container_score = math.floor((rank_container_score + scale_container_score)/2)\n",
    "    for scores in integrating_rank_unified_lists:\n",
    "        rank_unified_score = scores\n",
    "    for scores in integrating_scale_unified_lists:\n",
    "        scale_unified_score = scores\n",
    "    total_unified_score = math.floor((rank_unified_score + scale_unified_score)/2)\n",
    "    for scores in integrating_rank_voila_lists:\n",
    "        rank_voila_score = scores\n",
    "    for scores in integrating_scale_voila_lists:\n",
    "        scale_voila_score = scores\n",
    "    total_voila_score = math.floor((rank_voila_score + scale_voila_score)/2)\n",
    "except NameError:\n",
    "    pass\n",
    "#print(\"thank you for running the cell, your response was recorded\")"
   ]
  },
  {
   "cell_type": "code",
   "execution_count": 19,
   "id": "af0cea87",
   "metadata": {},
   "outputs": [],
   "source": [
    "#RUN THIS CELL PLEASE\n",
    "#Final notebook category scores\n",
    "import math\n",
    "try:\n",
    "    for scores in overall_rank_setup_lists:\n",
    "        rank_setup_score = scores\n",
    "    for scores in overall_scale_setup_lists:\n",
    "        scale_setup_score = scores\n",
    "    total_setup_score = math.floor((rank_setup_score + scale_setup_score)/2)\n",
    "    for scores in overall_rank_coding_lists:\n",
    "        rank_coding_score = scores\n",
    "    for scores in overall_scale_coding_lists:\n",
    "        scale_coding_score = scores\n",
    "    total_coding_score = math.floor((rank_coding_score + scale_coding_score)/2)\n",
    "    for scores in overall_rank_exporting_lists:\n",
    "        rank_exporting_score = scores\n",
    "    for scores in overall_scale_exporting_lists:\n",
    "        scale_exporting_score = scores\n",
    "    total_exporting_score = math.floor((rank_exporting_score + scale_exporting_score)/2)\n",
    "    for scores in overall_rank_integration_lists:\n",
    "        rank_integration_score = scores\n",
    "    for scores in overall_scale_integration_lists:\n",
    "        scale_integration_score = scores\n",
    "    total_integration_score = math.floor((rank_integration_score + scale_integration_score)/2)\n",
    "except NameError:\n",
    "    pass\n",
    "#print(\"thank you for running the cell, your response was recorded\")"
   ]
  },
  {
   "cell_type": "code",
   "execution_count": 20,
   "id": "169c4472",
   "metadata": {},
   "outputs": [],
   "source": [
    "#RUN THIS CELL PLEASE\n",
    "#overall notebook capabilities total score by category\n",
    "def takeSecond(elem):\n",
    "    return elem[1]\n",
    "try:\n",
    "    overall_total_scores_lists = list()\n",
    "    overall_total_set_up = \"I can configure and personalize my notebook to begin working on my data project\", total_setup_score\n",
    "    overall_total_scores_lists.append(overall_total_set_up)\n",
    "    overall_total_coding = \"I can write and edit code in my notebook\", total_coding_score\n",
    "    overall_total_scores_lists.append(overall_total_coding)\n",
    "    overall_total_exporting = \"I can export my notebook content in different formats\", total_exporting_score\n",
    "    overall_total_scores_lists.append(overall_total_exporting)\n",
    "    overall_total_integration = \"I can integrate my notebook with other tools\", total_integration_score\n",
    "    overall_total_scores_lists.append(overall_total_integration)\n",
    "    overall_total_scores_lists.sort(reverse=True, key=takeSecond)\n",
    "except NameError:\n",
    "    pass\n",
    "#print(overall_total_scores_lists)\n",
    "#print(\"thank you for running the cell, your response was recorded\")"
   ]
  },
  {
   "cell_type": "code",
   "execution_count": 21,
   "id": "c41c74e9",
   "metadata": {},
   "outputs": [],
   "source": [
    "#RUN THIS CELL PLEASE\n",
    "#Setting up my notebook final scores\n",
    "def takeSecond(elem):\n",
    "    return elem[1]\n",
    "\n",
    "import math\n",
    "try:\n",
    "    set_up_final_scores_lists = list()\n",
    "    final_manager_score = \"I can integrate my notebook with a package and environment manager like Conda or pip\", math.floor((total_manager_score + total_setup_score)/2)\n",
    "    set_up_final_scores_lists.append(final_manager_score)\n",
    "    final_upload_score = \"I can upload files in different formats to my notebook\", math.floor((total_upload_score + total_setup_score)/2)\n",
    "    set_up_final_scores_lists.append(final_upload_score)\n",
    "    final_language_score = \"I can choose programming language of my notebook\", math.floor((total_language_score + total_setup_score)/2)\n",
    "    set_up_final_scores_lists.append(final_language_score)\n",
    "    final_data_score = \"I can import data analyis packages like Pandas to my notebook\", math.floor((total_data_score + total_setup_score)/2)\n",
    "    set_up_final_scores_lists.append(final_data_score)\n",
    "    set_up_final_scores_lists.sort(reverse=True, key=takeSecond)\n",
    "except NameError:\n",
    "    pass\n",
    "#print(set_up_final_scores_lists)\n",
    "#print(\"thank you for running the cell, your response was recorded\")"
   ]
  },
  {
   "cell_type": "code",
   "execution_count": 22,
   "id": "eec609e8",
   "metadata": {},
   "outputs": [],
   "source": [
    "#RUN THIS CELL PLEASE\n",
    "#coding and editing in my notebook final scores\n",
    "def takeSecond(elem):\n",
    "    return elem[1]\n",
    "\n",
    "import math\n",
    "\n",
    "coding_final_scores_lists = list()\n",
    "try:\n",
    "    final_write_score = \"I can write and edit code in my prefered programming language in my notebook\", math.floor((total_write_score + total_coding_score)/2)\n",
    "    coding_final_scores_lists.append(final_write_score)\n",
    "    final_check_score = \"I can live check my code for mistakes in my notebook\", math.floor((total_check_score + total_coding_score)/2)\n",
    "    coding_final_scores_lists.append(final_check_score)\n",
    "    final_ouput_score = \"I can generate an interactive output of my code in my notebook\", math.floor((total_output_score + total_coding_score)/2)\n",
    "    coding_final_scores_lists.append(final_ouput_score)\n",
    "    final_save_score = \"I can save my word and return to my notebook later\", math.floor((total_save_score + total_coding_score)/2)\n",
    "    coding_final_scores_lists.append(final_save_score)\n",
    "    final_markdown_score = \"I can write markdowns in my notebook\", math.floor((total_markdown_score + total_coding_score)/2)\n",
    "    coding_final_scores_lists.append(final_markdown_score)\n",
    "    final_bash_score = \"I can write Bash commands in my notebook\",math.floor((total_bash_score + total_coding_score)/2)\n",
    "    coding_final_scores_lists.append(final_bash_score)\n",
    "    final_magic_score = \"I can write magic commands in my notebook\", math.floor((total_magic_score + total_coding_score)/2)\n",
    "    coding_final_scores_lists.append(final_magic_score)\n",
    "    coding_final_scores_lists.sort(reverse=True, key=takeSecond)\n",
    "except NameError:\n",
    "    pass\n",
    "#print(coding_final_scores_lists)\n",
    "#print(\"thank you for running the cell, your response was recorded\")"
   ]
  },
  {
   "cell_type": "code",
   "execution_count": 23,
   "id": "eed1d19e",
   "metadata": {},
   "outputs": [],
   "source": [
    "#RUN THIS CELL PLEASE\n",
    "#exporting notebook content final scores\n",
    "def takeSecond(elem):\n",
    "    return elem[1]\n",
    "\n",
    "import math\n",
    "exporting_final_scores_lists = list()\n",
    "try:\n",
    "    final_share_score = \"I can share my notebook content via methods like email and Github\", math.floor((total_share_score + total_exporting_score)/2)\n",
    "    exporting_final_scores_lists.append(final_share_score)\n",
    "    final_download_score = \"I can download my notebook content in different formats\", math.floor((total_download_score + total_exporting_score)/2)\n",
    "    exporting_final_scores_lists.append(final_download_score)\n",
    "    exporting_final_scores_lists.sort(reverse=True, key=takeSecond)\n",
    "except NameError:\n",
    "    pass\n",
    "#print(exporting_final_scores_lists)\n",
    "#print(\"thank you for running the cell, your response was recorded\")"
   ]
  },
  {
   "cell_type": "code",
   "execution_count": 24,
   "id": "2d4dc18f",
   "metadata": {},
   "outputs": [],
   "source": [
    "#RUN THIS CELL PLEASE\n",
    "#integration my notebook with other tools final scores\n",
    "def takeSecond(elem):\n",
    "    return elem[1]\n",
    "\n",
    "import math\n",
    "integration_final_scores_lists = list()\n",
    "try:\n",
    "    final_authentication_score = \"I can integrate my notebook with authentication tools\", math.floor((total_authentication_score + total_integration_score)/2)\n",
    "    integration_final_scores_lists.append(final_authentication_score)\n",
    "    final_infrastructure_score = \"I can integrate my notebook with a centralized infrastructure\", math.floor((total_infrastructure_score + total_integration_score)/2)\n",
    "    exporting_final_scores_lists.append(final_infrastructure_score)\n",
    "    final_container_score = \"I can integrate my notebook with a container like Dockers or Kubernetes\", math.floor((total_container_score + total_integration_score)/2)\n",
    "    integration_final_scores_lists.append(final_container_score)\n",
    "    final_unified_score = \"I can integrate my notebook with my data to provide unified software management and data access\", math.floor((total_unified_score + total_integration_score)/2)\n",
    "    integration_final_scores_lists.append(final_unified_score)\n",
    "    final_voila_score = \"I can integrate my notebook with extensions like voila to communicating insights via stand alone interactive web applications\", math.floor((total_voila_score + total_integration_score)/2)\n",
    "    integration_final_scores_lists.append(final_voila_score)\n",
    "    integration_final_scores_lists.sort(reverse=True, key=takeSecond)\n",
    "except NameError:\n",
    "    pass\n",
    "#print(integration_final_scores_lists)\n",
    "#print(\"thank you for running the cell, your response was recorded\")"
   ]
  },
  {
   "cell_type": "markdown",
   "id": "48a794d1",
   "metadata": {},
   "source": [
    "## Your Survey Results"
   ]
  },
  {
   "cell_type": "markdown",
   "id": "caf907cc",
   "metadata": {},
   "source": [
    "### Your Notebook Features with a score of 75 to 100\n",
    "#### Note: Results listed in descending order"
   ]
  },
  {
   "cell_type": "code",
   "execution_count": 25,
   "id": "050f5bbc",
   "metadata": {},
   "outputs": [],
   "source": [
    "#print(\"My free edition Notebook must haves these following features:\")\n",
    "free_edition_features_lists = list()\n",
    "try:\n",
    "    for set_up_final, score in set_up_final_scores_lists:\n",
    "        if score >=75:\n",
    "            free_edition_features_lists.append(set_up_final)\n",
    "    for  coding_final, score in coding_final_scores_lists:\n",
    "        if score >=75:\n",
    "            free_edition_features_lists.append(coding_final) \n",
    "    for exporting_final, score in exporting_final_scores_lists:\n",
    "        if score >=75:\n",
    "            free_edition_features_lists.append(exporting_final)\n",
    "    for integration_final, score in integration_final_scores_lists:\n",
    "        if score >=75:\n",
    "            free_edition_features_lists.append(integration_final)\n",
    "    for free_edition_features in free_edition_features_lists:\n",
    "        print(free_edition_features)\n",
    "except NameError:\n",
    "    pass"
   ]
  },
  {
   "cell_type": "markdown",
   "id": "b3dc58ce",
   "metadata": {},
   "source": [
    "### Your Notebook Features with a score of 50 to 74 \n",
    "#### Note: Results listed in descending order"
   ]
  },
  {
   "cell_type": "code",
   "execution_count": 26,
   "id": "ac9e430b",
   "metadata": {
    "scrolled": false
   },
   "outputs": [],
   "source": [
    "#print(\"Nice to have features for my free edition notebook:\")\n",
    "upgrade_edition_features_lists = list()\n",
    "low_score = 49\n",
    "high_score = 100\n",
    "\n",
    "upgrade_features_lists_filter = list()\n",
    "try:\n",
    "    for set_up_final, score in set_up_final_scores_lists:\n",
    "        if low_score < score < high_score:\n",
    "            upgrade_edition_features_lists.append(set_up_final)\n",
    "    for  coding_final, score in coding_final_scores_lists:\n",
    "        if low_score < score < high_score:\n",
    "            upgrade_edition_features_lists.append(coding_final) \n",
    "    for exporting_final, score in exporting_final_scores_lists:\n",
    "        if low_score < score < high_score:\n",
    "            upgrade_edition_features_lists.append(exporting_final)\n",
    "    for integration_final, score in integration_final_scores_lists:\n",
    "        if low_score < score < high_score:\n",
    "            upgrade_edition_features_lists.append(integration_final)\n",
    "    upgrade_features_lists = [upgrade_edition for upgrade_edition in upgrade_edition_features_lists if upgrade_edition not in free_edition_features_lists]\n",
    "    for upgrade_features in upgrade_features_lists:\n",
    "        print(upgrade_features)\n",
    "        upgrade_features_lists_filter.append(upgrade_features)\n",
    "except NameError:\n",
    "    pass          \n",
    "            "
   ]
  },
  {
   "cell_type": "code",
   "execution_count": 27,
   "id": "7cebdbed",
   "metadata": {},
   "outputs": [],
   "source": [
    "#add must have list to text file\n",
    "import os\n",
    "import ast\n",
    "\n",
    "must_have_lists = free_edition_features_lists\n",
    "must_have_file = 'must_have_demo_file.txt.'\n",
    "\n",
    "# save list in file\n",
    "with open(must_have_file, 'a') as f:\n",
    "    f.write((str(free_edition_features_lists))+ '\\n')\n",
    "\n"
   ]
  },
  {
   "cell_type": "code",
   "execution_count": 28,
   "id": "efa06980",
   "metadata": {},
   "outputs": [],
   "source": [
    "#add nice to have list to text file\n",
    "import os\n",
    "import ast\n",
    "\n",
    "nice_to_have_lists = upgrade_features_lists_filter\n",
    "nice_to_have_file = 'nice_to_have_demo_file.txt.'\n",
    "\n",
    "# save list in file\n",
    "with open(nice_to_have_file, 'a') as fd:\n",
    "    fd.write((str(upgrade_features_lists_filter)) + '\\n')\n",
    "    "
   ]
  },
  {
   "cell_type": "markdown",
   "id": "614cc073",
   "metadata": {},
   "source": [
    "# Overall Survey Results"
   ]
  },
  {
   "cell_type": "code",
   "execution_count": 29,
   "id": "04be6f18",
   "metadata": {},
   "outputs": [],
   "source": [
    "import pyparsing as pp\n",
    "\n",
    "must_have_file = open(\"must_have_demo_file.txt.\", \"r\")\n",
    "read_must_have_file = must_have_file.readlines()\n",
    "filter_elist_read_must_have_file = [ele for ele in read_must_have_file if ele != '[]\\n']\n",
    "#print(filter_elist_read_must_have_file)\n",
    "\n",
    "new_results_lists = list()\n",
    "new_index_lists = list()\n",
    "index = 0\n",
    "count = 0 \n",
    "for must_have_results in filter_elist_read_must_have_file:\n",
    "    must_have = must_have_results.rstrip().split(',')\n",
    "    # removed all puctuation from text because parsing was challenging\n",
    "    new_index = (index, must_have)\n",
    "    index +=1\n",
    "    new_index_lists.append(new_index)\n",
    "for new_index in new_index_lists:\n",
    "    user_results = (new_index[0], new_index[1]) \n",
    "    new_results_lists.append(user_results)\n",
    "\n",
    "one_rank_lists = list()\n",
    "two_rank_lists = list()\n",
    "three_rank_lists = list()\n",
    "four_rank_lists = list()\n",
    "five_rank_lists = list()\n",
    "six_rank_lists = list()\n",
    "seven_rank_lists = list()\n",
    "eight_rank_lists = list()\n",
    "nine_rank_lists = list()\n",
    "ten_rank_lists = list()\n",
    "overall_rank_lists = list()\n",
    "\n",
    "for user_results in new_results_lists:\n",
    "    user_rankings = user_results[0]\n",
    "    user_answers = user_results[1] \n",
    "    one_rank, two_rank, three_rank, four_rank, five_rank, six_rank, seven_rank, eight_rank, nine_rank, ten_rank = None, None, None, None, None, None, None, None, None, None\n",
    "    try:\n",
    "        one_rank = (user_rankings, user_answers[0])\n",
    "        one_rank_lists.append(one_rank)\n",
    "        two_rank = (user_rankings, user_answers[1])\n",
    "        two_rank_lists.append(two_rank)\n",
    "        three_rank = (user_rankings, user_answers[2])\n",
    "        three_rank_lists.append(three_rank)\n",
    "        four_rank = (user_rankings, user_answers[3])\n",
    "        four_rank_lists.append(four_rank)\n",
    "        five_rank = (user_rankings, user_answers[4])\n",
    "        five_rank_lists.append(five_rank)\n",
    "        six_rank = (user_rankings, user_answers[5])\n",
    "        six_rank_lists.append(six_rank)\n",
    "        seven_rank = (user_rankings, user_answers[6])\n",
    "        seven_rank_lists.append(seven_rank)\n",
    "        eight_rank = (user_rankings, user_answers[7])\n",
    "        eight_rank_lists.append(eight_rank)\n",
    "        nine_rank = (user_rankings, user_answers[8])\n",
    "        nine_rank_lists.append(nine_rank)\n",
    "        ten_rank = (user_rankings, user_answers[9])\n",
    "        ten_rank_lists.append(ten_rank)\n",
    "    except IndexError:\n",
    "        pass\n",
    "    \n",
    "overall_rank_lists.append(one_rank_lists)\n",
    "overall_rank_lists.append(two_rank_lists)\n",
    "overall_rank_lists.append(three_rank_lists)\n",
    "overall_rank_lists.append(four_rank_lists)\n",
    "overall_rank_lists.append(five_rank_lists)\n",
    "overall_rank_lists.append(six_rank_lists)\n",
    "overall_rank_lists.append(seven_rank_lists)\n",
    "overall_rank_lists.append(eight_rank_lists)\n",
    "overall_rank_lists.append(nine_rank_lists)\n",
    "overall_rank_lists.append(ten_rank_lists)\n",
    "#print(overall_rank_lists)\n",
    "#list can be indexed for each ranked item"
   ]
  },
  {
   "cell_type": "code",
   "execution_count": 30,
   "id": "d4fdcb72",
   "metadata": {},
   "outputs": [],
   "source": [
    "from collections import Counter\n",
    "import math\n",
    "\n",
    "#one place rankings\n",
    "\n",
    "one_rank_answers_lists = list()\n",
    "graph_one_rank_lists = list()\n",
    "for one_ranks in one_rank_lists:\n",
    "    one_rank_answers_lists.append(one_ranks[1])\n",
    "\n",
    "one_rank_dict = Counter(one_rank_answers_lists)\n",
    "\n",
    "for key, value in one_rank_dict.items():\n",
    "    try:\n",
    "        percent = math.floor(((value)/len(one_rank_lists)*100))\n",
    "        one_rank_answers = (percent, key)\n",
    "        graph_one_rank_lists.append(one_rank_answers)\n",
    "    except ZeroDivisionError:\n",
    "        pass\n",
    "#print(graph_one_rank_lists)\n",
    "\n",
    "# two place rankings\n",
    "\n",
    "two_rank_answers_lists = list()\n",
    "graph_two_rank_lists = list()\n",
    "for two_ranks in two_rank_lists:\n",
    "    two_rank_answers_lists.append(two_ranks[1])\n",
    "\n",
    "two_rank_dict = Counter(two_rank_answers_lists)\n",
    "\n",
    "for key, value in two_rank_dict.items():\n",
    "    try:\n",
    "        percent = math.floor(((value)/len(two_rank_lists)*100))\n",
    "        two_rank_answers = (percent, key)\n",
    "        graph_two_rank_lists.append(two_rank_answers)\n",
    "    except ZeroDivisionError:\n",
    "        pass\n",
    "#print(graph_two_rank_lists)\n",
    "\n",
    "# three place rankings\n",
    "\n",
    "three_rank_answers_lists = list()\n",
    "graph_three_rank_lists = list()\n",
    "for three_ranks in three_rank_lists:\n",
    "    three_rank_answers_lists.append(three_ranks[1])\n",
    "\n",
    "three_rank_dict = Counter(three_rank_answers_lists)\n",
    "\n",
    "for key, value in three_rank_dict.items():\n",
    "    try:\n",
    "        percent = math.floor(((value)/len(three_rank_lists)*100))\n",
    "        three_rank_answers = (percent, key)\n",
    "        graph_three_rank_lists.append(three_rank_answers)\n",
    "    except ZeroDivisionError:\n",
    "        pass\n",
    "#print(graph_three_rank_lists)\n",
    "\n",
    "\n",
    "# four place rankings\n",
    "\n",
    "four_rank_answers_lists = list()\n",
    "graph_four_rank_lists = list()\n",
    "for four_ranks in four_rank_lists:\n",
    "    four_rank_answers_lists.append(four_ranks[1])\n",
    "\n",
    "four_rank_dict = Counter(four_rank_answers_lists)\n",
    "\n",
    "for key, value in four_rank_dict.items():\n",
    "    try:\n",
    "        percent = math.floor(((value)/len(four_rank_lists)*100))\n",
    "        four_rank_answers = (percent, key)\n",
    "        graph_four_rank_lists.append(four_rank_answers)\n",
    "    except ZeroDivisionError:\n",
    "        pass\n",
    "#print(graph_four_rank_lists)\n",
    "\n",
    "# five place rankings\n",
    "\n",
    "five_rank_answers_lists = list()\n",
    "graph_five_rank_lists = list()\n",
    "for five_ranks in five_rank_lists:\n",
    "    five_rank_answers_lists.append(five_ranks[1])\n",
    "\n",
    "five_rank_dict = Counter(five_rank_answers_lists)\n",
    "\n",
    "for key, value in five_rank_dict.items():\n",
    "    try:\n",
    "        percent = math.floor(((value)/len(five_rank_lists)*100))\n",
    "        five_rank_answers = (percent, key)\n",
    "        graph_five_rank_lists.append(five_rank_answers)\n",
    "    except ZeroDivisionError:\n",
    "        pass\n",
    "#print(graph_five_rank_lists)\n",
    "\n",
    "# six place rankings\n",
    "\n",
    "six_rank_answers_lists = list()\n",
    "graph_six_rank_lists = list()\n",
    "for six_ranks in six_rank_lists:\n",
    "    six_rank_answers_lists.append(six_ranks[1])\n",
    "\n",
    "six_rank_dict = Counter(six_rank_answers_lists)\n",
    "\n",
    "for key, value in six_rank_dict.items():\n",
    "    try:\n",
    "        percent = math.floor(((value)/len(six_rank_lists)*100))\n",
    "        six_rank_answers = (percent, key)\n",
    "        graph_six_rank_lists.append(six_rank_answers)\n",
    "    except ZeroDivisionError:\n",
    "        pass\n",
    "#print(graph_six_rank_lists)\n",
    "\n",
    "# seven place rankings\n",
    "\n",
    "seven_rank_answers_lists = list()\n",
    "graph_seven_rank_lists = list()\n",
    "for seven_ranks in seven_rank_lists:\n",
    "    seven_rank_answers_lists.append(seven_ranks[1])\n",
    "\n",
    "seven_rank_dict = Counter(seven_rank_answers_lists)\n",
    "\n",
    "for key, value in seven_rank_dict.items():\n",
    "    try:\n",
    "        percent = math.floor(((value)/len(seven_rank_lists)*100))\n",
    "        seven_rank_answers = (percent, key)\n",
    "        graph_seven_rank_lists.append(seven_rank_answers)\n",
    "    except ZeroDivisionError:\n",
    "        pass\n",
    "#print(graph_seven_rank_lists)\n",
    "\n",
    "# eight place rankings\n",
    "\n",
    "eight_rank_answers_lists = list()\n",
    "graph_eight_rank_lists = list()\n",
    "for eight_ranks in eight_rank_lists:\n",
    "    eight_rank_answers_lists.append(eight_ranks[1])\n",
    "\n",
    "eight_rank_dict = Counter(eight_rank_answers_lists)\n",
    "\n",
    "for key, value in eight_rank_dict.items():\n",
    "    try:\n",
    "        percent = math.floor(((value)/len(eight_rank_lists)*100))\n",
    "        eight_rank_answers = (percent, key)\n",
    "        graph_eight_rank_lists.append(eight_rank_answers)\n",
    "    except ZeroDivisionError:\n",
    "        pass\n",
    "#print(graph_eight_rank_lists)\n",
    "\n",
    "# nine place rankings\n",
    "\n",
    "nine_rank_answers_lists = list()\n",
    "graph_nine_rank_lists = list()\n",
    "for nine_ranks in nine_rank_lists:\n",
    "    nine_rank_answers_lists.append(nine_ranks[1])\n",
    "\n",
    "nine_rank_dict = Counter(nine_rank_answers_lists)\n",
    "\n",
    "for key, value in nine_rank_dict.items():\n",
    "    try:\n",
    "        percent = math.floor(((value)/len(nine_rank_lists)*100))\n",
    "        nine_rank_answers = (percent, key)\n",
    "        graph_nine_rank_lists.append(nine_rank_answers)\n",
    "    except ZeroDivisionError:\n",
    "        pass\n",
    "#print(graph_nine_rank_lists)\n",
    "\n",
    "# ten place rankings\n",
    "\n",
    "ten_rank_answers_lists = list()\n",
    "graph_ten_rank_lists = list()\n",
    "for ten_ranks in nine_rank_lists:\n",
    "    ten_rank_answers_lists.append(ten_ranks[1])\n",
    "\n",
    "ten_rank_dict = Counter(ten_rank_answers_lists)\n",
    "\n",
    "for key, value in ten_rank_dict.items():\n",
    "    try:\n",
    "        percent = math.floor(((value)/len(ten_rank_lists)*100))\n",
    "        ten_rank_answers = (percent, key)\n",
    "        graph_ten_rank_lists.append(ten_rank_answers)\n",
    "    except ZeroDivisionError:\n",
    "        pass\n",
    "#print(graph_ten_rank_lists)"
   ]
  },
  {
   "cell_type": "markdown",
   "id": "25c41183",
   "metadata": {},
   "source": [
    "### Notebook Features with a score of 75 to 100"
   ]
  },
  {
   "cell_type": "markdown",
   "id": "1fa3a5dd",
   "metadata": {},
   "source": [
    "#### Top Ranked Notebook Features by Respondents"
   ]
  },
  {
   "cell_type": "code",
   "execution_count": 31,
   "id": "f709a157",
   "metadata": {},
   "outputs": [
    {
     "name": "stdout",
     "output_type": "stream",
     "text": [
      "Number of respondents: 7\n"
     ]
    }
   ],
   "source": [
    "print(\"Number of respondents:\",len(one_rank_lists))"
   ]
  },
  {
   "cell_type": "code",
   "execution_count": 32,
   "id": "85a90829",
   "metadata": {},
   "outputs": [
    {
     "data": {
      "text/html": [
       "<div>\n",
       "<style scoped>\n",
       "    .dataframe tbody tr th:only-of-type {\n",
       "        vertical-align: middle;\n",
       "    }\n",
       "\n",
       "    .dataframe tbody tr th {\n",
       "        vertical-align: top;\n",
       "    }\n",
       "\n",
       "    .dataframe thead th {\n",
       "        text-align: right;\n",
       "    }\n",
       "</style>\n",
       "<table border=\"1\" class=\"dataframe\">\n",
       "  <thead>\n",
       "    <tr style=\"text-align: right;\">\n",
       "      <th></th>\n",
       "      <th>% of Respondents</th>\n",
       "      <th>Top Ranked Feature</th>\n",
       "    </tr>\n",
       "  </thead>\n",
       "  <tbody>\n",
       "    <tr>\n",
       "      <th>0</th>\n",
       "      <td>28</td>\n",
       "      <td>['I can choose programming language of my note...</td>\n",
       "    </tr>\n",
       "    <tr>\n",
       "      <th>1</th>\n",
       "      <td>57</td>\n",
       "      <td>['I can integrate my notebook with a package a...</td>\n",
       "    </tr>\n",
       "    <tr>\n",
       "      <th>2</th>\n",
       "      <td>14</td>\n",
       "      <td>['I can import data analyis packages like Pand...</td>\n",
       "    </tr>\n",
       "  </tbody>\n",
       "</table>\n",
       "</div>"
      ],
      "text/plain": [
       "   % of Respondents                                 Top Ranked Feature\n",
       "0                28  ['I can choose programming language of my note...\n",
       "1                57  ['I can integrate my notebook with a package a...\n",
       "2                14  ['I can import data analyis packages like Pand..."
      ]
     },
     "execution_count": 32,
     "metadata": {},
     "output_type": "execute_result"
    }
   ],
   "source": [
    "import pandas as pd\n",
    "\n",
    "pd.DataFrame(graph_one_rank_lists, columns=[\"% of Respondents\", \"Top Ranked Feature\"])"
   ]
  },
  {
   "cell_type": "code",
   "execution_count": 33,
   "id": "25e0b723",
   "metadata": {},
   "outputs": [
    {
     "data": {
      "image/png": "[encoded data removed]",
      "text/plain": [
       "<Figure size 640x480 with 1 Axes>"
      ]
     },
     "metadata": {},
     "output_type": "display_data"
    }
   ],
   "source": [
    "import pandas as pd\n",
    "import matplotlib.pyplot as plt\n",
    "\n",
    "try:\n",
    "    df = pd.DataFrame(graph_one_rank_lists, columns=[\"Percentage of Respondents\", \"Top Ranked Features\"])\n",
    "    ax = df.plot.barh(x='Top Ranked Features', y='Percentage of Respondents', legend=False, color=['gray', 'red', 'green', 'blue', 'cyan', 'purple', 'orange'])\n",
    "except TypeError:\n",
    "    pass"
   ]
  },
  {
   "cell_type": "markdown",
   "id": "70499cb2",
   "metadata": {},
   "source": [
    "#### Second Ranked Notebook Features by respondents"
   ]
  },
  {
   "cell_type": "code",
   "execution_count": 34,
   "id": "8201f9b9",
   "metadata": {},
   "outputs": [
    {
     "name": "stdout",
     "output_type": "stream",
     "text": [
      "Number of respondents: 7\n"
     ]
    }
   ],
   "source": [
    "print(\"Number of respondents:\",len(two_rank_lists))"
   ]
  },
  {
   "cell_type": "code",
   "execution_count": 35,
   "id": "d75bc7a7",
   "metadata": {},
   "outputs": [
    {
     "data": {
      "text/html": [
       "<div>\n",
       "<style scoped>\n",
       "    .dataframe tbody tr th:only-of-type {\n",
       "        vertical-align: middle;\n",
       "    }\n",
       "\n",
       "    .dataframe tbody tr th {\n",
       "        vertical-align: top;\n",
       "    }\n",
       "\n",
       "    .dataframe thead th {\n",
       "        text-align: right;\n",
       "    }\n",
       "</style>\n",
       "<table border=\"1\" class=\"dataframe\">\n",
       "  <thead>\n",
       "    <tr style=\"text-align: right;\">\n",
       "      <th></th>\n",
       "      <th>% of Respondents</th>\n",
       "      <th>Second Ranked Features</th>\n",
       "    </tr>\n",
       "  </thead>\n",
       "  <tbody>\n",
       "    <tr>\n",
       "      <th>0</th>\n",
       "      <td>28</td>\n",
       "      <td>'I can upload files in different formats to m...</td>\n",
       "    </tr>\n",
       "    <tr>\n",
       "      <th>1</th>\n",
       "      <td>57</td>\n",
       "      <td>'I can import data analyis packages like Pand...</td>\n",
       "    </tr>\n",
       "    <tr>\n",
       "      <th>2</th>\n",
       "      <td>14</td>\n",
       "      <td>'I can integrate my notebook with a package a...</td>\n",
       "    </tr>\n",
       "  </tbody>\n",
       "</table>\n",
       "</div>"
      ],
      "text/plain": [
       "   % of Respondents                             Second Ranked Features\n",
       "0                28   'I can upload files in different formats to m...\n",
       "1                57   'I can import data analyis packages like Pand...\n",
       "2                14   'I can integrate my notebook with a package a..."
      ]
     },
     "execution_count": 35,
     "metadata": {},
     "output_type": "execute_result"
    }
   ],
   "source": [
    "import pandas as pd\n",
    "\n",
    "pd.DataFrame(graph_two_rank_lists, columns=[\"% of Respondents\", \"Second Ranked Features\"])"
   ]
  },
  {
   "cell_type": "code",
   "execution_count": 36,
   "id": "e5624ac9",
   "metadata": {},
   "outputs": [
    {
     "data": {
      "image/png": "[encoded data removed]",
      "text/plain": [
       "<Figure size 640x480 with 1 Axes>"
      ]
     },
     "metadata": {},
     "output_type": "display_data"
    }
   ],
   "source": [
    "import pandas as pd\n",
    "import matplotlib.pyplot as plt\n",
    "\n",
    "try:\n",
    "    df = pd.DataFrame(graph_two_rank_lists, columns=[\"Percentage of Respondents\", \"Second Ranked Features\"])\n",
    "    ax = df.plot.barh(x='Second Ranked Features', y='Percentage of Respondents', legend=False, color=['gray', 'red', 'green', 'blue', 'cyan', 'purple', 'orange'])\n",
    "except TypeError:\n",
    "    pass"
   ]
  },
  {
   "cell_type": "markdown",
   "id": "4894b544",
   "metadata": {},
   "source": [
    "#### Third Ranked Notebook Feature by Respondents"
   ]
  },
  {
   "cell_type": "code",
   "execution_count": 37,
   "id": "f20e3de4",
   "metadata": {},
   "outputs": [
    {
     "name": "stdout",
     "output_type": "stream",
     "text": [
      "Number of respondents: 7\n"
     ]
    }
   ],
   "source": [
    "print(\"Number of respondents:\",len(three_rank_lists))"
   ]
  },
  {
   "cell_type": "code",
   "execution_count": 38,
   "id": "1683de74",
   "metadata": {},
   "outputs": [
    {
     "data": {
      "text/html": [
       "<div>\n",
       "<style scoped>\n",
       "    .dataframe tbody tr th:only-of-type {\n",
       "        vertical-align: middle;\n",
       "    }\n",
       "\n",
       "    .dataframe tbody tr th {\n",
       "        vertical-align: top;\n",
       "    }\n",
       "\n",
       "    .dataframe thead th {\n",
       "        text-align: right;\n",
       "    }\n",
       "</style>\n",
       "<table border=\"1\" class=\"dataframe\">\n",
       "  <thead>\n",
       "    <tr style=\"text-align: right;\">\n",
       "      <th></th>\n",
       "      <th>% of Respondents</th>\n",
       "      <th>Third Ranked Features</th>\n",
       "    </tr>\n",
       "  </thead>\n",
       "  <tbody>\n",
       "    <tr>\n",
       "      <th>0</th>\n",
       "      <td>28</td>\n",
       "      <td>'I can live check my code for mistakes in my ...</td>\n",
       "    </tr>\n",
       "    <tr>\n",
       "      <th>1</th>\n",
       "      <td>42</td>\n",
       "      <td>'I can upload files in different formats to m...</td>\n",
       "    </tr>\n",
       "    <tr>\n",
       "      <th>2</th>\n",
       "      <td>14</td>\n",
       "      <td>'I can write and edit code in my prefered pro...</td>\n",
       "    </tr>\n",
       "    <tr>\n",
       "      <th>3</th>\n",
       "      <td>14</td>\n",
       "      <td>'I can integrate my notebook with a package a...</td>\n",
       "    </tr>\n",
       "  </tbody>\n",
       "</table>\n",
       "</div>"
      ],
      "text/plain": [
       "   % of Respondents                              Third Ranked Features\n",
       "0                28   'I can live check my code for mistakes in my ...\n",
       "1                42   'I can upload files in different formats to m...\n",
       "2                14   'I can write and edit code in my prefered pro...\n",
       "3                14   'I can integrate my notebook with a package a..."
      ]
     },
     "execution_count": 38,
     "metadata": {},
     "output_type": "execute_result"
    }
   ],
   "source": [
    "import pandas as pd\n",
    "\n",
    "pd.DataFrame(graph_three_rank_lists, columns=[\"% of Respondents\", \"Third Ranked Features\"])"
   ]
  },
  {
   "cell_type": "code",
   "execution_count": 39,
   "id": "f1e55105",
   "metadata": {},
   "outputs": [
    {
     "data": {
      "image/png": "[encoded data removed]",
      "text/plain": [
       "<Figure size 640x480 with 1 Axes>"
      ]
     },
     "metadata": {},
     "output_type": "display_data"
    }
   ],
   "source": [
    "import pandas as pd\n",
    "import matplotlib.pyplot as plt\n",
    "\n",
    "try:\n",
    "    df = pd.DataFrame(graph_three_rank_lists, columns=[\"Percentage of Respondents\", \"Third Ranked Features\"])\n",
    "    ax = df.plot.barh(x='Third Ranked Features', y='Percentage of Respondents', legend=False, color=['gray', 'red', 'green', 'blue', 'cyan', 'purple', 'orange'])\n",
    "except TypeError:\n",
    "    pass"
   ]
  },
  {
   "cell_type": "code",
   "execution_count": 40,
   "id": "12101676",
   "metadata": {},
   "outputs": [],
   "source": [
    "import os, sys\n",
    "PWD = os.getenv('PWD')\n",
    "\n",
    "PROJ_MISSING_MSG = \"\"\"Set an enviroment variable:\\n\n",
    "`DJANGO_PROJECT=your_project_name`\\n\n",
    "or call:\\n\n",
    "`init_django(your_project_name)`\n",
    "\"\"\"\n",
    "\n",
    "def init_django(project_name=None):\n",
    "    os.chdir(PWD)\n",
    "    project_name = project_name or os.environ.get('DJANGO_PROJECT') or None\n",
    "    if project_name == None:\n",
    "        raise Exception(PROJ_MISSING_MSG)\n",
    "    sys.path.insert(0, os.getenv('PWD'))\n",
    "    os.environ.setdefault('DJANGO_SETTINGS_MODULE', f'{project_name}.settings')\n",
    "    os.environ[\"DJANGO_ALLOW_ASYNC_UNSAFE\"] = \"true\"\n",
    "    import django\n",
    "    django.setup()"
   ]
  },
  {
   "cell_type": "code",
   "execution_count": null,
   "id": "64f88fcb",
   "metadata": {},
   "outputs": [],
   "source": [
    "from django_for_jupyter import init_django\n",
    "init_django(\"notebook_research\")"
   ]
  },
  {
   "cell_type": "code",
   "execution_count": 1,
   "id": "2e945e2b",
   "metadata": {},
   "outputs": [
    {
     "ename": "SyntaxError",
     "evalue": "invalid syntax (3874997546.py, line 1)",
     "output_type": "error",
     "traceback": [
      "\u001b[0;36m  File \u001b[0;32m\"/var/folders/55/26v80kxd7tg4kmkzyp7f_zq80000gn/T/ipykernel_4496/3874997546.py\"\u001b[0;36m, line \u001b[0;32m1\u001b[0m\n\u001b[0;31m    import django.contrib.auth import get_user_model\u001b[0m\n\u001b[0m                               ^\u001b[0m\n\u001b[0;31mSyntaxError\u001b[0m\u001b[0;31m:\u001b[0m invalid syntax\n"
     ]
    }
   ],
   "source": [
    "import django.contrib.auth import get_user_model"
   ]
  },
  {
   "cell_type": "code",
   "execution_count": null,
   "id": "236532f2",
   "metadata": {},
   "outputs": [],
   "source": []
  }
 ],
 "metadata": {
  "kernelspec": {
   "display_name": "Python 3 (ipykernel)",
   "language": "python",
   "name": "python3"
  },
  "language_info": {
   "codemirror_mode": {
    "name": "ipython",
    "version": 3
   },
   "file_extension": ".py",
   "mimetype": "text/x-python",
   "name": "python",
   "nbconvert_exporter": "python",
   "pygments_lexer": "ipython3",
   "version": "3.9.7"
  }
 },
 "nbformat": 4,
 "nbformat_minor": 5
}
