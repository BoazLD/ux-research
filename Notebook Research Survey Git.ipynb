{
 "cells": [
  {
   "cell_type": "markdown",
   "id": "9b4c270f",
   "metadata": {
    "tags": []
   },
   "source": [
    "# MyB👀K\n",
    "#  📗  NOTEBOOK RESEARCH "
   ]
  },
  {
   "cell_type": "markdown",
   "id": "837b0553",
   "metadata": {},
   "source": [
    "####  🛑 SELECT KERNEL, RESTART & RUN ALL, OR RUN ALL "
   ]
  },
  {
   "cell_type": "markdown",
   "id": "9b5f5d4d",
   "metadata": {
    "jupyter": {
     "source_hidden": true
    },
    "tags": []
   },
   "source": [
    "#### 👇 CLICK TO REMOVE LINES OF CODE "
   ]
  },
  {
   "cell_type": "code",
   "execution_count": 204,
   "id": "0f4ed95f",
   "metadata": {},
   "outputs": [
    {
     "data": {
      "text/html": [
       "<script>\n",
       "code_show=true; \n",
       "function code_toggle() {\n",
       " if (code_show){\n",
       " $('div.input').hide();\n",
       " } else {\n",
       " $('div.input').show();\n",
       " }\n",
       " code_show = !code_show\n",
       "} \n",
       "$( document ).ready(code_toggle);\n",
       "</script>\n",
       "<form action=\"javascript:code_toggle()\"><input type=\"submit\" value=\"Click here to toggle on/off the raw code.\"></form>"
      ],
      "text/plain": [
       "<IPython.core.display.HTML object>"
      ]
     },
     "execution_count": 204,
     "metadata": {},
     "output_type": "execute_result"
    }
   ],
   "source": [
    "from IPython.display import HTML\n",
    "\n",
    "HTML('''<script>\n",
    "code_show=true; \n",
    "function code_toggle() {\n",
    " if (code_show){\n",
    " $('div.input').hide();\n",
    " } else {\n",
    " $('div.input').show();\n",
    " }\n",
    " code_show = !code_show\n",
    "} \n",
    "$( document ).ready(code_toggle);\n",
    "</script>\n",
    "<form action=\"javascript:code_toggle()\"><input type=\"submit\" value=\"Click here to toggle on/off the raw code.\"></form>''')"
   ]
  },
  {
   "cell_type": "markdown",
   "id": "f4a03abc",
   "metadata": {},
   "source": [
    "#### 👇CLICK TO START SURVEY"
   ]
  },
  {
   "cell_type": "code",
   "execution_count": 205,
   "id": "6a92196d",
   "metadata": {},
   "outputs": [
    {
     "data": {
      "application/vnd.jupyter.widget-view+json": {
       "model_id": "92b08c87e59040d298feceb77db11e47",
       "version_major": 2,
       "version_minor": 0
      },
      "text/plain": [
       "Button(description='Start Survey', style=ButtonStyle())"
      ]
     },
     "metadata": {},
     "output_type": "display_data"
    }
   ],
   "source": [
    "from IPython.display import Javascript, display\n",
    "from ipywidgets import widgets\n",
    "\n",
    "def run_all(ev):\n",
    "    display(Javascript('IPython.notebook.execute_cell_range(IPython.notebook.get_selected_index()+1, IPython.notebook.ncells())'))\n",
    "\n",
    "button = widgets.Button(description=\"Start Survey\")\n",
    "button.on_click(run_all)\n",
    "display(button)"
   ]
  },
  {
   "cell_type": "markdown",
   "id": "5ffff3c0",
   "metadata": {},
   "source": [
    "####  ⚠️ PLEASE ANSWER THE FOLLOWING QUESTIONS  "
   ]
  },
  {
   "cell_type": "markdown",
   "id": "e439c89d",
   "metadata": {},
   "source": [
    "## ⚒️ Setting up Your Notebook \n",
    "### When setting up your notebook to begin your data project, please rank the following features in order of importance to you, where 4 is most important and 1 is least important  \n",
    "### Note: each ranking can only be used once  "
   ]
  },
  {
   "cell_type": "code",
   "execution_count": 206,
   "id": "7bc4d47e",
   "metadata": {},
   "outputs": [
    {
     "data": {
      "application/vnd.jupyter.widget-view+json": {
       "model_id": "7323c2f81ef64dd8adef667bb41a0aef",
       "version_major": 2,
       "version_minor": 0
      },
      "text/plain": [
       "Dropdown(description='I can integrate my notebook with a package and environment manager like Conda or pip', l…"
      ]
     },
     "metadata": {},
     "output_type": "display_data"
    },
    {
     "data": {
      "application/vnd.jupyter.widget-view+json": {
       "model_id": "d662046ad48644e9af6bd5e257a066d8",
       "version_major": 2,
       "version_minor": 0
      },
      "text/plain": [
       "Dropdown(description='I can upload data files in different formats to my notebook', layout=Layout(height='40px…"
      ]
     },
     "metadata": {},
     "output_type": "display_data"
    },
    {
     "data": {
      "application/vnd.jupyter.widget-view+json": {
       "model_id": "0202b01813fa4af4a4f2faf471b7ad70",
       "version_major": 2,
       "version_minor": 0
      },
      "text/plain": [
       "Dropdown(description='I can choose the programming language of my notebook', layout=Layout(height='40px', widt…"
      ]
     },
     "metadata": {},
     "output_type": "display_data"
    },
    {
     "data": {
      "application/vnd.jupyter.widget-view+json": {
       "model_id": "d25b62f29078438b9631f182b1af9f11",
       "version_major": 2,
       "version_minor": 0
      },
      "text/plain": [
       "Dropdown(description='I can import data analysis packages like Pandas, Apache spark, or TensorFlow to my noteb…"
      ]
     },
     "metadata": {},
     "output_type": "display_data"
    }
   ],
   "source": [
    "import ipywidgets as widgets\n",
    "\n",
    "layout = widgets.Layout(width='auto', height='40px')\n",
    "\n",
    "rank = 1\n",
    "drop_down = widgets.Dropdown(options=[\"Please select rank\",1,2,3,4],\n",
    "                                description='I can integrate my notebook with a package and environment manager like Conda or pip',\n",
    "                                disabled=False,\n",
    "                                display='flex',\n",
    "                                flex_flow='column',\n",
    "                                align_items='stretch',\n",
    "                                style= {'description_width': 'initial'},\n",
    "                                layout = layout)\n",
    "\n",
    "setup_rank_manager_lists = list()\n",
    "def ranking_calculator(change):\n",
    "    global rank\n",
    "    #print(\"Item_A ranking:\", change.new)\n",
    "    rank = change.new\n",
    "    if rank == 1:\n",
    "        rank = 1\n",
    "    elif rank == 2:\n",
    "        rank = 2\n",
    "    elif rank == 3:\n",
    "        rank = 3\n",
    "    elif rank == 4:\n",
    "        rank = 4\n",
    "    else:\n",
    "        rank = 0\n",
    "    max_score = 4\n",
    "    setup_rank_manager = (rank / max_score)*100\n",
    "    setup_rank_manager_lists.append(setup_rank_manager)\n",
    "    #print(setup_rank_manager_lists)\n",
    "    #print(\"manager_rank score:\", setup_rank_manager)\n",
    "drop_down.observe(ranking_calculator, names='value')\n",
    "display(drop_down)\n",
    "\n",
    "rank = 1\n",
    "drop_down = widgets.Dropdown(options=[\"Please select rank\",1,2,3,4],\n",
    "                                description='I can upload data files in different formats to my notebook',\n",
    "                                disabled=False,\n",
    "                                display='flex',\n",
    "                                flex_flow='column',\n",
    "                                align_items='stretch',\n",
    "                                style= {'description_width': 'initial'},\n",
    "                                layout = layout)\n",
    "\n",
    "setup_rank_upload_lists = list()\n",
    "def ranking_calculator(change):\n",
    "    global rank\n",
    "    #print(\"Item_B ranking:\", change.new)\n",
    "    rank = change.new\n",
    "    if rank == 1:\n",
    "        rank = 1\n",
    "    elif rank == 2:\n",
    "        rank = 2\n",
    "    elif rank == 3:\n",
    "        rank = 3\n",
    "    elif rank == 4:\n",
    "        rank = 4\n",
    "    else:\n",
    "        rank = 0\n",
    "    max_score = 4\n",
    "    setup_rank_upload = (rank / max_score)*100\n",
    "    setup_rank_upload_lists.append(setup_rank_upload)\n",
    "    #print(setup_rank_upload_lists)\n",
    "    #print(\"upload_rank score:\", setup_rank_upload)\n",
    "drop_down.observe(ranking_calculator, names='value')\n",
    "display(drop_down)\n",
    "\n",
    "rank = 1\n",
    "drop_down = widgets.Dropdown(options=[\"Please select rank\",1,2,3,4],\n",
    "                                description='I can choose the programming language of my notebook',\n",
    "                                disabled=False,\n",
    "                                display='flex',\n",
    "                                flex_flow='column',\n",
    "                                align_items='stretch',\n",
    "                                style= {'description_width': 'initial'},\n",
    "                                layout = layout)\n",
    "setup_rank_language_lists = list()\n",
    "def ranking_calculator(change):\n",
    "    global rank\n",
    "    #print(\"Item_C ranking:\", change.new)\n",
    "    rank = change.new\n",
    "    if rank == 1:\n",
    "        rank = 1\n",
    "    elif rank == 2:\n",
    "        rank = 2\n",
    "    elif rank == 3:\n",
    "        rank = 3\n",
    "    elif rank == 4:\n",
    "        rank = 4\n",
    "    else:\n",
    "        rank = 0\n",
    "    max_score = 4\n",
    "    setup_rank_language = (rank / max_score)*100\n",
    "    setup_rank_language_lists.append(setup_rank_language)\n",
    "    #print(setup_rank_language_lists)\n",
    "    #print(\"language_rank score:\", setup_rank_language)\n",
    "drop_down.observe(ranking_calculator, names='value')\n",
    "display(drop_down)\n",
    "\n",
    "rank = 1\n",
    "drop_down = widgets.Dropdown(options=[\"Please select rank\",1,2,3,4],\n",
    "                                description='I can import data analysis packages like Pandas, Apache spark, or TensorFlow to my notebook',\n",
    "                                disabled=False,\n",
    "                                display='flex',\n",
    "                                flex_flow='column',\n",
    "                                align_items='stretch',\n",
    "                                style= {'description_width': 'initial'},\n",
    "                                layout = layout)\n",
    "\n",
    "setup_rank_data_lists = list()\n",
    "def ranking_calculator(change):\n",
    "    global rank\n",
    "    #print(\"Item_D ranking:\", change.new)\n",
    "    rank = change.new\n",
    "    if rank == 1:\n",
    "        rank = 1\n",
    "    elif rank == 2:\n",
    "        rank = 2\n",
    "    elif rank == 3:\n",
    "        rank = 3\n",
    "    elif rank == 4:\n",
    "        rank = 4\n",
    "    else:\n",
    "        rank = 0\n",
    "    max_score = 4\n",
    "    setup_rank_data = (rank / max_score)*100\n",
    "    setup_rank_data_lists.append(setup_rank_data)\n",
    "    #print(setup_rank_data_lists)\n",
    "    #print(\"data_rank score:\", setup_rank_data)\n",
    "drop_down.observe(ranking_calculator, names='value')\n",
    "display(drop_down)"
   ]
  },
  {
   "cell_type": "markdown",
   "id": "9f168f5f",
   "metadata": {},
   "source": [
    "### When setting up your notebook to begin your data project, how important are the following features to you?"
   ]
  },
  {
   "cell_type": "code",
   "execution_count": 207,
   "id": "eafc351d",
   "metadata": {},
   "outputs": [
    {
     "data": {
      "application/vnd.jupyter.widget-view+json": {
       "model_id": "9744765e88c645deb6567fb48f15f418",
       "version_major": 2,
       "version_minor": 0
      },
      "text/plain": [
       "Dropdown(description='I can integrate my notebook with a package and environment manager like Conda or pip', l…"
      ]
     },
     "metadata": {},
     "output_type": "display_data"
    },
    {
     "data": {
      "application/vnd.jupyter.widget-view+json": {
       "model_id": "4469761879c943168160d05eb968e991",
       "version_major": 2,
       "version_minor": 0
      },
      "text/plain": [
       "Dropdown(description='I can upload data files in different formats to my notebook', layout=Layout(height='40px…"
      ]
     },
     "metadata": {},
     "output_type": "display_data"
    },
    {
     "data": {
      "application/vnd.jupyter.widget-view+json": {
       "model_id": "c748b86206964227bdb48d2cb4b1221b",
       "version_major": 2,
       "version_minor": 0
      },
      "text/plain": [
       "Dropdown(description='I can choose the programmming language of my notebook', layout=Layout(height='40px', wid…"
      ]
     },
     "metadata": {},
     "output_type": "display_data"
    },
    {
     "data": {
      "application/vnd.jupyter.widget-view+json": {
       "model_id": "bbc384d1fec9416e9735981affb7f1c5",
       "version_major": 2,
       "version_minor": 0
      },
      "text/plain": [
       "Dropdown(description='I import data analysis packages like Pandas, Apache spark, or TensorFlow to my notebook'…"
      ]
     },
     "metadata": {},
     "output_type": "display_data"
    }
   ],
   "source": [
    "import ipywidgets as widgets\n",
    "\n",
    "layout = widgets.Layout(width='auto', height='40px')\n",
    "\n",
    "rank = 1\n",
    "drop_down = widgets.Dropdown(options=[\"Please select\",\"not at all important\",\"low importance\",\"neutral\",\"important\", \"very important\"],\n",
    "                                description='I can integrate my notebook with a package and environment manager like Conda or pip',\n",
    "                                disabled=False,\n",
    "                                display='flex',\n",
    "                                flex_flow='column',\n",
    "                                align_items='stretch',\n",
    "                                style= {'description_width': 'initial'},\n",
    "                                layout = layout)\n",
    "\n",
    "setup_scale_manager_lists = list()\n",
    "def scale_calculator(change):\n",
    "    global rank\n",
    "    #print(\"Item_A ranking:\", change.new)\n",
    "    rank = change.new\n",
    "    if rank == \"not at all important\":\n",
    "        rank = 1\n",
    "    elif rank == \"low importance\":\n",
    "        rank = 2\n",
    "    elif rank == \"neutral\":\n",
    "        rank = 3\n",
    "    elif rank == \"important\":\n",
    "        rank = 4\n",
    "    elif rank == \"very important\":\n",
    "        rank = 5\n",
    "    else:\n",
    "        rank = 0\n",
    "    max_score = 5\n",
    "    setup_scale_manager = (rank / max_score)*100\n",
    "    setup_scale_manager_lists.append(setup_scale_manager)\n",
    "    #print(setup_scale_manager_lists)\n",
    "    #print(\"manager_scale score:\", setup_scale_manager)\n",
    "drop_down.observe(scale_calculator, names='value')\n",
    "display(drop_down)\n",
    "\n",
    "rank = 1\n",
    "drop_down = widgets.Dropdown(options=[\"Please select\",\"not at all important\",\"low importance\",\"neutral\",\"important\", \"very important\"],\n",
    "                                description='I can upload data files in different formats to my notebook',\n",
    "                                disabled=False,\n",
    "                                display='flex',\n",
    "                                flex_flow='column',\n",
    "                                align_items='stretch',\n",
    "                                style= {'description_width': 'initial'},\n",
    "                                layout = layout)\n",
    "\n",
    "setup_scale_upload_lists = list()\n",
    "def scale_calculator(change):\n",
    "    global rank\n",
    "    #print(\"Item_B ranking:\", change.new)\n",
    "    rank = change.new\n",
    "    if rank == \"not at all important\":\n",
    "        rank = 1\n",
    "    elif rank == \"low importance\":\n",
    "        rank = 2\n",
    "    elif rank == \"neutral\":\n",
    "        rank = 3\n",
    "    elif rank == \"important\":\n",
    "        rank = 4\n",
    "    elif rank == \"very important\":\n",
    "        rank = 5\n",
    "    else:\n",
    "        rank = 0\n",
    "    max_score = 5\n",
    "    setup_scale_upload = (rank / max_score)*100\n",
    "    setup_scale_upload_lists.append(setup_scale_upload)\n",
    "    #print(setup_scale_upload_lists)\n",
    "    #print(\"upload_scale score:\", setup_scale_upload)\n",
    "drop_down.observe(scale_calculator, names='value')\n",
    "display(drop_down)\n",
    "\n",
    "rank = 1\n",
    "drop_down = widgets.Dropdown(options=[\"Please select\",\"not at all important\",\"low importance\",\"neutral\",\"important\", \"very important\"],\n",
    "                                description='I can choose the programmming language of my notebook',\n",
    "                                disabled=False,\n",
    "                                display='flex',\n",
    "                                flex_flow='column',\n",
    "                                align_items='stretch',\n",
    "                                style= {'description_width': 'initial'},\n",
    "                                layout = layout)\n",
    "\n",
    "setup_scale_language_lists = list()\n",
    "def scale_calculator(change):\n",
    "    global rank\n",
    "    #print(\"Item_C ranking:\", change.new)\n",
    "    rank = change.new\n",
    "    if rank == \"not at all important\":\n",
    "        rank = 1\n",
    "    elif rank == \"low importance\":\n",
    "        rank = 2\n",
    "    elif rank == \"neutral\":\n",
    "        rank = 3\n",
    "    elif rank == \"important\":\n",
    "        rank = 4\n",
    "    elif rank == \"very important\":\n",
    "        rank = 5\n",
    "    else:\n",
    "        rank = 0\n",
    "    max_score = 5\n",
    "    setup_scale_language = (rank / max_score)*100\n",
    "    setup_scale_language_lists.append(setup_scale_language)\n",
    "    #print(setup_scale_language_lists)\n",
    "    #print(\"language_scale score:\", setup_scale_language)\n",
    "drop_down.observe(scale_calculator, names='value')\n",
    "display(drop_down)\n",
    "\n",
    "rank = 1\n",
    "drop_down = widgets.Dropdown(options=[\"Please select\",\"not at all important\",\"low importance\",\"neutral\",\"important\", \"very important\"],\n",
    "                                description='I import data analysis packages like Pandas, Apache spark, or TensorFlow to my notebook',\n",
    "                                disabled=False,\n",
    "                                display='flex',\n",
    "                                flex_flow='column',\n",
    "                                align_items='stretch',\n",
    "                                style= {'description_width': 'initial'},\n",
    "                                layout = layout)\n",
    "\n",
    "setup_scale_data_lists = list()\n",
    "def scale_calculator(change):\n",
    "    global rank\n",
    "    #print(\"Item_D ranking:\", change.new)\n",
    "    rank = change.new\n",
    "    if rank == \"not at all important\":\n",
    "        rank = 1\n",
    "    elif rank == \"low importance\":\n",
    "        rank = 2\n",
    "    elif rank == \"neutral\":\n",
    "        rank = 3\n",
    "    elif rank == \"important\":\n",
    "        rank = 4\n",
    "    elif rank == \"very important\":\n",
    "        rank = 5\n",
    "    else:\n",
    "        rank = 0\n",
    "    max_score = 5\n",
    "    setup_scale_data = (rank / max_score)*100\n",
    "    setup_scale_data_lists.append(setup_scale_data)\n",
    "    #print(setup_scale_data_lists)\n",
    "    #print(\"data_scale score:\", setup_scale_data)\n",
    "drop_down.observe(scale_calculator, names='value')\n",
    "display(drop_down)"
   ]
  },
  {
   "cell_type": "markdown",
   "id": "969a3bba",
   "metadata": {},
   "source": [
    "##  💻 Coding and Editing in Your Notebook "
   ]
  },
  {
   "cell_type": "markdown",
   "id": "3b66b54f",
   "metadata": {},
   "source": [
    "### When working in your notebook, please rank the following features in order of importance to you, where 7 is most important and 1 is least important  \n",
    "### Note: each ranking can only be used once "
   ]
  },
  {
   "cell_type": "code",
   "execution_count": 208,
   "id": "4a261e3e",
   "metadata": {},
   "outputs": [
    {
     "data": {
      "application/vnd.jupyter.widget-view+json": {
       "model_id": "65f3e3a6f5f34674af3dd987e47f7c92",
       "version_major": 2,
       "version_minor": 0
      },
      "text/plain": [
       "Dropdown(description='I can write and edit code in my prefered programming language in my notebook', layout=La…"
      ]
     },
     "metadata": {},
     "output_type": "display_data"
    },
    {
     "data": {
      "application/vnd.jupyter.widget-view+json": {
       "model_id": "c10cef8289fc48928393b5d7a9642e68",
       "version_major": 2,
       "version_minor": 0
      },
      "text/plain": [
       "Dropdown(description='I can live check my code for mistakes in my notebook', layout=Layout(height='40px', widt…"
      ]
     },
     "metadata": {},
     "output_type": "display_data"
    },
    {
     "data": {
      "application/vnd.jupyter.widget-view+json": {
       "model_id": "cf74eda9d29349668c460e93d0b0da0a",
       "version_major": 2,
       "version_minor": 0
      },
      "text/plain": [
       "Dropdown(description='I can generate an interactive output of my code in my notebook', layout=Layout(height='4…"
      ]
     },
     "metadata": {},
     "output_type": "display_data"
    },
    {
     "data": {
      "application/vnd.jupyter.widget-view+json": {
       "model_id": "02ba402e02a148189216e872a2c56c0b",
       "version_major": 2,
       "version_minor": 0
      },
      "text/plain": [
       "Dropdown(description='I can save my work and return to my notebook later', layout=Layout(height='40px', width=…"
      ]
     },
     "metadata": {},
     "output_type": "display_data"
    },
    {
     "data": {
      "application/vnd.jupyter.widget-view+json": {
       "model_id": "cf66b1d8cce742bc83b9d736d840981d",
       "version_major": 2,
       "version_minor": 0
      },
      "text/plain": [
       "Dropdown(description='I can write markdown text in my notebook', layout=Layout(height='40px', width='auto'), o…"
      ]
     },
     "metadata": {},
     "output_type": "display_data"
    },
    {
     "data": {
      "application/vnd.jupyter.widget-view+json": {
       "model_id": "a6a1f5a7656f41139c9c9cef72002b14",
       "version_major": 2,
       "version_minor": 0
      },
      "text/plain": [
       "Dropdown(description='I can run Bash commands in my notebook', layout=Layout(height='40px', width='auto'), opt…"
      ]
     },
     "metadata": {},
     "output_type": "display_data"
    },
    {
     "data": {
      "application/vnd.jupyter.widget-view+json": {
       "model_id": "35fe95a57dfc4cadbd3d4ef3add4db74",
       "version_major": 2,
       "version_minor": 0
      },
      "text/plain": [
       "Dropdown(description='I can run magic commands in my notebook', layout=Layout(height='40px', width='auto'), op…"
      ]
     },
     "metadata": {},
     "output_type": "display_data"
    }
   ],
   "source": [
    "import ipywidgets as widgets\n",
    "\n",
    "layout = widgets.Layout(width='auto', height='40px')\n",
    "\n",
    "rank = 1\n",
    "drop_down = widgets.Dropdown(options=[\"Please select rank\",1,2,3,4,5,6,7],\n",
    "                                description='I can write and edit code in my prefered programming language in my notebook',\n",
    "                                disabled=False,\n",
    "                                display='flex',\n",
    "                                flex_flow='column',\n",
    "                                align_items='stretch',\n",
    "                                style= {'description_width': 'initial'},\n",
    "                                layout = layout)\n",
    "\n",
    "coding_rank_write_lists = list()\n",
    "def ranking_calculator(change):\n",
    "    global rank\n",
    "    #print(\"Item_A ranking:\", change.new)\n",
    "    rank = change.new\n",
    "    if rank == 1:\n",
    "        rank = 1\n",
    "    elif rank == 2:\n",
    "        rank = 2\n",
    "    elif rank == 3:\n",
    "        rank = 3\n",
    "    elif rank == 4:\n",
    "        rank = 4\n",
    "    elif rank ==5:\n",
    "        rank = 5\n",
    "    elif rank == 6:\n",
    "        rank = 6\n",
    "    elif rank == 7:\n",
    "        rank = 7\n",
    "    else:\n",
    "        rank = 0\n",
    "    max_score = 7\n",
    "    coding_rank_write = (rank / max_score)*100\n",
    "    coding_rank_write_lists.append(coding_rank_write)\n",
    "    #print(coding_rank_write_lists)\n",
    "    #print(\"write_rank score:\", coding_rank_write)\n",
    "drop_down.observe(ranking_calculator, names='value')\n",
    "display(drop_down)\n",
    "\n",
    "rank = 1\n",
    "drop_down = widgets.Dropdown(options=[\"Please select rank\",1,2,3,4,5,6,7],\n",
    "                                description='I can live check my code for mistakes in my notebook',\n",
    "                                disabled=False,\n",
    "                                display='flex',\n",
    "                                flex_flow='column',\n",
    "                                align_items='stretch',\n",
    "                                style= {'description_width': 'initial'},\n",
    "                                layout = layout)\n",
    "\n",
    "coding_rank_check_lists = list()\n",
    "def ranking_calculator(change):\n",
    "    global rank\n",
    "    #print(\"Item_A ranking:\", change.new)\n",
    "    rank = change.new\n",
    "    if rank == 1:\n",
    "        rank = 1\n",
    "    elif rank == 2:\n",
    "        rank = 2\n",
    "    elif rank == 3:\n",
    "        rank = 3\n",
    "    elif rank == 4:\n",
    "        rank = 4\n",
    "    elif rank ==5:\n",
    "        rank = 5\n",
    "    elif rank == 6:\n",
    "        rank = 6\n",
    "    elif rank == 7:\n",
    "        rank = 7\n",
    "    else:\n",
    "        rank = 0\n",
    "    max_score = 7\n",
    "    coding_rank_check = (rank / max_score)*100\n",
    "    coding_rank_check_lists.append(coding_rank_check)\n",
    "    #print(coding_rank_check_lists)\n",
    "    #print(\"check_rank score:\", coding_rank_check)\n",
    "drop_down.observe(ranking_calculator, names='value')\n",
    "display(drop_down)\n",
    "\n",
    "rank = 1\n",
    "drop_down = widgets.Dropdown(options=[\"Please select rank\",1,2,3,4,5,6,7],\n",
    "                                description='I can generate an interactive output of my code in my notebook',\n",
    "                                disabled=False,\n",
    "                                display='flex',\n",
    "                                flex_flow='column',\n",
    "                                align_items='stretch',\n",
    "                                style= {'description_width': 'initial'},\n",
    "                                layout = layout)\n",
    "\n",
    "coding_rank_output_lists = list()\n",
    "def ranking_calculator(change):\n",
    "    global rank\n",
    "    #print(\"Item_A ranking:\", change.new)\n",
    "    rank = change.new\n",
    "    if rank == 1:\n",
    "        rank = 1\n",
    "    elif rank == 2:\n",
    "        rank = 2\n",
    "    elif rank == 3:\n",
    "        rank = 3\n",
    "    elif rank == 4:\n",
    "        rank = 4\n",
    "    elif rank ==5:\n",
    "        rank = 5\n",
    "    elif rank == 6:\n",
    "        rank = 6\n",
    "    elif rank == 7:\n",
    "        rank = 7\n",
    "    else:\n",
    "        rank = 0\n",
    "    max_score = 7\n",
    "    coding_rank_output = (rank / max_score)*100\n",
    "    coding_rank_output_lists.append(coding_rank_output)\n",
    "    #print(coding_rank_output_lists)\n",
    "    #print(\"output_rank score:\", coding_rank_output)\n",
    "drop_down.observe(ranking_calculator, names='value')\n",
    "display(drop_down)\n",
    "\n",
    "rank = 1\n",
    "drop_down = widgets.Dropdown(options=[\"Please select rank\",1,2,3,4,5,6,7],\n",
    "                                description='I can save my work and return to my notebook later',\n",
    "                                disabled=False,\n",
    "                                display='flex',\n",
    "                                flex_flow='column',\n",
    "                                align_items='stretch',\n",
    "                                style= {'description_width': 'initial'},\n",
    "                                layout = layout)\n",
    "\n",
    "coding_rank_save_lists = list()\n",
    "def ranking_calculator(change):\n",
    "    global rank\n",
    "    #print(\"Item_A ranking:\", change.new)\n",
    "    rank = change.new\n",
    "    if rank == 1:\n",
    "        rank = 1\n",
    "    elif rank == 2:\n",
    "        rank = 2\n",
    "    elif rank == 3:\n",
    "        rank = 3\n",
    "    elif rank == 4:\n",
    "        rank = 4\n",
    "    elif rank ==5:\n",
    "        rank = 5\n",
    "    elif rank == 6:\n",
    "        rank = 6\n",
    "    elif rank == 7:\n",
    "        rank = 7\n",
    "    else:\n",
    "        rank = 0\n",
    "    max_score = 7\n",
    "    coding_rank_save = (rank / max_score)*100\n",
    "    coding_rank_save_lists.append(coding_rank_save)\n",
    "    #print(coding_rank_save_lists)\n",
    "    #print(\"save_rank score:\", coding_rank_save)\n",
    "drop_down.observe(ranking_calculator, names='value')\n",
    "display(drop_down)\n",
    "\n",
    "rank = 1\n",
    "drop_down = widgets.Dropdown(options=[\"Please select rank\",1,2,3,4,5,6,7],\n",
    "                                description='I can write markdown text in my notebook',\n",
    "                                disabled=False,\n",
    "                                display='flex',\n",
    "                                flex_flow='column',\n",
    "                                align_items='stretch',\n",
    "                                style= {'description_width': 'initial'},\n",
    "                                layout = layout)\n",
    "\n",
    "coding_rank_markdown_lists = list()\n",
    "def ranking_calculator(change):\n",
    "    global rank\n",
    "    #print(\"Item_A ranking:\", change.new)\n",
    "    rank = change.new\n",
    "    if rank == 1:\n",
    "        rank = 1\n",
    "    elif rank == 2:\n",
    "        rank = 2\n",
    "    elif rank == 3:\n",
    "        rank = 3\n",
    "    elif rank == 4:\n",
    "        rank = 4\n",
    "    elif rank ==5:\n",
    "        rank = 5\n",
    "    elif rank == 6:\n",
    "        rank = 6\n",
    "    elif rank == 7:\n",
    "        rank = 7\n",
    "    else:\n",
    "        rank = 0\n",
    "    max_score = 7\n",
    "    coding_rank_markdown = (rank / max_score)*100\n",
    "    coding_rank_markdown_lists.append(coding_rank_markdown)\n",
    "    #print(coding_rank_markdown_lists)\n",
    "    #print(\"markdown_rank score:\", coding_rank_markdown)\n",
    "drop_down.observe(ranking_calculator, names='value')\n",
    "display(drop_down)\n",
    "\n",
    "rank = 1\n",
    "drop_down = widgets.Dropdown(options=[\"Please select rank\",1,2,3,4,5,6,7],\n",
    "                                description='I can run Bash commands in my notebook',\n",
    "                                disabled=False,\n",
    "                                display='flex',\n",
    "                                flex_flow='column',\n",
    "                                align_items='stretch',\n",
    "                                style= {'description_width': 'initial'},\n",
    "                                layout = layout)\n",
    "\n",
    "coding_rank_bash_lists = list()\n",
    "def ranking_calculator(change):\n",
    "    global rank\n",
    "    #print(\"Item_A ranking:\", change.new)\n",
    "    rank = change.new\n",
    "    if rank == 1:\n",
    "        rank = 1\n",
    "    elif rank == 2:\n",
    "        rank = 2\n",
    "    elif rank == 3:\n",
    "        rank = 3\n",
    "    elif rank == 4:\n",
    "        rank = 4\n",
    "    elif rank ==5:\n",
    "        rank = 5\n",
    "    elif rank == 6:\n",
    "        rank = 6\n",
    "    elif rank == 7:\n",
    "        rank = 7\n",
    "    else:\n",
    "        rank = 0\n",
    "    max_score = 7\n",
    "    coding_rank_bash = (rank / max_score)*100\n",
    "    coding_rank_bash_lists.append(coding_rank_bash)\n",
    "    #print(coding_rank_bash_lists)\n",
    "    #print(\"bash_rank score:\", coding_rank_bash)\n",
    "drop_down.observe(ranking_calculator, names='value')\n",
    "display(drop_down)\n",
    "\n",
    "rank = 1\n",
    "drop_down = widgets.Dropdown(options=[\"Please select rank\",1,2,3,4,5,6,7],\n",
    "                                description='I can run magic commands in my notebook',\n",
    "                                disabled=False,\n",
    "                                display='flex',\n",
    "                                flex_flow='column',\n",
    "                                align_items='stretch',\n",
    "                                style= {'description_width': 'initial'},\n",
    "                                layout = layout)\n",
    "\n",
    "coding_rank_magic_lists = list()\n",
    "def ranking_calculator(change):\n",
    "    global rank\n",
    "    #print(\"Item_A ranking:\", change.new)\n",
    "    rank = change.new\n",
    "    if rank == 1:\n",
    "        rank = 1\n",
    "    elif rank == 2:\n",
    "        rank = 2\n",
    "    elif rank == 3:\n",
    "        rank = 3\n",
    "    elif rank == 4:\n",
    "        rank = 4\n",
    "    elif rank ==5:\n",
    "        rank = 5\n",
    "    elif rank == 6:\n",
    "        rank = 6\n",
    "    elif rank == 7:\n",
    "        rank = 7\n",
    "    else:\n",
    "        rank = 0\n",
    "    max_score = 7\n",
    "    coding_rank_magic = (rank / max_score)*100\n",
    "    coding_rank_magic_lists.append(coding_rank_magic)\n",
    "    #print(coding_rank_magic_lists)\n",
    "    #print(\"magic_rank score:\", coding_rank_magic)\n",
    "drop_down.observe(ranking_calculator, names='value')\n",
    "display(drop_down)"
   ]
  },
  {
   "cell_type": "markdown",
   "id": "858d0d4f",
   "metadata": {},
   "source": [
    "### When working in your notebook, how important are the following features to you?"
   ]
  },
  {
   "cell_type": "code",
   "execution_count": 209,
   "id": "af00b607",
   "metadata": {},
   "outputs": [
    {
     "data": {
      "application/vnd.jupyter.widget-view+json": {
       "model_id": "f1af88f7fca54479bd603dcd6d41faa2",
       "version_major": 2,
       "version_minor": 0
      },
      "text/plain": [
       "Dropdown(description='I can write and edit code in my preferred programming language in my notebook', layout=L…"
      ]
     },
     "metadata": {},
     "output_type": "display_data"
    },
    {
     "data": {
      "application/vnd.jupyter.widget-view+json": {
       "model_id": "d2a58c6cfd1c400bb70f6bf7bdef4809",
       "version_major": 2,
       "version_minor": 0
      },
      "text/plain": [
       "Dropdown(description='I can live check my code for mistakes in my notebook', layout=Layout(height='40px', widt…"
      ]
     },
     "metadata": {},
     "output_type": "display_data"
    },
    {
     "data": {
      "application/vnd.jupyter.widget-view+json": {
       "model_id": "ba8947d036f842e5b46ecb81f779bbe7",
       "version_major": 2,
       "version_minor": 0
      },
      "text/plain": [
       "Dropdown(description='I can generate an interactive output of my code in my notebook', layout=Layout(height='4…"
      ]
     },
     "metadata": {},
     "output_type": "display_data"
    },
    {
     "data": {
      "application/vnd.jupyter.widget-view+json": {
       "model_id": "2f93bace59fe4d1c901dba1ad558317d",
       "version_major": 2,
       "version_minor": 0
      },
      "text/plain": [
       "Dropdown(description='I can save my work and return to my notebook later', layout=Layout(height='40px', width=…"
      ]
     },
     "metadata": {},
     "output_type": "display_data"
    },
    {
     "data": {
      "application/vnd.jupyter.widget-view+json": {
       "model_id": "0ae93a35180246bb958ce5fa7ca69b76",
       "version_major": 2,
       "version_minor": 0
      },
      "text/plain": [
       "Dropdown(description='I can write markdown text in my notebook', layout=Layout(height='40px', width='auto'), o…"
      ]
     },
     "metadata": {},
     "output_type": "display_data"
    },
    {
     "data": {
      "application/vnd.jupyter.widget-view+json": {
       "model_id": "204ff34278e64ec984abaedf81a3718c",
       "version_major": 2,
       "version_minor": 0
      },
      "text/plain": [
       "Dropdown(description='I can run Bash commands in my notebook', layout=Layout(height='40px', width='auto'), opt…"
      ]
     },
     "metadata": {},
     "output_type": "display_data"
    },
    {
     "data": {
      "application/vnd.jupyter.widget-view+json": {
       "model_id": "704e473e42884ff0a99647cb93424969",
       "version_major": 2,
       "version_minor": 0
      },
      "text/plain": [
       "Dropdown(description='I can run magic commands in my notebook', layout=Layout(height='40px', width='auto'), op…"
      ]
     },
     "metadata": {},
     "output_type": "display_data"
    }
   ],
   "source": [
    "import ipywidgets as widgets\n",
    "\n",
    "layout = widgets.Layout(width='auto', height='40px')\n",
    "\n",
    "rank = 1\n",
    "drop_down = widgets.Dropdown(options=[\"Please select\",\"not at all important\",\"low importance\",\"neutral\",\"important\", \"very important\"],\n",
    "                                description='I can write and edit code in my preferred programming language in my notebook',\n",
    "                                disabled=False,\n",
    "                                display='flex',\n",
    "                                flex_flow='column',\n",
    "                                align_items='stretch',\n",
    "                                style= {'description_width': 'initial'},\n",
    "                                layout = layout)\n",
    "\n",
    "coding_scale_write_lists = list()\n",
    "def scale_calculator(change):\n",
    "    global rank\n",
    "    #print(\"Item_A ranking:\", change.new)\n",
    "    rank = change.new\n",
    "    if rank == \"not at all important\":\n",
    "        rank = 1\n",
    "    elif rank == \"low importance\":\n",
    "        rank = 2\n",
    "    elif rank == \"neutral\":\n",
    "        rank = 3\n",
    "    elif rank == \"important\":\n",
    "        rank = 4\n",
    "    elif rank == \"very important\":\n",
    "        rank = 5\n",
    "    else:\n",
    "        rank = 0\n",
    "    max_score = 5\n",
    "    coding_scale_write = (rank / max_score)*100\n",
    "    coding_scale_write_lists.append(coding_scale_write)\n",
    "    #print(coding_scale_write_lists)\n",
    "    #print(\"write_scale score:\", coding_scale_write)\n",
    "drop_down.observe(scale_calculator, names='value')\n",
    "display(drop_down)\n",
    "\n",
    "rank = 1\n",
    "drop_down = widgets.Dropdown(options=[\"Please select\",\"not at all important\",\"low importance\",\"neutral\",\"important\", \"very important\"],\n",
    "                                description='I can live check my code for mistakes in my notebook',\n",
    "                                disabled=False,\n",
    "                                display='flex',\n",
    "                                flex_flow='column',\n",
    "                                align_items='stretch',\n",
    "                                style= {'description_width': 'initial'},\n",
    "                                layout = layout)\n",
    "\n",
    "coding_scale_check_lists = list()\n",
    "def scale_calculator(change):\n",
    "    global rank\n",
    "    #print(\"Item_B ranking:\", change.new)\n",
    "    rank = change.new\n",
    "    if rank == \"not at all important\":\n",
    "        rank = 1\n",
    "    elif rank == \"low importance\":\n",
    "        rank = 2\n",
    "    elif rank == \"neutral\":\n",
    "        rank = 3\n",
    "    elif rank == \"important\":\n",
    "        rank = 4\n",
    "    elif rank == \"very important\":\n",
    "        rank = 5\n",
    "    else:\n",
    "        rank = 0\n",
    "    max_score = 5\n",
    "    coding_scale_check = (rank / max_score)*100\n",
    "    coding_scale_check_lists.append(coding_scale_check)\n",
    "    #print(coding_scale_check_lists)\n",
    "    #print(\"check_scale score:\", coding_scale_check)\n",
    "drop_down.observe(scale_calculator, names='value')\n",
    "display(drop_down)\n",
    "\n",
    "rank = 1\n",
    "drop_down = widgets.Dropdown(options=[\"Please select\",\"not at all important\",\"low importance\",\"neutral\",\"important\", \"very important\"],\n",
    "                                description='I can generate an interactive output of my code in my notebook',\n",
    "                                disabled=False,\n",
    "                                display='flex',\n",
    "                                flex_flow='column',\n",
    "                                align_items='stretch',\n",
    "                                style= {'description_width': 'initial'},\n",
    "                                layout = layout)\n",
    "\n",
    "coding_scale_output_lists = list()\n",
    "def scale_calculator(change):\n",
    "    global rank\n",
    "    #print(\"Item_C ranking:\", change.new)\n",
    "    rank = change.new\n",
    "    if rank == \"not at all important\":\n",
    "        rank = 1\n",
    "    elif rank == \"low importance\":\n",
    "        rank = 2\n",
    "    elif rank == \"neutral\":\n",
    "        rank = 3\n",
    "    elif rank == \"important\":\n",
    "        rank = 4\n",
    "    elif rank == \"very important\":\n",
    "        rank = 5\n",
    "    else:\n",
    "        rank = 0\n",
    "    max_score = 5\n",
    "    coding_scale_output = (rank / max_score)*100\n",
    "    coding_scale_output_lists.append(coding_scale_output)\n",
    "    #print(coding_scale_output_lists)\n",
    "    #print(\"output_scale score:\", coding_scale_output)\n",
    "drop_down.observe(scale_calculator, names='value')\n",
    "display(drop_down)\n",
    "\n",
    "rank = 1\n",
    "drop_down = widgets.Dropdown(options=[\"Please select\",\"not at all important\",\"low importance\",\"neutral\",\"important\", \"very important\"],\n",
    "                                description='I can save my work and return to my notebook later',\n",
    "                                disabled=False,\n",
    "                                display='flex',\n",
    "                                flex_flow='column',\n",
    "                                align_items='stretch',\n",
    "                                style= {'description_width': 'initial'},\n",
    "                                layout = layout)\n",
    "\n",
    "coding_scale_save_lists = list()\n",
    "def scale_calculator(change):\n",
    "    global rank\n",
    "    #print(\"Item_D ranking:\", change.new)\n",
    "    rank = change.new\n",
    "    if rank == \"not at all important\":\n",
    "        rank = 1\n",
    "    elif rank == \"low importance\":\n",
    "        rank = 2\n",
    "    elif rank == \"neutral\":\n",
    "        rank = 3\n",
    "    elif rank == \"important\":\n",
    "        rank = 4\n",
    "    elif rank == \"very important\":\n",
    "        rank = 5\n",
    "    else:\n",
    "        rank = 0\n",
    "    max_score = 5\n",
    "    coding_scale_save = (rank / max_score)*100\n",
    "    coding_scale_save_lists.append(coding_scale_save)\n",
    "    #print(coding_scale_save_lists)\n",
    "    #print(\"save_scale score:\", coding_scale_save)\n",
    "drop_down.observe(scale_calculator, names='value')\n",
    "display(drop_down)\n",
    "\n",
    "rank = 1\n",
    "drop_down = widgets.Dropdown(options=[\"Please select\",\"not at all important\",\"low importance\",\"neutral\",\"important\", \"very important\"],\n",
    "                                description='I can write markdown text in my notebook',\n",
    "                                disabled=False,\n",
    "                                display='flex',\n",
    "                                flex_flow='column',\n",
    "                                align_items='stretch',\n",
    "                                style= {'description_width': 'initial'},\n",
    "                                layout = layout)\n",
    "\n",
    "coding_scale_markdown_lists = list()\n",
    "def scale_calculator(change):\n",
    "    global rank\n",
    "    #print(\"Item_D ranking:\", change.new)\n",
    "    rank = change.new\n",
    "    if rank == \"not at all important\":\n",
    "        rank = 1\n",
    "    elif rank == \"low importance\":\n",
    "        rank = 2\n",
    "    elif rank == \"neutral\":\n",
    "        rank = 3\n",
    "    elif rank == \"important\":\n",
    "        rank = 4\n",
    "    elif rank == \"very important\":\n",
    "        rank = 5\n",
    "    else:\n",
    "        rank = 0\n",
    "    max_score = 5\n",
    "    coding_scale_markdown = (rank / max_score)*100\n",
    "    coding_scale_markdown_lists.append(coding_scale_markdown)\n",
    "    #print(coding_scale_markdown_lists)\n",
    "    #print(\"markdown_scale score:\", coding_scale_markdown)\n",
    "drop_down.observe(scale_calculator, names='value')\n",
    "display(drop_down)\n",
    "\n",
    "rank = 1\n",
    "drop_down = widgets.Dropdown(options=[\"Please select\",\"not at all important\",\"low importance\",\"neutral\",\"important\", \"very important\"],\n",
    "                                description='I can run Bash commands in my notebook',\n",
    "                                disabled=False,\n",
    "                                display='flex',\n",
    "                                flex_flow='column',\n",
    "                                align_items='stretch',\n",
    "                                style= {'description_width': 'initial'},\n",
    "                                layout = layout)\n",
    "\n",
    "coding_scale_bash_lists = list()\n",
    "def scale_calculator(change):\n",
    "    global rank\n",
    "    #print(\"Item_D ranking:\", change.new)\n",
    "    rank = change.new\n",
    "    if rank == \"not at all important\":\n",
    "        rank = 1\n",
    "    elif rank == \"low importance\":\n",
    "        rank = 2\n",
    "    elif rank == \"neutral\":\n",
    "        rank = 3\n",
    "    elif rank == \"important\":\n",
    "        rank = 4\n",
    "    elif rank == \"very important\":\n",
    "        rank = 5\n",
    "    else:\n",
    "        rank = 0\n",
    "    max_score = 5\n",
    "    coding_scale_bash = (rank / max_score)*100\n",
    "    coding_scale_bash_lists.append(coding_scale_bash)\n",
    "    #print(coding_scale_bash_lists)\n",
    "    #print(\"bash_scale score:\", coding_scale_bash)\n",
    "drop_down.observe(scale_calculator, names='value')\n",
    "display(drop_down)\n",
    "\n",
    "rank = 1\n",
    "drop_down = widgets.Dropdown(options=[\"Please select\",\"not at all important\",\"low importance\",\"neutral\",\"important\", \"very important\"],\n",
    "                                description='I can run magic commands in my notebook',\n",
    "                                disabled=False,\n",
    "                                display='flex',\n",
    "                                flex_flow='column',\n",
    "                                align_items='stretch',\n",
    "                                style= {'description_width': 'initial'},\n",
    "                                layout = layout)\n",
    "\n",
    "coding_scale_magic_lists = list()\n",
    "def scale_calculator(change):\n",
    "    global rank\n",
    "    #print(\"Item_D ranking:\", change.new)\n",
    "    rank = change.new\n",
    "    if rank == \"not at all important\":\n",
    "        rank = 1\n",
    "    elif rank == \"low importance\":\n",
    "        rank = 2\n",
    "    elif rank == \"neutral\":\n",
    "        rank = 3\n",
    "    elif rank == \"important\":\n",
    "        rank = 4\n",
    "    elif rank == \"very important\":\n",
    "        rank = 5\n",
    "    else:\n",
    "        rank = 0\n",
    "    max_score = 5\n",
    "    coding_scale_magic = (rank / max_score)*100\n",
    "    coding_scale_magic_lists.append(coding_scale_magic)\n",
    "    #print(coding_scale_magic_lists)\n",
    "    #print(\"magic_scake score:\", coding_scale_magic)\n",
    "drop_down.observe(scale_calculator, names='value')\n",
    "display(drop_down)"
   ]
  },
  {
   "cell_type": "markdown",
   "id": "8c1068fc",
   "metadata": {},
   "source": [
    "## 📁 Exporting the Content of Your Notebook  "
   ]
  },
  {
   "cell_type": "markdown",
   "id": "58dc54e8",
   "metadata": {},
   "source": [
    "### When exporting your notebook content, please rank the following features in order of importance to you, where 2 is most important and 1 is least important\n",
    "### Note: each ranking can only be used once "
   ]
  },
  {
   "cell_type": "code",
   "execution_count": 210,
   "id": "d2d6de15",
   "metadata": {},
   "outputs": [
    {
     "data": {
      "application/vnd.jupyter.widget-view+json": {
       "model_id": "614c6202d2e045e680f14cc400e44604",
       "version_major": 2,
       "version_minor": 0
      },
      "text/plain": [
       "Dropdown(description='I can download my notebook content in different file formats', layout=Layout(height='40p…"
      ]
     },
     "metadata": {},
     "output_type": "display_data"
    },
    {
     "data": {
      "application/vnd.jupyter.widget-view+json": {
       "model_id": "b42b95cd33d64d52829448c7d5fb91fd",
       "version_major": 2,
       "version_minor": 0
      },
      "text/plain": [
       "Dropdown(description='I can share notebook with my peers via methods like email or GitHub', layout=Layout(heig…"
      ]
     },
     "metadata": {},
     "output_type": "display_data"
    }
   ],
   "source": [
    "import ipywidgets as widgets\n",
    "\n",
    "layout = widgets.Layout(width='auto', height='40px')\n",
    "\n",
    "rank = 1\n",
    "drop_down = widgets.Dropdown(options=[\"Please select rank\",1,2],\n",
    "                                description='I can download my notebook content in different file formats',\n",
    "                                disabled=False,\n",
    "                                display='flex',\n",
    "                                flex_flow='column',\n",
    "                                align_items='stretch',\n",
    "                                style= {'description_width': 'initial'},\n",
    "                                layout = layout)\n",
    "\n",
    "exporting_rank_download_lists = list()\n",
    "def ranking_calculator(change):\n",
    "    global rank\n",
    "    #print(\"Item_A ranking:\", change.new)\n",
    "    rank = change.new\n",
    "    if rank == 1:\n",
    "        rank = 1\n",
    "    elif rank == 2:\n",
    "        rank = 2\n",
    "    else:\n",
    "        rank = 0\n",
    "    max_score = 2\n",
    "    exporting_rank_download = (rank / max_score)*100\n",
    "    exporting_rank_download_lists.append(exporting_rank_download)\n",
    "    #print(exporting_rank_download_lists)\n",
    "    #print(\"download_rank score:\", exporting_rank_download)\n",
    "drop_down.observe(ranking_calculator, names='value')\n",
    "display(drop_down)\n",
    "\n",
    "rank = 1\n",
    "drop_down = widgets.Dropdown(options=[\"Please select rank\",1,2],\n",
    "                                description='I can share notebook with my peers via methods like email or GitHub',\n",
    "                                disabled=False,\n",
    "                                display='flex',\n",
    "                                flex_flow='column',\n",
    "                                align_items='stretch',\n",
    "                                style= {'description_width': 'initial'},\n",
    "                                layout = layout)\n",
    "\n",
    "exporting_rank_share_lists = list()\n",
    "def ranking_calculator(change):\n",
    "    global rank\n",
    "    #print(\"Item_B ranking:\", change.new)\n",
    "    rank = change.new\n",
    "    if rank == 1:\n",
    "        rank = 1\n",
    "    elif rank == 2:\n",
    "        rank = 2\n",
    "    else:\n",
    "        rank = 0\n",
    "    max_score = 2\n",
    "    exporting_rank_share = (rank / max_score)*100\n",
    "    exporting_rank_share_lists.append(exporting_rank_share)\n",
    "    #print(exporting_rank_share_lists)\n",
    "    #print(\"share_rank score:\", exporting_rank_share)\n",
    "drop_down.observe(ranking_calculator, names='value')\n",
    "display(drop_down)"
   ]
  },
  {
   "cell_type": "markdown",
   "id": "d7199473",
   "metadata": {},
   "source": [
    "### When exporting your notebook content, how important are the following features to you?"
   ]
  },
  {
   "cell_type": "code",
   "execution_count": 211,
   "id": "a5f61a01",
   "metadata": {},
   "outputs": [
    {
     "data": {
      "application/vnd.jupyter.widget-view+json": {
       "model_id": "d12a12d611ee42d3b528a4fac3511663",
       "version_major": 2,
       "version_minor": 0
      },
      "text/plain": [
       "Dropdown(description='I can download my notebook content in different formats', layout=Layout(height='40px', w…"
      ]
     },
     "metadata": {},
     "output_type": "display_data"
    },
    {
     "data": {
      "application/vnd.jupyter.widget-view+json": {
       "model_id": "157a039356c44040a123b856a825f470",
       "version_major": 2,
       "version_minor": 0
      },
      "text/plain": [
       "Dropdown(description='I can share my notebook with my peers via methods like email or Github', layout=Layout(h…"
      ]
     },
     "metadata": {},
     "output_type": "display_data"
    }
   ],
   "source": [
    "import ipywidgets as widgets\n",
    "\n",
    "layout = widgets.Layout(width='auto', height='40px')\n",
    "\n",
    "rank = 1\n",
    "drop_down = widgets.Dropdown(options=[\"Please select\",\"not at all important\",\"low importance\",\"neutral\",\"important\", \"very important\"],\n",
    "                                description='I can download my notebook content in different formats',\n",
    "                                disabled=False,\n",
    "                                display='flex',\n",
    "                                flex_flow='column',\n",
    "                                align_items='stretch',\n",
    "                                style= {'description_width': 'initial'},\n",
    "                                layout = layout)\n",
    "\n",
    "exporting_scale_download_lists = list()\n",
    "def scale_calculator(change):\n",
    "    global rank\n",
    "    #print(\"Item_A ranking:\", change.new)\n",
    "    rank = change.new\n",
    "    if rank == \"not at all important\":\n",
    "        rank = 1\n",
    "    elif rank == \"low importance\":\n",
    "        rank = 2\n",
    "    elif rank == \"neutral\":\n",
    "        rank = 3\n",
    "    elif rank == \"important\":\n",
    "        rank = 4\n",
    "    elif rank == \"very important\":\n",
    "        rank = 5\n",
    "    else:\n",
    "        rank = 0\n",
    "    max_score = 5\n",
    "    exporting_scale_download = (rank / max_score)*100\n",
    "    exporting_scale_download_lists.append(exporting_scale_download)\n",
    "    #print(exporting_scale_download_lists)\n",
    "    #print(\"Download_scale score:\", exporting_scale_download)\n",
    "drop_down.observe(scale_calculator, names='value')\n",
    "display(drop_down)\n",
    "\n",
    "rank = 1\n",
    "drop_down = widgets.Dropdown(options=[\"Please select\",\"not at all important\",\"low importance\",\"neutral\",\"important\", \"very important\"],\n",
    "                                description='I can share my notebook with my peers via methods like email or Github',\n",
    "                                disabled=False,\n",
    "                                display='flex',\n",
    "                                flex_flow='column',\n",
    "                                align_items='stretch',\n",
    "                                style= {'description_width': 'initial'},\n",
    "                                layout = layout)\n",
    "\n",
    "exporting_scale_share_lists = list()\n",
    "def scale_calculator_share(change):\n",
    "    global rank\n",
    "    #print(\"Item_B ranking:\", change.new)\n",
    "    rank = change.new\n",
    "    if rank == \"not at all important\":\n",
    "        rank = 1\n",
    "    elif rank == \"low importance\":\n",
    "        rank = 2\n",
    "    elif rank == \"neutral\":\n",
    "        rank = 3\n",
    "    elif rank == \"important\":\n",
    "        rank = 4\n",
    "    elif rank == \"very important\":\n",
    "        rank = 5\n",
    "    else:\n",
    "        rank = 0\n",
    "    max_score = 5\n",
    "    exporting_scale_share = (rank / max_score)*100\n",
    "    exporting_scale_share_lists.append(exporting_scale_share)\n",
    "    #print(exporting_scale_share_lists)\n",
    "    #print(\"Share_scale score:\", exporting_scale_share)\n",
    "    return exporting_scale_share\n",
    "drop_down.observe(scale_calculator_share, names='value')\n",
    "display(drop_down)"
   ]
  },
  {
   "cell_type": "markdown",
   "id": "5aafd6a9",
   "metadata": {},
   "source": [
    "## 🔌 Integrating Your Notebook with Other Tools "
   ]
  },
  {
   "cell_type": "markdown",
   "id": "c3d21625",
   "metadata": {},
   "source": [
    "### When integrating your notebook with other tools, please rank the following features in order of importance to you, where 5 is most important and 1 is least important\n",
    "### Note: each ranking can only be used once "
   ]
  },
  {
   "cell_type": "code",
   "execution_count": 212,
   "id": "0f5f2cb8",
   "metadata": {},
   "outputs": [
    {
     "data": {
      "application/vnd.jupyter.widget-view+json": {
       "model_id": "f161f5b4aa43477887010d3eb7bd748c",
       "version_major": 2,
       "version_minor": 0
      },
      "text/plain": [
       "Dropdown(description='I can integrate my notebook with a pluggable authentication module, OAuth, or a director…"
      ]
     },
     "metadata": {},
     "output_type": "display_data"
    },
    {
     "data": {
      "application/vnd.jupyter.widget-view+json": {
       "model_id": "af0e6cb74ca6428e86cebdeb607379a0",
       "version_major": 2,
       "version_minor": 0
      },
      "text/plain": [
       "Dropdown(description='I can integrate my notebook with a localized and/or centralized infratructure', layout=L…"
      ]
     },
     "metadata": {},
     "output_type": "display_data"
    },
    {
     "data": {
      "application/vnd.jupyter.widget-view+json": {
       "model_id": "929cbdad7dcf4c14a4b61ef6058bdd6c",
       "version_major": 2,
       "version_minor": 0
      },
      "text/plain": [
       "Dropdown(description='I can integrate my notebook with a container like Docker and Kubernetes', layout=Layout(…"
      ]
     },
     "metadata": {},
     "output_type": "display_data"
    },
    {
     "data": {
      "application/vnd.jupyter.widget-view+json": {
       "model_id": "4abb210596624b2998faa1a030a232dc",
       "version_major": 2,
       "version_minor": 0
      },
      "text/plain": [
       "Dropdown(description='I can integrate my notebook with my data to provide unified software management and data…"
      ]
     },
     "metadata": {},
     "output_type": "display_data"
    },
    {
     "data": {
      "application/vnd.jupyter.widget-view+json": {
       "model_id": "57d6123c64e74447b407eb3148cb05d0",
       "version_major": 2,
       "version_minor": 0
      },
      "text/plain": [
       "Dropdown(description='I can integrate my notebook with extensions like Voila to communicate insights via stand…"
      ]
     },
     "metadata": {},
     "output_type": "display_data"
    }
   ],
   "source": [
    "import ipywidgets as widgets\n",
    "\n",
    "layout = widgets.Layout(width='auto', height='40px')\n",
    "\n",
    "rank = 1\n",
    "drop_down = widgets.Dropdown(options=[\"Please select rank\",1,2,3,4,5],\n",
    "                                description='I can integrate my notebook with a pluggable authentication module, OAuth, or a directory service system',\n",
    "                                disabled=False,\n",
    "                                display='flex',\n",
    "                                flex_flow='column',\n",
    "                                align_items='stretch',\n",
    "                                style= {'description_width': 'initial'},\n",
    "                                layout = layout)\n",
    "\n",
    "integrating_rank_authentication_lists = list()\n",
    "def ranking_calculator(change):\n",
    "    global rank\n",
    "    #print(\"Item_A ranking:\", change.new)\n",
    "    rank = change.new\n",
    "    if rank == 1:\n",
    "        rank = 1\n",
    "    elif rank == 2:\n",
    "        rank = 2\n",
    "    elif rank == 3:\n",
    "        rank = 3\n",
    "    elif rank == 4:\n",
    "        rank = 4\n",
    "    elif rank == 5:\n",
    "        rank = 5\n",
    "    else:\n",
    "        rank = 0\n",
    "    max_score = 5\n",
    "    integrating_rank_authentication = (rank / max_score)*100\n",
    "    integrating_rank_authentication_lists.append(integrating_rank_authentication)\n",
    "    #print(integrating_rank_authentication_lists)\n",
    "    #print(\"authentication_rank score:\", integrating_rank_authentication)\n",
    "drop_down.observe(ranking_calculator, names='value')\n",
    "display(drop_down)\n",
    "\n",
    "rank = 1\n",
    "drop_down = widgets.Dropdown(options=[\"Please select rank\",1,2,3,4,5],\n",
    "                                description='I can integrate my notebook with a localized and/or centralized infratructure',\n",
    "                                disabled=False,\n",
    "                                display='flex',\n",
    "                                flex_flow='column',\n",
    "                                align_items='stretch',\n",
    "                                style= {'description_width': 'initial'},\n",
    "                                layout = layout)\n",
    "\n",
    "integrating_rank_infrastructure_lists = list()\n",
    "def ranking_calculator(change):\n",
    "    global rank\n",
    "    #print(\"Item_B ranking:\", change.new)\n",
    "    rank = change.new\n",
    "    if rank == 1:\n",
    "        rank = 1\n",
    "    elif rank == 2:\n",
    "        rank = 2\n",
    "    elif rank == 3:\n",
    "        rank = 3\n",
    "    elif rank == 4:\n",
    "        rank = 4\n",
    "    elif rank == 5:\n",
    "        rank = 5\n",
    "    else:\n",
    "        rank = 0\n",
    "    max_score = 5\n",
    "    integrating_rank_infrastructure = (rank / max_score)*100\n",
    "    integrating_rank_infrastructure_lists.append(integrating_rank_infrastructure)\n",
    "    #print(integrating_rank_infrastructure_lists)\n",
    "    #print(\"infratructure_rank score:\", integrating_rank_infrastructure)\n",
    "drop_down.observe(ranking_calculator, names='value')\n",
    "display(drop_down)\n",
    "\n",
    "rank = 1\n",
    "drop_down = widgets.Dropdown(options=[\"Please select rank\",1,2,3,4,5],\n",
    "                                description='I can integrate my notebook with a container like Docker and Kubernetes',\n",
    "                                disabled=False,\n",
    "                                display='flex',\n",
    "                                flex_flow='column',\n",
    "                                align_items='stretch',\n",
    "                                style= {'description_width': 'initial'},\n",
    "                                layout = layout)\n",
    "\n",
    "integrating_rank_container_lists = list()\n",
    "def ranking_calculator(change):\n",
    "    global rank\n",
    "    #print(\"Item_C ranking:\", change.new)\n",
    "    rank = change.new\n",
    "    if rank == 1:\n",
    "        rank = 1\n",
    "    elif rank == 2:\n",
    "        rank = 2\n",
    "    elif rank == 3:\n",
    "        rank = 3\n",
    "    elif rank == 4:\n",
    "        rank = 4\n",
    "    elif rank == 5:\n",
    "        rank = 5\n",
    "    else:\n",
    "        rank = 0\n",
    "    max_score = 5\n",
    "    integrating_rank_container = (rank / max_score)*100\n",
    "    integrating_rank_container_lists.append(integrating_rank_container)\n",
    "    #print(integrating_rank_container_lists)\n",
    "    #print(\"Container_rank score:\", integrating_rank_container)\n",
    "drop_down.observe(ranking_calculator, names='value')\n",
    "display(drop_down)\n",
    "\n",
    "rank = 1\n",
    "drop_down = widgets.Dropdown(options=[\"Please select rank\",1,2,3,4,5],\n",
    "                                description='I can integrate my notebook with my data to provide unified software management and data access',\n",
    "                                disabled=False,\n",
    "                                display='flex',\n",
    "                                flex_flow='column',\n",
    "                                align_items='stretch',\n",
    "                                style= {'description_width': 'initial'},\n",
    "                                layout = layout)\n",
    "\n",
    "integrating_rank_unified_lists = list()\n",
    "def ranking_calculator(change):\n",
    "    global rank\n",
    "    #print(\"Item_D ranking:\", change.new)\n",
    "    rank = change.new\n",
    "    if rank == 1:\n",
    "        rank = 1\n",
    "    elif rank == 2:\n",
    "        rank = 2\n",
    "    elif rank == 3:\n",
    "        rank = 3\n",
    "    elif rank == 4:\n",
    "        rank = 4\n",
    "    elif rank == 5:\n",
    "        rank = 5\n",
    "    else:\n",
    "        rank = 0\n",
    "    max_score = 5\n",
    "    integrating_rank_unified = (rank / max_score)*100\n",
    "    integrating_rank_unified_lists.append(integrating_rank_unified)\n",
    "    #print(integrating_rank_unified_lists)\n",
    "    #print(\"unified_rank score:\", integrating_rank_unified)\n",
    "drop_down.observe(ranking_calculator, names='value')\n",
    "display(drop_down)\n",
    "\n",
    "rank = 1\n",
    "drop_down = widgets.Dropdown(options=[\"Please select rank\",1,2,3,4,5],\n",
    "                                description='I can integrate my notebook with extensions like Voila to communicate insights via stand-alone interactive web applications',\n",
    "                                disabled=False,\n",
    "                                display='flex',\n",
    "                                flex_flow='column',\n",
    "                                align_items='stretch',\n",
    "                                style= {'description_width': 'initial'},\n",
    "                                layout = layout)\n",
    "\n",
    "integrating_rank_voila_lists = list()\n",
    "def ranking_calculator(change):\n",
    "    global rank\n",
    "    #print(\"Item_D ranking:\", change.new)\n",
    "    rank = change.new\n",
    "    if rank == 1:\n",
    "        rank = 1\n",
    "    elif rank == 2:\n",
    "        rank = 2\n",
    "    elif rank == 3:\n",
    "        rank = 3\n",
    "    elif rank == 4:\n",
    "        rank = 4\n",
    "    elif rank == 5:\n",
    "        rank = 5\n",
    "    else:\n",
    "        rank = 0\n",
    "    max_score = 5\n",
    "    integrating_rank_voila = (rank / max_score)*100\n",
    "    integrating_rank_voila_lists.append(integrating_rank_voila)\n",
    "    #print(integrating_rank_voila_lists)\n",
    "    #print(\"voila_rank score:\", integrating_rank_voila)\n",
    "drop_down.observe(ranking_calculator, names='value')\n",
    "display(drop_down)"
   ]
  },
  {
   "cell_type": "markdown",
   "id": "b9af6ca5",
   "metadata": {},
   "source": [
    "### When integrating your notebook with other tools, how important are the following features to you?"
   ]
  },
  {
   "cell_type": "code",
   "execution_count": 213,
   "id": "f42f772e",
   "metadata": {},
   "outputs": [
    {
     "data": {
      "application/vnd.jupyter.widget-view+json": {
       "model_id": "5ab8e4b8efee461d9fbd6e8b6d0a7fcb",
       "version_major": 2,
       "version_minor": 0
      },
      "text/plain": [
       "Dropdown(description='I can integrate my notebook with a pluggable authentication module, OAuth, or a director…"
      ]
     },
     "metadata": {},
     "output_type": "display_data"
    },
    {
     "data": {
      "application/vnd.jupyter.widget-view+json": {
       "model_id": "9090629e92364364a324d09421badd38",
       "version_major": 2,
       "version_minor": 0
      },
      "text/plain": [
       "Dropdown(description='I can integrate my notebook with a localized and/or centralized infrastructure', layout=…"
      ]
     },
     "metadata": {},
     "output_type": "display_data"
    },
    {
     "data": {
      "application/vnd.jupyter.widget-view+json": {
       "model_id": "79ae2371409742cf8b7f33bee2b04bde",
       "version_major": 2,
       "version_minor": 0
      },
      "text/plain": [
       "Dropdown(description='I can integrate my notebook with a container like Docker and Kubernetes', layout=Layout(…"
      ]
     },
     "metadata": {},
     "output_type": "display_data"
    },
    {
     "data": {
      "application/vnd.jupyter.widget-view+json": {
       "model_id": "f859d41554af489490381818c444330d",
       "version_major": 2,
       "version_minor": 0
      },
      "text/plain": [
       "Dropdown(description='I can integrate my notebook with my data to provide unified software management and data…"
      ]
     },
     "metadata": {},
     "output_type": "display_data"
    },
    {
     "data": {
      "application/vnd.jupyter.widget-view+json": {
       "model_id": "d73b5f7ed2ec46748cc572b3ba2dfcb1",
       "version_major": 2,
       "version_minor": 0
      },
      "text/plain": [
       "Dropdown(description='I can integrate my notebook with extensions like Voila to communicate insights via stand…"
      ]
     },
     "metadata": {},
     "output_type": "display_data"
    }
   ],
   "source": [
    "import ipywidgets as widgets\n",
    "\n",
    "layout = widgets.Layout(width='auto', height='40px')\n",
    "\n",
    "rank = 1\n",
    "drop_down = widgets.Dropdown(options=[\"Please select\",\"not at all important\",\"low importance\",\"neutral\",\"important\", \"very important\"],\n",
    "                                description='I can integrate my notebook with a pluggable authentication module, OAuth, or a directory service system',\n",
    "                                disabled=False,\n",
    "                                display='flex',\n",
    "                                flex_flow='column',\n",
    "                                align_items='stretch',\n",
    "                                style= {'description_width': 'initial'},\n",
    "                                layout = layout)\n",
    "\n",
    "integrating_scale_authentication_lists = list()\n",
    "def scale_calculator(change):\n",
    "    global rank\n",
    "    #print(\"Item_A ranking:\", change.new)\n",
    "    rank = change.new\n",
    "    if rank == \"not at all important\":\n",
    "        rank = 1\n",
    "    elif rank == \"low importance\":\n",
    "        rank = 2\n",
    "    elif rank == \"neutral\":\n",
    "        rank = 3\n",
    "    elif rank == \"important\":\n",
    "        rank = 4\n",
    "    elif rank == \"very important\":\n",
    "        rank = 5\n",
    "    else:\n",
    "        rank = 0\n",
    "    max_score = 5\n",
    "    integrating_scale_authentication = (rank / max_score)*100\n",
    "    integrating_scale_authentication_lists.append(integrating_scale_authentication)\n",
    "    #print(integrating_scale_authentication_lists)\n",
    "    #print(\"authentication_scale score:\", integrating_scale_authentication)\n",
    "drop_down.observe(scale_calculator, names='value')\n",
    "display(drop_down)\n",
    "\n",
    "rank = 1\n",
    "drop_down = widgets.Dropdown(options=[\"Please select\",\"not at all important\",\"low importance\",\"neutral\",\"important\", \"very important\"],\n",
    "                                description='I can integrate my notebook with a localized and/or centralized infrastructure',\n",
    "                                disabled=False,\n",
    "                                display='flex',\n",
    "                                flex_flow='column',\n",
    "                                align_items='stretch',\n",
    "                                style= {'description_width': 'initial'},\n",
    "                                layout = layout)\n",
    "\n",
    "integrating_scale_infrastructure_lists = list()\n",
    "def scale_calculator(change):\n",
    "    global rank\n",
    "    #print(\"Item_B ranking:\", change.new)\n",
    "    rank = change.new\n",
    "    if rank == \"not at all important\":\n",
    "        rank = 1\n",
    "    elif rank == \"low importance\":\n",
    "        rank = 2\n",
    "    elif rank == \"neutral\":\n",
    "        rank = 3\n",
    "    elif rank == \"important\":\n",
    "        rank = 4\n",
    "    elif rank == \"very important\":\n",
    "        rank = 5\n",
    "    else:\n",
    "        rank = 0\n",
    "    max_score = 5\n",
    "    integrating_scale_infrastructure = (rank / max_score)*100\n",
    "    integrating_scale_infrastructure_lists.append(integrating_scale_infrastructure)\n",
    "    #print(integrating_scale_infrastructure_lists)\n",
    "    #print(\"infrastructure_scale score:\", integrating_scale_infrastructure)\n",
    "drop_down.observe(scale_calculator, names='value')\n",
    "display(drop_down)\n",
    "\n",
    "rank = 1\n",
    "drop_down = widgets.Dropdown(options=[\"Please select\",\"not at all important\",\"low importance\",\"neutral\",\"important\", \"very important\"],\n",
    "                                description='I can integrate my notebook with a container like Docker and Kubernetes',\n",
    "                                disabled=False,\n",
    "                                display='flex',\n",
    "                                flex_flow='column',\n",
    "                                align_items='stretch',\n",
    "                                style= {'description_width': 'initial'},\n",
    "                                layout = layout)\n",
    "\n",
    "integrating_scale_container_lists = list()\n",
    "def scale_calculator(change):\n",
    "    global rank\n",
    "    #print(\"Item_C ranking:\", change.new)\n",
    "    rank = change.new\n",
    "    if rank == \"not at all important\":\n",
    "        rank = 1\n",
    "    elif rank == \"low importance\":\n",
    "        rank = 2\n",
    "    elif rank == \"neutral\":\n",
    "        rank = 3\n",
    "    elif rank == \"important\":\n",
    "        rank = 4\n",
    "    elif rank == \"very important\":\n",
    "        rank = 5\n",
    "    else:\n",
    "        rank = 0\n",
    "    max_score = 5\n",
    "    integrating_scale_container = (rank / max_score)*100\n",
    "    integrating_scale_container_lists.append(integrating_scale_container)\n",
    "    #print(integrating_scale_container_lists)\n",
    "    #print(\"container_scale score:\", integrating_scale_container)\n",
    "drop_down.observe(scale_calculator, names='value')\n",
    "display(drop_down)\n",
    "\n",
    "rank = 1\n",
    "drop_down = widgets.Dropdown(options=[\"Please select\",\"not at all important\",\"low importance\",\"neutral\",\"important\", \"very important\"],\n",
    "                                description='I can integrate my notebook with my data to provide unified software management and data access',\n",
    "                                disabled=False,\n",
    "                                display='flex',\n",
    "                                flex_flow='column',\n",
    "                                align_items='stretch',\n",
    "                                style= {'description_width': 'initial'},\n",
    "                                layout = layout)\n",
    "\n",
    "integrating_scale_unified_lists = list()\n",
    "def scale_calculator(change):\n",
    "    global rank\n",
    "    #print(\"Item_D ranking:\", change.new)\n",
    "    rank = change.new\n",
    "    if rank == \"not at all important\":\n",
    "        rank = 1\n",
    "    elif rank == \"low importance\":\n",
    "        rank = 2\n",
    "    elif rank == \"neutral\":\n",
    "        rank = 3\n",
    "    elif rank == \"important\":\n",
    "        rank = 4\n",
    "    elif rank == \"very important\":\n",
    "        rank = 5\n",
    "    else:\n",
    "        rank = 0\n",
    "    max_score = 5\n",
    "    integrating_scale_unified = (rank / max_score)*100\n",
    "    integrating_scale_unified_lists.append(integrating_scale_unified)\n",
    "    #print(integrating_scale_unified_lists)\n",
    "    #print(\"unified_scale score:\", integrating_scale_unified)\n",
    "drop_down.observe(scale_calculator, names='value')\n",
    "display(drop_down)\n",
    "\n",
    "rank = 1\n",
    "drop_down = widgets.Dropdown(options=[\"Please select\",\"not at all important\",\"low importance\",\"neutral\",\"important\", \"very important\"],\n",
    "                                description='I can integrate my notebook with extensions like Voila to communicate insights via stand-alone interactive web applications',\n",
    "                                disabled=False,\n",
    "                                display='flex',\n",
    "                                flex_flow='column',\n",
    "                                align_items='stretch',\n",
    "                                style= {'description_width': 'initial'},\n",
    "                                layout = layout)\n",
    "\n",
    "integrating_scale_voila_lists = list()\n",
    "def scale_calculator(change):\n",
    "    global rank\n",
    "    #print(\"Item_D ranking:\", change.new)\n",
    "    rank = change.new\n",
    "    if rank == \"not at all important\":\n",
    "        rank = 1\n",
    "    elif rank == \"low importance\":\n",
    "        rank = 2\n",
    "    elif rank == \"neutral\":\n",
    "        rank = 3\n",
    "    elif rank == \"important\":\n",
    "        rank = 4\n",
    "    elif rank == \"very important\":\n",
    "        rank = 5\n",
    "    else:\n",
    "        rank = 0\n",
    "    max_score = 5\n",
    "    integrating_scale_voila = (rank / max_score)*100\n",
    "    integrating_scale_voila_lists.append(integrating_scale_voila)\n",
    "    #print(integrating_scale_voila_lists)\n",
    "    #print(\"voila_scale score:\", integrating_scale_voila)\n",
    "drop_down.observe(scale_calculator, names='value')\n",
    "display(drop_down)"
   ]
  },
  {
   "cell_type": "markdown",
   "id": "b9e56445",
   "metadata": {},
   "source": [
    "## ✍️ Using Your Notebook "
   ]
  },
  {
   "cell_type": "markdown",
   "id": "e68f1d77",
   "metadata": {},
   "source": [
    "### When using your notebook, please rank the following features in order of importance to you, where 4 is most important and 1 is least important\n",
    "### Note: each ranking can only be used once "
   ]
  },
  {
   "cell_type": "code",
   "execution_count": 214,
   "id": "6cf187ab",
   "metadata": {
    "scrolled": true
   },
   "outputs": [
    {
     "data": {
      "application/vnd.jupyter.widget-view+json": {
       "model_id": "30c2180781f94657a474f488265a1017",
       "version_major": 2,
       "version_minor": 0
      },
      "text/plain": [
       "Dropdown(description='I can configure and personalize my notebook to begin working on my data project', layout…"
      ]
     },
     "metadata": {},
     "output_type": "display_data"
    },
    {
     "data": {
      "application/vnd.jupyter.widget-view+json": {
       "model_id": "5470ce34e0b24b8aac8bbb96a47f8016",
       "version_major": 2,
       "version_minor": 0
      },
      "text/plain": [
       "Dropdown(description='I can write and edit code in my notebook', layout=Layout(height='40px', width='auto'), o…"
      ]
     },
     "metadata": {},
     "output_type": "display_data"
    },
    {
     "data": {
      "application/vnd.jupyter.widget-view+json": {
       "model_id": "b49a239e1b6c4876993848a5f3f18c9f",
       "version_major": 2,
       "version_minor": 0
      },
      "text/plain": [
       "Dropdown(description='I can export my notebook content in different formats', layout=Layout(height='40px', wid…"
      ]
     },
     "metadata": {},
     "output_type": "display_data"
    },
    {
     "data": {
      "application/vnd.jupyter.widget-view+json": {
       "model_id": "d5b32f4aca6547eda3f2aa252526f0fc",
       "version_major": 2,
       "version_minor": 0
      },
      "text/plain": [
       "Dropdown(description='I can integrate notebook with other tools', layout=Layout(height='40px', width='auto'), …"
      ]
     },
     "metadata": {},
     "output_type": "display_data"
    }
   ],
   "source": [
    "import ipywidgets as widgets\n",
    "\n",
    "layout = widgets.Layout(width='auto', height='40px')\n",
    "\n",
    "rank = 1\n",
    "drop_down = widgets.Dropdown(options=[\"Please select rank\",1,2,3,4],\n",
    "                                description='I can configure and personalize my notebook to begin working on my data project',\n",
    "                                disabled=False,\n",
    "                                display='flex',\n",
    "                                flex_flow='column',\n",
    "                                align_items='stretch',\n",
    "                                style= {'description_width': 'initial'},\n",
    "                                layout = layout)\n",
    "\n",
    "overall_rank_setup_lists = list()\n",
    "def ranking_calculator(change):\n",
    "    global rank\n",
    "    #print(\"Item_A ranking:\", change.new)\n",
    "    rank = change.new\n",
    "    if rank == 1:\n",
    "        rank = 1\n",
    "    elif rank == 2:\n",
    "        rank = 2\n",
    "    elif rank == 3:\n",
    "        rank = 3\n",
    "    elif rank == 4:\n",
    "        rank = 4\n",
    "    else:\n",
    "        rank = 0\n",
    "    max_score = 4\n",
    "    overall_rank_setup = (rank / max_score)*100\n",
    "    overall_rank_setup_lists.append(overall_rank_setup)\n",
    "    #print(overall_rank_setup_lists)\n",
    "    #print(\"setup_rank score:\", overall_rank_setup)\n",
    "drop_down.observe(ranking_calculator, names='value')\n",
    "display(drop_down)\n",
    "\n",
    "rank = 1\n",
    "drop_down = widgets.Dropdown(options=[\"Please select rank\",1,2,3,4],\n",
    "                                description='I can write and edit code in my notebook',\n",
    "                                disabled=False,\n",
    "                                display='flex',\n",
    "                                flex_flow='column',\n",
    "                                align_items='stretch',\n",
    "                                style= {'description_width': 'initial'},\n",
    "                                layout = layout)\n",
    "\n",
    "overall_rank_coding_lists = list()\n",
    "def ranking_calculator(change):\n",
    "    global rank\n",
    "    #print(\"Item_B ranking:\", change.new)\n",
    "    rank = change.new\n",
    "    if rank == 1:\n",
    "        rank = 1\n",
    "    elif rank == 2:\n",
    "        rank = 2\n",
    "    elif rank == 3:\n",
    "        rank = 3\n",
    "    elif rank == 4:\n",
    "        rank = 4\n",
    "    else:\n",
    "        rank = 0\n",
    "    max_score = 4\n",
    "    overall_rank_coding = (rank / max_score)*100\n",
    "    overall_rank_coding_lists.append(overall_rank_coding)\n",
    "    #print(overall_rank_coding_lists)\n",
    "    #print(\"coding_rank score:\", overall_rank_coding)\n",
    "drop_down.observe(ranking_calculator, names='value')\n",
    "display(drop_down)\n",
    "\n",
    "rank = 1\n",
    "drop_down = widgets.Dropdown(options=[\"Please select rank\",1,2,3,4],\n",
    "                                description='I can export my notebook content in different formats',\n",
    "                                disabled=False,\n",
    "                                display='flex',\n",
    "                                flex_flow='column',\n",
    "                                align_items='stretch',\n",
    "                                style= {'description_width': 'initial'},\n",
    "                                layout = layout)\n",
    "\n",
    "overall_rank_exporting_lists = list()\n",
    "def ranking_calculator(change):\n",
    "    global rank\n",
    "    #print(\"Item_C ranking:\", change.new)\n",
    "    rank = change.new\n",
    "    if rank == 1:\n",
    "        rank = 1\n",
    "    elif rank == 2:\n",
    "        rank = 2\n",
    "    elif rank == 3:\n",
    "        rank = 3\n",
    "    elif rank == 4:\n",
    "        rank = 4\n",
    "    else:\n",
    "        rank = 0\n",
    "    max_score = 4\n",
    "    overall_rank_exporting = (rank / max_score)*100\n",
    "    overall_rank_exporting_lists.append(overall_rank_exporting)\n",
    "    #print(overall_rank_exporting_lists)\n",
    "    #print(\"exporting_rank score:\", overall_rank_exporting)\n",
    "drop_down.observe(ranking_calculator, names='value')\n",
    "display(drop_down)\n",
    "\n",
    "rank = 1\n",
    "drop_down = widgets.Dropdown(options=[\"Please select rank\",1,2,3,4],\n",
    "                                description='I can integrate notebook with other tools',\n",
    "                                disabled=False,\n",
    "                                display='flex',\n",
    "                                flex_flow='column',\n",
    "                                align_items='stretch',\n",
    "                                style= {'description_width': 'initial'},\n",
    "                                layout = layout)\n",
    "\n",
    "overall_rank_integration_lists = list()\n",
    "def ranking_calculator(change):\n",
    "    global rank\n",
    "    #print(\"Item_D ranking:\", change.new)\n",
    "    rank = change.new\n",
    "    if rank == 1:\n",
    "        rank = 1\n",
    "    elif rank == 2:\n",
    "        rank = 2\n",
    "    elif rank == 3:\n",
    "        rank = 3\n",
    "    elif rank == 4:\n",
    "        rank = 4\n",
    "    else:\n",
    "        rank = 0\n",
    "    max_score = 4\n",
    "    overall_rank_integration = (rank / max_score)*100\n",
    "    overall_rank_integration_lists.append(overall_rank_integration)\n",
    "    #print(overall_rank_integration_lists)\n",
    "    #print(\"integration_rank score:\", overall_rank_integration)\n",
    "drop_down.observe(ranking_calculator, names='value')\n",
    "display(drop_down)"
   ]
  },
  {
   "cell_type": "markdown",
   "id": "94263471",
   "metadata": {},
   "source": [
    "### When using your notebook, how important are the following features to you?"
   ]
  },
  {
   "cell_type": "code",
   "execution_count": 215,
   "id": "a31cb73f",
   "metadata": {
    "scrolled": true
   },
   "outputs": [
    {
     "data": {
      "application/vnd.jupyter.widget-view+json": {
       "model_id": "04c8ccb72d1849ff89a007fd5e75196d",
       "version_major": 2,
       "version_minor": 0
      },
      "text/plain": [
       "Dropdown(description='I can configure and personalize my notebook to begin working on my data project', layout…"
      ]
     },
     "metadata": {},
     "output_type": "display_data"
    },
    {
     "data": {
      "application/vnd.jupyter.widget-view+json": {
       "model_id": "40d634f881e54ae39c25a3c2581001b8",
       "version_major": 2,
       "version_minor": 0
      },
      "text/plain": [
       "Dropdown(description='I can write and edit code in notebook', layout=Layout(height='40px', width='auto'), opti…"
      ]
     },
     "metadata": {},
     "output_type": "display_data"
    },
    {
     "data": {
      "application/vnd.jupyter.widget-view+json": {
       "model_id": "3027a3a840e54b649916c2eaa4032fe8",
       "version_major": 2,
       "version_minor": 0
      },
      "text/plain": [
       "Dropdown(description='I can export my notebook content in different formats', layout=Layout(height='40px', wid…"
      ]
     },
     "metadata": {},
     "output_type": "display_data"
    },
    {
     "data": {
      "application/vnd.jupyter.widget-view+json": {
       "model_id": "9eabe1cd1b73445386e269d3a5056adc",
       "version_major": 2,
       "version_minor": 0
      },
      "text/plain": [
       "Dropdown(description='I can integrate my notebook with other tools', layout=Layout(height='40px', width='auto'…"
      ]
     },
     "metadata": {},
     "output_type": "display_data"
    }
   ],
   "source": [
    "import ipywidgets as widgets\n",
    "\n",
    "layout = widgets.Layout(width='auto', height='40px')\n",
    "\n",
    "rank = 1\n",
    "drop_down = widgets.Dropdown(options=[\"Please select\",\"not at all important\",\"low importance\",\"neutral\",\"important\", \"very important\"],\n",
    "                                description='I can configure and personalize my notebook to begin working on my data project',\n",
    "                                disabled=False,\n",
    "                                display='flex',\n",
    "                                flex_flow='column',\n",
    "                                align_items='stretch',\n",
    "                                style= {'description_width': 'initial'},\n",
    "                                layout = layout)\n",
    "\n",
    "overall_scale_setup_lists = list()\n",
    "def scale_calculator(change):\n",
    "    global rank\n",
    "    #print(\"Item_A ranking:\", change.new)\n",
    "    rank = change.new\n",
    "    if rank == \"not at all important\":\n",
    "        rank = 1\n",
    "    elif rank == \"low importance\":\n",
    "        rank = 2\n",
    "    elif rank == \"neutral\":\n",
    "        rank = 3\n",
    "    elif rank == \"important\":\n",
    "        rank = 4\n",
    "    elif rank == \"very important\":\n",
    "        rank = 5\n",
    "    else:\n",
    "        rank = 0\n",
    "    max_score = 5\n",
    "    overall_scale_setup = (rank / max_score)*100\n",
    "    overall_scale_setup_lists.append(overall_scale_setup)\n",
    "    #print(overall_scale_setup_lists)\n",
    "    #print(\"setup_scale score:\", overall_scale_setup)\n",
    "drop_down.observe(scale_calculator, names='value')\n",
    "display(drop_down)\n",
    "\n",
    "rank = 1\n",
    "drop_down = widgets.Dropdown(options=[\"Please select\",\"not at all important\",\"low importance\",\"neutral\",\"important\", \"very important\"],\n",
    "                                description='I can write and edit code in notebook',\n",
    "                                disabled=False,\n",
    "                                display='flex',\n",
    "                                flex_flow='column',\n",
    "                                align_items='stretch',\n",
    "                                style= {'description_width': 'initial'},\n",
    "                                layout = layout)\n",
    "\n",
    "overall_scale_coding_lists = list()\n",
    "def scale_calculator(change):\n",
    "    global rank\n",
    "    #print(\"Item_B ranking:\", change.new)\n",
    "    rank = change.new\n",
    "    if rank == \"not at all important\":\n",
    "        rank = 1\n",
    "    elif rank == \"low importance\":\n",
    "        rank = 2\n",
    "    elif rank == \"neutral\":\n",
    "        rank = 3\n",
    "    elif rank == \"important\":\n",
    "        rank = 4\n",
    "    elif rank == \"very important\":\n",
    "        rank = 5\n",
    "    else:\n",
    "        rank = 0\n",
    "    max_score = 5\n",
    "    overall_scale_coding = (rank / max_score)*100\n",
    "    overall_scale_coding_lists.append(overall_scale_coding)\n",
    "    #print(overall_scale_coding_lists)\n",
    "    #print(\"coding_scale score:\", overall_scale_coding)\n",
    "drop_down.observe(scale_calculator, names='value')\n",
    "display(drop_down)\n",
    "\n",
    "rank = 1\n",
    "drop_down = widgets.Dropdown(options=[\"Please select\",\"not at all important\",\"low importance\",\"neutral\",\"important\", \"very important\"],\n",
    "                                description='I can export my notebook content in different formats',\n",
    "                                disabled=False,\n",
    "                                display='flex',\n",
    "                                flex_flow='column',\n",
    "                                align_items='stretch',\n",
    "                                style= {'description_width': 'initial'},\n",
    "                                layout = layout)\n",
    "overall_scale_exporting_lists = list()\n",
    "def scale_calculator(change):\n",
    "    global rank\n",
    "    #print(\"Item_C ranking:\", change.new)\n",
    "    rank = change.new\n",
    "    if rank == \"not at all important\":\n",
    "        rank = 1\n",
    "    elif rank == \"low importance\":\n",
    "        rank = 2\n",
    "    elif rank == \"neutral\":\n",
    "        rank = 3\n",
    "    elif rank == \"important\":\n",
    "        rank = 4\n",
    "    elif rank == \"very important\":\n",
    "        rank = 5\n",
    "    else:\n",
    "        rank = 0\n",
    "    max_score = 5\n",
    "    overall_scale_exporting = (rank / max_score)*100\n",
    "    overall_scale_exporting_lists.append(overall_scale_exporting)\n",
    "    #print(overall_scale_exporting_lists)\n",
    "    #print(\"exporting_scale score:\", overall_scale_exporting)\n",
    "drop_down.observe(scale_calculator, names='value')\n",
    "display(drop_down)\n",
    "\n",
    "rank = 1\n",
    "drop_down = widgets.Dropdown(options=[\"Please select\",\"not at all important\",\"low importance\",\"neutral\",\"important\", \"very important\"],\n",
    "                                description='I can integrate my notebook with other tools',\n",
    "                                disabled=False,\n",
    "                                display='flex',\n",
    "                                flex_flow='column',\n",
    "                                align_items='stretch',\n",
    "                                style= {'description_width': 'initial'},\n",
    "                                layout = layout)\n",
    "\n",
    "overall_scale_integration_lists = list()\n",
    "def scale_calculator(change):\n",
    "    global rank\n",
    "    #print(\"Item_D ranking:\", change.new)\n",
    "    rank = change.new\n",
    "    if rank == \"not at all important\":\n",
    "        rank = 1\n",
    "    elif rank == \"low importance\":\n",
    "        rank = 2\n",
    "    elif rank == \"neutral\":\n",
    "        rank = 3\n",
    "    elif rank == \"important\":\n",
    "        rank = 4\n",
    "    elif rank == \"very important\":\n",
    "        rank = 5\n",
    "    else:\n",
    "        rank = 0\n",
    "    max_score = 5\n",
    "    overall_scale_integration = (rank / max_score)*100\n",
    "    overall_scale_integration_lists.append(overall_scale_integration)\n",
    "    #print(overall_scale_integration_lists)\n",
    "    #print(\"integration_scale score:\", overall_scale_integration)\n",
    "drop_down.observe(scale_calculator, names='value')\n",
    "display(drop_down)"
   ]
  },
  {
   "cell_type": "code",
   "execution_count": 173,
   "id": "6c52eb47",
   "metadata": {
    "scrolled": true
   },
   "outputs": [
    {
     "data": {
      "application/vnd.jupyter.widget-view+json": {
       "model_id": "cac3eac9ad6a431dafc7b8bf4a4753d5",
       "version_major": 2,
       "version_minor": 0
      },
      "text/plain": [
       "Button(description='RESET SURVEY', style=ButtonStyle())"
      ]
     },
     "metadata": {},
     "output_type": "display_data"
    },
    {
     "data": {
      "application/javascript": [
       "IPython.notebook.execute_cells_above()"
      ],
      "text/plain": [
       "<IPython.core.display.Javascript object>"
      ]
     },
     "metadata": {},
     "output_type": "display_data"
    }
   ],
   "source": [
    "from IPython.display import Javascript, display\n",
    "from ipywidgets import widgets\n",
    "\n",
    "def run_all(ev):\n",
    "    display(Javascript('IPython.notebook.execute_cells_above()'))\n",
    "\n",
    "button = widgets.Button(description=\"RESET SURVEY\")\n",
    "button.on_click(run_all)\n",
    "display(button)"
   ]
  },
  {
   "cell_type": "markdown",
   "id": "78a2c613",
   "metadata": {
    "jp-MarkdownHeadingCollapsed": true,
    "tags": []
   },
   "source": [
    "#### ⚠️ CLICK BUTTON ABOVE TO RESET SURVEY "
   ]
  },
  {
   "cell_type": "markdown",
   "id": "76be30cc",
   "metadata": {},
   "source": [
    "#### 🟢 CLICK BUTTON BELOW TO VIEW RESULTS "
   ]
  },
  {
   "cell_type": "code",
   "execution_count": 216,
   "id": "058e943d",
   "metadata": {},
   "outputs": [
    {
     "data": {
      "application/javascript": [
       "IPython.notebook.execute_cells_below()"
      ],
      "text/plain": [
       "<IPython.core.display.Javascript object>"
      ]
     },
     "metadata": {},
     "output_type": "display_data"
    },
    {
     "data": {
      "application/vnd.jupyter.widget-view+json": {
       "model_id": "94a014858473446aa03ece5c81dddd7d",
       "version_major": 2,
       "version_minor": 0
      },
      "text/plain": [
       "Button(description='VIEW RESULTS', style=ButtonStyle())"
      ]
     },
     "metadata": {},
     "output_type": "display_data"
    }
   ],
   "source": [
    "from IPython.display import Javascript, display\n",
    "from ipywidgets import widgets\n",
    "\n",
    "def run_all(ev):\n",
    "    display(Javascript('IPython.notebook.execute_cells_below()'))\n",
    "\n",
    "button = widgets.Button(description=\"VIEW RESULTS\")\n",
    "button.on_click(run_all)\n",
    "display(button)"
   ]
  },
  {
   "cell_type": "code",
   "execution_count": 217,
   "id": "8444bfe5",
   "metadata": {
    "scrolled": true
   },
   "outputs": [],
   "source": [
    "#Setting up Notebook Scores by Category\n",
    "import math\n",
    "try:\n",
    "    for scores in setup_scale_manager_lists:\n",
    "        scale_manager_score = scores\n",
    "    for scores in setup_rank_manager_lists:\n",
    "        rank_manager_score = scores\n",
    "    total_manager_score = math.floor((scale_manager_score + rank_manager_score)/2)\n",
    "    for scores in setup_scale_upload_lists:\n",
    "        scale_upload_score = scores\n",
    "    for scores in setup_rank_upload_lists:\n",
    "        rank_upload_score = scores\n",
    "    total_upload_score = math.floor((scale_upload_score + rank_upload_score)/2)\n",
    "    for scores in setup_scale_language_lists:\n",
    "        scale_language_score = scores\n",
    "    for scores in setup_rank_language_lists:\n",
    "        rank_language_score = scores\n",
    "    total_language_score = math.floor((scale_language_score + rank_language_score)/2)\n",
    "    for scores in setup_scale_data_lists:\n",
    "        scale_data_score = scores\n",
    "    for scores in setup_rank_data_lists:\n",
    "        rank_data_score = scores\n",
    "    total_data_score = math.floor((scale_data_score + rank_data_score)/2)\n",
    "except NameError:\n",
    "    pass\n",
    "#print(\"thank you for running the cell, your response was recorded\")"
   ]
  },
  {
   "cell_type": "code",
   "execution_count": 218,
   "id": "0c8ef454",
   "metadata": {
    "scrolled": true
   },
   "outputs": [],
   "source": [
    "#Coding and editing notebook scores by Categories\n",
    "import math\n",
    "try:\n",
    "    for scores in coding_scale_write_lists:\n",
    "        scale_write_score = scores\n",
    "    for scores in coding_rank_write_lists:\n",
    "        rank_write_score = scores\n",
    "    total_write_score = math.floor((scale_write_score + rank_write_score)/2)\n",
    "    for scores in coding_scale_check_lists:\n",
    "        scale_check_score = scores\n",
    "    for scores in coding_rank_check_lists:\n",
    "        rank_check_score = scores\n",
    "    total_check_score = math.floor((scale_check_score + rank_check_score)/2)\n",
    "    for scores in coding_scale_output_lists:\n",
    "        scale_output_score = scores\n",
    "    for scores in coding_rank_output_lists:\n",
    "        rank_output_score = scores\n",
    "    total_output_score = math.floor((scale_output_score + rank_output_score)/2)\n",
    "    for scores in coding_scale_save_lists:\n",
    "        scale_save_score = scores\n",
    "    for scores in coding_rank_save_lists:\n",
    "        rank_save_score = scores\n",
    "    total_save_score = math.floor((scale_save_score + rank_save_score)/2)\n",
    "    for scores in coding_scale_markdown_lists:\n",
    "        scale_markdown_score = scores\n",
    "    for scores in coding_rank_markdown_lists:\n",
    "        rank_markdown_score = scores\n",
    "    total_markdown_score = math.floor((scale_markdown_score + rank_markdown_score)/2)\n",
    "    for scores in coding_scale_bash_lists:\n",
    "        scale_bash_score = scores\n",
    "    for scores in coding_rank_bash_lists:\n",
    "        rank_bash_score = scores\n",
    "    total_bash_score = math.floor((scale_bash_score + rank_bash_score)/2)\n",
    "    for scores in coding_scale_magic_lists:\n",
    "        scale_magic_score = scores\n",
    "    for scores in coding_rank_magic_lists:\n",
    "        rank_magic_score = scores\n",
    "    total_magic_score = math.floor((scale_magic_score + rank_magic_score)/2)\n",
    "except NameError:\n",
    "    pass\n",
    "#print(\"thank you for running the cell, your response was recorded\")"
   ]
  },
  {
   "cell_type": "code",
   "execution_count": 219,
   "id": "6ba63603",
   "metadata": {},
   "outputs": [],
   "source": [
    "#RUN THIS CELL PLEASE\n",
    "#Exporting Notebook Content Scores by Category\n",
    "import math\n",
    "try:\n",
    "    for scores in exporting_scale_share_lists:\n",
    "        scale_share_score = scores\n",
    "    for scores in exporting_rank_share_lists:\n",
    "        rank_share_score = scores\n",
    "    total_share_score = math.floor((scale_share_score + rank_share_score)/2)\n",
    "    for scores in exporting_scale_download_lists:\n",
    "        scale_download_score = scores\n",
    "    for scores in exporting_rank_download_lists:\n",
    "        rank_download_score = scores\n",
    "    total_download_score = math.floor((scale_download_score + rank_download_score)/2)\n",
    "except NameError:\n",
    "    pass\n",
    "#print(\"thank you for running the cell, your response was recorded\")"
   ]
  },
  {
   "cell_type": "code",
   "execution_count": 220,
   "id": "7cf21756",
   "metadata": {},
   "outputs": [],
   "source": [
    "#RUN THIS CELL PLEASE\n",
    "#Integrating my Notebook with other tools by Category\n",
    "import math\n",
    "try:\n",
    "    for scores in integrating_rank_authentication_lists:\n",
    "        rank_authentication_score = scores\n",
    "    for scores in integrating_scale_authentication_lists:\n",
    "        scale_authentication_score = scores\n",
    "    total_authentication_score = math.floor((rank_authentication_score + scale_authentication_score)/2)\n",
    "    for scores in integrating_rank_infrastructure_lists:\n",
    "        rank_infrastructure_score = scores\n",
    "    for scores in integrating_scale_infrastructure_lists:\n",
    "        scale_infrastructure_score = scores\n",
    "    total_infrastructure_score = math.floor((rank_infrastructure_score + scale_infrastructure_score)/2)\n",
    "    for scores in integrating_rank_container_lists:\n",
    "        rank_container_score = scores\n",
    "    for scores in integrating_scale_container_lists:\n",
    "        scale_container_score = scores\n",
    "    total_container_score = math.floor((rank_container_score + scale_container_score)/2)\n",
    "    for scores in integrating_rank_unified_lists:\n",
    "        rank_unified_score = scores\n",
    "    for scores in integrating_scale_unified_lists:\n",
    "        scale_unified_score = scores\n",
    "    total_unified_score = math.floor((rank_unified_score + scale_unified_score)/2)\n",
    "    for scores in integrating_rank_voila_lists:\n",
    "        rank_voila_score = scores\n",
    "    for scores in integrating_scale_voila_lists:\n",
    "        scale_voila_score = scores\n",
    "    total_voila_score = math.floor((rank_voila_score + scale_voila_score)/2)\n",
    "except NameError:\n",
    "    pass\n",
    "#print(\"thank you for running the cell, your response was recorded\")"
   ]
  },
  {
   "cell_type": "code",
   "execution_count": 221,
   "id": "af0cea87",
   "metadata": {},
   "outputs": [],
   "source": [
    "#RUN THIS CELL PLEASE\n",
    "#Final notebook category scores\n",
    "import math\n",
    "try:\n",
    "    for scores in overall_rank_setup_lists:\n",
    "        rank_setup_score = scores\n",
    "    for scores in overall_scale_setup_lists:\n",
    "        scale_setup_score = scores\n",
    "    total_setup_score = math.floor((rank_setup_score + scale_setup_score)/2)\n",
    "    for scores in overall_rank_coding_lists:\n",
    "        rank_coding_score = scores\n",
    "    for scores in overall_scale_coding_lists:\n",
    "        scale_coding_score = scores\n",
    "    total_coding_score = math.floor((rank_coding_score + scale_coding_score)/2)\n",
    "    for scores in overall_rank_exporting_lists:\n",
    "        rank_exporting_score = scores\n",
    "    for scores in overall_scale_exporting_lists:\n",
    "        scale_exporting_score = scores\n",
    "    total_exporting_score = math.floor((rank_exporting_score + scale_exporting_score)/2)\n",
    "    for scores in overall_rank_integration_lists:\n",
    "        rank_integration_score = scores\n",
    "    for scores in overall_scale_integration_lists:\n",
    "        scale_integration_score = scores\n",
    "    total_integration_score = math.floor((rank_integration_score + scale_integration_score)/2)\n",
    "except NameError:\n",
    "    pass\n",
    "#print(\"thank you for running the cell, your response was recorded\")"
   ]
  },
  {
   "cell_type": "code",
   "execution_count": 222,
   "id": "169c4472",
   "metadata": {},
   "outputs": [],
   "source": [
    "#RUN THIS CELL PLEASE\n",
    "#overall notebook capabilities total score by category\n",
    "def takeSecond(elem):\n",
    "    return elem[1]\n",
    "try:\n",
    "    overall_total_scores_lists = list()\n",
    "    overall_total_set_up = \"I can configure and personalize my notebook to begin working on my data project\", total_setup_score\n",
    "    overall_total_scores_lists.append(overall_total_set_up)\n",
    "    overall_total_coding = \"I can write and edit code in my notebook\", total_coding_score\n",
    "    overall_total_scores_lists.append(overall_total_coding)\n",
    "    overall_total_exporting = \"I can export my notebook content in different formats\", total_exporting_score\n",
    "    overall_total_scores_lists.append(overall_total_exporting)\n",
    "    overall_total_integration = \"I can integrate my notebook with other tools\", total_integration_score\n",
    "    overall_total_scores_lists.append(overall_total_integration)\n",
    "    overall_total_scores_lists.sort(reverse=True, key=takeSecond)\n",
    "except NameError:\n",
    "    pass\n",
    "#print(overall_total_scores_lists)\n",
    "#print(\"thank you for running the cell, your response was recorded\")"
   ]
  },
  {
   "cell_type": "code",
   "execution_count": 223,
   "id": "c41c74e9",
   "metadata": {},
   "outputs": [],
   "source": [
    "#RUN THIS CELL PLEASE\n",
    "#Setting up my notebook final scores\n",
    "def takeSecond(elem):\n",
    "    return elem[1]\n",
    "\n",
    "import math\n",
    "try:\n",
    "    set_up_final_scores_lists = list()\n",
    "    final_manager_score = \"I can integrate my notebook with a package and environment manager like Conda or pip\", math.floor((total_manager_score + total_setup_score)/2)\n",
    "    set_up_final_scores_lists.append(final_manager_score)\n",
    "    final_upload_score = \"I can upload files in different formats to my notebook\", math.floor((total_upload_score + total_setup_score)/2)\n",
    "    set_up_final_scores_lists.append(final_upload_score)\n",
    "    final_language_score = \"I can choose programming language of my notebook\", math.floor((total_language_score + total_setup_score)/2)\n",
    "    set_up_final_scores_lists.append(final_language_score)\n",
    "    final_data_score = \"I can import data analyis packages like Pandas to my notebook\", math.floor((total_data_score + total_setup_score)/2)\n",
    "    set_up_final_scores_lists.append(final_data_score)\n",
    "    set_up_final_scores_lists.sort(reverse=True, key=takeSecond)\n",
    "except NameError:\n",
    "    pass\n",
    "#print(set_up_final_scores_lists)\n",
    "#print(\"thank you for running the cell, your response was recorded\")"
   ]
  },
  {
   "cell_type": "code",
   "execution_count": 224,
   "id": "eec609e8",
   "metadata": {},
   "outputs": [],
   "source": [
    "#RUN THIS CELL PLEASE\n",
    "#coding and editing in my notebook final scores\n",
    "def takeSecond(elem):\n",
    "    return elem[1]\n",
    "\n",
    "import math\n",
    "\n",
    "coding_final_scores_lists = list()\n",
    "try:\n",
    "    final_write_score = \"I can write and edit code in my prefered programming language in my notebook\", math.floor((total_write_score + total_coding_score)/2)\n",
    "    coding_final_scores_lists.append(final_write_score)\n",
    "    final_check_score = \"I can live check my code for mistakes in my notebook\", math.floor((total_check_score + total_coding_score)/2)\n",
    "    coding_final_scores_lists.append(final_check_score)\n",
    "    final_ouput_score = \"I can generate an interactive output of my code in my notebook\", math.floor((total_output_score + total_coding_score)/2)\n",
    "    coding_final_scores_lists.append(final_ouput_score)\n",
    "    final_save_score = \"I can save my word and return to my notebook later\", math.floor((total_save_score + total_coding_score)/2)\n",
    "    coding_final_scores_lists.append(final_save_score)\n",
    "    final_markdown_score = \"I can write markdowns in my notebook\", math.floor((total_markdown_score + total_coding_score)/2)\n",
    "    coding_final_scores_lists.append(final_markdown_score)\n",
    "    final_bash_score = \"I can write Bash commands in my notebook\",math.floor((total_bash_score + total_coding_score)/2)\n",
    "    coding_final_scores_lists.append(final_bash_score)\n",
    "    final_magic_score = \"I can write magic commands in my notebook\", math.floor((total_magic_score + total_coding_score)/2)\n",
    "    coding_final_scores_lists.append(final_magic_score)\n",
    "    coding_final_scores_lists.sort(reverse=True, key=takeSecond)\n",
    "except NameError:\n",
    "    pass\n",
    "#print(coding_final_scores_lists)\n",
    "#print(\"thank you for running the cell, your response was recorded\")"
   ]
  },
  {
   "cell_type": "code",
   "execution_count": 225,
   "id": "eed1d19e",
   "metadata": {},
   "outputs": [],
   "source": [
    "#RUN THIS CELL PLEASE\n",
    "#exporting notebook content final scores\n",
    "def takeSecond(elem):\n",
    "    return elem[1]\n",
    "\n",
    "import math\n",
    "exporting_final_scores_lists = list()\n",
    "try:\n",
    "    final_share_score = \"I can share my notebook content via methods like email and Github\", math.floor((total_share_score + total_exporting_score)/2)\n",
    "    exporting_final_scores_lists.append(final_share_score)\n",
    "    final_download_score = \"I can download my notebook content in different formats\", math.floor((total_download_score + total_exporting_score)/2)\n",
    "    exporting_final_scores_lists.append(final_download_score)\n",
    "    exporting_final_scores_lists.sort(reverse=True, key=takeSecond)\n",
    "except NameError:\n",
    "    pass\n",
    "#print(exporting_final_scores_lists)\n",
    "#print(\"thank you for running the cell, your response was recorded\")"
   ]
  },
  {
   "cell_type": "code",
   "execution_count": 226,
   "id": "2d4dc18f",
   "metadata": {},
   "outputs": [],
   "source": [
    "#RUN THIS CELL PLEASE\n",
    "#integration my notebook with other tools final scores\n",
    "def takeSecond(elem):\n",
    "    return elem[1]\n",
    "\n",
    "import math\n",
    "integration_final_scores_lists = list()\n",
    "try:\n",
    "    final_authentication_score = \"I can integrate my notebook with authentication tools\", math.floor((total_authentication_score + total_integration_score)/2)\n",
    "    integration_final_scores_lists.append(final_authentication_score)\n",
    "    final_infrastructure_score = \"I can integrate my notebook with a centralized infrastructure\", math.floor((total_infrastructure_score + total_integration_score)/2)\n",
    "    exporting_final_scores_lists.append(final_infrastructure_score)\n",
    "    final_container_score = \"I can integrate my notebook with a container like Dockers or Kubernetes\", math.floor((total_container_score + total_integration_score)/2)\n",
    "    integration_final_scores_lists.append(final_container_score)\n",
    "    final_unified_score = \"I can integrate my notebook with my data to provide unified software management and data access\", math.floor((total_unified_score + total_integration_score)/2)\n",
    "    integration_final_scores_lists.append(final_unified_score)\n",
    "    final_voila_score = \"I can integrate my notebook with extensions like voila to communicating insights via stand alone interactive web applications\", math.floor((total_voila_score + total_integration_score)/2)\n",
    "    integration_final_scores_lists.append(final_voila_score)\n",
    "    integration_final_scores_lists.sort(reverse=True, key=takeSecond)\n",
    "except NameError:\n",
    "    pass\n",
    "#print(integration_final_scores_lists)\n",
    "#print(\"thank you for running the cell, your response was recorded\")"
   ]
  },
  {
   "cell_type": "markdown",
   "id": "caf907cc",
   "metadata": {},
   "source": [
    "### Your Notebook Features with a score of 75 to 100\n",
    "#### Note: Results listed in descending order"
   ]
  },
  {
   "cell_type": "code",
   "execution_count": 227,
   "id": "050f5bbc",
   "metadata": {},
   "outputs": [
    {
     "name": "stdout",
     "output_type": "stream",
     "text": [
      "I can integrate my notebook with a package and environment manager like Conda or pip\n",
      "I can import data analyis packages like Pandas to my notebook\n",
      "I can choose programming language of my notebook\n",
      "I can generate an interactive output of my code in my notebook\n",
      "I can live check my code for mistakes in my notebook\n",
      "I can write and edit code in my prefered programming language in my notebook\n",
      "I can save my word and return to my notebook later\n",
      "I can write markdowns in my notebook\n",
      "I can download my notebook content in different formats\n"
     ]
    }
   ],
   "source": [
    "#print(\"My free edition Notebook must haves these following features:\")\n",
    "free_edition_features_lists = list()\n",
    "try:\n",
    "    for set_up_final, score in set_up_final_scores_lists:\n",
    "        if score >=75:\n",
    "            free_edition_features_lists.append(set_up_final)\n",
    "    for  coding_final, score in coding_final_scores_lists:\n",
    "        if score >=75:\n",
    "            free_edition_features_lists.append(coding_final) \n",
    "    for exporting_final, score in exporting_final_scores_lists:\n",
    "        if score >=75:\n",
    "            free_edition_features_lists.append(exporting_final)\n",
    "    for integration_final, score in integration_final_scores_lists:\n",
    "        if score >=75:\n",
    "            free_edition_features_lists.append(integration_final)\n",
    "    for free_edition_features in free_edition_features_lists:\n",
    "        print(free_edition_features)\n",
    "except NameError:\n",
    "    pass"
   ]
  },
  {
   "cell_type": "markdown",
   "id": "9175b0e5",
   "metadata": {},
   "source": [
    "### Your Notebook Features with a score of 50 to 74 \n",
    "#### Note: Results listed in descending order"
   ]
  },
  {
   "cell_type": "code",
   "execution_count": 231,
   "id": "ac9e430b",
   "metadata": {
    "scrolled": false
   },
   "outputs": [
    {
     "name": "stdout",
     "output_type": "stream",
     "text": [
      "I can upload files in different formats to my notebook\n",
      "I can write magic commands in my notebook\n",
      "I can write Bash commands in my notebook\n",
      "I can share my notebook content via methods like email and Github\n",
      "I can integrate my notebook with a container like Dockers or Kubernetes\n",
      "I can integrate my notebook with extensions like voila to communicating insights via stand alone interactive web applications\n"
     ]
    }
   ],
   "source": [
    "#print(\"Nice to have features for my free edition notebook:\")\n",
    "upgrade_edition_features_lists = list()\n",
    "low_score = 49\n",
    "high_score = 100\n",
    "\n",
    "upgrade_features_lists_filter = list()\n",
    "try:\n",
    "    for set_up_final, score in set_up_final_scores_lists:\n",
    "        if low_score < score < high_score:\n",
    "            upgrade_edition_features_lists.append(set_up_final)\n",
    "    for  coding_final, score in coding_final_scores_lists:\n",
    "        if low_score < score < high_score:\n",
    "            upgrade_edition_features_lists.append(coding_final) \n",
    "    for exporting_final, score in exporting_final_scores_lists:\n",
    "        if low_score < score < high_score:\n",
    "            upgrade_edition_features_lists.append(exporting_final)\n",
    "    for integration_final, score in integration_final_scores_lists:\n",
    "        if low_score < score < high_score:\n",
    "            upgrade_edition_features_lists.append(integration_final)\n",
    "    upgrade_features_lists = [upgrade_edition for upgrade_edition in upgrade_edition_features_lists if upgrade_edition not in free_edition_features_lists]\n",
    "    for upgrade_features in upgrade_features_lists:\n",
    "        print(upgrade_features)\n",
    "        upgrade_features_lists_filter.append(upgrade_features)\n",
    "except NameError:\n",
    "    pass          \n",
    "            "
   ]
  },
  {
   "cell_type": "code",
   "execution_count": 229,
   "id": "7cebdbed",
   "metadata": {},
   "outputs": [],
   "source": [
    "#add must have list to text file\n",
    "import os\n",
    "import ast\n",
    "\n",
    "must_have_lists = free_edition_features_lists\n",
    "must_have_file = 'must_have_tests_files.txt.'\n",
    "\n",
    "# save list in file\n",
    "with open(must_have_file, 'a') as f:\n",
    "    f.write((str(free_edition_features_lists))+ '\\n')\n",
    "\n"
   ]
  },
  {
   "cell_type": "code",
   "execution_count": 230,
   "id": "efa06980",
   "metadata": {},
   "outputs": [],
   "source": [
    "#add nice to have list to text file\n",
    "import os\n",
    "import ast\n",
    "\n",
    "nice_to_have_lists = upgrade_features_lists_filter\n",
    "nice_to_have_file = 'nice_to_have_tests_files.txt.'\n",
    "\n",
    "# save list in file\n",
    "with open(nice_to_have_file, 'a') as fd:\n",
    "    fd.write((str(upgrade_features_lists_filter)) + '\\n')\n",
    "    "
   ]
  }
 ],
 "metadata": {
  "kernelspec": {
   "display_name": "Python 3 (ipykernel)",
   "language": "python",
   "name": "python3"
  },
  "language_info": {
   "codemirror_mode": {
    "name": "ipython",
    "version": 3
   },
   "file_extension": ".py",
   "mimetype": "text/x-python",
   "name": "python",
   "nbconvert_exporter": "python",
   "pygments_lexer": "ipython3",
   "version": "3.9.12"
  }
 },
 "nbformat": 4,
 "nbformat_minor": 5
}
